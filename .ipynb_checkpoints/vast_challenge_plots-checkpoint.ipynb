{
 "cells": [
  {
   "cell_type": "code",
   "execution_count": 17,
   "metadata": {},
   "outputs": [],
   "source": [
    "import altair as alt"
   ]
  },
  {
   "cell_type": "code",
   "execution_count": 18,
   "metadata": {},
   "outputs": [],
   "source": [
    "import pandas as pd"
   ]
  },
  {
   "cell_type": "code",
   "execution_count": 21,
   "metadata": {},
   "outputs": [
    {
     "data": {
      "text/plain": [
       "DataTransformerRegistry.enable('json')"
      ]
     },
     "execution_count": 21,
     "metadata": {},
     "output_type": "execute_result"
    }
   ],
   "source": [
    "my_data = pd.read_csv('combinded_suspicious.csv')\n",
    "alt.data_transformers.enable('json')"
   ]
  },
  {
   "cell_type": "code",
   "execution_count": 22,
   "metadata": {},
   "outputs": [
    {
     "data": {
      "text/html": [
       "<div>\n",
       "<style scoped>\n",
       "    .dataframe tbody tr th:only-of-type {\n",
       "        vertical-align: middle;\n",
       "    }\n",
       "\n",
       "    .dataframe tbody tr th {\n",
       "        vertical-align: top;\n",
       "    }\n",
       "\n",
       "    .dataframe thead th {\n",
       "        text-align: right;\n",
       "    }\n",
       "</style>\n",
       "<table border=\"1\" class=\"dataframe\">\n",
       "  <thead>\n",
       "    <tr style=\"text-align: right;\">\n",
       "      <th></th>\n",
       "      <th>Source</th>\n",
       "      <th>Etype</th>\n",
       "      <th>Destination</th>\n",
       "      <th>TimeStamp</th>\n",
       "      <th>Source_Names</th>\n",
       "      <th>Destination_Names</th>\n",
       "    </tr>\n",
       "  </thead>\n",
       "  <tbody>\n",
       "    <tr>\n",
       "      <th>0</th>\n",
       "      <td>857138</td>\n",
       "      <td>calls</td>\n",
       "      <td>1108217</td>\n",
       "      <td>15300123</td>\n",
       "      <td>Richard Fox</td>\n",
       "      <td>Lindsy Henion</td>\n",
       "    </tr>\n",
       "    <tr>\n",
       "      <th>1</th>\n",
       "      <td>857138</td>\n",
       "      <td>calls</td>\n",
       "      <td>1690582</td>\n",
       "      <td>15308463</td>\n",
       "      <td>Richard Fox</td>\n",
       "      <td>Meryl Pastuch</td>\n",
       "    </tr>\n",
       "    <tr>\n",
       "      <th>2</th>\n",
       "      <td>1039322</td>\n",
       "      <td>calls</td>\n",
       "      <td>387200</td>\n",
       "      <td>15425453</td>\n",
       "      <td>Dylan Ballard</td>\n",
       "      <td>Augusta Sharp</td>\n",
       "    </tr>\n",
       "    <tr>\n",
       "      <th>3</th>\n",
       "      <td>28520</td>\n",
       "      <td>calls</td>\n",
       "      <td>1886447</td>\n",
       "      <td>15435953</td>\n",
       "      <td>Refugio Orrantia</td>\n",
       "      <td>Julie Tierno</td>\n",
       "    </tr>\n",
       "    <tr>\n",
       "      <th>4</th>\n",
       "      <td>728286</td>\n",
       "      <td>calls</td>\n",
       "      <td>696047</td>\n",
       "      <td>15481433</td>\n",
       "      <td>Kerstin Belveal</td>\n",
       "      <td>Jose Ringwald</td>\n",
       "    </tr>\n",
       "  </tbody>\n",
       "</table>\n",
       "</div>"
      ],
      "text/plain": [
       "    Source  Etype  Destination  TimeStamp      Source_Names Destination_Names\n",
       "0   857138  calls      1108217   15300123       Richard Fox     Lindsy Henion\n",
       "1   857138  calls      1690582   15308463       Richard Fox     Meryl Pastuch\n",
       "2  1039322  calls       387200   15425453     Dylan Ballard     Augusta Sharp\n",
       "3    28520  calls      1886447   15435953  Refugio Orrantia      Julie Tierno\n",
       "4   728286  calls       696047   15481433   Kerstin Belveal     Jose Ringwald"
      ]
     },
     "execution_count": 22,
     "metadata": {},
     "output_type": "execute_result"
    }
   ],
   "source": [
    "my_data.head()\n"
   ]
  },
  {
   "cell_type": "markdown",
   "metadata": {},
   "source": [
    "\n",
    "0 is for calls\n",
    "1 is for emails\n",
    "2 is for purchases\n",
    "3 is for meetings\n"
   ]
  },
  {
   "cell_type": "code",
   "execution_count": 39,
   "metadata": {},
   "outputs": [
    {
     "data": {
      "application/vnd.vegalite.v2+json": {
       "$schema": "https://vega.github.io/schema/vega-lite/v2.4.3.json",
       "config": {
        "view": {
         "height": 300,
         "width": 400
        }
       },
       "vconcat": [
        {
         "hconcat": [
          {
           "data": {
            "values": [
             {
              "Destination": 1108217,
              "Destination_Names": "Lindsy Henion",
              "Etype": "calls",
              "Source": 857138,
              "Source_Names": "Richard Fox",
              "TimeStamp": 15300123
             },
             {
              "Destination": 1690582,
              "Destination_Names": "Meryl Pastuch",
              "Etype": "calls",
              "Source": 857138,
              "Source_Names": "Richard Fox",
              "TimeStamp": 15308463
             },
             {
              "Destination": 387200,
              "Destination_Names": "Augusta Sharp",
              "Etype": "calls",
              "Source": 1039322,
              "Source_Names": "Dylan Ballard",
              "TimeStamp": 15425453
             },
             {
              "Destination": 1886447,
              "Destination_Names": "Julie Tierno",
              "Etype": "calls",
              "Source": 28520,
              "Source_Names": "Refugio Orrantia",
              "TimeStamp": 15435953
             },
             {
              "Destination": 696047,
              "Destination_Names": "Jose Ringwald",
              "Etype": "calls",
              "Source": 728286,
              "Source_Names": "Kerstin Belveal",
              "TimeStamp": 15481433
             },
             {
              "Destination": 1039322,
              "Destination_Names": "Dylan Ballard",
              "Etype": "calls",
              "Source": 51780,
              "Source_Names": "Melita Scarpaci",
              "TimeStamp": 15515753
             },
             {
              "Destination": 1690582,
              "Destination_Names": "Meryl Pastuch",
              "Etype": "emails",
              "Source": 1039322,
              "Source_Names": "Dylan Ballard",
              "TimeStamp": 15536333
             },
             {
              "Destination": 1847246,
              "Destination_Names": "Rosalia Larroque",
              "Etype": "calls",
              "Source": 1690582,
              "Source_Names": "Meryl Pastuch",
              "TimeStamp": 15614533
             },
             {
              "Destination": 1886447,
              "Destination_Names": "Julie Tierno",
              "Etype": "meetings",
              "Source": 857138,
              "Source_Names": "Richard Fox",
              "TimeStamp": 15616833
             },
             {
              "Destination": 234164,
              "Destination_Names": "Ramiro Gault",
              "Etype": "calls",
              "Source": 728286,
              "Source_Names": "Kerstin Belveal",
              "TimeStamp": 15619133
             },
             {
              "Destination": 728286,
              "Destination_Names": "Kerstin Belveal",
              "Etype": "calls",
              "Source": 857138,
              "Source_Names": "Richard Fox",
              "TimeStamp": 15627833
             },
             {
              "Destination": 51780,
              "Destination_Names": "Melita Scarpaci",
              "Etype": "calls",
              "Source": 387200,
              "Source_Names": "Augusta Sharp",
              "TimeStamp": 15628733
             },
             {
              "Destination": 28520,
              "Destination_Names": "Refugio Orrantia",
              "Etype": "calls",
              "Source": 696047,
              "Source_Names": "Jose Ringwald",
              "TimeStamp": 15696173
             },
             {
              "Destination": 1108217,
              "Destination_Names": "Lindsy Henion",
              "Etype": "emails",
              "Source": 728286,
              "Source_Names": "Kerstin Belveal",
              "TimeStamp": 15759533
             },
             {
              "Destination": 1663285,
              "Destination_Names": "Sara Ballard",
              "Etype": "emails",
              "Source": 1023940,
              "Source_Names": "Patrick Lane",
              "TimeStamp": 15806333
             },
             {
              "Destination": 1642962,
              "Destination_Names": "Glen Grant",
              "Etype": "calls",
              "Source": 505444,
              "Source_Names": "Alex Hall",
              "TimeStamp": 15940313
             },
             {
              "Destination": 1847246,
              "Destination_Names": "Rosalia Larroque",
              "Etype": "emails",
              "Source": 1108217,
              "Source_Names": "Lindsy Henion",
              "TimeStamp": 16112333
             },
             {
              "Destination": 1108217,
              "Destination_Names": "Lindsy Henion",
              "Etype": "emails",
              "Source": 1847246,
              "Source_Names": "Rosalia Larroque",
              "TimeStamp": 16202333
             },
             {
              "Destination": 234164,
              "Destination_Names": "Ramiro Gault",
              "Etype": "calls",
              "Source": 696047,
              "Source_Names": "Jose Ringwald",
              "TimeStamp": 16345253
             },
             {
              "Destination": 1039322,
              "Destination_Names": "Dylan Ballard",
              "Etype": "emails",
              "Source": 51780,
              "Source_Names": "Melita Scarpaci",
              "TimeStamp": 16483133
             },
             {
              "Destination": 1847246,
              "Destination_Names": "Rosalia Larroque",
              "Etype": "emails",
              "Source": 857138,
              "Source_Names": "Richard Fox",
              "TimeStamp": 16501133
             },
             {
              "Destination": 857138,
              "Destination_Names": "Richard Fox",
              "Etype": "calls",
              "Source": 1023940,
              "Source_Names": "Patrick Lane",
              "TimeStamp": 16509953
             },
             {
              "Destination": 969089,
              "Destination_Names": "Tobi Gatlin",
              "Etype": "calls",
              "Source": 1886447,
              "Source_Names": "Julie Tierno",
              "TimeStamp": 16565333
             },
             {
              "Destination": 1847246,
              "Destination_Names": "Rosalia Larroque",
              "Etype": "calls",
              "Source": 1690582,
              "Source_Names": "Meryl Pastuch",
              "TimeStamp": 16636013
             },
             {
              "Destination": 728286,
              "Destination_Names": "Kerstin Belveal",
              "Etype": "calls",
              "Source": 234164,
              "Source_Names": "Ramiro Gault",
              "TimeStamp": 16667093
             },
             {
              "Destination": 1690582,
              "Destination_Names": "Meryl Pastuch",
              "Etype": "calls",
              "Source": 1039322,
              "Source_Names": "Dylan Ballard",
              "TimeStamp": 16760813
             },
             {
              "Destination": 1642962,
              "Destination_Names": "Glen Grant",
              "Etype": "emails",
              "Source": 1690582,
              "Source_Names": "Meryl Pastuch",
              "TimeStamp": 16954733
             },
             {
              "Destination": 1642962,
              "Destination_Names": "Glen Grant",
              "Etype": "emails",
              "Source": 387676,
              "Source_Names": "May Burton",
              "TimeStamp": 16969133
             },
             {
              "Destination": 1108217,
              "Destination_Names": "Lindsy Henion",
              "Etype": "calls",
              "Source": 1663285,
              "Source_Names": "Sara Ballard",
              "TimeStamp": 17091353
             },
             {
              "Destination": 387676,
              "Destination_Names": "May Burton",
              "Etype": "emails",
              "Source": 857138,
              "Source_Names": "Richard Fox",
              "TimeStamp": 17138333
             },
             {
              "Destination": 696047,
              "Destination_Names": "Jose Ringwald",
              "Etype": "calls",
              "Source": 28520,
              "Source_Names": "Refugio Orrantia",
              "TimeStamp": 17172953
             },
             {
              "Destination": 1886447,
              "Destination_Names": "Julie Tierno",
              "Etype": "calls",
              "Source": 969089,
              "Source_Names": "Tobi Gatlin",
              "TimeStamp": 17597093
             },
             {
              "Destination": 1039322,
              "Destination_Names": "Dylan Ballard",
              "Etype": "calls",
              "Source": 1690582,
              "Source_Names": "Meryl Pastuch",
              "TimeStamp": 18071753
             },
             {
              "Destination": 857138,
              "Destination_Names": "Richard Fox",
              "Etype": "calls",
              "Source": 1642962,
              "Source_Names": "Glen Grant",
              "TimeStamp": 18296573
             },
             {
              "Destination": 1108217,
              "Destination_Names": "Lindsy Henion",
              "Etype": "calls",
              "Source": 1039322,
              "Source_Names": "Dylan Ballard",
              "TimeStamp": 18382013
             },
             {
              "Destination": 1847246,
              "Destination_Names": "Rosalia Larroque",
              "Etype": "emails",
              "Source": 1690582,
              "Source_Names": "Meryl Pastuch",
              "TimeStamp": 18391133
             },
             {
              "Destination": 1023940,
              "Destination_Names": "Patrick Lane",
              "Etype": "emails",
              "Source": 387676,
              "Source_Names": "May Burton",
              "TimeStamp": 18423533
             },
             {
              "Destination": 1847246,
              "Destination_Names": "Rosalia Larroque",
              "Etype": "emails",
              "Source": 1690582,
              "Source_Names": "Meryl Pastuch",
              "TimeStamp": 18445133
             },
             {
              "Destination": 1039322,
              "Destination_Names": "Dylan Ballard",
              "Etype": "calls",
              "Source": 1108217,
              "Source_Names": "Lindsy Henion",
              "TimeStamp": 18996653
             },
             {
              "Destination": 505444,
              "Destination_Names": "Alex Hall",
              "Etype": "emails",
              "Source": 1642962,
              "Source_Names": "Glen Grant",
              "TimeStamp": 19179533
             },
             {
              "Destination": 1039322,
              "Destination_Names": "Dylan Ballard",
              "Etype": "emails",
              "Source": 1108217,
              "Source_Names": "Lindsy Henion",
              "TimeStamp": 19384733
             },
             {
              "Destination": 1663285,
              "Destination_Names": "Sara Ballard",
              "Etype": "emails",
              "Source": 387676,
              "Source_Names": "May Burton",
              "TimeStamp": 19625933
             },
             {
              "Destination": 1690582,
              "Destination_Names": "Meryl Pastuch",
              "Etype": "calls",
              "Source": 1847246,
              "Source_Names": "Rosalia Larroque",
              "TimeStamp": 20061233
             },
             {
              "Destination": 1642962,
              "Destination_Names": "Glen Grant",
              "Etype": "emails",
              "Source": 1023940,
              "Source_Names": "Patrick Lane",
              "TimeStamp": 20065133
             },
             {
              "Destination": 728286,
              "Destination_Names": "Kerstin Belveal",
              "Etype": "emails",
              "Source": 696047,
              "Source_Names": "Jose Ringwald",
              "TimeStamp": 20245133
             },
             {
              "Destination": 857138,
              "Destination_Names": "Richard Fox",
              "Etype": "emails",
              "Source": 1690582,
              "Source_Names": "Meryl Pastuch",
              "TimeStamp": 20417933
             },
             {
              "Destination": 857138,
              "Destination_Names": "Richard Fox",
              "Etype": "emails",
              "Source": 969089,
              "Source_Names": "Tobi Gatlin",
              "TimeStamp": 20795933
             },
             {
              "Destination": 969089,
              "Destination_Names": "Tobi Gatlin",
              "Etype": "emails",
              "Source": 857138,
              "Source_Names": "Richard Fox",
              "TimeStamp": 21512333
             },
             {
              "Destination": 51780,
              "Destination_Names": "Melita Scarpaci",
              "Etype": "emails",
              "Source": 1108217,
              "Source_Names": "Lindsy Henion",
              "TimeStamp": 21771533
             },
             {
              "Destination": 1108217,
              "Destination_Names": "Lindsy Henion",
              "Etype": "emails",
              "Source": 623027,
              "Source_Names": "Lizbeth Jindra",
              "TimeStamp": 21789533
             },
             {
              "Destination": 1690582,
              "Destination_Names": "Meryl Pastuch",
              "Etype": "calls",
              "Source": 387200,
              "Source_Names": "Augusta Sharp",
              "TimeStamp": 21889973
             },
             {
              "Destination": 969089,
              "Destination_Names": "Tobi Gatlin",
              "Etype": "emails",
              "Source": 696047,
              "Source_Names": "Jose Ringwald",
              "TimeStamp": 22163933
             },
             {
              "Destination": 696047,
              "Destination_Names": "Jose Ringwald",
              "Etype": "calls",
              "Source": 234164,
              "Source_Names": "Ramiro Gault",
              "TimeStamp": 23060513
             },
             {
              "Destination": 387200,
              "Destination_Names": "Augusta Sharp",
              "Etype": "emails",
              "Source": 1108217,
              "Source_Names": "Lindsy Henion",
              "TimeStamp": 23081933
             },
             {
              "Destination": 1023940,
              "Destination_Names": "Patrick Lane",
              "Etype": "emails",
              "Source": 1642962,
              "Source_Names": "Glen Grant",
              "TimeStamp": 23351933
             },
             {
              "Destination": 696047,
              "Destination_Names": "Jose Ringwald",
              "Etype": "emails",
              "Source": 1642962,
              "Source_Names": "Glen Grant",
              "TimeStamp": 23409533
             },
             {
              "Destination": 387200,
              "Destination_Names": "Augusta Sharp",
              "Etype": "calls",
              "Source": 1847246,
              "Source_Names": "Rosalia Larroque",
              "TimeStamp": 23488433
             },
             {
              "Destination": 1108217,
              "Destination_Names": "Lindsy Henion",
              "Etype": "emails",
              "Source": 1039322,
              "Source_Names": "Dylan Ballard",
              "TimeStamp": 23607533
             },
             {
              "Destination": 728286,
              "Destination_Names": "Kerstin Belveal",
              "Etype": "calls",
              "Source": 387200,
              "Source_Names": "Augusta Sharp",
              "TimeStamp": 23814473
             },
             {
              "Destination": 857138,
              "Destination_Names": "Richard Fox",
              "Etype": "emails",
              "Source": 1847246,
              "Source_Names": "Rosalia Larroque",
              "TimeStamp": 24151133
             },
             {
              "Destination": 1690582,
              "Destination_Names": "Meryl Pastuch",
              "Etype": "calls",
              "Source": 1108217,
              "Source_Names": "Lindsy Henion",
              "TimeStamp": 24596093
             },
             {
              "Destination": 387676,
              "Destination_Names": "May Burton",
              "Etype": "emails",
              "Source": 1642962,
              "Source_Names": "Glen Grant",
              "TimeStamp": 24889133
             },
             {
              "Destination": 1108217,
              "Destination_Names": "Lindsy Henion",
              "Etype": "calls",
              "Source": 1847246,
              "Source_Names": "Rosalia Larroque",
              "TimeStamp": 25256993
             },
             {
              "Destination": 1847246,
              "Destination_Names": "Rosalia Larroque",
              "Etype": "emails",
              "Source": 1690582,
              "Source_Names": "Meryl Pastuch",
              "TimeStamp": 26123933
             },
             {
              "Destination": 1642962,
              "Destination_Names": "Glen Grant",
              "Etype": "calls",
              "Source": 857138,
              "Source_Names": "Richard Fox",
              "TimeStamp": 26183693
             },
             {
              "Destination": 1108217,
              "Destination_Names": "Lindsy Henion",
              "Etype": "calls",
              "Source": 1690582,
              "Source_Names": "Meryl Pastuch",
              "TimeStamp": 26689793
             },
             {
              "Destination": 1690582,
              "Destination_Names": "Meryl Pastuch",
              "Etype": "emails",
              "Source": 1847246,
              "Source_Names": "Rosalia Larroque",
              "TimeStamp": 27157133
             },
             {
              "Destination": 623027,
              "Destination_Names": "Lizbeth Jindra",
              "Etype": "emails",
              "Source": 1108217,
              "Source_Names": "Lindsy Henion",
              "TimeStamp": 27437933
             },
             {
              "Destination": 505444,
              "Destination_Names": "Alex Hall",
              "Etype": "calls",
              "Source": 1886447,
              "Source_Names": "Julie Tierno",
              "TimeStamp": 27614393
             },
             {
              "Destination": 1023940,
              "Destination_Names": "Patrick Lane",
              "Etype": "calls",
              "Source": 857138,
              "Source_Names": "Richard Fox",
              "TimeStamp": 29066513
             },
             {
              "Destination": 1886447,
              "Destination_Names": "Julie Tierno",
              "Etype": "calls",
              "Source": 505444,
              "Source_Names": "Alex Hall",
              "TimeStamp": 30111053
             },
             {
              "Destination": 1690582,
              "Destination_Names": "Meryl Pastuch",
              "Etype": "calls",
              "Source": 857138,
              "Source_Names": "Richard Fox",
              "TimeStamp": 30354893
             },
             {
              "Destination": 1108217,
              "Destination_Names": "Lindsy Henion",
              "Etype": "calls",
              "Source": 857138,
              "Source_Names": "Richard Fox",
              "TimeStamp": 30354893
             },
             {
              "Destination": 234164,
              "Destination_Names": "Ramiro Gault",
              "Etype": "calls",
              "Source": 969089,
              "Source_Names": "Tobi Gatlin",
              "TimeStamp": 30641093
             },
             {
              "Destination": 728286,
              "Destination_Names": "Kerstin Belveal",
              "Etype": "meetings",
              "Source": 857138,
              "Source_Names": "Richard Fox",
              "TimeStamp": 30755533
             },
             {
              "Destination": 1108217,
              "Destination_Names": "Lindsy Henion",
              "Etype": "emails",
              "Source": 728286,
              "Source_Names": "Kerstin Belveal",
              "TimeStamp": 30789533
             },
             {
              "Destination": 728286,
              "Destination_Names": "Kerstin Belveal",
              "Etype": "calls",
              "Source": 857138,
              "Source_Names": "Richard Fox",
              "TimeStamp": 30855533
             },
             {
              "Destination": 387200,
              "Destination_Names": "Augusta Sharp",
              "Etype": "calls",
              "Source": 728286,
              "Source_Names": "Kerstin Belveal",
              "TimeStamp": 31236893
             },
             {
              "Destination": 1108217,
              "Destination_Names": "Lindsy Henion",
              "Etype": "calls",
              "Source": 387200,
              "Source_Names": "Augusta Sharp",
              "TimeStamp": 32147333
             },
             {
              "Destination": 234164,
              "Destination_Names": "Ramiro Gault",
              "Etype": "emails",
              "Source": 696047,
              "Source_Names": "Jose Ringwald",
              "TimeStamp": 32164733
             },
             {
              "Destination": 1039322,
              "Destination_Names": "Dylan Ballard",
              "Etype": "emails",
              "Source": 387200,
              "Source_Names": "Augusta Sharp",
              "TimeStamp": 32301533
             },
             {
              "Destination": 1886447,
              "Destination_Names": "Julie Tierno",
              "Etype": "emails",
              "Source": 387200,
              "Source_Names": "Augusta Sharp",
              "TimeStamp": 32780333
             },
             {
              "Destination": 1023940,
              "Destination_Names": "Patrick Lane",
              "Etype": "emails",
              "Source": 857138,
              "Source_Names": "Richard Fox",
              "TimeStamp": 33647933
             },
             {
              "Destination": 696047,
              "Destination_Names": "Jose Ringwald",
              "Etype": "emails",
              "Source": 1886447,
              "Source_Names": "Julie Tierno",
              "TimeStamp": 33745133
             },
             {
              "Destination": 1108217,
              "Destination_Names": "Lindsy Henion",
              "Etype": "emails",
              "Source": 728286,
              "Source_Names": "Kerstin Belveal",
              "TimeStamp": 33874733
             },
             {
              "Destination": 1108217,
              "Destination_Names": "Lindsy Henion",
              "Etype": "emails",
              "Source": 728286,
              "Source_Names": "Kerstin Belveal",
              "TimeStamp": 33946733
             },
             {
              "Destination": 1690582,
              "Destination_Names": "Meryl Pastuch",
              "Etype": "emails",
              "Source": 857138,
              "Source_Names": "Richard Fox",
              "TimeStamp": 34223933
             },
             {
              "Destination": 1642962,
              "Destination_Names": "Glen Grant",
              "Etype": "emails",
              "Source": 696047,
              "Source_Names": "Jose Ringwald",
              "TimeStamp": 35426333
             },
             {
              "Destination": 1642962,
              "Destination_Names": "Glen Grant",
              "Etype": "emails",
              "Source": 1663285,
              "Source_Names": "Sara Ballard",
              "TimeStamp": 35559533
             },
             {
              "Destination": 28520,
              "Destination_Names": "Refugio Orrantia",
              "Etype": "calls",
              "Source": 234164,
              "Source_Names": "Ramiro Gault",
              "TimeStamp": 36425753
             },
             {
              "Destination": 1663285,
              "Destination_Names": "Sara Ballard",
              "Etype": "calls",
              "Source": 1108217,
              "Source_Names": "Lindsy Henion",
              "TimeStamp": 37177073
             },
             {
              "Destination": 969089,
              "Destination_Names": "Tobi Gatlin",
              "Etype": "calls",
              "Source": 696047,
              "Source_Names": "Jose Ringwald",
              "TimeStamp": 38079353
             },
             {
              "Destination": 28520,
              "Destination_Names": "Refugio Orrantia",
              "Etype": "calls",
              "Source": 969089,
              "Source_Names": "Tobi Gatlin",
              "TimeStamp": 39932093
             },
             {
              "Destination": 1108217,
              "Destination_Names": "Lindsy Henion",
              "Etype": "emails",
              "Source": 1690582,
              "Source_Names": "Meryl Pastuch",
              "TimeStamp": 40030733
             },
             {
              "Destination": 1847246,
              "Destination_Names": "Rosalia Larroque",
              "Etype": "calls",
              "Source": 1108217,
              "Source_Names": "Lindsy Henion",
              "TimeStamp": 40080653
             },
             {
              "Destination": 696047,
              "Destination_Names": "Jose Ringwald",
              "Etype": "emails",
              "Source": 969089,
              "Source_Names": "Tobi Gatlin",
              "TimeStamp": 40322333
             },
             {
              "Destination": 969089,
              "Destination_Names": "Tobi Gatlin",
              "Etype": "calls",
              "Source": 28520,
              "Source_Names": "Refugio Orrantia",
              "TimeStamp": 42825653
             },
             {
              "Destination": 1108217,
              "Destination_Names": "Lindsy Henion",
              "Etype": "calls",
              "Source": 1690582,
              "Source_Names": "Meryl Pastuch",
              "TimeStamp": 45855533
             },
             {
              "Destination": 1886447,
              "Destination_Names": "Julie Tierno",
              "Etype": "emails",
              "Source": 696047,
              "Source_Names": "Jose Ringwald",
              "TimeStamp": 47572733
             },
             {
              "Destination": 728286,
              "Destination_Names": "Kerstin Belveal",
              "Etype": "emails",
              "Source": 387200,
              "Source_Names": "Augusta Sharp",
              "TimeStamp": 49538333
             },
             {
              "Destination": 728286,
              "Destination_Names": "Kerstin Belveal",
              "Etype": "calls",
              "Source": 696047,
              "Source_Names": "Jose Ringwald",
              "TimeStamp": 50586713
             },
             {
              "Destination": 857138,
              "Destination_Names": "Richard Fox",
              "Etype": "calls",
              "Source": 1108217,
              "Source_Names": "Lindsy Henion",
              "TimeStamp": 50855533
             },
             {
              "Destination": 696047,
              "Destination_Names": "Jose Ringwald",
              "Etype": "emails",
              "Source": 728286,
              "Source_Names": "Kerstin Belveal",
              "TimeStamp": 51604733
             },
             {
              "Destination": 387200,
              "Destination_Names": "Augusta Sharp",
              "Etype": "emails",
              "Source": 728286,
              "Source_Names": "Kerstin Belveal",
              "TimeStamp": 55957133
             },
             {
              "Destination": 696047,
              "Destination_Names": "Jose Ringwald",
              "Etype": "emails",
              "Source": 234164,
              "Source_Names": "Ramiro Gault",
              "TimeStamp": 57814733
             },
             {
              "Destination": 387200,
              "Destination_Names": "Augusta Sharp",
              "Etype": "emails",
              "Source": 1108217,
              "Source_Names": "Lindsy Henion",
              "TimeStamp": 60855533
             },
             {
              "Destination": 728286,
              "Destination_Names": "Kerstin Belveal",
              "Etype": "calls",
              "Source": 1847246,
              "Source_Names": "Rosalia Larroque",
              "TimeStamp": 62084333
             },
             {
              "Destination": 728286,
              "Destination_Names": "Kerstin Belveal",
              "Etype": "calls",
              "Source": 1847246,
              "Source_Names": "Rosalia Larroque",
              "TimeStamp": 62257133
             },
             {
              "Destination": 387676,
              "Destination_Names": "May Burton",
              "Etype": "emails",
              "Source": 1023940,
              "Source_Names": "Patrick Lane",
              "TimeStamp": 62444333
             },
             {
              "Destination": 857138,
              "Destination_Names": "Richard Fox",
              "Etype": "emails",
              "Source": 387676,
              "Source_Names": "May Burton",
              "TimeStamp": 64312733
             },
             {
              "Destination": 728286,
              "Destination_Names": "Kerstin Belveal",
              "Etype": "meetings",
              "Source": 1108217,
              "Source_Names": "Lindsy Henion",
              "TimeStamp": 70855533
             },
             {
              "Destination": 1108217,
              "Destination_Names": "Lindsy Henion",
              "Etype": "emails",
              "Source": 1663285,
              "Source_Names": "Sara Ballard",
              "TimeStamp": 71563233
             },
             {
              "Destination": 1690582,
              "Destination_Names": "Meryl Pastuch",
              "Etype": "meetings",
              "Source": 857138,
              "Source_Names": "Richard Fox",
              "TimeStamp": 72655933
             },
             {
              "Destination": 1847246,
              "Destination_Names": "Rosalia Larroque",
              "Etype": "meetings",
              "Source": 1690582,
              "Source_Names": "Meryl Pastuch",
              "TimeStamp": 73055933
             },
             {
              "Destination": 1847246,
              "Destination_Names": "Rosalia Larroque",
              "Etype": "calls",
              "Source": 728286,
              "Source_Names": "Kerstin Belveal",
              "TimeStamp": 74056423
             },
             {
              "Destination": 728286,
              "Destination_Names": "Kerstin Belveal",
              "Etype": "calls",
              "Source": 1847246,
              "Source_Names": "Rosalia Larroque",
              "TimeStamp": 74056423
             },
             {
              "Destination": 1847246,
              "Destination_Names": "Rosalia Larroque",
              "Etype": "emails",
              "Source": 728286,
              "Source_Names": "Kerstin Belveal",
              "TimeStamp": 74061123
             },
             {
              "Destination": 1847246,
              "Destination_Names": "Rosalia Larroque",
              "Etype": "emails",
              "Source": 728286,
              "Source_Names": "Kerstin Belveal",
              "TimeStamp": 74069853
             },
             {
              "Destination": 728286,
              "Destination_Names": "Kerstin Belveal",
              "Etype": "emails",
              "Source": 1847246,
              "Source_Names": "Rosalia Larroque",
              "TimeStamp": 74356423
             },
             {
              "Destination": 2038003,
              "Destination_Names": "Jenice Savaria",
              "Etype": "calls",
              "Source": 1847246,
              "Source_Names": "Rosalia Larroque",
              "TimeStamp": 74505933
             },
             {
              "Destination": 728286,
              "Destination_Names": "Kerstin Belveal",
              "Etype": "calls",
              "Source": 1847246,
              "Source_Names": "Rosalia Larroque",
              "TimeStamp": 74525933
             },
             {
              "Destination": 1847246,
              "Destination_Names": "Rosalia Larroque",
              "Etype": "calls",
              "Source": 728286,
              "Source_Names": "Kerstin Belveal",
              "TimeStamp": 74525933
             },
             {
              "Destination": 728286,
              "Destination_Names": "Kerstin Belveal",
              "Etype": "emails",
              "Source": 1847246,
              "Source_Names": "Rosalia Larroque",
              "TimeStamp": 74556423
             },
             {
              "Destination": 1847246,
              "Destination_Names": "Rosalia Larroque",
              "Etype": "calls",
              "Source": 728286,
              "Source_Names": "Kerstin Belveal",
              "TimeStamp": 74560423
             },
             {
              "Destination": 2038003,
              "Destination_Names": "Jenice Savaria",
              "Etype": "purchases",
              "Source": 1847246,
              "Source_Names": "Rosalia Larroque",
              "TimeStamp": 74565933
             },
             {
              "Destination": 1847246,
              "Destination_Names": "Rosalia Larroque",
              "Etype": "calls",
              "Source": 728286,
              "Source_Names": "Kerstin Belveal",
              "TimeStamp": 74698733
             },
             {
              "Destination": 728286,
              "Destination_Names": "Kerstin Belveal",
              "Etype": "calls",
              "Source": 1847246,
              "Source_Names": "Rosalia Larroque",
              "TimeStamp": 74785133
             },
             {
              "Destination": 728286,
              "Destination_Names": "Kerstin Belveal",
              "Etype": "calls",
              "Source": 1847246,
              "Source_Names": "Rosalia Larroque",
              "TimeStamp": 74871533
             },
             {
              "Destination": 728286,
              "Destination_Names": "Kerstin Belveal",
              "Etype": "calls",
              "Source": 1847246,
              "Source_Names": "Rosalia Larroque",
              "TimeStamp": 75044333
             },
             {
              "Destination": 728286,
              "Destination_Names": "Kerstin Belveal",
              "Etype": "calls",
              "Source": 1847246,
              "Source_Names": "Rosalia Larroque",
              "TimeStamp": 75303533
             },
             {
              "Destination": 1847246,
              "Destination_Names": "Rosalia Larroque",
              "Etype": "calls",
              "Source": 728286,
              "Source_Names": "Kerstin Belveal",
              "TimeStamp": 77290733
             },
             {
              "Destination": 1847246,
              "Destination_Names": "Rosalia Larroque",
              "Etype": "calls",
              "Source": 728286,
              "Source_Names": "Kerstin Belveal",
              "TimeStamp": 77463533
             },
             {
              "Destination": 1847246,
              "Destination_Names": "Rosalia Larroque",
              "Etype": "calls",
              "Source": 728286,
              "Source_Names": "Kerstin Belveal",
              "TimeStamp": 77549933
             },
             {
              "Destination": 1108217,
              "Destination_Names": "Lindsy Henion",
              "Etype": "emails",
              "Source": 696047,
              "Source_Names": "Jose Ringwald",
              "TimeStamp": 79972733
             },
             {
              "Destination": 1847246,
              "Destination_Names": "Rosalia Larroque",
              "Etype": "calls",
              "Source": 387200,
              "Source_Names": "Augusta Sharp",
              "TimeStamp": 81260993
             },
             {
              "Destination": 387676,
              "Destination_Names": "May Burton",
              "Etype": "emails",
              "Source": 1663285,
              "Source_Names": "Sara Ballard",
              "TimeStamp": 81481133
             },
             {
              "Destination": 1023940,
              "Destination_Names": "Patrick Lane",
              "Etype": "calls",
              "Source": 387676,
              "Source_Names": "May Burton",
              "TimeStamp": 82676813
             }
            ]
           },
           "encoding": {
            "color": {
             "condition": {
              "field": "Etype",
              "selection": "selector037",
              "type": "nominal"
             },
             "value": "lightgray"
            },
            "tooltip": [
             {
              "field": "Source_Names",
              "type": "nominal"
             },
             {
              "field": "Destination_Names",
              "type": "nominal"
             }
            ],
            "x": {
             "field": "TimeStamp",
             "type": "quantitative"
            },
            "y": {
             "field": "Etype",
             "type": "nominal"
            }
           },
           "mark": "point",
           "selection": {
            "selector037": {
             "encodings": [
              "x"
             ],
             "mark": {
              "fill": "#333",
              "fillOpacity": 0.125,
              "stroke": "white"
             },
             "on": "[mousedown, window:mouseup] > window:mousemove!",
             "resolve": "global",
             "translate": "[mousedown, window:mouseup] > window:mousemove!",
             "type": "interval",
             "zoom": "wheel!"
            }
           }
          },
          {
           "data": {
            "values": [
             {
              "Destination": 1108217,
              "Destination_Names": "Lindsy Henion",
              "Etype": "calls",
              "Source": 857138,
              "Source_Names": "Richard Fox",
              "TimeStamp": 15300123
             },
             {
              "Destination": 1690582,
              "Destination_Names": "Meryl Pastuch",
              "Etype": "calls",
              "Source": 857138,
              "Source_Names": "Richard Fox",
              "TimeStamp": 15308463
             },
             {
              "Destination": 387200,
              "Destination_Names": "Augusta Sharp",
              "Etype": "calls",
              "Source": 1039322,
              "Source_Names": "Dylan Ballard",
              "TimeStamp": 15425453
             },
             {
              "Destination": 1886447,
              "Destination_Names": "Julie Tierno",
              "Etype": "calls",
              "Source": 28520,
              "Source_Names": "Refugio Orrantia",
              "TimeStamp": 15435953
             },
             {
              "Destination": 696047,
              "Destination_Names": "Jose Ringwald",
              "Etype": "calls",
              "Source": 728286,
              "Source_Names": "Kerstin Belveal",
              "TimeStamp": 15481433
             },
             {
              "Destination": 1039322,
              "Destination_Names": "Dylan Ballard",
              "Etype": "calls",
              "Source": 51780,
              "Source_Names": "Melita Scarpaci",
              "TimeStamp": 15515753
             },
             {
              "Destination": 1690582,
              "Destination_Names": "Meryl Pastuch",
              "Etype": "emails",
              "Source": 1039322,
              "Source_Names": "Dylan Ballard",
              "TimeStamp": 15536333
             },
             {
              "Destination": 1847246,
              "Destination_Names": "Rosalia Larroque",
              "Etype": "calls",
              "Source": 1690582,
              "Source_Names": "Meryl Pastuch",
              "TimeStamp": 15614533
             },
             {
              "Destination": 1886447,
              "Destination_Names": "Julie Tierno",
              "Etype": "meetings",
              "Source": 857138,
              "Source_Names": "Richard Fox",
              "TimeStamp": 15616833
             },
             {
              "Destination": 234164,
              "Destination_Names": "Ramiro Gault",
              "Etype": "calls",
              "Source": 728286,
              "Source_Names": "Kerstin Belveal",
              "TimeStamp": 15619133
             },
             {
              "Destination": 728286,
              "Destination_Names": "Kerstin Belveal",
              "Etype": "calls",
              "Source": 857138,
              "Source_Names": "Richard Fox",
              "TimeStamp": 15627833
             },
             {
              "Destination": 51780,
              "Destination_Names": "Melita Scarpaci",
              "Etype": "calls",
              "Source": 387200,
              "Source_Names": "Augusta Sharp",
              "TimeStamp": 15628733
             },
             {
              "Destination": 28520,
              "Destination_Names": "Refugio Orrantia",
              "Etype": "calls",
              "Source": 696047,
              "Source_Names": "Jose Ringwald",
              "TimeStamp": 15696173
             },
             {
              "Destination": 1108217,
              "Destination_Names": "Lindsy Henion",
              "Etype": "emails",
              "Source": 728286,
              "Source_Names": "Kerstin Belveal",
              "TimeStamp": 15759533
             },
             {
              "Destination": 1663285,
              "Destination_Names": "Sara Ballard",
              "Etype": "emails",
              "Source": 1023940,
              "Source_Names": "Patrick Lane",
              "TimeStamp": 15806333
             },
             {
              "Destination": 1642962,
              "Destination_Names": "Glen Grant",
              "Etype": "calls",
              "Source": 505444,
              "Source_Names": "Alex Hall",
              "TimeStamp": 15940313
             },
             {
              "Destination": 1847246,
              "Destination_Names": "Rosalia Larroque",
              "Etype": "emails",
              "Source": 1108217,
              "Source_Names": "Lindsy Henion",
              "TimeStamp": 16112333
             },
             {
              "Destination": 1108217,
              "Destination_Names": "Lindsy Henion",
              "Etype": "emails",
              "Source": 1847246,
              "Source_Names": "Rosalia Larroque",
              "TimeStamp": 16202333
             },
             {
              "Destination": 234164,
              "Destination_Names": "Ramiro Gault",
              "Etype": "calls",
              "Source": 696047,
              "Source_Names": "Jose Ringwald",
              "TimeStamp": 16345253
             },
             {
              "Destination": 1039322,
              "Destination_Names": "Dylan Ballard",
              "Etype": "emails",
              "Source": 51780,
              "Source_Names": "Melita Scarpaci",
              "TimeStamp": 16483133
             },
             {
              "Destination": 1847246,
              "Destination_Names": "Rosalia Larroque",
              "Etype": "emails",
              "Source": 857138,
              "Source_Names": "Richard Fox",
              "TimeStamp": 16501133
             },
             {
              "Destination": 857138,
              "Destination_Names": "Richard Fox",
              "Etype": "calls",
              "Source": 1023940,
              "Source_Names": "Patrick Lane",
              "TimeStamp": 16509953
             },
             {
              "Destination": 969089,
              "Destination_Names": "Tobi Gatlin",
              "Etype": "calls",
              "Source": 1886447,
              "Source_Names": "Julie Tierno",
              "TimeStamp": 16565333
             },
             {
              "Destination": 1847246,
              "Destination_Names": "Rosalia Larroque",
              "Etype": "calls",
              "Source": 1690582,
              "Source_Names": "Meryl Pastuch",
              "TimeStamp": 16636013
             },
             {
              "Destination": 728286,
              "Destination_Names": "Kerstin Belveal",
              "Etype": "calls",
              "Source": 234164,
              "Source_Names": "Ramiro Gault",
              "TimeStamp": 16667093
             },
             {
              "Destination": 1690582,
              "Destination_Names": "Meryl Pastuch",
              "Etype": "calls",
              "Source": 1039322,
              "Source_Names": "Dylan Ballard",
              "TimeStamp": 16760813
             },
             {
              "Destination": 1642962,
              "Destination_Names": "Glen Grant",
              "Etype": "emails",
              "Source": 1690582,
              "Source_Names": "Meryl Pastuch",
              "TimeStamp": 16954733
             },
             {
              "Destination": 1642962,
              "Destination_Names": "Glen Grant",
              "Etype": "emails",
              "Source": 387676,
              "Source_Names": "May Burton",
              "TimeStamp": 16969133
             },
             {
              "Destination": 1108217,
              "Destination_Names": "Lindsy Henion",
              "Etype": "calls",
              "Source": 1663285,
              "Source_Names": "Sara Ballard",
              "TimeStamp": 17091353
             },
             {
              "Destination": 387676,
              "Destination_Names": "May Burton",
              "Etype": "emails",
              "Source": 857138,
              "Source_Names": "Richard Fox",
              "TimeStamp": 17138333
             },
             {
              "Destination": 696047,
              "Destination_Names": "Jose Ringwald",
              "Etype": "calls",
              "Source": 28520,
              "Source_Names": "Refugio Orrantia",
              "TimeStamp": 17172953
             },
             {
              "Destination": 1886447,
              "Destination_Names": "Julie Tierno",
              "Etype": "calls",
              "Source": 969089,
              "Source_Names": "Tobi Gatlin",
              "TimeStamp": 17597093
             },
             {
              "Destination": 1039322,
              "Destination_Names": "Dylan Ballard",
              "Etype": "calls",
              "Source": 1690582,
              "Source_Names": "Meryl Pastuch",
              "TimeStamp": 18071753
             },
             {
              "Destination": 857138,
              "Destination_Names": "Richard Fox",
              "Etype": "calls",
              "Source": 1642962,
              "Source_Names": "Glen Grant",
              "TimeStamp": 18296573
             },
             {
              "Destination": 1108217,
              "Destination_Names": "Lindsy Henion",
              "Etype": "calls",
              "Source": 1039322,
              "Source_Names": "Dylan Ballard",
              "TimeStamp": 18382013
             },
             {
              "Destination": 1847246,
              "Destination_Names": "Rosalia Larroque",
              "Etype": "emails",
              "Source": 1690582,
              "Source_Names": "Meryl Pastuch",
              "TimeStamp": 18391133
             },
             {
              "Destination": 1023940,
              "Destination_Names": "Patrick Lane",
              "Etype": "emails",
              "Source": 387676,
              "Source_Names": "May Burton",
              "TimeStamp": 18423533
             },
             {
              "Destination": 1847246,
              "Destination_Names": "Rosalia Larroque",
              "Etype": "emails",
              "Source": 1690582,
              "Source_Names": "Meryl Pastuch",
              "TimeStamp": 18445133
             },
             {
              "Destination": 1039322,
              "Destination_Names": "Dylan Ballard",
              "Etype": "calls",
              "Source": 1108217,
              "Source_Names": "Lindsy Henion",
              "TimeStamp": 18996653
             },
             {
              "Destination": 505444,
              "Destination_Names": "Alex Hall",
              "Etype": "emails",
              "Source": 1642962,
              "Source_Names": "Glen Grant",
              "TimeStamp": 19179533
             },
             {
              "Destination": 1039322,
              "Destination_Names": "Dylan Ballard",
              "Etype": "emails",
              "Source": 1108217,
              "Source_Names": "Lindsy Henion",
              "TimeStamp": 19384733
             },
             {
              "Destination": 1663285,
              "Destination_Names": "Sara Ballard",
              "Etype": "emails",
              "Source": 387676,
              "Source_Names": "May Burton",
              "TimeStamp": 19625933
             },
             {
              "Destination": 1690582,
              "Destination_Names": "Meryl Pastuch",
              "Etype": "calls",
              "Source": 1847246,
              "Source_Names": "Rosalia Larroque",
              "TimeStamp": 20061233
             },
             {
              "Destination": 1642962,
              "Destination_Names": "Glen Grant",
              "Etype": "emails",
              "Source": 1023940,
              "Source_Names": "Patrick Lane",
              "TimeStamp": 20065133
             },
             {
              "Destination": 728286,
              "Destination_Names": "Kerstin Belveal",
              "Etype": "emails",
              "Source": 696047,
              "Source_Names": "Jose Ringwald",
              "TimeStamp": 20245133
             },
             {
              "Destination": 857138,
              "Destination_Names": "Richard Fox",
              "Etype": "emails",
              "Source": 1690582,
              "Source_Names": "Meryl Pastuch",
              "TimeStamp": 20417933
             },
             {
              "Destination": 857138,
              "Destination_Names": "Richard Fox",
              "Etype": "emails",
              "Source": 969089,
              "Source_Names": "Tobi Gatlin",
              "TimeStamp": 20795933
             },
             {
              "Destination": 969089,
              "Destination_Names": "Tobi Gatlin",
              "Etype": "emails",
              "Source": 857138,
              "Source_Names": "Richard Fox",
              "TimeStamp": 21512333
             },
             {
              "Destination": 51780,
              "Destination_Names": "Melita Scarpaci",
              "Etype": "emails",
              "Source": 1108217,
              "Source_Names": "Lindsy Henion",
              "TimeStamp": 21771533
             },
             {
              "Destination": 1108217,
              "Destination_Names": "Lindsy Henion",
              "Etype": "emails",
              "Source": 623027,
              "Source_Names": "Lizbeth Jindra",
              "TimeStamp": 21789533
             },
             {
              "Destination": 1690582,
              "Destination_Names": "Meryl Pastuch",
              "Etype": "calls",
              "Source": 387200,
              "Source_Names": "Augusta Sharp",
              "TimeStamp": 21889973
             },
             {
              "Destination": 969089,
              "Destination_Names": "Tobi Gatlin",
              "Etype": "emails",
              "Source": 696047,
              "Source_Names": "Jose Ringwald",
              "TimeStamp": 22163933
             },
             {
              "Destination": 696047,
              "Destination_Names": "Jose Ringwald",
              "Etype": "calls",
              "Source": 234164,
              "Source_Names": "Ramiro Gault",
              "TimeStamp": 23060513
             },
             {
              "Destination": 387200,
              "Destination_Names": "Augusta Sharp",
              "Etype": "emails",
              "Source": 1108217,
              "Source_Names": "Lindsy Henion",
              "TimeStamp": 23081933
             },
             {
              "Destination": 1023940,
              "Destination_Names": "Patrick Lane",
              "Etype": "emails",
              "Source": 1642962,
              "Source_Names": "Glen Grant",
              "TimeStamp": 23351933
             },
             {
              "Destination": 696047,
              "Destination_Names": "Jose Ringwald",
              "Etype": "emails",
              "Source": 1642962,
              "Source_Names": "Glen Grant",
              "TimeStamp": 23409533
             },
             {
              "Destination": 387200,
              "Destination_Names": "Augusta Sharp",
              "Etype": "calls",
              "Source": 1847246,
              "Source_Names": "Rosalia Larroque",
              "TimeStamp": 23488433
             },
             {
              "Destination": 1108217,
              "Destination_Names": "Lindsy Henion",
              "Etype": "emails",
              "Source": 1039322,
              "Source_Names": "Dylan Ballard",
              "TimeStamp": 23607533
             },
             {
              "Destination": 728286,
              "Destination_Names": "Kerstin Belveal",
              "Etype": "calls",
              "Source": 387200,
              "Source_Names": "Augusta Sharp",
              "TimeStamp": 23814473
             },
             {
              "Destination": 857138,
              "Destination_Names": "Richard Fox",
              "Etype": "emails",
              "Source": 1847246,
              "Source_Names": "Rosalia Larroque",
              "TimeStamp": 24151133
             },
             {
              "Destination": 1690582,
              "Destination_Names": "Meryl Pastuch",
              "Etype": "calls",
              "Source": 1108217,
              "Source_Names": "Lindsy Henion",
              "TimeStamp": 24596093
             },
             {
              "Destination": 387676,
              "Destination_Names": "May Burton",
              "Etype": "emails",
              "Source": 1642962,
              "Source_Names": "Glen Grant",
              "TimeStamp": 24889133
             },
             {
              "Destination": 1108217,
              "Destination_Names": "Lindsy Henion",
              "Etype": "calls",
              "Source": 1847246,
              "Source_Names": "Rosalia Larroque",
              "TimeStamp": 25256993
             },
             {
              "Destination": 1847246,
              "Destination_Names": "Rosalia Larroque",
              "Etype": "emails",
              "Source": 1690582,
              "Source_Names": "Meryl Pastuch",
              "TimeStamp": 26123933
             },
             {
              "Destination": 1642962,
              "Destination_Names": "Glen Grant",
              "Etype": "calls",
              "Source": 857138,
              "Source_Names": "Richard Fox",
              "TimeStamp": 26183693
             },
             {
              "Destination": 1108217,
              "Destination_Names": "Lindsy Henion",
              "Etype": "calls",
              "Source": 1690582,
              "Source_Names": "Meryl Pastuch",
              "TimeStamp": 26689793
             },
             {
              "Destination": 1690582,
              "Destination_Names": "Meryl Pastuch",
              "Etype": "emails",
              "Source": 1847246,
              "Source_Names": "Rosalia Larroque",
              "TimeStamp": 27157133
             },
             {
              "Destination": 623027,
              "Destination_Names": "Lizbeth Jindra",
              "Etype": "emails",
              "Source": 1108217,
              "Source_Names": "Lindsy Henion",
              "TimeStamp": 27437933
             },
             {
              "Destination": 505444,
              "Destination_Names": "Alex Hall",
              "Etype": "calls",
              "Source": 1886447,
              "Source_Names": "Julie Tierno",
              "TimeStamp": 27614393
             },
             {
              "Destination": 1023940,
              "Destination_Names": "Patrick Lane",
              "Etype": "calls",
              "Source": 857138,
              "Source_Names": "Richard Fox",
              "TimeStamp": 29066513
             },
             {
              "Destination": 1886447,
              "Destination_Names": "Julie Tierno",
              "Etype": "calls",
              "Source": 505444,
              "Source_Names": "Alex Hall",
              "TimeStamp": 30111053
             },
             {
              "Destination": 1690582,
              "Destination_Names": "Meryl Pastuch",
              "Etype": "calls",
              "Source": 857138,
              "Source_Names": "Richard Fox",
              "TimeStamp": 30354893
             },
             {
              "Destination": 1108217,
              "Destination_Names": "Lindsy Henion",
              "Etype": "calls",
              "Source": 857138,
              "Source_Names": "Richard Fox",
              "TimeStamp": 30354893
             },
             {
              "Destination": 234164,
              "Destination_Names": "Ramiro Gault",
              "Etype": "calls",
              "Source": 969089,
              "Source_Names": "Tobi Gatlin",
              "TimeStamp": 30641093
             },
             {
              "Destination": 728286,
              "Destination_Names": "Kerstin Belveal",
              "Etype": "meetings",
              "Source": 857138,
              "Source_Names": "Richard Fox",
              "TimeStamp": 30755533
             },
             {
              "Destination": 1108217,
              "Destination_Names": "Lindsy Henion",
              "Etype": "emails",
              "Source": 728286,
              "Source_Names": "Kerstin Belveal",
              "TimeStamp": 30789533
             },
             {
              "Destination": 728286,
              "Destination_Names": "Kerstin Belveal",
              "Etype": "calls",
              "Source": 857138,
              "Source_Names": "Richard Fox",
              "TimeStamp": 30855533
             },
             {
              "Destination": 387200,
              "Destination_Names": "Augusta Sharp",
              "Etype": "calls",
              "Source": 728286,
              "Source_Names": "Kerstin Belveal",
              "TimeStamp": 31236893
             },
             {
              "Destination": 1108217,
              "Destination_Names": "Lindsy Henion",
              "Etype": "calls",
              "Source": 387200,
              "Source_Names": "Augusta Sharp",
              "TimeStamp": 32147333
             },
             {
              "Destination": 234164,
              "Destination_Names": "Ramiro Gault",
              "Etype": "emails",
              "Source": 696047,
              "Source_Names": "Jose Ringwald",
              "TimeStamp": 32164733
             },
             {
              "Destination": 1039322,
              "Destination_Names": "Dylan Ballard",
              "Etype": "emails",
              "Source": 387200,
              "Source_Names": "Augusta Sharp",
              "TimeStamp": 32301533
             },
             {
              "Destination": 1886447,
              "Destination_Names": "Julie Tierno",
              "Etype": "emails",
              "Source": 387200,
              "Source_Names": "Augusta Sharp",
              "TimeStamp": 32780333
             },
             {
              "Destination": 1023940,
              "Destination_Names": "Patrick Lane",
              "Etype": "emails",
              "Source": 857138,
              "Source_Names": "Richard Fox",
              "TimeStamp": 33647933
             },
             {
              "Destination": 696047,
              "Destination_Names": "Jose Ringwald",
              "Etype": "emails",
              "Source": 1886447,
              "Source_Names": "Julie Tierno",
              "TimeStamp": 33745133
             },
             {
              "Destination": 1108217,
              "Destination_Names": "Lindsy Henion",
              "Etype": "emails",
              "Source": 728286,
              "Source_Names": "Kerstin Belveal",
              "TimeStamp": 33874733
             },
             {
              "Destination": 1108217,
              "Destination_Names": "Lindsy Henion",
              "Etype": "emails",
              "Source": 728286,
              "Source_Names": "Kerstin Belveal",
              "TimeStamp": 33946733
             },
             {
              "Destination": 1690582,
              "Destination_Names": "Meryl Pastuch",
              "Etype": "emails",
              "Source": 857138,
              "Source_Names": "Richard Fox",
              "TimeStamp": 34223933
             },
             {
              "Destination": 1642962,
              "Destination_Names": "Glen Grant",
              "Etype": "emails",
              "Source": 696047,
              "Source_Names": "Jose Ringwald",
              "TimeStamp": 35426333
             },
             {
              "Destination": 1642962,
              "Destination_Names": "Glen Grant",
              "Etype": "emails",
              "Source": 1663285,
              "Source_Names": "Sara Ballard",
              "TimeStamp": 35559533
             },
             {
              "Destination": 28520,
              "Destination_Names": "Refugio Orrantia",
              "Etype": "calls",
              "Source": 234164,
              "Source_Names": "Ramiro Gault",
              "TimeStamp": 36425753
             },
             {
              "Destination": 1663285,
              "Destination_Names": "Sara Ballard",
              "Etype": "calls",
              "Source": 1108217,
              "Source_Names": "Lindsy Henion",
              "TimeStamp": 37177073
             },
             {
              "Destination": 969089,
              "Destination_Names": "Tobi Gatlin",
              "Etype": "calls",
              "Source": 696047,
              "Source_Names": "Jose Ringwald",
              "TimeStamp": 38079353
             },
             {
              "Destination": 28520,
              "Destination_Names": "Refugio Orrantia",
              "Etype": "calls",
              "Source": 969089,
              "Source_Names": "Tobi Gatlin",
              "TimeStamp": 39932093
             },
             {
              "Destination": 1108217,
              "Destination_Names": "Lindsy Henion",
              "Etype": "emails",
              "Source": 1690582,
              "Source_Names": "Meryl Pastuch",
              "TimeStamp": 40030733
             },
             {
              "Destination": 1847246,
              "Destination_Names": "Rosalia Larroque",
              "Etype": "calls",
              "Source": 1108217,
              "Source_Names": "Lindsy Henion",
              "TimeStamp": 40080653
             },
             {
              "Destination": 696047,
              "Destination_Names": "Jose Ringwald",
              "Etype": "emails",
              "Source": 969089,
              "Source_Names": "Tobi Gatlin",
              "TimeStamp": 40322333
             },
             {
              "Destination": 969089,
              "Destination_Names": "Tobi Gatlin",
              "Etype": "calls",
              "Source": 28520,
              "Source_Names": "Refugio Orrantia",
              "TimeStamp": 42825653
             },
             {
              "Destination": 1108217,
              "Destination_Names": "Lindsy Henion",
              "Etype": "calls",
              "Source": 1690582,
              "Source_Names": "Meryl Pastuch",
              "TimeStamp": 45855533
             },
             {
              "Destination": 1886447,
              "Destination_Names": "Julie Tierno",
              "Etype": "emails",
              "Source": 696047,
              "Source_Names": "Jose Ringwald",
              "TimeStamp": 47572733
             },
             {
              "Destination": 728286,
              "Destination_Names": "Kerstin Belveal",
              "Etype": "emails",
              "Source": 387200,
              "Source_Names": "Augusta Sharp",
              "TimeStamp": 49538333
             },
             {
              "Destination": 728286,
              "Destination_Names": "Kerstin Belveal",
              "Etype": "calls",
              "Source": 696047,
              "Source_Names": "Jose Ringwald",
              "TimeStamp": 50586713
             },
             {
              "Destination": 857138,
              "Destination_Names": "Richard Fox",
              "Etype": "calls",
              "Source": 1108217,
              "Source_Names": "Lindsy Henion",
              "TimeStamp": 50855533
             },
             {
              "Destination": 696047,
              "Destination_Names": "Jose Ringwald",
              "Etype": "emails",
              "Source": 728286,
              "Source_Names": "Kerstin Belveal",
              "TimeStamp": 51604733
             },
             {
              "Destination": 387200,
              "Destination_Names": "Augusta Sharp",
              "Etype": "emails",
              "Source": 728286,
              "Source_Names": "Kerstin Belveal",
              "TimeStamp": 55957133
             },
             {
              "Destination": 696047,
              "Destination_Names": "Jose Ringwald",
              "Etype": "emails",
              "Source": 234164,
              "Source_Names": "Ramiro Gault",
              "TimeStamp": 57814733
             },
             {
              "Destination": 387200,
              "Destination_Names": "Augusta Sharp",
              "Etype": "emails",
              "Source": 1108217,
              "Source_Names": "Lindsy Henion",
              "TimeStamp": 60855533
             },
             {
              "Destination": 728286,
              "Destination_Names": "Kerstin Belveal",
              "Etype": "calls",
              "Source": 1847246,
              "Source_Names": "Rosalia Larroque",
              "TimeStamp": 62084333
             },
             {
              "Destination": 728286,
              "Destination_Names": "Kerstin Belveal",
              "Etype": "calls",
              "Source": 1847246,
              "Source_Names": "Rosalia Larroque",
              "TimeStamp": 62257133
             },
             {
              "Destination": 387676,
              "Destination_Names": "May Burton",
              "Etype": "emails",
              "Source": 1023940,
              "Source_Names": "Patrick Lane",
              "TimeStamp": 62444333
             },
             {
              "Destination": 857138,
              "Destination_Names": "Richard Fox",
              "Etype": "emails",
              "Source": 387676,
              "Source_Names": "May Burton",
              "TimeStamp": 64312733
             },
             {
              "Destination": 728286,
              "Destination_Names": "Kerstin Belveal",
              "Etype": "meetings",
              "Source": 1108217,
              "Source_Names": "Lindsy Henion",
              "TimeStamp": 70855533
             },
             {
              "Destination": 1108217,
              "Destination_Names": "Lindsy Henion",
              "Etype": "emails",
              "Source": 1663285,
              "Source_Names": "Sara Ballard",
              "TimeStamp": 71563233
             },
             {
              "Destination": 1690582,
              "Destination_Names": "Meryl Pastuch",
              "Etype": "meetings",
              "Source": 857138,
              "Source_Names": "Richard Fox",
              "TimeStamp": 72655933
             },
             {
              "Destination": 1847246,
              "Destination_Names": "Rosalia Larroque",
              "Etype": "meetings",
              "Source": 1690582,
              "Source_Names": "Meryl Pastuch",
              "TimeStamp": 73055933
             },
             {
              "Destination": 1847246,
              "Destination_Names": "Rosalia Larroque",
              "Etype": "calls",
              "Source": 728286,
              "Source_Names": "Kerstin Belveal",
              "TimeStamp": 74056423
             },
             {
              "Destination": 728286,
              "Destination_Names": "Kerstin Belveal",
              "Etype": "calls",
              "Source": 1847246,
              "Source_Names": "Rosalia Larroque",
              "TimeStamp": 74056423
             },
             {
              "Destination": 1847246,
              "Destination_Names": "Rosalia Larroque",
              "Etype": "emails",
              "Source": 728286,
              "Source_Names": "Kerstin Belveal",
              "TimeStamp": 74061123
             },
             {
              "Destination": 1847246,
              "Destination_Names": "Rosalia Larroque",
              "Etype": "emails",
              "Source": 728286,
              "Source_Names": "Kerstin Belveal",
              "TimeStamp": 74069853
             },
             {
              "Destination": 728286,
              "Destination_Names": "Kerstin Belveal",
              "Etype": "emails",
              "Source": 1847246,
              "Source_Names": "Rosalia Larroque",
              "TimeStamp": 74356423
             },
             {
              "Destination": 2038003,
              "Destination_Names": "Jenice Savaria",
              "Etype": "calls",
              "Source": 1847246,
              "Source_Names": "Rosalia Larroque",
              "TimeStamp": 74505933
             },
             {
              "Destination": 728286,
              "Destination_Names": "Kerstin Belveal",
              "Etype": "calls",
              "Source": 1847246,
              "Source_Names": "Rosalia Larroque",
              "TimeStamp": 74525933
             },
             {
              "Destination": 1847246,
              "Destination_Names": "Rosalia Larroque",
              "Etype": "calls",
              "Source": 728286,
              "Source_Names": "Kerstin Belveal",
              "TimeStamp": 74525933
             },
             {
              "Destination": 728286,
              "Destination_Names": "Kerstin Belveal",
              "Etype": "emails",
              "Source": 1847246,
              "Source_Names": "Rosalia Larroque",
              "TimeStamp": 74556423
             },
             {
              "Destination": 1847246,
              "Destination_Names": "Rosalia Larroque",
              "Etype": "calls",
              "Source": 728286,
              "Source_Names": "Kerstin Belveal",
              "TimeStamp": 74560423
             },
             {
              "Destination": 2038003,
              "Destination_Names": "Jenice Savaria",
              "Etype": "purchases",
              "Source": 1847246,
              "Source_Names": "Rosalia Larroque",
              "TimeStamp": 74565933
             },
             {
              "Destination": 1847246,
              "Destination_Names": "Rosalia Larroque",
              "Etype": "calls",
              "Source": 728286,
              "Source_Names": "Kerstin Belveal",
              "TimeStamp": 74698733
             },
             {
              "Destination": 728286,
              "Destination_Names": "Kerstin Belveal",
              "Etype": "calls",
              "Source": 1847246,
              "Source_Names": "Rosalia Larroque",
              "TimeStamp": 74785133
             },
             {
              "Destination": 728286,
              "Destination_Names": "Kerstin Belveal",
              "Etype": "calls",
              "Source": 1847246,
              "Source_Names": "Rosalia Larroque",
              "TimeStamp": 74871533
             },
             {
              "Destination": 728286,
              "Destination_Names": "Kerstin Belveal",
              "Etype": "calls",
              "Source": 1847246,
              "Source_Names": "Rosalia Larroque",
              "TimeStamp": 75044333
             },
             {
              "Destination": 728286,
              "Destination_Names": "Kerstin Belveal",
              "Etype": "calls",
              "Source": 1847246,
              "Source_Names": "Rosalia Larroque",
              "TimeStamp": 75303533
             },
             {
              "Destination": 1847246,
              "Destination_Names": "Rosalia Larroque",
              "Etype": "calls",
              "Source": 728286,
              "Source_Names": "Kerstin Belveal",
              "TimeStamp": 77290733
             },
             {
              "Destination": 1847246,
              "Destination_Names": "Rosalia Larroque",
              "Etype": "calls",
              "Source": 728286,
              "Source_Names": "Kerstin Belveal",
              "TimeStamp": 77463533
             },
             {
              "Destination": 1847246,
              "Destination_Names": "Rosalia Larroque",
              "Etype": "calls",
              "Source": 728286,
              "Source_Names": "Kerstin Belveal",
              "TimeStamp": 77549933
             },
             {
              "Destination": 1108217,
              "Destination_Names": "Lindsy Henion",
              "Etype": "emails",
              "Source": 696047,
              "Source_Names": "Jose Ringwald",
              "TimeStamp": 79972733
             },
             {
              "Destination": 1847246,
              "Destination_Names": "Rosalia Larroque",
              "Etype": "calls",
              "Source": 387200,
              "Source_Names": "Augusta Sharp",
              "TimeStamp": 81260993
             },
             {
              "Destination": 387676,
              "Destination_Names": "May Burton",
              "Etype": "emails",
              "Source": 1663285,
              "Source_Names": "Sara Ballard",
              "TimeStamp": 81481133
             },
             {
              "Destination": 1023940,
              "Destination_Names": "Patrick Lane",
              "Etype": "calls",
              "Source": 387676,
              "Source_Names": "May Burton",
              "TimeStamp": 82676813
             }
            ]
           },
           "encoding": {
            "color": {
             "condition": {
              "field": "Etype",
              "selection": "selector037",
              "type": "nominal"
             },
             "value": "lightgray"
            },
            "tooltip": [
             {
              "field": "Source_Names",
              "type": "nominal"
             },
             {
              "field": "Destination_Names",
              "type": "nominal"
             }
            ],
            "x": {
             "field": "TimeStamp",
             "type": "quantitative"
            },
            "y": {
             "field": "Etype",
             "type": "nominal"
            }
           },
           "mark": "point",
           "selection": {
            "selector039": {
             "bind": "scales",
             "encodings": [
              "x",
              "y"
             ],
             "mark": {
              "fill": "#333",
              "fillOpacity": 0.125,
              "stroke": "white"
             },
             "on": "[mousedown, window:mouseup] > window:mousemove!",
             "resolve": "global",
             "translate": "[mousedown, window:mouseup] > window:mousemove!",
             "type": "interval",
             "zoom": "wheel!"
            }
           },
           "transform": [
            {
             "filter": {
              "selection": "selector037"
             }
            }
           ]
          }
         ]
        },
        {
         "data": {
          "values": [
           {
            "Destination": 1108217,
            "Destination_Names": "Lindsy Henion",
            "Etype": "calls",
            "Source": 857138,
            "Source_Names": "Richard Fox",
            "TimeStamp": 15300123
           },
           {
            "Destination": 1690582,
            "Destination_Names": "Meryl Pastuch",
            "Etype": "calls",
            "Source": 857138,
            "Source_Names": "Richard Fox",
            "TimeStamp": 15308463
           },
           {
            "Destination": 387200,
            "Destination_Names": "Augusta Sharp",
            "Etype": "calls",
            "Source": 1039322,
            "Source_Names": "Dylan Ballard",
            "TimeStamp": 15425453
           },
           {
            "Destination": 1886447,
            "Destination_Names": "Julie Tierno",
            "Etype": "calls",
            "Source": 28520,
            "Source_Names": "Refugio Orrantia",
            "TimeStamp": 15435953
           },
           {
            "Destination": 696047,
            "Destination_Names": "Jose Ringwald",
            "Etype": "calls",
            "Source": 728286,
            "Source_Names": "Kerstin Belveal",
            "TimeStamp": 15481433
           },
           {
            "Destination": 1039322,
            "Destination_Names": "Dylan Ballard",
            "Etype": "calls",
            "Source": 51780,
            "Source_Names": "Melita Scarpaci",
            "TimeStamp": 15515753
           },
           {
            "Destination": 1690582,
            "Destination_Names": "Meryl Pastuch",
            "Etype": "emails",
            "Source": 1039322,
            "Source_Names": "Dylan Ballard",
            "TimeStamp": 15536333
           },
           {
            "Destination": 1847246,
            "Destination_Names": "Rosalia Larroque",
            "Etype": "calls",
            "Source": 1690582,
            "Source_Names": "Meryl Pastuch",
            "TimeStamp": 15614533
           },
           {
            "Destination": 1886447,
            "Destination_Names": "Julie Tierno",
            "Etype": "meetings",
            "Source": 857138,
            "Source_Names": "Richard Fox",
            "TimeStamp": 15616833
           },
           {
            "Destination": 234164,
            "Destination_Names": "Ramiro Gault",
            "Etype": "calls",
            "Source": 728286,
            "Source_Names": "Kerstin Belveal",
            "TimeStamp": 15619133
           },
           {
            "Destination": 728286,
            "Destination_Names": "Kerstin Belveal",
            "Etype": "calls",
            "Source": 857138,
            "Source_Names": "Richard Fox",
            "TimeStamp": 15627833
           },
           {
            "Destination": 51780,
            "Destination_Names": "Melita Scarpaci",
            "Etype": "calls",
            "Source": 387200,
            "Source_Names": "Augusta Sharp",
            "TimeStamp": 15628733
           },
           {
            "Destination": 28520,
            "Destination_Names": "Refugio Orrantia",
            "Etype": "calls",
            "Source": 696047,
            "Source_Names": "Jose Ringwald",
            "TimeStamp": 15696173
           },
           {
            "Destination": 1108217,
            "Destination_Names": "Lindsy Henion",
            "Etype": "emails",
            "Source": 728286,
            "Source_Names": "Kerstin Belveal",
            "TimeStamp": 15759533
           },
           {
            "Destination": 1663285,
            "Destination_Names": "Sara Ballard",
            "Etype": "emails",
            "Source": 1023940,
            "Source_Names": "Patrick Lane",
            "TimeStamp": 15806333
           },
           {
            "Destination": 1642962,
            "Destination_Names": "Glen Grant",
            "Etype": "calls",
            "Source": 505444,
            "Source_Names": "Alex Hall",
            "TimeStamp": 15940313
           },
           {
            "Destination": 1847246,
            "Destination_Names": "Rosalia Larroque",
            "Etype": "emails",
            "Source": 1108217,
            "Source_Names": "Lindsy Henion",
            "TimeStamp": 16112333
           },
           {
            "Destination": 1108217,
            "Destination_Names": "Lindsy Henion",
            "Etype": "emails",
            "Source": 1847246,
            "Source_Names": "Rosalia Larroque",
            "TimeStamp": 16202333
           },
           {
            "Destination": 234164,
            "Destination_Names": "Ramiro Gault",
            "Etype": "calls",
            "Source": 696047,
            "Source_Names": "Jose Ringwald",
            "TimeStamp": 16345253
           },
           {
            "Destination": 1039322,
            "Destination_Names": "Dylan Ballard",
            "Etype": "emails",
            "Source": 51780,
            "Source_Names": "Melita Scarpaci",
            "TimeStamp": 16483133
           },
           {
            "Destination": 1847246,
            "Destination_Names": "Rosalia Larroque",
            "Etype": "emails",
            "Source": 857138,
            "Source_Names": "Richard Fox",
            "TimeStamp": 16501133
           },
           {
            "Destination": 857138,
            "Destination_Names": "Richard Fox",
            "Etype": "calls",
            "Source": 1023940,
            "Source_Names": "Patrick Lane",
            "TimeStamp": 16509953
           },
           {
            "Destination": 969089,
            "Destination_Names": "Tobi Gatlin",
            "Etype": "calls",
            "Source": 1886447,
            "Source_Names": "Julie Tierno",
            "TimeStamp": 16565333
           },
           {
            "Destination": 1847246,
            "Destination_Names": "Rosalia Larroque",
            "Etype": "calls",
            "Source": 1690582,
            "Source_Names": "Meryl Pastuch",
            "TimeStamp": 16636013
           },
           {
            "Destination": 728286,
            "Destination_Names": "Kerstin Belveal",
            "Etype": "calls",
            "Source": 234164,
            "Source_Names": "Ramiro Gault",
            "TimeStamp": 16667093
           },
           {
            "Destination": 1690582,
            "Destination_Names": "Meryl Pastuch",
            "Etype": "calls",
            "Source": 1039322,
            "Source_Names": "Dylan Ballard",
            "TimeStamp": 16760813
           },
           {
            "Destination": 1642962,
            "Destination_Names": "Glen Grant",
            "Etype": "emails",
            "Source": 1690582,
            "Source_Names": "Meryl Pastuch",
            "TimeStamp": 16954733
           },
           {
            "Destination": 1642962,
            "Destination_Names": "Glen Grant",
            "Etype": "emails",
            "Source": 387676,
            "Source_Names": "May Burton",
            "TimeStamp": 16969133
           },
           {
            "Destination": 1108217,
            "Destination_Names": "Lindsy Henion",
            "Etype": "calls",
            "Source": 1663285,
            "Source_Names": "Sara Ballard",
            "TimeStamp": 17091353
           },
           {
            "Destination": 387676,
            "Destination_Names": "May Burton",
            "Etype": "emails",
            "Source": 857138,
            "Source_Names": "Richard Fox",
            "TimeStamp": 17138333
           },
           {
            "Destination": 696047,
            "Destination_Names": "Jose Ringwald",
            "Etype": "calls",
            "Source": 28520,
            "Source_Names": "Refugio Orrantia",
            "TimeStamp": 17172953
           },
           {
            "Destination": 1886447,
            "Destination_Names": "Julie Tierno",
            "Etype": "calls",
            "Source": 969089,
            "Source_Names": "Tobi Gatlin",
            "TimeStamp": 17597093
           },
           {
            "Destination": 1039322,
            "Destination_Names": "Dylan Ballard",
            "Etype": "calls",
            "Source": 1690582,
            "Source_Names": "Meryl Pastuch",
            "TimeStamp": 18071753
           },
           {
            "Destination": 857138,
            "Destination_Names": "Richard Fox",
            "Etype": "calls",
            "Source": 1642962,
            "Source_Names": "Glen Grant",
            "TimeStamp": 18296573
           },
           {
            "Destination": 1108217,
            "Destination_Names": "Lindsy Henion",
            "Etype": "calls",
            "Source": 1039322,
            "Source_Names": "Dylan Ballard",
            "TimeStamp": 18382013
           },
           {
            "Destination": 1847246,
            "Destination_Names": "Rosalia Larroque",
            "Etype": "emails",
            "Source": 1690582,
            "Source_Names": "Meryl Pastuch",
            "TimeStamp": 18391133
           },
           {
            "Destination": 1023940,
            "Destination_Names": "Patrick Lane",
            "Etype": "emails",
            "Source": 387676,
            "Source_Names": "May Burton",
            "TimeStamp": 18423533
           },
           {
            "Destination": 1847246,
            "Destination_Names": "Rosalia Larroque",
            "Etype": "emails",
            "Source": 1690582,
            "Source_Names": "Meryl Pastuch",
            "TimeStamp": 18445133
           },
           {
            "Destination": 1039322,
            "Destination_Names": "Dylan Ballard",
            "Etype": "calls",
            "Source": 1108217,
            "Source_Names": "Lindsy Henion",
            "TimeStamp": 18996653
           },
           {
            "Destination": 505444,
            "Destination_Names": "Alex Hall",
            "Etype": "emails",
            "Source": 1642962,
            "Source_Names": "Glen Grant",
            "TimeStamp": 19179533
           },
           {
            "Destination": 1039322,
            "Destination_Names": "Dylan Ballard",
            "Etype": "emails",
            "Source": 1108217,
            "Source_Names": "Lindsy Henion",
            "TimeStamp": 19384733
           },
           {
            "Destination": 1663285,
            "Destination_Names": "Sara Ballard",
            "Etype": "emails",
            "Source": 387676,
            "Source_Names": "May Burton",
            "TimeStamp": 19625933
           },
           {
            "Destination": 1690582,
            "Destination_Names": "Meryl Pastuch",
            "Etype": "calls",
            "Source": 1847246,
            "Source_Names": "Rosalia Larroque",
            "TimeStamp": 20061233
           },
           {
            "Destination": 1642962,
            "Destination_Names": "Glen Grant",
            "Etype": "emails",
            "Source": 1023940,
            "Source_Names": "Patrick Lane",
            "TimeStamp": 20065133
           },
           {
            "Destination": 728286,
            "Destination_Names": "Kerstin Belveal",
            "Etype": "emails",
            "Source": 696047,
            "Source_Names": "Jose Ringwald",
            "TimeStamp": 20245133
           },
           {
            "Destination": 857138,
            "Destination_Names": "Richard Fox",
            "Etype": "emails",
            "Source": 1690582,
            "Source_Names": "Meryl Pastuch",
            "TimeStamp": 20417933
           },
           {
            "Destination": 857138,
            "Destination_Names": "Richard Fox",
            "Etype": "emails",
            "Source": 969089,
            "Source_Names": "Tobi Gatlin",
            "TimeStamp": 20795933
           },
           {
            "Destination": 969089,
            "Destination_Names": "Tobi Gatlin",
            "Etype": "emails",
            "Source": 857138,
            "Source_Names": "Richard Fox",
            "TimeStamp": 21512333
           },
           {
            "Destination": 51780,
            "Destination_Names": "Melita Scarpaci",
            "Etype": "emails",
            "Source": 1108217,
            "Source_Names": "Lindsy Henion",
            "TimeStamp": 21771533
           },
           {
            "Destination": 1108217,
            "Destination_Names": "Lindsy Henion",
            "Etype": "emails",
            "Source": 623027,
            "Source_Names": "Lizbeth Jindra",
            "TimeStamp": 21789533
           },
           {
            "Destination": 1690582,
            "Destination_Names": "Meryl Pastuch",
            "Etype": "calls",
            "Source": 387200,
            "Source_Names": "Augusta Sharp",
            "TimeStamp": 21889973
           },
           {
            "Destination": 969089,
            "Destination_Names": "Tobi Gatlin",
            "Etype": "emails",
            "Source": 696047,
            "Source_Names": "Jose Ringwald",
            "TimeStamp": 22163933
           },
           {
            "Destination": 696047,
            "Destination_Names": "Jose Ringwald",
            "Etype": "calls",
            "Source": 234164,
            "Source_Names": "Ramiro Gault",
            "TimeStamp": 23060513
           },
           {
            "Destination": 387200,
            "Destination_Names": "Augusta Sharp",
            "Etype": "emails",
            "Source": 1108217,
            "Source_Names": "Lindsy Henion",
            "TimeStamp": 23081933
           },
           {
            "Destination": 1023940,
            "Destination_Names": "Patrick Lane",
            "Etype": "emails",
            "Source": 1642962,
            "Source_Names": "Glen Grant",
            "TimeStamp": 23351933
           },
           {
            "Destination": 696047,
            "Destination_Names": "Jose Ringwald",
            "Etype": "emails",
            "Source": 1642962,
            "Source_Names": "Glen Grant",
            "TimeStamp": 23409533
           },
           {
            "Destination": 387200,
            "Destination_Names": "Augusta Sharp",
            "Etype": "calls",
            "Source": 1847246,
            "Source_Names": "Rosalia Larroque",
            "TimeStamp": 23488433
           },
           {
            "Destination": 1108217,
            "Destination_Names": "Lindsy Henion",
            "Etype": "emails",
            "Source": 1039322,
            "Source_Names": "Dylan Ballard",
            "TimeStamp": 23607533
           },
           {
            "Destination": 728286,
            "Destination_Names": "Kerstin Belveal",
            "Etype": "calls",
            "Source": 387200,
            "Source_Names": "Augusta Sharp",
            "TimeStamp": 23814473
           },
           {
            "Destination": 857138,
            "Destination_Names": "Richard Fox",
            "Etype": "emails",
            "Source": 1847246,
            "Source_Names": "Rosalia Larroque",
            "TimeStamp": 24151133
           },
           {
            "Destination": 1690582,
            "Destination_Names": "Meryl Pastuch",
            "Etype": "calls",
            "Source": 1108217,
            "Source_Names": "Lindsy Henion",
            "TimeStamp": 24596093
           },
           {
            "Destination": 387676,
            "Destination_Names": "May Burton",
            "Etype": "emails",
            "Source": 1642962,
            "Source_Names": "Glen Grant",
            "TimeStamp": 24889133
           },
           {
            "Destination": 1108217,
            "Destination_Names": "Lindsy Henion",
            "Etype": "calls",
            "Source": 1847246,
            "Source_Names": "Rosalia Larroque",
            "TimeStamp": 25256993
           },
           {
            "Destination": 1847246,
            "Destination_Names": "Rosalia Larroque",
            "Etype": "emails",
            "Source": 1690582,
            "Source_Names": "Meryl Pastuch",
            "TimeStamp": 26123933
           },
           {
            "Destination": 1642962,
            "Destination_Names": "Glen Grant",
            "Etype": "calls",
            "Source": 857138,
            "Source_Names": "Richard Fox",
            "TimeStamp": 26183693
           },
           {
            "Destination": 1108217,
            "Destination_Names": "Lindsy Henion",
            "Etype": "calls",
            "Source": 1690582,
            "Source_Names": "Meryl Pastuch",
            "TimeStamp": 26689793
           },
           {
            "Destination": 1690582,
            "Destination_Names": "Meryl Pastuch",
            "Etype": "emails",
            "Source": 1847246,
            "Source_Names": "Rosalia Larroque",
            "TimeStamp": 27157133
           },
           {
            "Destination": 623027,
            "Destination_Names": "Lizbeth Jindra",
            "Etype": "emails",
            "Source": 1108217,
            "Source_Names": "Lindsy Henion",
            "TimeStamp": 27437933
           },
           {
            "Destination": 505444,
            "Destination_Names": "Alex Hall",
            "Etype": "calls",
            "Source": 1886447,
            "Source_Names": "Julie Tierno",
            "TimeStamp": 27614393
           },
           {
            "Destination": 1023940,
            "Destination_Names": "Patrick Lane",
            "Etype": "calls",
            "Source": 857138,
            "Source_Names": "Richard Fox",
            "TimeStamp": 29066513
           },
           {
            "Destination": 1886447,
            "Destination_Names": "Julie Tierno",
            "Etype": "calls",
            "Source": 505444,
            "Source_Names": "Alex Hall",
            "TimeStamp": 30111053
           },
           {
            "Destination": 1690582,
            "Destination_Names": "Meryl Pastuch",
            "Etype": "calls",
            "Source": 857138,
            "Source_Names": "Richard Fox",
            "TimeStamp": 30354893
           },
           {
            "Destination": 1108217,
            "Destination_Names": "Lindsy Henion",
            "Etype": "calls",
            "Source": 857138,
            "Source_Names": "Richard Fox",
            "TimeStamp": 30354893
           },
           {
            "Destination": 234164,
            "Destination_Names": "Ramiro Gault",
            "Etype": "calls",
            "Source": 969089,
            "Source_Names": "Tobi Gatlin",
            "TimeStamp": 30641093
           },
           {
            "Destination": 728286,
            "Destination_Names": "Kerstin Belveal",
            "Etype": "meetings",
            "Source": 857138,
            "Source_Names": "Richard Fox",
            "TimeStamp": 30755533
           },
           {
            "Destination": 1108217,
            "Destination_Names": "Lindsy Henion",
            "Etype": "emails",
            "Source": 728286,
            "Source_Names": "Kerstin Belveal",
            "TimeStamp": 30789533
           },
           {
            "Destination": 728286,
            "Destination_Names": "Kerstin Belveal",
            "Etype": "calls",
            "Source": 857138,
            "Source_Names": "Richard Fox",
            "TimeStamp": 30855533
           },
           {
            "Destination": 387200,
            "Destination_Names": "Augusta Sharp",
            "Etype": "calls",
            "Source": 728286,
            "Source_Names": "Kerstin Belveal",
            "TimeStamp": 31236893
           },
           {
            "Destination": 1108217,
            "Destination_Names": "Lindsy Henion",
            "Etype": "calls",
            "Source": 387200,
            "Source_Names": "Augusta Sharp",
            "TimeStamp": 32147333
           },
           {
            "Destination": 234164,
            "Destination_Names": "Ramiro Gault",
            "Etype": "emails",
            "Source": 696047,
            "Source_Names": "Jose Ringwald",
            "TimeStamp": 32164733
           },
           {
            "Destination": 1039322,
            "Destination_Names": "Dylan Ballard",
            "Etype": "emails",
            "Source": 387200,
            "Source_Names": "Augusta Sharp",
            "TimeStamp": 32301533
           },
           {
            "Destination": 1886447,
            "Destination_Names": "Julie Tierno",
            "Etype": "emails",
            "Source": 387200,
            "Source_Names": "Augusta Sharp",
            "TimeStamp": 32780333
           },
           {
            "Destination": 1023940,
            "Destination_Names": "Patrick Lane",
            "Etype": "emails",
            "Source": 857138,
            "Source_Names": "Richard Fox",
            "TimeStamp": 33647933
           },
           {
            "Destination": 696047,
            "Destination_Names": "Jose Ringwald",
            "Etype": "emails",
            "Source": 1886447,
            "Source_Names": "Julie Tierno",
            "TimeStamp": 33745133
           },
           {
            "Destination": 1108217,
            "Destination_Names": "Lindsy Henion",
            "Etype": "emails",
            "Source": 728286,
            "Source_Names": "Kerstin Belveal",
            "TimeStamp": 33874733
           },
           {
            "Destination": 1108217,
            "Destination_Names": "Lindsy Henion",
            "Etype": "emails",
            "Source": 728286,
            "Source_Names": "Kerstin Belveal",
            "TimeStamp": 33946733
           },
           {
            "Destination": 1690582,
            "Destination_Names": "Meryl Pastuch",
            "Etype": "emails",
            "Source": 857138,
            "Source_Names": "Richard Fox",
            "TimeStamp": 34223933
           },
           {
            "Destination": 1642962,
            "Destination_Names": "Glen Grant",
            "Etype": "emails",
            "Source": 696047,
            "Source_Names": "Jose Ringwald",
            "TimeStamp": 35426333
           },
           {
            "Destination": 1642962,
            "Destination_Names": "Glen Grant",
            "Etype": "emails",
            "Source": 1663285,
            "Source_Names": "Sara Ballard",
            "TimeStamp": 35559533
           },
           {
            "Destination": 28520,
            "Destination_Names": "Refugio Orrantia",
            "Etype": "calls",
            "Source": 234164,
            "Source_Names": "Ramiro Gault",
            "TimeStamp": 36425753
           },
           {
            "Destination": 1663285,
            "Destination_Names": "Sara Ballard",
            "Etype": "calls",
            "Source": 1108217,
            "Source_Names": "Lindsy Henion",
            "TimeStamp": 37177073
           },
           {
            "Destination": 969089,
            "Destination_Names": "Tobi Gatlin",
            "Etype": "calls",
            "Source": 696047,
            "Source_Names": "Jose Ringwald",
            "TimeStamp": 38079353
           },
           {
            "Destination": 28520,
            "Destination_Names": "Refugio Orrantia",
            "Etype": "calls",
            "Source": 969089,
            "Source_Names": "Tobi Gatlin",
            "TimeStamp": 39932093
           },
           {
            "Destination": 1108217,
            "Destination_Names": "Lindsy Henion",
            "Etype": "emails",
            "Source": 1690582,
            "Source_Names": "Meryl Pastuch",
            "TimeStamp": 40030733
           },
           {
            "Destination": 1847246,
            "Destination_Names": "Rosalia Larroque",
            "Etype": "calls",
            "Source": 1108217,
            "Source_Names": "Lindsy Henion",
            "TimeStamp": 40080653
           },
           {
            "Destination": 696047,
            "Destination_Names": "Jose Ringwald",
            "Etype": "emails",
            "Source": 969089,
            "Source_Names": "Tobi Gatlin",
            "TimeStamp": 40322333
           },
           {
            "Destination": 969089,
            "Destination_Names": "Tobi Gatlin",
            "Etype": "calls",
            "Source": 28520,
            "Source_Names": "Refugio Orrantia",
            "TimeStamp": 42825653
           },
           {
            "Destination": 1108217,
            "Destination_Names": "Lindsy Henion",
            "Etype": "calls",
            "Source": 1690582,
            "Source_Names": "Meryl Pastuch",
            "TimeStamp": 45855533
           },
           {
            "Destination": 1886447,
            "Destination_Names": "Julie Tierno",
            "Etype": "emails",
            "Source": 696047,
            "Source_Names": "Jose Ringwald",
            "TimeStamp": 47572733
           },
           {
            "Destination": 728286,
            "Destination_Names": "Kerstin Belveal",
            "Etype": "emails",
            "Source": 387200,
            "Source_Names": "Augusta Sharp",
            "TimeStamp": 49538333
           },
           {
            "Destination": 728286,
            "Destination_Names": "Kerstin Belveal",
            "Etype": "calls",
            "Source": 696047,
            "Source_Names": "Jose Ringwald",
            "TimeStamp": 50586713
           },
           {
            "Destination": 857138,
            "Destination_Names": "Richard Fox",
            "Etype": "calls",
            "Source": 1108217,
            "Source_Names": "Lindsy Henion",
            "TimeStamp": 50855533
           },
           {
            "Destination": 696047,
            "Destination_Names": "Jose Ringwald",
            "Etype": "emails",
            "Source": 728286,
            "Source_Names": "Kerstin Belveal",
            "TimeStamp": 51604733
           },
           {
            "Destination": 387200,
            "Destination_Names": "Augusta Sharp",
            "Etype": "emails",
            "Source": 728286,
            "Source_Names": "Kerstin Belveal",
            "TimeStamp": 55957133
           },
           {
            "Destination": 696047,
            "Destination_Names": "Jose Ringwald",
            "Etype": "emails",
            "Source": 234164,
            "Source_Names": "Ramiro Gault",
            "TimeStamp": 57814733
           },
           {
            "Destination": 387200,
            "Destination_Names": "Augusta Sharp",
            "Etype": "emails",
            "Source": 1108217,
            "Source_Names": "Lindsy Henion",
            "TimeStamp": 60855533
           },
           {
            "Destination": 728286,
            "Destination_Names": "Kerstin Belveal",
            "Etype": "calls",
            "Source": 1847246,
            "Source_Names": "Rosalia Larroque",
            "TimeStamp": 62084333
           },
           {
            "Destination": 728286,
            "Destination_Names": "Kerstin Belveal",
            "Etype": "calls",
            "Source": 1847246,
            "Source_Names": "Rosalia Larroque",
            "TimeStamp": 62257133
           },
           {
            "Destination": 387676,
            "Destination_Names": "May Burton",
            "Etype": "emails",
            "Source": 1023940,
            "Source_Names": "Patrick Lane",
            "TimeStamp": 62444333
           },
           {
            "Destination": 857138,
            "Destination_Names": "Richard Fox",
            "Etype": "emails",
            "Source": 387676,
            "Source_Names": "May Burton",
            "TimeStamp": 64312733
           },
           {
            "Destination": 728286,
            "Destination_Names": "Kerstin Belveal",
            "Etype": "meetings",
            "Source": 1108217,
            "Source_Names": "Lindsy Henion",
            "TimeStamp": 70855533
           },
           {
            "Destination": 1108217,
            "Destination_Names": "Lindsy Henion",
            "Etype": "emails",
            "Source": 1663285,
            "Source_Names": "Sara Ballard",
            "TimeStamp": 71563233
           },
           {
            "Destination": 1690582,
            "Destination_Names": "Meryl Pastuch",
            "Etype": "meetings",
            "Source": 857138,
            "Source_Names": "Richard Fox",
            "TimeStamp": 72655933
           },
           {
            "Destination": 1847246,
            "Destination_Names": "Rosalia Larroque",
            "Etype": "meetings",
            "Source": 1690582,
            "Source_Names": "Meryl Pastuch",
            "TimeStamp": 73055933
           },
           {
            "Destination": 1847246,
            "Destination_Names": "Rosalia Larroque",
            "Etype": "calls",
            "Source": 728286,
            "Source_Names": "Kerstin Belveal",
            "TimeStamp": 74056423
           },
           {
            "Destination": 728286,
            "Destination_Names": "Kerstin Belveal",
            "Etype": "calls",
            "Source": 1847246,
            "Source_Names": "Rosalia Larroque",
            "TimeStamp": 74056423
           },
           {
            "Destination": 1847246,
            "Destination_Names": "Rosalia Larroque",
            "Etype": "emails",
            "Source": 728286,
            "Source_Names": "Kerstin Belveal",
            "TimeStamp": 74061123
           },
           {
            "Destination": 1847246,
            "Destination_Names": "Rosalia Larroque",
            "Etype": "emails",
            "Source": 728286,
            "Source_Names": "Kerstin Belveal",
            "TimeStamp": 74069853
           },
           {
            "Destination": 728286,
            "Destination_Names": "Kerstin Belveal",
            "Etype": "emails",
            "Source": 1847246,
            "Source_Names": "Rosalia Larroque",
            "TimeStamp": 74356423
           },
           {
            "Destination": 2038003,
            "Destination_Names": "Jenice Savaria",
            "Etype": "calls",
            "Source": 1847246,
            "Source_Names": "Rosalia Larroque",
            "TimeStamp": 74505933
           },
           {
            "Destination": 728286,
            "Destination_Names": "Kerstin Belveal",
            "Etype": "calls",
            "Source": 1847246,
            "Source_Names": "Rosalia Larroque",
            "TimeStamp": 74525933
           },
           {
            "Destination": 1847246,
            "Destination_Names": "Rosalia Larroque",
            "Etype": "calls",
            "Source": 728286,
            "Source_Names": "Kerstin Belveal",
            "TimeStamp": 74525933
           },
           {
            "Destination": 728286,
            "Destination_Names": "Kerstin Belveal",
            "Etype": "emails",
            "Source": 1847246,
            "Source_Names": "Rosalia Larroque",
            "TimeStamp": 74556423
           },
           {
            "Destination": 1847246,
            "Destination_Names": "Rosalia Larroque",
            "Etype": "calls",
            "Source": 728286,
            "Source_Names": "Kerstin Belveal",
            "TimeStamp": 74560423
           },
           {
            "Destination": 2038003,
            "Destination_Names": "Jenice Savaria",
            "Etype": "purchases",
            "Source": 1847246,
            "Source_Names": "Rosalia Larroque",
            "TimeStamp": 74565933
           },
           {
            "Destination": 1847246,
            "Destination_Names": "Rosalia Larroque",
            "Etype": "calls",
            "Source": 728286,
            "Source_Names": "Kerstin Belveal",
            "TimeStamp": 74698733
           },
           {
            "Destination": 728286,
            "Destination_Names": "Kerstin Belveal",
            "Etype": "calls",
            "Source": 1847246,
            "Source_Names": "Rosalia Larroque",
            "TimeStamp": 74785133
           },
           {
            "Destination": 728286,
            "Destination_Names": "Kerstin Belveal",
            "Etype": "calls",
            "Source": 1847246,
            "Source_Names": "Rosalia Larroque",
            "TimeStamp": 74871533
           },
           {
            "Destination": 728286,
            "Destination_Names": "Kerstin Belveal",
            "Etype": "calls",
            "Source": 1847246,
            "Source_Names": "Rosalia Larroque",
            "TimeStamp": 75044333
           },
           {
            "Destination": 728286,
            "Destination_Names": "Kerstin Belveal",
            "Etype": "calls",
            "Source": 1847246,
            "Source_Names": "Rosalia Larroque",
            "TimeStamp": 75303533
           },
           {
            "Destination": 1847246,
            "Destination_Names": "Rosalia Larroque",
            "Etype": "calls",
            "Source": 728286,
            "Source_Names": "Kerstin Belveal",
            "TimeStamp": 77290733
           },
           {
            "Destination": 1847246,
            "Destination_Names": "Rosalia Larroque",
            "Etype": "calls",
            "Source": 728286,
            "Source_Names": "Kerstin Belveal",
            "TimeStamp": 77463533
           },
           {
            "Destination": 1847246,
            "Destination_Names": "Rosalia Larroque",
            "Etype": "calls",
            "Source": 728286,
            "Source_Names": "Kerstin Belveal",
            "TimeStamp": 77549933
           },
           {
            "Destination": 1108217,
            "Destination_Names": "Lindsy Henion",
            "Etype": "emails",
            "Source": 696047,
            "Source_Names": "Jose Ringwald",
            "TimeStamp": 79972733
           },
           {
            "Destination": 1847246,
            "Destination_Names": "Rosalia Larroque",
            "Etype": "calls",
            "Source": 387200,
            "Source_Names": "Augusta Sharp",
            "TimeStamp": 81260993
           },
           {
            "Destination": 387676,
            "Destination_Names": "May Burton",
            "Etype": "emails",
            "Source": 1663285,
            "Source_Names": "Sara Ballard",
            "TimeStamp": 81481133
           },
           {
            "Destination": 1023940,
            "Destination_Names": "Patrick Lane",
            "Etype": "calls",
            "Source": 387676,
            "Source_Names": "May Burton",
            "TimeStamp": 82676813
           }
          ]
         },
         "encoding": {
          "color": {
           "field": "Etype",
           "type": "nominal"
          },
          "x": {
           "aggregate": "count",
           "type": "quantitative"
          },
          "y": {
           "field": "Etype",
           "type": "nominal"
          }
         },
         "mark": "bar",
         "transform": [
          {
           "filter": {
            "selection": "selector037"
           }
          }
         ]
        }
       ]
      },
      "image/png": "[encoded data removed]",
      "text/plain": [
       "<VegaLite 2 object>\n",
       "\n",
       "If you see this message, it means the renderer has not been properly enabled\n",
       "for the frontend that you are using. For more information, see\n",
       "https://altair-viz.github.io/user_guide/troubleshooting.html\n"
      ]
     },
     "execution_count": 39,
     "metadata": {},
     "output_type": "execute_result"
    }
   ],
   "source": [
    "interval = alt.selection_interval(encodings=['x'])\n",
    "chart1 = alt.Chart(my_data).mark_point().encode(\n",
    "    x='TimeStamp',\n",
    "    y='Etype:N',\n",
    "    color=alt.condition(interval,'Etype:N',alt.value('lightgray')),\n",
    "    tooltip=['Source_Names','Destination_Names']\n",
    ").interactive().properties(selection=interval)\n",
    "\n",
    "chart2 = alt.Chart(my_data).mark_point().encode(\n",
    "    x='TimeStamp',\n",
    "    y='Etype:N',\n",
    "    color=alt.condition(interval,'Etype:N',alt.value('lightgray')),\n",
    "    tooltip=['Source_Names','Destination_Names']\n",
    ").interactive().transform_filter(interval)\n",
    "\n",
    "\n",
    "hist = alt.Chart(my_data).mark_bar().encode(\n",
    "    x='count()',\n",
    "    y='Etype:N',\n",
    "    color='Etype:N'\n",
    ").transform_filter(\n",
    "    interval\n",
    ")\n",
    "\n",
    "(chart1 | chart2) & hist"
   ]
  },
  {
   "cell_type": "code",
   "execution_count": 40,
   "metadata": {},
   "outputs": [],
   "source": [
    "alt.data_transformers.enable('default')\n",
    "((chart1 | chart2) & hist).save('vast_data.html')"
   ]
  },
  {
   "cell_type": "code",
   "execution_count": 41,
   "metadata": {},
   "outputs": [],
   "source": [
    "purchase_data = pd.read_csv('purchase_detail.csv')"
   ]
  },
  {
   "cell_type": "code",
   "execution_count": 42,
   "metadata": {},
   "outputs": [
    {
     "data": {
      "text/html": [
       "<div>\n",
       "<style scoped>\n",
       "    .dataframe tbody tr th:only-of-type {\n",
       "        vertical-align: middle;\n",
       "    }\n",
       "\n",
       "    .dataframe tbody tr th {\n",
       "        vertical-align: top;\n",
       "    }\n",
       "\n",
       "    .dataframe thead th {\n",
       "        text-align: right;\n",
       "    }\n",
       "</style>\n",
       "<table border=\"1\" class=\"dataframe\">\n",
       "  <thead>\n",
       "    <tr style=\"text-align: right;\">\n",
       "      <th></th>\n",
       "      <th>Unnamed: 0</th>\n",
       "      <th>Destination</th>\n",
       "      <th>Purchase_Count</th>\n",
       "      <th>Destination_Names</th>\n",
       "    </tr>\n",
       "  </thead>\n",
       "  <tbody>\n",
       "    <tr>\n",
       "      <th>0</th>\n",
       "      <td>458</td>\n",
       "      <td>2037791</td>\n",
       "      <td>1</td>\n",
       "      <td>Brett Higgins</td>\n",
       "    </tr>\n",
       "    <tr>\n",
       "      <th>1</th>\n",
       "      <td>146</td>\n",
       "      <td>2037741</td>\n",
       "      <td>1</td>\n",
       "      <td>Justin Harvey</td>\n",
       "    </tr>\n",
       "    <tr>\n",
       "      <th>2</th>\n",
       "      <td>147</td>\n",
       "      <td>2037815</td>\n",
       "      <td>1</td>\n",
       "      <td>Winnie Klein</td>\n",
       "    </tr>\n",
       "    <tr>\n",
       "      <th>3</th>\n",
       "      <td>324</td>\n",
       "      <td>2037873</td>\n",
       "      <td>1</td>\n",
       "      <td>Danielle Yu</td>\n",
       "    </tr>\n",
       "    <tr>\n",
       "      <th>4</th>\n",
       "      <td>323</td>\n",
       "      <td>2037947</td>\n",
       "      <td>1</td>\n",
       "      <td>Belle Houston</td>\n",
       "    </tr>\n",
       "  </tbody>\n",
       "</table>\n",
       "</div>"
      ],
      "text/plain": [
       "   Unnamed: 0  Destination  Purchase_Count Destination_Names\n",
       "0         458      2037791               1     Brett Higgins\n",
       "1         146      2037741               1     Justin Harvey\n",
       "2         147      2037815               1      Winnie Klein\n",
       "3         324      2037873               1       Danielle Yu\n",
       "4         323      2037947               1     Belle Houston"
      ]
     },
     "execution_count": 42,
     "metadata": {},
     "output_type": "execute_result"
    }
   ],
   "source": [
    "purchase_data.head()"
   ]
  },
  {
   "cell_type": "code",
   "execution_count": 113,
   "metadata": {},
   "outputs": [],
   "source": [
    "interval = alt.selection_interval(encodings=['x','y'])"
   ]
  },
  {
   "cell_type": "code",
   "execution_count": 161,
   "metadata": {},
   "outputs": [],
   "source": [
    "scatter = alt.Chart(purchase_data).mark_point().encode(\n",
    "    y='Purchase_Count',\n",
    "    x='Purchase_Count',\n",
    "    color=alt.condition(interval,alt.value('green'), alt.value('blue'))\n",
    ").interactive().properties(selection=interval)"
   ]
  },
  {
   "cell_type": "code",
   "execution_count": 162,
   "metadata": {},
   "outputs": [],
   "source": [
    "\n",
    "histogram= alt.Chart(purchase_data).mark_bar().encode(\n",
    "    y='count()',\n",
    "    x=alt.X('Purchase_Count',bin=True)\n",
    ").interactive().transform_filter(\n",
    "    interval\n",
    ")"
   ]
  },
  {
   "cell_type": "code",
   "execution_count": 171,
   "metadata": {},
   "outputs": [],
   "source": [
    "scatter2 = alt.Chart(purchase_data).mark_point().encode(\n",
    "    y='Destination',\n",
    "    x='Purchase_Count',\n",
    "    tooltip='Destination_Names'\n",
    ").interactive().transform_filter(\n",
    "    interval\n",
    ")\n"
   ]
  },
  {
   "cell_type": "code",
   "execution_count": 172,
   "metadata": {},
   "outputs": [
    {
     "data": {
      "application/vnd.vegalite.v2+json": {
       "$schema": "https://vega.github.io/schema/vega-lite/v2.4.3.json",
       "config": {
        "view": {
         "height": 300,
         "width": 400
        }
       },
       "vconcat": [
        {
         "hconcat": [
          {
           "data": {
            "values": [
             {
              "Destination": 2037791,
              "Destination_Names": "Brett Higgins",
              "Purchase_Count": 1,
              "Unnamed: 0": 458
             },
             {
              "Destination": 2037741,
              "Destination_Names": "Justin Harvey",
              "Purchase_Count": 1,
              "Unnamed: 0": 146
             },
             {
              "Destination": 2037815,
              "Destination_Names": "Winnie Klein",
              "Purchase_Count": 1,
              "Unnamed: 0": 147
             },
             {
              "Destination": 2037873,
              "Destination_Names": "Danielle Yu",
              "Purchase_Count": 1,
              "Unnamed: 0": 324
             },
             {
              "Destination": 2037947,
              "Destination_Names": "Belle Houston",
              "Purchase_Count": 1,
              "Unnamed: 0": 323
             },
             {
              "Destination": 2037944,
              "Destination_Names": "Diamond Olexa",
              "Purchase_Count": 1,
              "Unnamed: 0": 150
             },
             {
              "Destination": 2037874,
              "Destination_Names": "Dorotha Mosey",
              "Purchase_Count": 1,
              "Unnamed: 0": 320
             },
             {
              "Destination": 2037957,
              "Destination_Names": "Aisha Misner",
              "Purchase_Count": 1,
              "Unnamed: 0": 318
             },
             {
              "Destination": 2037960,
              "Destination_Names": "Andy Geyette",
              "Purchase_Count": 1,
              "Unnamed: 0": 317
             },
             {
              "Destination": 2037855,
              "Destination_Names": "Tonia Anawalt",
              "Purchase_Count": 1,
              "Unnamed: 0": 316
             },
             {
              "Destination": 2043367,
              "Destination_Names": "Kaitlyn Focke",
              "Purchase_Count": 1,
              "Unnamed: 0": 158
             },
             {
              "Destination": 2040308,
              "Destination_Names": "Sadie Elliott",
              "Purchase_Count": 1,
              "Unnamed: 0": 315
             },
             {
              "Destination": 2037928,
              "Destination_Names": "Caroline Stanley",
              "Purchase_Count": 1,
              "Unnamed: 0": 329
             },
             {
              "Destination": 2037979,
              "Destination_Names": "Loree Acero",
              "Purchase_Count": 1,
              "Unnamed: 0": 160
             },
             {
              "Destination": 2037977,
              "Destination_Names": "Lizzie Cross",
              "Purchase_Count": 1,
              "Unnamed: 0": 162
             },
             {
              "Destination": 2037886,
              "Destination_Names": "Juan Cabiltes",
              "Purchase_Count": 1,
              "Unnamed: 0": 163
             },
             {
              "Destination": 2037767,
              "Destination_Names": "Natalia Macomber",
              "Purchase_Count": 1,
              "Unnamed: 0": 313
             },
             {
              "Destination": 2037843,
              "Destination_Names": "Pamella Schroy",
              "Purchase_Count": 1,
              "Unnamed: 0": 312
             },
             {
              "Destination": 2037857,
              "Destination_Names": "Claude Chesterfield",
              "Purchase_Count": 1,
              "Unnamed: 0": 311
             },
             {
              "Destination": 2037841,
              "Destination_Names": "Elsie Potter",
              "Purchase_Count": 1,
              "Unnamed: 0": 310
             },
             {
              "Destination": 2037945,
              "Destination_Names": "Bernice Figueroa",
              "Purchase_Count": 1,
              "Unnamed: 0": 168
             },
             {
              "Destination": 2040993,
              "Destination_Names": "Mamie Wheeler",
              "Purchase_Count": 1,
              "Unnamed: 0": 307
             },
             {
              "Destination": 2037983,
              "Destination_Names": "Shannan Fesenbek",
              "Purchase_Count": 1,
              "Unnamed: 0": 171
             },
             {
              "Destination": 2037749,
              "Destination_Names": "Jewell Maiorano",
              "Purchase_Count": 1,
              "Unnamed: 0": 306
             },
             {
              "Destination": 2037711,
              "Destination_Names": "David Simon",
              "Purchase_Count": 1,
              "Unnamed: 0": 304
             },
             {
              "Destination": 2037881,
              "Destination_Names": "Hester Parsons",
              "Purchase_Count": 1,
              "Unnamed: 0": 314
             },
             {
              "Destination": 2041367,
              "Destination_Names": "Effie Freeman",
              "Purchase_Count": 1,
              "Unnamed: 0": 175
             },
             {
              "Destination": 2037923,
              "Destination_Names": "Minnie Hopkins",
              "Purchase_Count": 1,
              "Unnamed: 0": 331
             },
             {
              "Destination": 2040313,
              "Destination_Names": "Mac Berisha",
              "Purchase_Count": 1,
              "Unnamed: 0": 332
             },
             {
              "Destination": 2044046,
              "Destination_Names": "Jenee Pentecost",
              "Purchase_Count": 1,
              "Unnamed: 0": 113
             },
             {
              "Destination": 2037804,
              "Destination_Names": "Cody Mullins",
              "Purchase_Count": 1,
              "Unnamed: 0": 355
             },
             {
              "Destination": 2038124,
              "Destination_Names": "Bettie Vargas",
              "Purchase_Count": 1,
              "Unnamed: 0": 354
             },
             {
              "Destination": 2037762,
              "Destination_Names": "Laura Cox",
              "Purchase_Count": 1,
              "Unnamed: 0": 116
             },
             {
              "Destination": 2038058,
              "Destination_Names": "Shela Cordoza",
              "Purchase_Count": 1,
              "Unnamed: 0": 117
             },
             {
              "Destination": 2038181,
              "Destination_Names": "Ernestina Paskow",
              "Purchase_Count": 1,
              "Unnamed: 0": 353
             },
             {
              "Destination": 2037907,
              "Destination_Names": "Sherita Herkel",
              "Purchase_Count": 1,
              "Unnamed: 0": 351
             },
             {
              "Destination": 2038099,
              "Destination_Names": "Cristopher Oehlschlager",
              "Purchase_Count": 1,
              "Unnamed: 0": 349
             },
             {
              "Destination": 2037908,
              "Destination_Names": "Leila Wade",
              "Purchase_Count": 1,
              "Unnamed: 0": 348
             },
             {
              "Destination": 2043969,
              "Destination_Names": "Ricky Curry",
              "Purchase_Count": 1,
              "Unnamed: 0": 246
             },
             {
              "Destination": 2037909,
              "Destination_Names": "Regenia Macabeo",
              "Purchase_Count": 1,
              "Unnamed: 0": 345
             },
             {
              "Destination": 2038020,
              "Destination_Names": "Jane Alvarado",
              "Purchase_Count": 1,
              "Unnamed: 0": 141
             },
             {
              "Destination": 2037948,
              "Destination_Names": "Cortez Rapin",
              "Purchase_Count": 1,
              "Unnamed: 0": 344
             },
             {
              "Destination": 2037916,
              "Destination_Names": "Elizabeth Conner",
              "Purchase_Count": 1,
              "Unnamed: 0": 341
             },
             {
              "Destination": 2038136,
              "Destination_Names": "Bertha Beachell",
              "Purchase_Count": 1,
              "Unnamed: 0": 339
             },
             {
              "Destination": 2037778,
              "Destination_Names": "Willie Fowler",
              "Purchase_Count": 1,
              "Unnamed: 0": 338
             },
             {
              "Destination": 2037969,
              "Destination_Names": "Curtis Stone",
              "Purchase_Count": 1,
              "Unnamed: 0": 337
             },
             {
              "Destination": 2037756,
              "Destination_Names": "Daisy Briggs",
              "Purchase_Count": 1,
              "Unnamed: 0": 132
             },
             {
              "Destination": 2040595,
              "Destination_Names": "Armida Tatu",
              "Purchase_Count": 1,
              "Unnamed: 0": 133
             },
             {
              "Destination": 2037844,
              "Destination_Names": "Shelli Auther",
              "Purchase_Count": 1,
              "Unnamed: 0": 336
             },
             {
              "Destination": 2037893,
              "Destination_Names": "Chauncey Micco",
              "Purchase_Count": 1,
              "Unnamed: 0": 135
             },
             {
              "Destination": 2037898,
              "Destination_Names": "Adeline Walsh",
              "Purchase_Count": 1,
              "Unnamed: 0": 335
             },
             {
              "Destination": 2038006,
              "Destination_Names": "Leo Nelson",
              "Purchase_Count": 1,
              "Unnamed: 0": 137
             },
             {
              "Destination": 2037710,
              "Destination_Names": "Angelica Tankard",
              "Purchase_Count": 1,
              "Unnamed: 0": 334
             },
             {
              "Destination": 2037911,
              "Destination_Names": "Callie Roberson",
              "Purchase_Count": 1,
              "Unnamed: 0": 342
             },
             {
              "Destination": 2040551,
              "Destination_Names": "Samuel Herting",
              "Purchase_Count": 1,
              "Unnamed: 0": 112
             },
             {
              "Destination": 2037996,
              "Destination_Names": "Eugena Shikuma",
              "Purchase_Count": 1,
              "Unnamed: 0": 176
             },
             {
              "Destination": 2040345,
              "Destination_Names": "Marilynn Estergard",
              "Purchase_Count": 1,
              "Unnamed: 0": 178
             },
             {
              "Destination": 2038151,
              "Destination_Names": "Micheline Blagg",
              "Purchase_Count": 1,
              "Unnamed: 0": 273
             },
             {
              "Destination": 2037884,
              "Destination_Names": "Shanna Susko",
              "Purchase_Count": 1,
              "Unnamed: 0": 271
             },
             {
              "Destination": 2038009,
              "Destination_Names": "Johnathon Kotterna",
              "Purchase_Count": 1,
              "Unnamed: 0": 270
             },
             {
              "Destination": 2037779,
              "Destination_Names": "Carrie Carson",
              "Purchase_Count": 1,
              "Unnamed: 0": 269
             },
             {
              "Destination": 2037885,
              "Destination_Names": "Edwin Payne",
              "Purchase_Count": 1,
              "Unnamed: 0": 219
             },
             {
              "Destination": 2038080,
              "Destination_Names": "Ralph Summers",
              "Purchase_Count": 1,
              "Unnamed: 0": 268
             },
             {
              "Destination": 2037894,
              "Destination_Names": "Juana Newland",
              "Purchase_Count": 1,
              "Unnamed: 0": 221
             },
             {
              "Destination": 2037985,
              "Destination_Names": "Hilda Ballard",
              "Purchase_Count": 1,
              "Unnamed: 0": 266
             },
             {
              "Destination": 2038085,
              "Destination_Names": "Ann Nash",
              "Purchase_Count": 1,
              "Unnamed: 0": 223
             },
             {
              "Destination": 2037792,
              "Destination_Names": "Trula Artibee",
              "Purchase_Count": 1,
              "Unnamed: 0": 224
             },
             {
              "Destination": 2040586,
              "Destination_Names": "Randell Xyong",
              "Purchase_Count": 1,
              "Unnamed: 0": 225
             },
             {
              "Destination": 2038083,
              "Destination_Names": "Starla Grisham",
              "Purchase_Count": 1,
              "Unnamed: 0": 214
             },
             {
              "Destination": 2037982,
              "Destination_Names": "Jefferson Quintana",
              "Purchase_Count": 1,
              "Unnamed: 0": 265
             },
             {
              "Destination": 2037840,
              "Destination_Names": "Kyle Wade",
              "Purchase_Count": 1,
              "Unnamed: 0": 228
             },
             {
              "Destination": 2037899,
              "Destination_Names": "Carter Ingalsbe",
              "Purchase_Count": 1,
              "Unnamed: 0": 457
             },
             {
              "Destination": 2037973,
              "Destination_Names": "Jolyn Khauv",
              "Purchase_Count": 1,
              "Unnamed: 0": 261
             },
             {
              "Destination": 2037988,
              "Destination_Names": "Song Lamonte",
              "Purchase_Count": 1,
              "Unnamed: 0": 232
             },
             {
              "Destination": 2040315,
              "Destination_Names": "Chara Bahar",
              "Purchase_Count": 1,
              "Unnamed: 0": 234
             },
             {
              "Destination": 2037849,
              "Destination_Names": "Twyla Flahaven",
              "Purchase_Count": 1,
              "Unnamed: 0": 235
             },
             {
              "Destination": 2037738,
              "Destination_Names": "Leisha Lerwill",
              "Purchase_Count": 1,
              "Unnamed: 0": 237
             },
             {
              "Destination": 2037773,
              "Destination_Names": "Verna Pratt",
              "Purchase_Count": 1,
              "Unnamed: 0": 238
             },
             {
              "Destination": 2037739,
              "Destination_Names": "Ji Niffenegger",
              "Purchase_Count": 1,
              "Unnamed: 0": 258
             },
             {
              "Destination": 2037814,
              "Destination_Names": "Clay Thomes",
              "Purchase_Count": 1,
              "Unnamed: 0": 253
             },
             {
              "Destination": 2038128,
              "Destination_Names": "Johnie Suchla",
              "Purchase_Count": 1,
              "Unnamed: 0": 249
             },
             {
              "Destination": 2037959,
              "Destination_Names": "Myung Eddins",
              "Purchase_Count": 1,
              "Unnamed: 0": 264
             },
             {
              "Destination": 2037935,
              "Destination_Names": "Roger Hughes",
              "Purchase_Count": 1,
              "Unnamed: 0": 303
             },
             {
              "Destination": 2038004,
              "Destination_Names": "Sasha Lukman",
              "Purchase_Count": 1,
              "Unnamed: 0": 274
             },
             {
              "Destination": 2037799,
              "Destination_Names": "Joel Mason",
              "Purchase_Count": 1,
              "Unnamed: 0": 276
             },
             {
              "Destination": 2037714,
              "Destination_Names": "Kristal Kilborne",
              "Purchase_Count": 1,
              "Unnamed: 0": 179
             },
             {
              "Destination": 2038105,
              "Destination_Names": "Ina Elliott",
              "Purchase_Count": 1,
              "Unnamed: 0": 302
             },
             {
              "Destination": 2038167,
              "Destination_Names": "Elizabeth Ramsey",
              "Purchase_Count": 1,
              "Unnamed: 0": 301
             },
             {
              "Destination": 2037801,
              "Destination_Names": "Cordelia Fernandez",
              "Purchase_Count": 1,
              "Unnamed: 0": 299
             },
             {
              "Destination": 2038086,
              "Destination_Names": "Lyda Kelton",
              "Purchase_Count": 1,
              "Unnamed: 0": 298
             },
             {
              "Destination": 2038130,
              "Destination_Names": "Mackenzie Inzunza",
              "Purchase_Count": 1,
              "Unnamed: 0": 185
             },
             {
              "Destination": 2037709,
              "Destination_Names": "Chance Jorda",
              "Purchase_Count": 1,
              "Unnamed: 0": 187
             },
             {
              "Destination": 2037966,
              "Destination_Names": "Thomas Nunez",
              "Purchase_Count": 1,
              "Unnamed: 0": 295
             },
             {
              "Destination": 2037913,
              "Destination_Names": "Edna Santos",
              "Purchase_Count": 1,
              "Unnamed: 0": 294
             },
             {
              "Destination": 2038095,
              "Destination_Names": "Sara Hill",
              "Purchase_Count": 1,
              "Unnamed: 0": 293
             },
             {
              "Destination": 2037846,
              "Destination_Names": "Dione Mettlen",
              "Purchase_Count": 1,
              "Unnamed: 0": 290
             },
             {
              "Destination": 2037715,
              "Destination_Names": "Demetrice Emmerling",
              "Purchase_Count": 1,
              "Unnamed: 0": 275
             },
             {
              "Destination": 2037834,
              "Destination_Names": "Richard Howell",
              "Purchase_Count": 1,
              "Unnamed: 0": 289
             },
             {
              "Destination": 2037753,
              "Destination_Names": "Melvin Suchanek",
              "Purchase_Count": 1,
              "Unnamed: 0": 196
             },
             {
              "Destination": 2037974,
              "Destination_Names": "Emiko Dyreson",
              "Purchase_Count": 1,
              "Unnamed: 0": 198
             },
             {
              "Destination": 2038110,
              "Destination_Names": "Lavone Manglona",
              "Purchase_Count": 1,
              "Unnamed: 0": 284
             },
             {
              "Destination": 2037719,
              "Destination_Names": "Katheleen Bergsten",
              "Purchase_Count": 1,
              "Unnamed: 0": 201
             },
             {
              "Destination": 2037752,
              "Destination_Names": "Stacey Simmonds",
              "Purchase_Count": 1,
              "Unnamed: 0": 279
             },
             {
              "Destination": 2040593,
              "Destination_Names": "Elayne Purwin",
              "Purchase_Count": 1,
              "Unnamed: 0": 278
             },
             {
              "Destination": 2037867,
              "Destination_Names": "Malcolm Laforte",
              "Purchase_Count": 1,
              "Unnamed: 0": 205
             },
             {
              "Destination": 2037722,
              "Destination_Names": "Lura Sandovar",
              "Purchase_Count": 1,
              "Unnamed: 0": 206
             },
             {
              "Destination": 2044028,
              "Destination_Names": "Violet Lewis",
              "Purchase_Count": 1,
              "Unnamed: 0": 207
             },
             {
              "Destination": 2038132,
              "Destination_Names": "Deneen Chaudoin",
              "Purchase_Count": 1,
              "Unnamed: 0": 208
             },
             {
              "Destination": 2037809,
              "Destination_Names": "Marylou Strausz",
              "Purchase_Count": 1,
              "Unnamed: 0": 209
             },
             {
              "Destination": 2038064,
              "Destination_Names": "Grace Owen",
              "Purchase_Count": 1,
              "Unnamed: 0": 286
             },
             {
              "Destination": 2040391,
              "Destination_Names": "Cecila Hendee",
              "Purchase_Count": 1,
              "Unnamed: 0": 111
             },
             {
              "Destination": 2040382,
              "Destination_Names": "Estelle Reyes",
              "Purchase_Count": 1,
              "Unnamed: 0": 347
             },
             {
              "Destination": 2037906,
              "Destination_Names": "Trena Gagen",
              "Purchase_Count": 1,
              "Unnamed: 0": 356
             },
             {
              "Destination": 2050630,
              "Destination_Names": "Peter Richardson",
              "Purchase_Count": 1,
              "Unnamed: 0": 427
             },
             {
              "Destination": 2038082,
              "Destination_Names": "Sophia Salazar",
              "Purchase_Count": 1,
              "Unnamed: 0": 426
             },
             {
              "Destination": 2037737,
              "Destination_Names": "Edith Carroll",
              "Purchase_Count": 1,
              "Unnamed: 0": 425
             },
             {
              "Destination": 2038034,
              "Destination_Names": "Martina Krane",
              "Purchase_Count": 1,
              "Unnamed: 0": 35
             },
             {
              "Destination": 2037802,
              "Destination_Names": "Suanne Legrande",
              "Purchase_Count": 1,
              "Unnamed: 0": 424
             },
             {
              "Destination": 2038088,
              "Destination_Names": "Ty Straughter",
              "Purchase_Count": 1,
              "Unnamed: 0": 422
             },
             {
              "Destination": 2037833,
              "Destination_Names": "Marianela Chinskey",
              "Purchase_Count": 1,
              "Unnamed: 0": 421
             },
             {
              "Destination": 2037854,
              "Destination_Names": "Phillip Hunt",
              "Purchase_Count": 1,
              "Unnamed: 0": 420
             },
             {
              "Destination": 2037772,
              "Destination_Names": "Francisco Rothschild",
              "Purchase_Count": 1,
              "Unnamed: 0": 419
             },
             {
              "Destination": 2037702,
              "Destination_Names": "Joel Olson",
              "Purchase_Count": 1,
              "Unnamed: 0": 418
             },
             {
              "Destination": 2037926,
              "Destination_Names": "Mariette Poynor",
              "Purchase_Count": 1,
              "Unnamed: 0": 417
             },
             {
              "Destination": 2050522,
              "Destination_Names": "Alma Borok",
              "Purchase_Count": 1,
              "Unnamed: 0": 428
             },
             {
              "Destination": 2038087,
              "Destination_Names": "Christina Stevenson",
              "Purchase_Count": 1,
              "Unnamed: 0": 44
             },
             {
              "Destination": 2038158,
              "Destination_Names": "Clair Lotz",
              "Purchase_Count": 1,
              "Unnamed: 0": 416
             },
             {
              "Destination": 2037746,
              "Destination_Names": "Nicholas Newton",
              "Purchase_Count": 1,
              "Unnamed: 0": 413
             },
             {
              "Destination": 2037818,
              "Destination_Names": "Leah Erickson",
              "Purchase_Count": 1,
              "Unnamed: 0": 412
             },
             {
              "Destination": 2037757,
              "Destination_Names": "Mason Schutzman",
              "Purchase_Count": 1,
              "Unnamed: 0": 411
             },
             {
              "Destination": 2037858,
              "Destination_Names": "Leonard Douglas",
              "Purchase_Count": 1,
              "Unnamed: 0": 410
             },
             {
              "Destination": 2038027,
              "Destination_Names": "Inga Ozimek",
              "Purchase_Count": 1,
              "Unnamed: 0": 110
             },
             {
              "Destination": 2037963,
              "Destination_Names": "William Peterson",
              "Purchase_Count": 1,
              "Unnamed: 0": 408
             },
             {
              "Destination": 2037991,
              "Destination_Names": "Lavonna Feasel",
              "Purchase_Count": 1,
              "Unnamed: 0": 56
             },
             {
              "Destination": 2037707,
              "Destination_Names": "Miguel Thornton",
              "Purchase_Count": 1,
              "Unnamed: 0": 405
             },
             {
              "Destination": 2038121,
              "Destination_Names": "Columbus Bouillion",
              "Purchase_Count": 1,
              "Unnamed: 0": 404
             },
             {
              "Destination": 2038174,
              "Destination_Names": "Jules Awalt",
              "Purchase_Count": 1,
              "Unnamed: 0": 403
             },
             {
              "Destination": 2041817,
              "Destination_Names": "Katie Owen",
              "Purchase_Count": 1,
              "Unnamed: 0": 45
             },
             {
              "Destination": 2037819,
              "Destination_Names": "Lavina Rocha",
              "Purchase_Count": 1,
              "Unnamed: 0": 429
             },
             {
              "Destination": 2038129,
              "Destination_Names": "Marion Schwartz",
              "Purchase_Count": 1,
              "Unnamed: 0": 430
             },
             {
              "Destination": 2040583,
              "Destination_Names": "Houston Poulton",
              "Purchase_Count": 1,
              "Unnamed: 0": 431
             },
             {
              "Destination": 2037839,
              "Destination_Names": "Maria Robinson",
              "Purchase_Count": 1,
              "Unnamed: 0": 456
             },
             {
              "Destination": 2037897,
              "Destination_Names": "Rena Wilson",
              "Purchase_Count": 1,
              "Unnamed: 0": 455
             },
             {
              "Destination": 2038184,
              "Destination_Names": "Lelia Rogel",
              "Purchase_Count": 1,
              "Unnamed: 0": 454
             },
             {
              "Destination": 2037937,
              "Destination_Names": "Micheal Kapral",
              "Purchase_Count": 1,
              "Unnamed: 0": 453
             },
             {
              "Destination": 2040468,
              "Destination_Names": "Matthew Howell",
              "Purchase_Count": 1,
              "Unnamed: 0": 452
             },
             {
              "Destination": 2037919,
              "Destination_Names": "Cecelia Marsh",
              "Purchase_Count": 1,
              "Unnamed: 0": 451
             },
             {
              "Destination": 2043997,
              "Destination_Names": "Josephine Reed",
              "Purchase_Count": 1,
              "Unnamed: 0": 450
             },
             {
              "Destination": 2043981,
              "Destination_Names": "Thora Beltrami",
              "Purchase_Count": 1,
              "Unnamed: 0": 449
             },
             {
              "Destination": 2038150,
              "Destination_Names": "Susie Daniels",
              "Purchase_Count": 1,
              "Unnamed: 0": 448
             },
             {
              "Destination": 2038055,
              "Destination_Names": "Harvey Frazier",
              "Purchase_Count": 1,
              "Unnamed: 0": 446
             },
             {
              "Destination": 2041810,
              "Destination_Names": "Lucille Morales",
              "Purchase_Count": 1,
              "Unnamed: 0": 445
             },
             {
              "Destination": 2037950,
              "Destination_Names": "Lillian Kennedy",
              "Purchase_Count": 1,
              "Unnamed: 0": 444
             },
             {
              "Destination": 2037918,
              "Destination_Names": "Ruby Davidson",
              "Purchase_Count": 1,
              "Unnamed: 0": 443
             },
             {
              "Destination": 2038047,
              "Destination_Names": "Man Maxedon",
              "Purchase_Count": 1,
              "Unnamed: 0": 15
             },
             {
              "Destination": 2038134,
              "Destination_Names": "Kendra Stash",
              "Purchase_Count": 1,
              "Unnamed: 0": 442
             },
             {
              "Destination": 2038125,
              "Destination_Names": "Jung Caselli",
              "Purchase_Count": 1,
              "Unnamed: 0": 441
             },
             {
              "Destination": 2037837,
              "Destination_Names": "Geri Nager",
              "Purchase_Count": 1,
              "Unnamed: 0": 440
             },
             {
              "Destination": 2037733,
              "Destination_Names": "Ellis Gabeline",
              "Purchase_Count": 1,
              "Unnamed: 0": 439
             },
             {
              "Destination": 2038003,
              "Destination_Names": "Jenice Savaria",
              "Purchase_Count": 1,
              "Unnamed: 0": 438
             },
             {
              "Destination": 2037736,
              "Destination_Names": "Ashlee Schur",
              "Purchase_Count": 1,
              "Unnamed: 0": 437
             },
             {
              "Destination": 2040626,
              "Destination_Names": "Travis Conner",
              "Purchase_Count": 1,
              "Unnamed: 0": 436
             },
             {
              "Destination": 2037734,
              "Destination_Names": "Pam Perrott",
              "Purchase_Count": 1,
              "Unnamed: 0": 434
             },
             {
              "Destination": 2037685,
              "Destination_Names": "Wanda Reddinger",
              "Purchase_Count": 1,
              "Unnamed: 0": 433
             },
             {
              "Destination": 2037848,
              "Destination_Names": "Ina Obrien",
              "Purchase_Count": 1,
              "Unnamed: 0": 432
             },
             {
              "Destination": 2037853,
              "Destination_Names": "Ollie Rivera",
              "Purchase_Count": 1,
              "Unnamed: 0": 27
             },
             {
              "Destination": 2038179,
              "Destination_Names": "Bettie Steele",
              "Purchase_Count": 1,
              "Unnamed: 0": 402
             },
             {
              "Destination": 2037892,
              "Destination_Names": "Jeanette Malone",
              "Purchase_Count": 1,
              "Unnamed: 0": 401
             },
             {
              "Destination": 2038096,
              "Destination_Names": "Lavenia Daddona",
              "Purchase_Count": 1,
              "Unnamed: 0": 247
             },
             {
              "Destination": 2038101,
              "Destination_Names": "Jordan Elliott",
              "Purchase_Count": 1,
              "Unnamed: 0": 380
             },
             {
              "Destination": 2037902,
              "Destination_Names": "Rory Ockmond",
              "Purchase_Count": 1,
              "Unnamed: 0": 367
             },
             {
              "Destination": 2037845,
              "Destination_Names": "Pinkie Vanandel",
              "Purchase_Count": 1,
              "Unnamed: 0": 385
             },
             {
              "Destination": 2038077,
              "Destination_Names": "Reta Klimkowicz",
              "Purchase_Count": 1,
              "Unnamed: 0": 384
             },
             {
              "Destination": 2040317,
              "Destination_Names": "Cassaundra Arthun",
              "Purchase_Count": 1,
              "Unnamed: 0": 363
             },
             {
              "Destination": 2037693,
              "Destination_Names": "Leila Bishop",
              "Purchase_Count": 1,
              "Unnamed: 0": 383
             },
             {
              "Destination": 2038056,
              "Destination_Names": "Elinor Heckerman",
              "Purchase_Count": 1,
              "Unnamed: 0": 382
             },
             {
              "Destination": 2038090,
              "Destination_Names": "Lurlene Cherian",
              "Purchase_Count": 1,
              "Unnamed: 0": 381
             },
             {
              "Destination": 2037971,
              "Destination_Names": "Lucille Wise",
              "Purchase_Count": 1,
              "Unnamed: 0": 400
             },
             {
              "Destination": 2037692,
              "Destination_Names": "Elida Talarico",
              "Purchase_Count": 1,
              "Unnamed: 0": 364
             },
             {
              "Destination": 2038119,
              "Destination_Names": "Hulda Owen",
              "Purchase_Count": 1,
              "Unnamed: 0": 365
             },
             {
              "Destination": 2037891,
              "Destination_Names": "Grace Farmer",
              "Purchase_Count": 1,
              "Unnamed: 0": 386
             },
             {
              "Destination": 2041373,
              "Destination_Names": "Valeria Batrum",
              "Purchase_Count": 1,
              "Unnamed: 0": 379
             },
             {
              "Destination": 2037993,
              "Destination_Names": "Armand Adside",
              "Purchase_Count": 1,
              "Unnamed: 0": 376
             },
             {
              "Destination": 2038033,
              "Destination_Names": "Marion Leonard",
              "Purchase_Count": 1,
              "Unnamed: 0": 375
             },
             {
              "Destination": 2037869,
              "Destination_Names": "Ivelisse Butkovich",
              "Purchase_Count": 1,
              "Unnamed: 0": 374
             },
             {
              "Destination": 2037917,
              "Destination_Names": "Luke Gross",
              "Purchase_Count": 1,
              "Unnamed: 0": 373
             },
             {
              "Destination": 2037931,
              "Destination_Names": "Somer Lofthouse",
              "Purchase_Count": 1,
              "Unnamed: 0": 372
             },
             {
              "Destination": 2037747,
              "Destination_Names": "Lou Klimaszewski",
              "Purchase_Count": 1,
              "Unnamed: 0": 371
             },
             {
              "Destination": 2037803,
              "Destination_Names": "Minh Orcutt",
              "Purchase_Count": 1,
              "Unnamed: 0": 370
             },
             {
              "Destination": 2037786,
              "Destination_Names": "Ann Kingshott",
              "Purchase_Count": 1,
              "Unnamed: 0": 94
             },
             {
              "Destination": 2037976,
              "Destination_Names": "Loise Gladhill",
              "Purchase_Count": 1,
              "Unnamed: 0": 369
             },
             {
              "Destination": 2037956,
              "Destination_Names": "Jon Obrien",
              "Purchase_Count": 1,
              "Unnamed: 0": 368
             },
             {
              "Destination": 2040572,
              "Destination_Names": "Eddy Faerber",
              "Purchase_Count": 1,
              "Unnamed: 0": 378
             },
             {
              "Destination": 2037910,
              "Destination_Names": "Nina Carr",
              "Purchase_Count": 1,
              "Unnamed: 0": 387
             },
             {
              "Destination": 2038165,
              "Destination_Names": "Candice Runge",
              "Purchase_Count": 1,
              "Unnamed: 0": 361
             },
             {
              "Destination": 2037863,
              "Destination_Names": "Tony Roberts",
              "Purchase_Count": 1,
              "Unnamed: 0": 392
             },
             {
              "Destination": 2037842,
              "Destination_Names": "Cody Thomas",
              "Purchase_Count": 1,
              "Unnamed: 0": 399
             },
             {
              "Destination": 2038023,
              "Destination_Names": "Mayme Moreno",
              "Purchase_Count": 1,
              "Unnamed: 0": 64
             },
             {
              "Destination": 2038068,
              "Destination_Names": "Santana Horak",
              "Purchase_Count": 1,
              "Unnamed: 0": 398
             },
             {
              "Destination": 2037882,
              "Destination_Names": "Rosa Cobb",
              "Purchase_Count": 1,
              "Unnamed: 0": 397
             },
             {
              "Destination": 2043386,
              "Destination_Names": "Jina Seiders",
              "Purchase_Count": 1,
              "Unnamed: 0": 67
             },
             {
              "Destination": 2043976,
              "Destination_Names": "Randy Berry",
              "Purchase_Count": 1,
              "Unnamed: 0": 396
             },
             {
              "Destination": 2037888,
              "Destination_Names": "Pearl Bell",
              "Purchase_Count": 1,
              "Unnamed: 0": 395
             },
             {
              "Destination": 2038117,
              "Destination_Names": "Ann Harvey",
              "Purchase_Count": 1,
              "Unnamed: 0": 394
             },
             {
              "Destination": 2037789,
              "Destination_Names": "Bailey Shoddie",
              "Purchase_Count": 1,
              "Unnamed: 0": 393
             },
             {
              "Destination": 2040609,
              "Destination_Names": "Monty Ashmen",
              "Purchase_Count": 1,
              "Unnamed: 0": 103
             },
             {
              "Destination": 2037866,
              "Destination_Names": "Opal Mock",
              "Purchase_Count": 1,
              "Unnamed: 0": 391
             },
             {
              "Destination": 2037852,
              "Destination_Names": "Ophelia Butler",
              "Purchase_Count": 1,
              "Unnamed: 0": 366
             },
             {
              "Destination": 2037914,
              "Destination_Names": "Myrtle Lawrence",
              "Purchase_Count": 1,
              "Unnamed: 0": 388
             },
             {
              "Destination": 2037743,
              "Destination_Names": "Shanice Nakahara",
              "Purchase_Count": 1,
              "Unnamed: 0": 390
             },
             {
              "Destination": 2040438,
              "Destination_Names": "Liberty Nuzum",
              "Purchase_Count": 1,
              "Unnamed: 0": 360
             },
             {
              "Destination": 2037904,
              "Destination_Names": "Yong Leyra",
              "Purchase_Count": 1,
              "Unnamed: 0": 359
             },
             {
              "Destination": 2037986,
              "Destination_Names": "Dora Atkins",
              "Purchase_Count": 1,
              "Unnamed: 0": 106
             },
             {
              "Destination": 2043973,
              "Destination_Names": "Whitney Rissman",
              "Purchase_Count": 1,
              "Unnamed: 0": 389
             },
             {
              "Destination": 2037905,
              "Destination_Names": "Melva Vassell",
              "Purchase_Count": 1,
              "Unnamed: 0": 358
             },
             {
              "Destination": 2038028,
              "Destination_Names": "Neville Roya",
              "Purchase_Count": 2,
              "Unnamed: 0": 252
             },
             {
              "Destination": 2038057,
              "Destination_Names": "Oliver Leuthe",
              "Purchase_Count": 2,
              "Unnamed: 0": 357
             },
             {
              "Destination": 2037865,
              "Destination_Names": "Evelia Duer",
              "Purchase_Count": 2,
              "Unnamed: 0": 260
             },
             {
              "Destination": 2037970,
              "Destination_Names": "Brenton Trucker",
              "Purchase_Count": 2,
              "Unnamed: 0": 346
             },
             {
              "Destination": 2038102,
              "Destination_Names": "Louis Ottman",
              "Purchase_Count": 2,
              "Unnamed: 0": 250
             },
             {
              "Destination": 2038172,
              "Destination_Names": "Duane Sylva",
              "Purchase_Count": 2,
              "Unnamed: 0": 251
             },
             {
              "Destination": 2038171,
              "Destination_Names": "Troy Morton",
              "Purchase_Count": 2,
              "Unnamed: 0": 262
             },
             {
              "Destination": 2038031,
              "Destination_Names": "Kia Halonen",
              "Purchase_Count": 2,
              "Unnamed: 0": 447
             },
             {
              "Destination": 2041379,
              "Destination_Names": "Jeremy Cravalho",
              "Purchase_Count": 2,
              "Unnamed: 0": 254
             },
             {
              "Destination": 2037901,
              "Destination_Names": "Tony Daffron",
              "Purchase_Count": 2,
              "Unnamed: 0": 350
             },
             {
              "Destination": 2038175,
              "Destination_Names": "Noelle Amarante",
              "Purchase_Count": 2,
              "Unnamed: 0": 259
             },
             {
              "Destination": 2038043,
              "Destination_Names": "Nestor Olguin",
              "Purchase_Count": 2,
              "Unnamed: 0": 308
             },
             {
              "Destination": 2037965,
              "Destination_Names": "Viki Shoulders",
              "Purchase_Count": 2,
              "Unnamed: 0": 277
             },
             {
              "Destination": 2037793,
              "Destination_Names": "Merry Blevans",
              "Purchase_Count": 2,
              "Unnamed: 0": 305
             },
             {
              "Destination": 2040631,
              "Destination_Names": "Jorge Burns",
              "Purchase_Count": 2,
              "Unnamed: 0": 406
             },
             {
              "Destination": 2037720,
              "Destination_Names": "Neal Blazon",
              "Purchase_Count": 2,
              "Unnamed: 0": 407
             },
             {
              "Destination": 2037696,
              "Destination_Names": "Cinthia Plante",
              "Purchase_Count": 2,
              "Unnamed: 0": 297
             },
             {
              "Destination": 2037735,
              "Destination_Names": "Genia Newmyer",
              "Purchase_Count": 2,
              "Unnamed: 0": 415
             },
             {
              "Destination": 2037936,
              "Destination_Names": "Vicky Goy",
              "Purchase_Count": 2,
              "Unnamed: 0": 296
             },
             {
              "Destination": 2037828,
              "Destination_Names": "Bennett Hess",
              "Purchase_Count": 2,
              "Unnamed: 0": 319
             },
             {
              "Destination": 2038048,
              "Destination_Names": "Jeanice Friar",
              "Purchase_Count": 2,
              "Unnamed: 0": 321
             },
             {
              "Destination": 2038108,
              "Destination_Names": "Conrad Mira",
              "Purchase_Count": 2,
              "Unnamed: 0": 435
             },
             {
              "Destination": 2038089,
              "Destination_Names": "Jason Jimenez",
              "Purchase_Count": 2,
              "Unnamed: 0": 322
             },
             {
              "Destination": 2040592,
              "Destination_Names": "Adam Ruiz",
              "Purchase_Count": 2,
              "Unnamed: 0": 287
             },
             {
              "Destination": 2038156,
              "Destination_Names": "Merry Diodonet",
              "Purchase_Count": 2,
              "Unnamed: 0": 285
             },
             {
              "Destination": 2037860,
              "Destination_Names": "Carlos Morris",
              "Purchase_Count": 2,
              "Unnamed: 0": 423
             },
             {
              "Destination": 2040601,
              "Destination_Names": "Jorge Patrick",
              "Purchase_Count": 2,
              "Unnamed: 0": 283
             },
             {
              "Destination": 2037836,
              "Destination_Names": "Ossie Barbeau",
              "Purchase_Count": 2,
              "Unnamed: 0": 282
             },
             {
              "Destination": 2037797,
              "Destination_Names": "Rolande Hargreaves",
              "Purchase_Count": 2,
              "Unnamed: 0": 325
             },
             {
              "Destination": 2038091,
              "Destination_Names": "Odell Surrey",
              "Purchase_Count": 2,
              "Unnamed: 0": 326
             },
             {
              "Destination": 2037922,
              "Destination_Names": "Tawny Rapko",
              "Purchase_Count": 2,
              "Unnamed: 0": 333
             },
             {
              "Destination": 2037718,
              "Destination_Names": "Aaron Cilva",
              "Purchase_Count": 2,
              "Unnamed: 0": 288
             },
             {
              "Destination": 2037759,
              "Destination_Names": "Clotilde Kinstle",
              "Purchase_Count": 2,
              "Unnamed: 0": 409
             },
             {
              "Destination": 2038011,
              "Destination_Names": "Letty Pontiff",
              "Purchase_Count": 2,
              "Unnamed: 0": 229
             },
             {
              "Destination": 2038097,
              "Destination_Names": "Hannelore Javarone",
              "Purchase_Count": 2,
              "Unnamed: 0": 248
             },
             {
              "Destination": 2038054,
              "Destination_Names": "Dennise Kinkella",
              "Purchase_Count": 2,
              "Unnamed: 0": 114
             },
             {
              "Destination": 2037992,
              "Destination_Names": "Darci Rodrigus",
              "Purchase_Count": 2,
              "Unnamed: 0": 165
             },
             {
              "Destination": 2040590,
              "Destination_Names": "Duane Harper",
              "Purchase_Count": 2,
              "Unnamed: 0": 202
             },
             {
              "Destination": 2037972,
              "Destination_Names": "Keli Kehn",
              "Purchase_Count": 2,
              "Unnamed: 0": 124
             },
             {
              "Destination": 2037856,
              "Destination_Names": "Elizebeth Berliew",
              "Purchase_Count": 2,
              "Unnamed: 0": 197
             },
             {
              "Destination": 2038024,
              "Destination_Names": "Carl Coxon",
              "Purchase_Count": 2,
              "Unnamed: 0": 128
             },
             {
              "Destination": 2037740,
              "Destination_Names": "Malik Rolland",
              "Purchase_Count": 2,
              "Unnamed: 0": 129
             },
             {
              "Destination": 2037770,
              "Destination_Names": "Grazyna Hustead",
              "Purchase_Count": 2,
              "Unnamed: 0": 131
             },
             {
              "Destination": 2037968,
              "Destination_Names": "Jame Wytch",
              "Purchase_Count": 2,
              "Unnamed: 0": 136
             },
             {
              "Destination": 2040392,
              "Destination_Names": "Kerry Jinkerson",
              "Purchase_Count": 2,
              "Unnamed: 0": 140
             },
             {
              "Destination": 2038173,
              "Destination_Names": "Alma Murray",
              "Purchase_Count": 2,
              "Unnamed: 0": 189
             },
             {
              "Destination": 2037933,
              "Destination_Names": "Louise Stevens",
              "Purchase_Count": 2,
              "Unnamed: 0": 210
             },
             {
              "Destination": 2037850,
              "Destination_Names": "Cora Hart",
              "Purchase_Count": 2,
              "Unnamed: 0": 186
             },
             {
              "Destination": 2040577,
              "Destination_Names": "Jeremiah Farmer",
              "Purchase_Count": 2,
              "Unnamed: 0": 182
             },
             {
              "Destination": 2037823,
              "Destination_Names": "Kerry Menousek",
              "Purchase_Count": 2,
              "Unnamed: 0": 155
             },
             {
              "Destination": 2037717,
              "Destination_Names": "Clara Singleton",
              "Purchase_Count": 2,
              "Unnamed: 0": 157
             },
             {
              "Destination": 2037861,
              "Destination_Names": "Jewell Dronet",
              "Purchase_Count": 2,
              "Unnamed: 0": 180
             },
             {
              "Destination": 2040557,
              "Destination_Names": "Alexander Sanchez",
              "Purchase_Count": 2,
              "Unnamed: 0": 177
             },
             {
              "Destination": 2037987,
              "Destination_Names": "Brunilda Colesar",
              "Purchase_Count": 2,
              "Unnamed: 0": 159
             },
             {
              "Destination": 2037794,
              "Destination_Names": "Erinn Anewalt",
              "Purchase_Count": 2,
              "Unnamed: 0": 173
             },
             {
              "Destination": 2038071,
              "Destination_Names": "Renee Knightstep",
              "Purchase_Count": 2,
              "Unnamed: 0": 172
             },
             {
              "Destination": 2037999,
              "Destination_Names": "Fannie Andrews",
              "Purchase_Count": 2,
              "Unnamed: 0": 161
             },
             {
              "Destination": 2037984,
              "Destination_Names": "Owen Ortega",
              "Purchase_Count": 2,
              "Unnamed: 0": 169
             },
             {
              "Destination": 2037997,
              "Destination_Names": "Edgar Lawson",
              "Purchase_Count": 2,
              "Unnamed: 0": 164
             },
             {
              "Destination": 2047240,
              "Destination_Names": "Duane Owens",
              "Purchase_Count": 2,
              "Unnamed: 0": 149
             },
             {
              "Destination": 2037780,
              "Destination_Names": "Maggie Manning",
              "Purchase_Count": 2,
              "Unnamed: 0": 105
             },
             {
              "Destination": 2037697,
              "Destination_Names": "Mary Brewer",
              "Purchase_Count": 2,
              "Unnamed: 0": 166
             },
             {
              "Destination": 2041386,
              "Destination_Names": "Carry Daryanl",
              "Purchase_Count": 2,
              "Unnamed: 0": 98
             },
             {
              "Destination": 2037798,
              "Destination_Names": "Carroll Hyrkas",
              "Purchase_Count": 2,
              "Unnamed: 0": 236
             },
             {
              "Destination": 2037880,
              "Destination_Names": "Emilio Cokel",
              "Purchase_Count": 2,
              "Unnamed: 0": 239
             },
             {
              "Destination": 2038111,
              "Destination_Names": "Lai Okelberry",
              "Purchase_Count": 2,
              "Unnamed: 0": 61
             },
             {
              "Destination": 2037967,
              "Destination_Names": "Charley Offermann",
              "Purchase_Count": 2,
              "Unnamed: 0": 81
             },
             {
              "Destination": 2038063,
              "Destination_Names": "Carmen Ting",
              "Purchase_Count": 2,
              "Unnamed: 0": 226
             },
             {
              "Destination": 2037761,
              "Destination_Names": "Anna Morren",
              "Purchase_Count": 2,
              "Unnamed: 0": 83
             },
             {
              "Destination": 2040594,
              "Destination_Names": "Christian Zierenberg",
              "Purchase_Count": 2,
              "Unnamed: 0": 233
             },
             {
              "Destination": 2040344,
              "Destination_Names": "Connor Fernandez",
              "Purchase_Count": 2,
              "Unnamed: 0": 220
             },
             {
              "Destination": 2037695,
              "Destination_Names": "Chasidy Clampitt",
              "Purchase_Count": 2,
              "Unnamed: 0": 68
             },
             {
              "Destination": 2037938,
              "Destination_Names": "Major Stokey",
              "Purchase_Count": 2,
              "Unnamed: 0": 87
             },
             {
              "Destination": 2038061,
              "Destination_Names": "Virginia Wheeler",
              "Purchase_Count": 2,
              "Unnamed: 0": 89
             },
             {
              "Destination": 2038012,
              "Destination_Names": "Perla Matney",
              "Purchase_Count": 2,
              "Unnamed: 0": 17
             },
             {
              "Destination": 2038053,
              "Destination_Names": "Kenneth Little",
              "Purchase_Count": 2,
              "Unnamed: 0": 95
             },
             {
              "Destination": 2038126,
              "Destination_Names": "Sudie Hulslander",
              "Purchase_Count": 2,
              "Unnamed: 0": 215
             },
             {
              "Destination": 2040312,
              "Destination_Names": "Eleonore Mikelsen",
              "Purchase_Count": 2,
              "Unnamed: 0": 244
             },
             {
              "Destination": 2038159,
              "Destination_Names": "Albert Doshier",
              "Purchase_Count": 2,
              "Unnamed: 0": 241
             },
             {
              "Destination": 2038014,
              "Destination_Names": "Wesley Andaverde",
              "Purchase_Count": 3,
              "Unnamed: 0": 39
             },
             {
              "Destination": 2038032,
              "Destination_Names": "Priscila Gooch",
              "Purchase_Count": 3,
              "Unnamed: 0": 30
             },
             {
              "Destination": 2037766,
              "Destination_Names": "Gregory Russell",
              "Purchase_Count": 3,
              "Unnamed: 0": 414
             },
             {
              "Destination": 2038035,
              "Destination_Names": "Corazon Ney",
              "Purchase_Count": 3,
              "Unnamed: 0": 33
             },
             {
              "Destination": 2038026,
              "Destination_Names": "Victoria Woods",
              "Purchase_Count": 3,
              "Unnamed: 0": 80
             },
             {
              "Destination": 2037688,
              "Destination_Names": "Gordon Perez",
              "Purchase_Count": 3,
              "Unnamed: 0": 77
             },
             {
              "Destination": 2037958,
              "Destination_Names": "Russell Sterr",
              "Purchase_Count": 3,
              "Unnamed: 0": 328
             },
             {
              "Destination": 2037781,
              "Destination_Names": "Reyna Eclarinal",
              "Purchase_Count": 3,
              "Unnamed: 0": 362
             },
             {
              "Destination": 2038000,
              "Destination_Names": "Fern Przybycien",
              "Purchase_Count": 3,
              "Unnamed: 0": 143
             },
             {
              "Destination": 2038100,
              "Destination_Names": "Wenona Bradmon",
              "Purchase_Count": 3,
              "Unnamed: 0": 330
             },
             {
              "Destination": 2037742,
              "Destination_Names": "Sophia Medina",
              "Purchase_Count": 3,
              "Unnamed: 0": 86
             },
             {
              "Destination": 2038149,
              "Destination_Names": "Darius Jinks",
              "Purchase_Count": 3,
              "Unnamed: 0": 340
             },
             {
              "Destination": 2038180,
              "Destination_Names": "Rosalyn Maclay",
              "Purchase_Count": 3,
              "Unnamed: 0": 377
             },
             {
              "Destination": 2038016,
              "Destination_Names": "Davina Perrota",
              "Purchase_Count": 3,
              "Unnamed: 0": 121
             },
             {
              "Destination": 2037777,
              "Destination_Names": "Carlo Castillero",
              "Purchase_Count": 3,
              "Unnamed: 0": 352
             },
             {
              "Destination": 2038152,
              "Destination_Names": "Viola Vasquez",
              "Purchase_Count": 3,
              "Unnamed: 0": 107
             },
             {
              "Destination": 2038141,
              "Destination_Names": "Randy Pena",
              "Purchase_Count": 3,
              "Unnamed: 0": 327
             },
             {
              "Destination": 2037955,
              "Destination_Names": "Ollie Lindsey",
              "Purchase_Count": 3,
              "Unnamed: 0": 245
             },
             {
              "Destination": 2037763,
              "Destination_Names": "Maryrose Schryver",
              "Purchase_Count": 3,
              "Unnamed: 0": 118
             },
             {
              "Destination": 2038138,
              "Destination_Names": "Tyree Barreneche",
              "Purchase_Count": 3,
              "Unnamed: 0": 188
             },
             {
              "Destination": 2037868,
              "Destination_Names": "Kate Burton",
              "Purchase_Count": 3,
              "Unnamed: 0": 227
             },
             {
              "Destination": 2038062,
              "Destination_Names": "Ozell Lampkins",
              "Purchase_Count": 3,
              "Unnamed: 0": 263
             },
             {
              "Destination": 2038162,
              "Destination_Names": "Sasha Papagni",
              "Purchase_Count": 3,
              "Unnamed: 0": 167
             },
             {
              "Destination": 2040309,
              "Destination_Names": "Eric Schneider",
              "Purchase_Count": 3,
              "Unnamed: 0": 272
             },
             {
              "Destination": 2037998,
              "Destination_Names": "Emilia Zanin",
              "Purchase_Count": 3,
              "Unnamed: 0": 204
             },
             {
              "Destination": 2038122,
              "Destination_Names": "Francina Jinkens",
              "Purchase_Count": 3,
              "Unnamed: 0": 213
             },
             {
              "Destination": 2037851,
              "Destination_Names": "Deon Boldman",
              "Purchase_Count": 3,
              "Unnamed: 0": 257
             },
             {
              "Destination": 2038017,
              "Destination_Names": "Octavia Rallison",
              "Purchase_Count": 3,
              "Unnamed: 0": 300
             },
             {
              "Destination": 2040630,
              "Destination_Names": "Alberto Osbourn",
              "Purchase_Count": 3,
              "Unnamed: 0": 267
             },
             {
              "Destination": 2037920,
              "Destination_Names": "Julieann Terheggen",
              "Purchase_Count": 3,
              "Unnamed: 0": 255
             },
             {
              "Destination": 2038084,
              "Destination_Names": "Jeannine Riccardi",
              "Purchase_Count": 3,
              "Unnamed: 0": 217
             },
             {
              "Destination": 2037788,
              "Destination_Names": "Miesha Ostrum",
              "Purchase_Count": 3,
              "Unnamed: 0": 192
             },
             {
              "Destination": 2037932,
              "Destination_Names": "Janie Roberson",
              "Purchase_Count": 3,
              "Unnamed: 0": 292
             },
             {
              "Destination": 2038072,
              "Destination_Names": "Toccara Kempa",
              "Purchase_Count": 4,
              "Unnamed: 0": 291
             },
             {
              "Destination": 2038144,
              "Destination_Names": "Iva Cook",
              "Purchase_Count": 4,
              "Unnamed: 0": 191
             },
             {
              "Destination": 2037691,
              "Destination_Names": "Mary Robinson",
              "Purchase_Count": 4,
              "Unnamed: 0": 122
             },
             {
              "Destination": 2038051,
              "Destination_Names": "Anastacia Suri",
              "Purchase_Count": 4,
              "Unnamed: 0": 195
             },
             {
              "Destination": 2037784,
              "Destination_Names": "Sierra Denherder",
              "Purchase_Count": 4,
              "Unnamed: 0": 231
             },
             {
              "Destination": 2038131,
              "Destination_Names": "Diamond Hollenbach",
              "Purchase_Count": 4,
              "Unnamed: 0": 190
             },
             {
              "Destination": 2037990,
              "Destination_Names": "Susana Ganser",
              "Purchase_Count": 4,
              "Unnamed: 0": 343
             },
             {
              "Destination": 2038079,
              "Destination_Names": "Denna Slemmer",
              "Purchase_Count": 4,
              "Unnamed: 0": 242
             },
             {
              "Destination": 2037771,
              "Destination_Names": "Sherrell Macdonald",
              "Purchase_Count": 4,
              "Unnamed: 0": 183
             },
             {
              "Destination": 2038050,
              "Destination_Names": "Andre Gregory",
              "Purchase_Count": 4,
              "Unnamed: 0": 280
             },
             {
              "Destination": 2041370,
              "Destination_Names": "Griselda Protain",
              "Purchase_Count": 4,
              "Unnamed: 0": 73
             },
             {
              "Destination": 2037821,
              "Destination_Names": "Daniela Oharra",
              "Purchase_Count": 4,
              "Unnamed: 0": 156
             },
             {
              "Destination": 2037994,
              "Destination_Names": "Lola Wilson",
              "Purchase_Count": 4,
              "Unnamed: 0": 170
             },
             {
              "Destination": 2037750,
              "Destination_Names": "Joann Wallgren",
              "Purchase_Count": 5,
              "Unnamed: 0": 123
             },
             {
              "Destination": 2037915,
              "Destination_Names": "Chris Jefferson",
              "Purchase_Count": 5,
              "Unnamed: 0": 199
             },
             {
              "Destination": 2037981,
              "Destination_Names": "Harrison Chalaban",
              "Purchase_Count": 5,
              "Unnamed: 0": 104
             },
             {
              "Destination": 2037989,
              "Destination_Names": "Karisa Filosa",
              "Purchase_Count": 5,
              "Unnamed: 0": 91
             },
             {
              "Destination": 2037700,
              "Destination_Names": "Gene Marsh",
              "Purchase_Count": 5,
              "Unnamed: 0": 256
             },
             {
              "Destination": 2038070,
              "Destination_Names": "Tyler Miles",
              "Purchase_Count": 5,
              "Unnamed: 0": 134
             },
             {
              "Destination": 2037690,
              "Destination_Names": "Donald Washington",
              "Purchase_Count": 5,
              "Unnamed: 0": 243
             },
             {
              "Destination": 2037975,
              "Destination_Names": "Kenneth Holt",
              "Purchase_Count": 5,
              "Unnamed: 0": 82
             },
             {
              "Destination": 2038005,
              "Destination_Names": "Felton Lawcewicz",
              "Purchase_Count": 5,
              "Unnamed: 0": 142
             },
             {
              "Destination": 2040454,
              "Destination_Names": "Rosendo Esteve",
              "Purchase_Count": 5,
              "Unnamed: 0": 144
             },
             {
              "Destination": 2038154,
              "Destination_Names": "Luis Higgins",
              "Purchase_Count": 5,
              "Unnamed: 0": 148
             },
             {
              "Destination": 2040349,
              "Destination_Names": "Andria Tumulty",
              "Purchase_Count": 5,
              "Unnamed: 0": 230
             },
             {
              "Destination": 2037859,
              "Destination_Names": "Eric Atkins",
              "Purchase_Count": 5,
              "Unnamed: 0": 75
             },
             {
              "Destination": 2037689,
              "Destination_Names": "Aisha Stafford",
              "Purchase_Count": 5,
              "Unnamed: 0": 211
             },
             {
              "Destination": 2044645,
              "Destination_Names": "Oscar Hutley",
              "Purchase_Count": 6,
              "Unnamed: 0": 218
             },
             {
              "Destination": 2037769,
              "Destination_Names": "Floy Warholic",
              "Purchase_Count": 6,
              "Unnamed: 0": 47
             },
             {
              "Destination": 2038007,
              "Destination_Names": "Carolyn Hines",
              "Purchase_Count": 6,
              "Unnamed: 0": 99
             },
             {
              "Destination": 2038001,
              "Destination_Names": "Gabrielle Iarussi",
              "Purchase_Count": 6,
              "Unnamed: 0": 72
             },
             {
              "Destination": 2037824,
              "Destination_Names": "Demetria Mckibbens",
              "Purchase_Count": 6,
              "Unnamed: 0": 71
             },
             {
              "Destination": 2037978,
              "Destination_Names": "Wayne Ahne",
              "Purchase_Count": 6,
              "Unnamed: 0": 216
             },
             {
              "Destination": 2040467,
              "Destination_Names": "Frederica Guillan",
              "Purchase_Count": 6,
              "Unnamed: 0": 309
             },
             {
              "Destination": 2037820,
              "Destination_Names": "Cristina Leber",
              "Purchase_Count": 6,
              "Unnamed: 0": 18
             },
             {
              "Destination": 2037708,
              "Destination_Names": "Marya Stetler",
              "Purchase_Count": 6,
              "Unnamed: 0": 181
             },
             {
              "Destination": 2037877,
              "Destination_Names": "Seymour Johndrow",
              "Purchase_Count": 6,
              "Unnamed: 0": 153
             },
             {
              "Destination": 2037698,
              "Destination_Names": "Betty Summers",
              "Purchase_Count": 6,
              "Unnamed: 0": 152
             },
             {
              "Destination": 2037847,
              "Destination_Names": "Manuel Allison",
              "Purchase_Count": 6,
              "Unnamed: 0": 20
             },
             {
              "Destination": 2037941,
              "Destination_Names": "Yon Shilleh",
              "Purchase_Count": 6,
              "Unnamed: 0": 281
             },
             {
              "Destination": 2037870,
              "Destination_Names": "Hettie Gray",
              "Purchase_Count": 6,
              "Unnamed: 0": 240
             },
             {
              "Destination": 2038013,
              "Destination_Names": "Gabriella Striegel",
              "Purchase_Count": 7,
              "Unnamed: 0": 96
             },
             {
              "Destination": 2037808,
              "Destination_Names": "Elvis Drilling",
              "Purchase_Count": 7,
              "Unnamed: 0": 101
             },
             {
              "Destination": 2038078,
              "Destination_Names": "Cordelia Critcher",
              "Purchase_Count": 7,
              "Unnamed: 0": 200
             },
             {
              "Destination": 2037774,
              "Destination_Names": "Nannie Bennett",
              "Purchase_Count": 7,
              "Unnamed: 0": 126
             },
             {
              "Destination": 2038092,
              "Destination_Names": "Norman Shaw",
              "Purchase_Count": 8,
              "Unnamed: 0": 109
             },
             {
              "Destination": 2040550,
              "Destination_Names": "Bradley Daniel",
              "Purchase_Count": 8,
              "Unnamed: 0": 16
             },
             {
              "Destination": 2038139,
              "Destination_Names": "Roy Rhodes",
              "Purchase_Count": 8,
              "Unnamed: 0": 42
             },
             {
              "Destination": 2037943,
              "Destination_Names": "Johnnie Enslow",
              "Purchase_Count": 8,
              "Unnamed: 0": 194
             },
             {
              "Destination": 2038127,
              "Destination_Names": "Harris Dearmas",
              "Purchase_Count": 8,
              "Unnamed: 0": 222
             },
             {
              "Destination": 2040378,
              "Destination_Names": "Lashaunda Mautone",
              "Purchase_Count": 8,
              "Unnamed: 0": 102
             },
             {
              "Destination": 2038075,
              "Destination_Names": "Dustin Poskitt",
              "Purchase_Count": 8,
              "Unnamed: 0": 120
             },
             {
              "Destination": 2040591,
              "Destination_Names": "Kenny Miskiewicz",
              "Purchase_Count": 9,
              "Unnamed: 0": 174
             },
             {
              "Destination": 2045457,
              "Destination_Names": "Armand Millerbernd",
              "Purchase_Count": 9,
              "Unnamed: 0": 70
             },
             {
              "Destination": 2038021,
              "Destination_Names": "Lilli Samsel",
              "Purchase_Count": 9,
              "Unnamed: 0": 203
             },
             {
              "Destination": 2037701,
              "Destination_Names": "Lola Lloyd",
              "Purchase_Count": 9,
              "Unnamed: 0": 145
             },
             {
              "Destination": 2037876,
              "Destination_Names": "Jamika Glines",
              "Purchase_Count": 9,
              "Unnamed: 0": 184
             },
             {
              "Destination": 2038049,
              "Destination_Names": "Jake Dececco",
              "Purchase_Count": 9,
              "Unnamed: 0": 60
             },
             {
              "Destination": 2038059,
              "Destination_Names": "Irwin Ellender",
              "Purchase_Count": 9,
              "Unnamed: 0": 125
             },
             {
              "Destination": 2038045,
              "Destination_Names": "Ashly Reischl",
              "Purchase_Count": 10,
              "Unnamed: 0": 92
             },
             {
              "Destination": 2038029,
              "Destination_Names": "Martine Hanlin",
              "Purchase_Count": 10,
              "Unnamed: 0": 48
             },
             {
              "Destination": 2037748,
              "Destination_Names": "Amy Malone",
              "Purchase_Count": 11,
              "Unnamed: 0": 55
             },
             {
              "Destination": 2038030,
              "Destination_Names": "Amelia Becker",
              "Purchase_Count": 11,
              "Unnamed: 0": 62
             },
             {
              "Destination": 2037952,
              "Destination_Names": "Willie Byrd",
              "Purchase_Count": 11,
              "Unnamed: 0": 154
             },
             {
              "Destination": 2038018,
              "Destination_Names": "Lynelle Skildum",
              "Purchase_Count": 12,
              "Unnamed: 0": 151
             },
             {
              "Destination": 2040390,
              "Destination_Names": "Alvaro Beers",
              "Purchase_Count": 12,
              "Unnamed: 0": 59
             },
             {
              "Destination": 2037872,
              "Destination_Names": "Sophia Blair",
              "Purchase_Count": 12,
              "Unnamed: 0": 38
             },
             {
              "Destination": 2038019,
              "Destination_Names": "Carolyn Howard",
              "Purchase_Count": 13,
              "Unnamed: 0": 108
             },
             {
              "Destination": 2037704,
              "Destination_Names": "Charlsie Lesa",
              "Purchase_Count": 13,
              "Unnamed: 0": 12
             },
             {
              "Destination": 2037927,
              "Destination_Names": "Blanche Mason",
              "Purchase_Count": 14,
              "Unnamed: 0": 79
             },
             {
              "Destination": 2040582,
              "Destination_Names": "Stephen Peterson",
              "Purchase_Count": 14,
              "Unnamed: 0": 78
             },
             {
              "Destination": 2038022,
              "Destination_Names": "Rocky Hassett",
              "Purchase_Count": 15,
              "Unnamed: 0": 100
             },
             {
              "Destination": 2038060,
              "Destination_Names": "Roberto Amphy",
              "Purchase_Count": 15,
              "Unnamed: 0": 130
             },
             {
              "Destination": 2038044,
              "Destination_Names": "Sidney Simien",
              "Purchase_Count": 15,
              "Unnamed: 0": 24
             },
             {
              "Destination": 2038164,
              "Destination_Names": "Kimbery Demmert",
              "Purchase_Count": 16,
              "Unnamed: 0": 193
             },
             {
              "Destination": 2037962,
              "Destination_Names": "Charmain Olenick",
              "Purchase_Count": 16,
              "Unnamed: 0": 57
             },
             {
              "Destination": 2038166,
              "Destination_Names": "Mattie Perez",
              "Purchase_Count": 17,
              "Unnamed: 0": 119
             },
             {
              "Destination": 2038025,
              "Destination_Names": "Miriam Franch",
              "Purchase_Count": 18,
              "Unnamed: 0": 52
             },
             {
              "Destination": 2038145,
              "Destination_Names": "Lola Haynes",
              "Purchase_Count": 19,
              "Unnamed: 0": 54
             },
             {
              "Destination": 2040585,
              "Destination_Names": "Rita Cassem",
              "Purchase_Count": 19,
              "Unnamed: 0": 23
             },
             {
              "Destination": 2038160,
              "Destination_Names": "Suzette Sienicki",
              "Purchase_Count": 20,
              "Unnamed: 0": 93
             },
             {
              "Destination": 2037835,
              "Destination_Names": "Benjamin Rimbach",
              "Purchase_Count": 22,
              "Unnamed: 0": 58
             },
             {
              "Destination": 2038137,
              "Destination_Names": "Magdalena Gehm",
              "Purchase_Count": 22,
              "Unnamed: 0": 212
             },
             {
              "Destination": 2037811,
              "Destination_Names": "Steven Nichols",
              "Purchase_Count": 22,
              "Unnamed: 0": 84
             },
             {
              "Destination": 2040597,
              "Destination_Names": "Dwayne Fyock",
              "Purchase_Count": 23,
              "Unnamed: 0": 85
             },
             {
              "Destination": 2040314,
              "Destination_Names": "Dora Resek",
              "Purchase_Count": 23,
              "Unnamed: 0": 43
             },
             {
              "Destination": 2040311,
              "Destination_Names": "Kirby Liter",
              "Purchase_Count": 23,
              "Unnamed: 0": 139
             },
             {
              "Destination": 2038170,
              "Destination_Names": "Karrie Tennent",
              "Purchase_Count": 24,
              "Unnamed: 0": 49
             },
             {
              "Destination": 2037912,
              "Destination_Names": "Winnie Byrd",
              "Purchase_Count": 25,
              "Unnamed: 0": 90
             },
             {
              "Destination": 2037896,
              "Destination_Names": "Catrice Reho",
              "Purchase_Count": 25,
              "Unnamed: 0": 25
             },
             {
              "Destination": 2037687,
              "Destination_Names": "Lessie Tutor",
              "Purchase_Count": 25,
              "Unnamed: 0": 88
             },
             {
              "Destination": 2038040,
              "Destination_Names": "Anastacia Henriques",
              "Purchase_Count": 25,
              "Unnamed: 0": 7
             },
             {
              "Destination": 2038041,
              "Destination_Names": "Chi Eichhorst",
              "Purchase_Count": 25,
              "Unnamed: 0": 40
             },
             {
              "Destination": 2038148,
              "Destination_Names": "Milly Kokesh",
              "Purchase_Count": 26,
              "Unnamed: 0": 50
             },
             {
              "Destination": 2040490,
              "Destination_Names": "Carli Agostino",
              "Purchase_Count": 27,
              "Unnamed: 0": 46
             },
             {
              "Destination": 2038147,
              "Destination_Names": "Brandon Carr",
              "Purchase_Count": 28,
              "Unnamed: 0": 34
             },
             {
              "Destination": 2038046,
              "Destination_Names": "Nerissa Ovalles",
              "Purchase_Count": 30,
              "Unnamed: 0": 97
             },
             {
              "Destination": 2037871,
              "Destination_Names": "Cynthia Knight",
              "Purchase_Count": 30,
              "Unnamed: 0": 138
             },
             {
              "Destination": 2040310,
              "Destination_Names": "Melvin Washington",
              "Purchase_Count": 31,
              "Unnamed: 0": 14
             },
             {
              "Destination": 2040578,
              "Destination_Names": "Forrest Murrah",
              "Purchase_Count": 33,
              "Unnamed: 0": 69
             },
             {
              "Destination": 2038015,
              "Destination_Names": "Maude Hammond",
              "Purchase_Count": 34,
              "Unnamed: 0": 10
             },
             {
              "Destination": 2037725,
              "Destination_Names": "Vanesa Chartier",
              "Purchase_Count": 35,
              "Unnamed: 0": 65
             },
             {
              "Destination": 2037934,
              "Destination_Names": "Galen Granelli",
              "Purchase_Count": 38,
              "Unnamed: 0": 127
             },
             {
              "Destination": 2038010,
              "Destination_Names": "Rochel Mirr",
              "Purchase_Count": 40,
              "Unnamed: 0": 76
             },
             {
              "Destination": 2038143,
              "Destination_Names": "Marguerite Rivera",
              "Purchase_Count": 41,
              "Unnamed: 0": 51
             },
             {
              "Destination": 2037816,
              "Destination_Names": "Mabel Gilbert",
              "Purchase_Count": 43,
              "Unnamed: 0": 63
             },
             {
              "Destination": 2038178,
              "Destination_Names": "Demetria Murff",
              "Purchase_Count": 51,
              "Unnamed: 0": 41
             },
             {
              "Destination": 2037758,
              "Destination_Names": "Christeen Gulliver",
              "Purchase_Count": 53,
              "Unnamed: 0": 115
             },
             {
              "Destination": 2038002,
              "Destination_Names": "Janette Laffoon",
              "Purchase_Count": 61,
              "Unnamed: 0": 74
             },
             {
              "Destination": 2037706,
              "Destination_Names": "Amal Horman",
              "Purchase_Count": 70,
              "Unnamed: 0": 11
             },
             {
              "Destination": 2037825,
              "Destination_Names": "Rodney Mason",
              "Purchase_Count": 75,
              "Unnamed: 0": 66
             },
             {
              "Destination": 2038008,
              "Destination_Names": "Cora Douglas",
              "Purchase_Count": 76,
              "Unnamed: 0": 36
             },
             {
              "Destination": 2038052,
              "Destination_Names": "Tom Langman",
              "Purchase_Count": 81,
              "Unnamed: 0": 26
             },
             {
              "Destination": 2037832,
              "Destination_Names": "Shaunte Wair",
              "Purchase_Count": 82,
              "Unnamed: 0": 22
             },
             {
              "Destination": 2037924,
              "Destination_Names": "Juli Grossmeyer",
              "Purchase_Count": 87,
              "Unnamed: 0": 21
             },
             {
              "Destination": 2038073,
              "Destination_Names": "Melvin Taliman",
              "Purchase_Count": 87,
              "Unnamed: 0": 13
             },
             {
              "Destination": 2038042,
              "Destination_Names": "Ardella Slifko",
              "Purchase_Count": 90,
              "Unnamed: 0": 29
             },
             {
              "Destination": 2037930,
              "Destination_Names": "Jenae Muldowney",
              "Purchase_Count": 118,
              "Unnamed: 0": 9
             },
             {
              "Destination": 2040484,
              "Destination_Names": "Dina Arrojo",
              "Purchase_Count": 130,
              "Unnamed: 0": 53
             },
             {
              "Destination": 2038076,
              "Destination_Names": "Cira Brookshire",
              "Purchase_Count": 133,
              "Unnamed: 0": 31
             },
             {
              "Destination": 2038176,
              "Destination_Names": "Corey Jefferson",
              "Purchase_Count": 179,
              "Unnamed: 0": 32
             },
             {
              "Destination": 2037699,
              "Destination_Names": "Lois Dixon",
              "Purchase_Count": 193,
              "Unnamed: 0": 19
             },
             {
              "Destination": 2037760,
              "Destination_Names": "Robert Wallace",
              "Purchase_Count": 210,
              "Unnamed: 0": 8
             },
             {
              "Destination": 2040623,
              "Destination_Names": "Micha Werries",
              "Purchase_Count": 210,
              "Unnamed: 0": 4
             },
             {
              "Destination": 2037754,
              "Destination_Names": "Celina Orellama",
              "Purchase_Count": 272,
              "Unnamed: 0": 28
             },
             {
              "Destination": 2037827,
              "Destination_Names": "Brittanie Spadlin",
              "Purchase_Count": 392,
              "Unnamed: 0": 37
             },
             {
              "Destination": 2037694,
              "Destination_Names": "Ernest Patterson",
              "Purchase_Count": 990,
              "Unnamed: 0": 6
             },
             {
              "Destination": 2037744,
              "Destination_Names": "Miesha Lettsome",
              "Purchase_Count": 1902,
              "Unnamed: 0": 2
             },
             {
              "Destination": 2040624,
              "Destination_Names": "Torri Devilliers",
              "Purchase_Count": 2385,
              "Unnamed: 0": 1
             },
             {
              "Destination": 2038155,
              "Destination_Names": "Brandon Bradley",
              "Purchase_Count": 2590,
              "Unnamed: 0": 3
             },
             {
              "Destination": 2040339,
              "Destination_Names": "Fairy Boratko",
              "Purchase_Count": 4798,
              "Unnamed: 0": 5
             },
             {
              "Destination": 2040565,
              "Destination_Names": "Gail Feindt",
              "Purchase_Count": 745027,
              "Unnamed: 0": 0
             }
            ]
           },
           "encoding": {
            "color": {
             "condition": {
              "selection": "selector118",
              "value": "green"
             },
             "value": "blue"
            },
            "x": {
             "field": "Purchase_Count",
             "type": "quantitative"
            },
            "y": {
             "field": "Purchase_Count",
             "type": "quantitative"
            }
           },
           "mark": "point",
           "selection": {
            "selector118": {
             "encodings": [
              "x",
              "y"
             ],
             "mark": {
              "fill": "#333",
              "fillOpacity": 0.125,
              "stroke": "white"
             },
             "on": "[mousedown, window:mouseup] > window:mousemove!",
             "resolve": "global",
             "translate": "[mousedown, window:mouseup] > window:mousemove!",
             "type": "interval",
             "zoom": "wheel!"
            }
           }
          },
          {
           "data": {
            "values": [
             {
              "Destination": 2037791,
              "Destination_Names": "Brett Higgins",
              "Purchase_Count": 1,
              "Unnamed: 0": 458
             },
             {
              "Destination": 2037741,
              "Destination_Names": "Justin Harvey",
              "Purchase_Count": 1,
              "Unnamed: 0": 146
             },
             {
              "Destination": 2037815,
              "Destination_Names": "Winnie Klein",
              "Purchase_Count": 1,
              "Unnamed: 0": 147
             },
             {
              "Destination": 2037873,
              "Destination_Names": "Danielle Yu",
              "Purchase_Count": 1,
              "Unnamed: 0": 324
             },
             {
              "Destination": 2037947,
              "Destination_Names": "Belle Houston",
              "Purchase_Count": 1,
              "Unnamed: 0": 323
             },
             {
              "Destination": 2037944,
              "Destination_Names": "Diamond Olexa",
              "Purchase_Count": 1,
              "Unnamed: 0": 150
             },
             {
              "Destination": 2037874,
              "Destination_Names": "Dorotha Mosey",
              "Purchase_Count": 1,
              "Unnamed: 0": 320
             },
             {
              "Destination": 2037957,
              "Destination_Names": "Aisha Misner",
              "Purchase_Count": 1,
              "Unnamed: 0": 318
             },
             {
              "Destination": 2037960,
              "Destination_Names": "Andy Geyette",
              "Purchase_Count": 1,
              "Unnamed: 0": 317
             },
             {
              "Destination": 2037855,
              "Destination_Names": "Tonia Anawalt",
              "Purchase_Count": 1,
              "Unnamed: 0": 316
             },
             {
              "Destination": 2043367,
              "Destination_Names": "Kaitlyn Focke",
              "Purchase_Count": 1,
              "Unnamed: 0": 158
             },
             {
              "Destination": 2040308,
              "Destination_Names": "Sadie Elliott",
              "Purchase_Count": 1,
              "Unnamed: 0": 315
             },
             {
              "Destination": 2037928,
              "Destination_Names": "Caroline Stanley",
              "Purchase_Count": 1,
              "Unnamed: 0": 329
             },
             {
              "Destination": 2037979,
              "Destination_Names": "Loree Acero",
              "Purchase_Count": 1,
              "Unnamed: 0": 160
             },
             {
              "Destination": 2037977,
              "Destination_Names": "Lizzie Cross",
              "Purchase_Count": 1,
              "Unnamed: 0": 162
             },
             {
              "Destination": 2037886,
              "Destination_Names": "Juan Cabiltes",
              "Purchase_Count": 1,
              "Unnamed: 0": 163
             },
             {
              "Destination": 2037767,
              "Destination_Names": "Natalia Macomber",
              "Purchase_Count": 1,
              "Unnamed: 0": 313
             },
             {
              "Destination": 2037843,
              "Destination_Names": "Pamella Schroy",
              "Purchase_Count": 1,
              "Unnamed: 0": 312
             },
             {
              "Destination": 2037857,
              "Destination_Names": "Claude Chesterfield",
              "Purchase_Count": 1,
              "Unnamed: 0": 311
             },
             {
              "Destination": 2037841,
              "Destination_Names": "Elsie Potter",
              "Purchase_Count": 1,
              "Unnamed: 0": 310
             },
             {
              "Destination": 2037945,
              "Destination_Names": "Bernice Figueroa",
              "Purchase_Count": 1,
              "Unnamed: 0": 168
             },
             {
              "Destination": 2040993,
              "Destination_Names": "Mamie Wheeler",
              "Purchase_Count": 1,
              "Unnamed: 0": 307
             },
             {
              "Destination": 2037983,
              "Destination_Names": "Shannan Fesenbek",
              "Purchase_Count": 1,
              "Unnamed: 0": 171
             },
             {
              "Destination": 2037749,
              "Destination_Names": "Jewell Maiorano",
              "Purchase_Count": 1,
              "Unnamed: 0": 306
             },
             {
              "Destination": 2037711,
              "Destination_Names": "David Simon",
              "Purchase_Count": 1,
              "Unnamed: 0": 304
             },
             {
              "Destination": 2037881,
              "Destination_Names": "Hester Parsons",
              "Purchase_Count": 1,
              "Unnamed: 0": 314
             },
             {
              "Destination": 2041367,
              "Destination_Names": "Effie Freeman",
              "Purchase_Count": 1,
              "Unnamed: 0": 175
             },
             {
              "Destination": 2037923,
              "Destination_Names": "Minnie Hopkins",
              "Purchase_Count": 1,
              "Unnamed: 0": 331
             },
             {
              "Destination": 2040313,
              "Destination_Names": "Mac Berisha",
              "Purchase_Count": 1,
              "Unnamed: 0": 332
             },
             {
              "Destination": 2044046,
              "Destination_Names": "Jenee Pentecost",
              "Purchase_Count": 1,
              "Unnamed: 0": 113
             },
             {
              "Destination": 2037804,
              "Destination_Names": "Cody Mullins",
              "Purchase_Count": 1,
              "Unnamed: 0": 355
             },
             {
              "Destination": 2038124,
              "Destination_Names": "Bettie Vargas",
              "Purchase_Count": 1,
              "Unnamed: 0": 354
             },
             {
              "Destination": 2037762,
              "Destination_Names": "Laura Cox",
              "Purchase_Count": 1,
              "Unnamed: 0": 116
             },
             {
              "Destination": 2038058,
              "Destination_Names": "Shela Cordoza",
              "Purchase_Count": 1,
              "Unnamed: 0": 117
             },
             {
              "Destination": 2038181,
              "Destination_Names": "Ernestina Paskow",
              "Purchase_Count": 1,
              "Unnamed: 0": 353
             },
             {
              "Destination": 2037907,
              "Destination_Names": "Sherita Herkel",
              "Purchase_Count": 1,
              "Unnamed: 0": 351
             },
             {
              "Destination": 2038099,
              "Destination_Names": "Cristopher Oehlschlager",
              "Purchase_Count": 1,
              "Unnamed: 0": 349
             },
             {
              "Destination": 2037908,
              "Destination_Names": "Leila Wade",
              "Purchase_Count": 1,
              "Unnamed: 0": 348
             },
             {
              "Destination": 2043969,
              "Destination_Names": "Ricky Curry",
              "Purchase_Count": 1,
              "Unnamed: 0": 246
             },
             {
              "Destination": 2037909,
              "Destination_Names": "Regenia Macabeo",
              "Purchase_Count": 1,
              "Unnamed: 0": 345
             },
             {
              "Destination": 2038020,
              "Destination_Names": "Jane Alvarado",
              "Purchase_Count": 1,
              "Unnamed: 0": 141
             },
             {
              "Destination": 2037948,
              "Destination_Names": "Cortez Rapin",
              "Purchase_Count": 1,
              "Unnamed: 0": 344
             },
             {
              "Destination": 2037916,
              "Destination_Names": "Elizabeth Conner",
              "Purchase_Count": 1,
              "Unnamed: 0": 341
             },
             {
              "Destination": 2038136,
              "Destination_Names": "Bertha Beachell",
              "Purchase_Count": 1,
              "Unnamed: 0": 339
             },
             {
              "Destination": 2037778,
              "Destination_Names": "Willie Fowler",
              "Purchase_Count": 1,
              "Unnamed: 0": 338
             },
             {
              "Destination": 2037969,
              "Destination_Names": "Curtis Stone",
              "Purchase_Count": 1,
              "Unnamed: 0": 337
             },
             {
              "Destination": 2037756,
              "Destination_Names": "Daisy Briggs",
              "Purchase_Count": 1,
              "Unnamed: 0": 132
             },
             {
              "Destination": 2040595,
              "Destination_Names": "Armida Tatu",
              "Purchase_Count": 1,
              "Unnamed: 0": 133
             },
             {
              "Destination": 2037844,
              "Destination_Names": "Shelli Auther",
              "Purchase_Count": 1,
              "Unnamed: 0": 336
             },
             {
              "Destination": 2037893,
              "Destination_Names": "Chauncey Micco",
              "Purchase_Count": 1,
              "Unnamed: 0": 135
             },
             {
              "Destination": 2037898,
              "Destination_Names": "Adeline Walsh",
              "Purchase_Count": 1,
              "Unnamed: 0": 335
             },
             {
              "Destination": 2038006,
              "Destination_Names": "Leo Nelson",
              "Purchase_Count": 1,
              "Unnamed: 0": 137
             },
             {
              "Destination": 2037710,
              "Destination_Names": "Angelica Tankard",
              "Purchase_Count": 1,
              "Unnamed: 0": 334
             },
             {
              "Destination": 2037911,
              "Destination_Names": "Callie Roberson",
              "Purchase_Count": 1,
              "Unnamed: 0": 342
             },
             {
              "Destination": 2040551,
              "Destination_Names": "Samuel Herting",
              "Purchase_Count": 1,
              "Unnamed: 0": 112
             },
             {
              "Destination": 2037996,
              "Destination_Names": "Eugena Shikuma",
              "Purchase_Count": 1,
              "Unnamed: 0": 176
             },
             {
              "Destination": 2040345,
              "Destination_Names": "Marilynn Estergard",
              "Purchase_Count": 1,
              "Unnamed: 0": 178
             },
             {
              "Destination": 2038151,
              "Destination_Names": "Micheline Blagg",
              "Purchase_Count": 1,
              "Unnamed: 0": 273
             },
             {
              "Destination": 2037884,
              "Destination_Names": "Shanna Susko",
              "Purchase_Count": 1,
              "Unnamed: 0": 271
             },
             {
              "Destination": 2038009,
              "Destination_Names": "Johnathon Kotterna",
              "Purchase_Count": 1,
              "Unnamed: 0": 270
             },
             {
              "Destination": 2037779,
              "Destination_Names": "Carrie Carson",
              "Purchase_Count": 1,
              "Unnamed: 0": 269
             },
             {
              "Destination": 2037885,
              "Destination_Names": "Edwin Payne",
              "Purchase_Count": 1,
              "Unnamed: 0": 219
             },
             {
              "Destination": 2038080,
              "Destination_Names": "Ralph Summers",
              "Purchase_Count": 1,
              "Unnamed: 0": 268
             },
             {
              "Destination": 2037894,
              "Destination_Names": "Juana Newland",
              "Purchase_Count": 1,
              "Unnamed: 0": 221
             },
             {
              "Destination": 2037985,
              "Destination_Names": "Hilda Ballard",
              "Purchase_Count": 1,
              "Unnamed: 0": 266
             },
             {
              "Destination": 2038085,
              "Destination_Names": "Ann Nash",
              "Purchase_Count": 1,
              "Unnamed: 0": 223
             },
             {
              "Destination": 2037792,
              "Destination_Names": "Trula Artibee",
              "Purchase_Count": 1,
              "Unnamed: 0": 224
             },
             {
              "Destination": 2040586,
              "Destination_Names": "Randell Xyong",
              "Purchase_Count": 1,
              "Unnamed: 0": 225
             },
             {
              "Destination": 2038083,
              "Destination_Names": "Starla Grisham",
              "Purchase_Count": 1,
              "Unnamed: 0": 214
             },
             {
              "Destination": 2037982,
              "Destination_Names": "Jefferson Quintana",
              "Purchase_Count": 1,
              "Unnamed: 0": 265
             },
             {
              "Destination": 2037840,
              "Destination_Names": "Kyle Wade",
              "Purchase_Count": 1,
              "Unnamed: 0": 228
             },
             {
              "Destination": 2037899,
              "Destination_Names": "Carter Ingalsbe",
              "Purchase_Count": 1,
              "Unnamed: 0": 457
             },
             {
              "Destination": 2037973,
              "Destination_Names": "Jolyn Khauv",
              "Purchase_Count": 1,
              "Unnamed: 0": 261
             },
             {
              "Destination": 2037988,
              "Destination_Names": "Song Lamonte",
              "Purchase_Count": 1,
              "Unnamed: 0": 232
             },
             {
              "Destination": 2040315,
              "Destination_Names": "Chara Bahar",
              "Purchase_Count": 1,
              "Unnamed: 0": 234
             },
             {
              "Destination": 2037849,
              "Destination_Names": "Twyla Flahaven",
              "Purchase_Count": 1,
              "Unnamed: 0": 235
             },
             {
              "Destination": 2037738,
              "Destination_Names": "Leisha Lerwill",
              "Purchase_Count": 1,
              "Unnamed: 0": 237
             },
             {
              "Destination": 2037773,
              "Destination_Names": "Verna Pratt",
              "Purchase_Count": 1,
              "Unnamed: 0": 238
             },
             {
              "Destination": 2037739,
              "Destination_Names": "Ji Niffenegger",
              "Purchase_Count": 1,
              "Unnamed: 0": 258
             },
             {
              "Destination": 2037814,
              "Destination_Names": "Clay Thomes",
              "Purchase_Count": 1,
              "Unnamed: 0": 253
             },
             {
              "Destination": 2038128,
              "Destination_Names": "Johnie Suchla",
              "Purchase_Count": 1,
              "Unnamed: 0": 249
             },
             {
              "Destination": 2037959,
              "Destination_Names": "Myung Eddins",
              "Purchase_Count": 1,
              "Unnamed: 0": 264
             },
             {
              "Destination": 2037935,
              "Destination_Names": "Roger Hughes",
              "Purchase_Count": 1,
              "Unnamed: 0": 303
             },
             {
              "Destination": 2038004,
              "Destination_Names": "Sasha Lukman",
              "Purchase_Count": 1,
              "Unnamed: 0": 274
             },
             {
              "Destination": 2037799,
              "Destination_Names": "Joel Mason",
              "Purchase_Count": 1,
              "Unnamed: 0": 276
             },
             {
              "Destination": 2037714,
              "Destination_Names": "Kristal Kilborne",
              "Purchase_Count": 1,
              "Unnamed: 0": 179
             },
             {
              "Destination": 2038105,
              "Destination_Names": "Ina Elliott",
              "Purchase_Count": 1,
              "Unnamed: 0": 302
             },
             {
              "Destination": 2038167,
              "Destination_Names": "Elizabeth Ramsey",
              "Purchase_Count": 1,
              "Unnamed: 0": 301
             },
             {
              "Destination": 2037801,
              "Destination_Names": "Cordelia Fernandez",
              "Purchase_Count": 1,
              "Unnamed: 0": 299
             },
             {
              "Destination": 2038086,
              "Destination_Names": "Lyda Kelton",
              "Purchase_Count": 1,
              "Unnamed: 0": 298
             },
             {
              "Destination": 2038130,
              "Destination_Names": "Mackenzie Inzunza",
              "Purchase_Count": 1,
              "Unnamed: 0": 185
             },
             {
              "Destination": 2037709,
              "Destination_Names": "Chance Jorda",
              "Purchase_Count": 1,
              "Unnamed: 0": 187
             },
             {
              "Destination": 2037966,
              "Destination_Names": "Thomas Nunez",
              "Purchase_Count": 1,
              "Unnamed: 0": 295
             },
             {
              "Destination": 2037913,
              "Destination_Names": "Edna Santos",
              "Purchase_Count": 1,
              "Unnamed: 0": 294
             },
             {
              "Destination": 2038095,
              "Destination_Names": "Sara Hill",
              "Purchase_Count": 1,
              "Unnamed: 0": 293
             },
             {
              "Destination": 2037846,
              "Destination_Names": "Dione Mettlen",
              "Purchase_Count": 1,
              "Unnamed: 0": 290
             },
             {
              "Destination": 2037715,
              "Destination_Names": "Demetrice Emmerling",
              "Purchase_Count": 1,
              "Unnamed: 0": 275
             },
             {
              "Destination": 2037834,
              "Destination_Names": "Richard Howell",
              "Purchase_Count": 1,
              "Unnamed: 0": 289
             },
             {
              "Destination": 2037753,
              "Destination_Names": "Melvin Suchanek",
              "Purchase_Count": 1,
              "Unnamed: 0": 196
             },
             {
              "Destination": 2037974,
              "Destination_Names": "Emiko Dyreson",
              "Purchase_Count": 1,
              "Unnamed: 0": 198
             },
             {
              "Destination": 2038110,
              "Destination_Names": "Lavone Manglona",
              "Purchase_Count": 1,
              "Unnamed: 0": 284
             },
             {
              "Destination": 2037719,
              "Destination_Names": "Katheleen Bergsten",
              "Purchase_Count": 1,
              "Unnamed: 0": 201
             },
             {
              "Destination": 2037752,
              "Destination_Names": "Stacey Simmonds",
              "Purchase_Count": 1,
              "Unnamed: 0": 279
             },
             {
              "Destination": 2040593,
              "Destination_Names": "Elayne Purwin",
              "Purchase_Count": 1,
              "Unnamed: 0": 278
             },
             {
              "Destination": 2037867,
              "Destination_Names": "Malcolm Laforte",
              "Purchase_Count": 1,
              "Unnamed: 0": 205
             },
             {
              "Destination": 2037722,
              "Destination_Names": "Lura Sandovar",
              "Purchase_Count": 1,
              "Unnamed: 0": 206
             },
             {
              "Destination": 2044028,
              "Destination_Names": "Violet Lewis",
              "Purchase_Count": 1,
              "Unnamed: 0": 207
             },
             {
              "Destination": 2038132,
              "Destination_Names": "Deneen Chaudoin",
              "Purchase_Count": 1,
              "Unnamed: 0": 208
             },
             {
              "Destination": 2037809,
              "Destination_Names": "Marylou Strausz",
              "Purchase_Count": 1,
              "Unnamed: 0": 209
             },
             {
              "Destination": 2038064,
              "Destination_Names": "Grace Owen",
              "Purchase_Count": 1,
              "Unnamed: 0": 286
             },
             {
              "Destination": 2040391,
              "Destination_Names": "Cecila Hendee",
              "Purchase_Count": 1,
              "Unnamed: 0": 111
             },
             {
              "Destination": 2040382,
              "Destination_Names": "Estelle Reyes",
              "Purchase_Count": 1,
              "Unnamed: 0": 347
             },
             {
              "Destination": 2037906,
              "Destination_Names": "Trena Gagen",
              "Purchase_Count": 1,
              "Unnamed: 0": 356
             },
             {
              "Destination": 2050630,
              "Destination_Names": "Peter Richardson",
              "Purchase_Count": 1,
              "Unnamed: 0": 427
             },
             {
              "Destination": 2038082,
              "Destination_Names": "Sophia Salazar",
              "Purchase_Count": 1,
              "Unnamed: 0": 426
             },
             {
              "Destination": 2037737,
              "Destination_Names": "Edith Carroll",
              "Purchase_Count": 1,
              "Unnamed: 0": 425
             },
             {
              "Destination": 2038034,
              "Destination_Names": "Martina Krane",
              "Purchase_Count": 1,
              "Unnamed: 0": 35
             },
             {
              "Destination": 2037802,
              "Destination_Names": "Suanne Legrande",
              "Purchase_Count": 1,
              "Unnamed: 0": 424
             },
             {
              "Destination": 2038088,
              "Destination_Names": "Ty Straughter",
              "Purchase_Count": 1,
              "Unnamed: 0": 422
             },
             {
              "Destination": 2037833,
              "Destination_Names": "Marianela Chinskey",
              "Purchase_Count": 1,
              "Unnamed: 0": 421
             },
             {
              "Destination": 2037854,
              "Destination_Names": "Phillip Hunt",
              "Purchase_Count": 1,
              "Unnamed: 0": 420
             },
             {
              "Destination": 2037772,
              "Destination_Names": "Francisco Rothschild",
              "Purchase_Count": 1,
              "Unnamed: 0": 419
             },
             {
              "Destination": 2037702,
              "Destination_Names": "Joel Olson",
              "Purchase_Count": 1,
              "Unnamed: 0": 418
             },
             {
              "Destination": 2037926,
              "Destination_Names": "Mariette Poynor",
              "Purchase_Count": 1,
              "Unnamed: 0": 417
             },
             {
              "Destination": 2050522,
              "Destination_Names": "Alma Borok",
              "Purchase_Count": 1,
              "Unnamed: 0": 428
             },
             {
              "Destination": 2038087,
              "Destination_Names": "Christina Stevenson",
              "Purchase_Count": 1,
              "Unnamed: 0": 44
             },
             {
              "Destination": 2038158,
              "Destination_Names": "Clair Lotz",
              "Purchase_Count": 1,
              "Unnamed: 0": 416
             },
             {
              "Destination": 2037746,
              "Destination_Names": "Nicholas Newton",
              "Purchase_Count": 1,
              "Unnamed: 0": 413
             },
             {
              "Destination": 2037818,
              "Destination_Names": "Leah Erickson",
              "Purchase_Count": 1,
              "Unnamed: 0": 412
             },
             {
              "Destination": 2037757,
              "Destination_Names": "Mason Schutzman",
              "Purchase_Count": 1,
              "Unnamed: 0": 411
             },
             {
              "Destination": 2037858,
              "Destination_Names": "Leonard Douglas",
              "Purchase_Count": 1,
              "Unnamed: 0": 410
             },
             {
              "Destination": 2038027,
              "Destination_Names": "Inga Ozimek",
              "Purchase_Count": 1,
              "Unnamed: 0": 110
             },
             {
              "Destination": 2037963,
              "Destination_Names": "William Peterson",
              "Purchase_Count": 1,
              "Unnamed: 0": 408
             },
             {
              "Destination": 2037991,
              "Destination_Names": "Lavonna Feasel",
              "Purchase_Count": 1,
              "Unnamed: 0": 56
             },
             {
              "Destination": 2037707,
              "Destination_Names": "Miguel Thornton",
              "Purchase_Count": 1,
              "Unnamed: 0": 405
             },
             {
              "Destination": 2038121,
              "Destination_Names": "Columbus Bouillion",
              "Purchase_Count": 1,
              "Unnamed: 0": 404
             },
             {
              "Destination": 2038174,
              "Destination_Names": "Jules Awalt",
              "Purchase_Count": 1,
              "Unnamed: 0": 403
             },
             {
              "Destination": 2041817,
              "Destination_Names": "Katie Owen",
              "Purchase_Count": 1,
              "Unnamed: 0": 45
             },
             {
              "Destination": 2037819,
              "Destination_Names": "Lavina Rocha",
              "Purchase_Count": 1,
              "Unnamed: 0": 429
             },
             {
              "Destination": 2038129,
              "Destination_Names": "Marion Schwartz",
              "Purchase_Count": 1,
              "Unnamed: 0": 430
             },
             {
              "Destination": 2040583,
              "Destination_Names": "Houston Poulton",
              "Purchase_Count": 1,
              "Unnamed: 0": 431
             },
             {
              "Destination": 2037839,
              "Destination_Names": "Maria Robinson",
              "Purchase_Count": 1,
              "Unnamed: 0": 456
             },
             {
              "Destination": 2037897,
              "Destination_Names": "Rena Wilson",
              "Purchase_Count": 1,
              "Unnamed: 0": 455
             },
             {
              "Destination": 2038184,
              "Destination_Names": "Lelia Rogel",
              "Purchase_Count": 1,
              "Unnamed: 0": 454
             },
             {
              "Destination": 2037937,
              "Destination_Names": "Micheal Kapral",
              "Purchase_Count": 1,
              "Unnamed: 0": 453
             },
             {
              "Destination": 2040468,
              "Destination_Names": "Matthew Howell",
              "Purchase_Count": 1,
              "Unnamed: 0": 452
             },
             {
              "Destination": 2037919,
              "Destination_Names": "Cecelia Marsh",
              "Purchase_Count": 1,
              "Unnamed: 0": 451
             },
             {
              "Destination": 2043997,
              "Destination_Names": "Josephine Reed",
              "Purchase_Count": 1,
              "Unnamed: 0": 450
             },
             {
              "Destination": 2043981,
              "Destination_Names": "Thora Beltrami",
              "Purchase_Count": 1,
              "Unnamed: 0": 449
             },
             {
              "Destination": 2038150,
              "Destination_Names": "Susie Daniels",
              "Purchase_Count": 1,
              "Unnamed: 0": 448
             },
             {
              "Destination": 2038055,
              "Destination_Names": "Harvey Frazier",
              "Purchase_Count": 1,
              "Unnamed: 0": 446
             },
             {
              "Destination": 2041810,
              "Destination_Names": "Lucille Morales",
              "Purchase_Count": 1,
              "Unnamed: 0": 445
             },
             {
              "Destination": 2037950,
              "Destination_Names": "Lillian Kennedy",
              "Purchase_Count": 1,
              "Unnamed: 0": 444
             },
             {
              "Destination": 2037918,
              "Destination_Names": "Ruby Davidson",
              "Purchase_Count": 1,
              "Unnamed: 0": 443
             },
             {
              "Destination": 2038047,
              "Destination_Names": "Man Maxedon",
              "Purchase_Count": 1,
              "Unnamed: 0": 15
             },
             {
              "Destination": 2038134,
              "Destination_Names": "Kendra Stash",
              "Purchase_Count": 1,
              "Unnamed: 0": 442
             },
             {
              "Destination": 2038125,
              "Destination_Names": "Jung Caselli",
              "Purchase_Count": 1,
              "Unnamed: 0": 441
             },
             {
              "Destination": 2037837,
              "Destination_Names": "Geri Nager",
              "Purchase_Count": 1,
              "Unnamed: 0": 440
             },
             {
              "Destination": 2037733,
              "Destination_Names": "Ellis Gabeline",
              "Purchase_Count": 1,
              "Unnamed: 0": 439
             },
             {
              "Destination": 2038003,
              "Destination_Names": "Jenice Savaria",
              "Purchase_Count": 1,
              "Unnamed: 0": 438
             },
             {
              "Destination": 2037736,
              "Destination_Names": "Ashlee Schur",
              "Purchase_Count": 1,
              "Unnamed: 0": 437
             },
             {
              "Destination": 2040626,
              "Destination_Names": "Travis Conner",
              "Purchase_Count": 1,
              "Unnamed: 0": 436
             },
             {
              "Destination": 2037734,
              "Destination_Names": "Pam Perrott",
              "Purchase_Count": 1,
              "Unnamed: 0": 434
             },
             {
              "Destination": 2037685,
              "Destination_Names": "Wanda Reddinger",
              "Purchase_Count": 1,
              "Unnamed: 0": 433
             },
             {
              "Destination": 2037848,
              "Destination_Names": "Ina Obrien",
              "Purchase_Count": 1,
              "Unnamed: 0": 432
             },
             {
              "Destination": 2037853,
              "Destination_Names": "Ollie Rivera",
              "Purchase_Count": 1,
              "Unnamed: 0": 27
             },
             {
              "Destination": 2038179,
              "Destination_Names": "Bettie Steele",
              "Purchase_Count": 1,
              "Unnamed: 0": 402
             },
             {
              "Destination": 2037892,
              "Destination_Names": "Jeanette Malone",
              "Purchase_Count": 1,
              "Unnamed: 0": 401
             },
             {
              "Destination": 2038096,
              "Destination_Names": "Lavenia Daddona",
              "Purchase_Count": 1,
              "Unnamed: 0": 247
             },
             {
              "Destination": 2038101,
              "Destination_Names": "Jordan Elliott",
              "Purchase_Count": 1,
              "Unnamed: 0": 380
             },
             {
              "Destination": 2037902,
              "Destination_Names": "Rory Ockmond",
              "Purchase_Count": 1,
              "Unnamed: 0": 367
             },
             {
              "Destination": 2037845,
              "Destination_Names": "Pinkie Vanandel",
              "Purchase_Count": 1,
              "Unnamed: 0": 385
             },
             {
              "Destination": 2038077,
              "Destination_Names": "Reta Klimkowicz",
              "Purchase_Count": 1,
              "Unnamed: 0": 384
             },
             {
              "Destination": 2040317,
              "Destination_Names": "Cassaundra Arthun",
              "Purchase_Count": 1,
              "Unnamed: 0": 363
             },
             {
              "Destination": 2037693,
              "Destination_Names": "Leila Bishop",
              "Purchase_Count": 1,
              "Unnamed: 0": 383
             },
             {
              "Destination": 2038056,
              "Destination_Names": "Elinor Heckerman",
              "Purchase_Count": 1,
              "Unnamed: 0": 382
             },
             {
              "Destination": 2038090,
              "Destination_Names": "Lurlene Cherian",
              "Purchase_Count": 1,
              "Unnamed: 0": 381
             },
             {
              "Destination": 2037971,
              "Destination_Names": "Lucille Wise",
              "Purchase_Count": 1,
              "Unnamed: 0": 400
             },
             {
              "Destination": 2037692,
              "Destination_Names": "Elida Talarico",
              "Purchase_Count": 1,
              "Unnamed: 0": 364
             },
             {
              "Destination": 2038119,
              "Destination_Names": "Hulda Owen",
              "Purchase_Count": 1,
              "Unnamed: 0": 365
             },
             {
              "Destination": 2037891,
              "Destination_Names": "Grace Farmer",
              "Purchase_Count": 1,
              "Unnamed: 0": 386
             },
             {
              "Destination": 2041373,
              "Destination_Names": "Valeria Batrum",
              "Purchase_Count": 1,
              "Unnamed: 0": 379
             },
             {
              "Destination": 2037993,
              "Destination_Names": "Armand Adside",
              "Purchase_Count": 1,
              "Unnamed: 0": 376
             },
             {
              "Destination": 2038033,
              "Destination_Names": "Marion Leonard",
              "Purchase_Count": 1,
              "Unnamed: 0": 375
             },
             {
              "Destination": 2037869,
              "Destination_Names": "Ivelisse Butkovich",
              "Purchase_Count": 1,
              "Unnamed: 0": 374
             },
             {
              "Destination": 2037917,
              "Destination_Names": "Luke Gross",
              "Purchase_Count": 1,
              "Unnamed: 0": 373
             },
             {
              "Destination": 2037931,
              "Destination_Names": "Somer Lofthouse",
              "Purchase_Count": 1,
              "Unnamed: 0": 372
             },
             {
              "Destination": 2037747,
              "Destination_Names": "Lou Klimaszewski",
              "Purchase_Count": 1,
              "Unnamed: 0": 371
             },
             {
              "Destination": 2037803,
              "Destination_Names": "Minh Orcutt",
              "Purchase_Count": 1,
              "Unnamed: 0": 370
             },
             {
              "Destination": 2037786,
              "Destination_Names": "Ann Kingshott",
              "Purchase_Count": 1,
              "Unnamed: 0": 94
             },
             {
              "Destination": 2037976,
              "Destination_Names": "Loise Gladhill",
              "Purchase_Count": 1,
              "Unnamed: 0": 369
             },
             {
              "Destination": 2037956,
              "Destination_Names": "Jon Obrien",
              "Purchase_Count": 1,
              "Unnamed: 0": 368
             },
             {
              "Destination": 2040572,
              "Destination_Names": "Eddy Faerber",
              "Purchase_Count": 1,
              "Unnamed: 0": 378
             },
             {
              "Destination": 2037910,
              "Destination_Names": "Nina Carr",
              "Purchase_Count": 1,
              "Unnamed: 0": 387
             },
             {
              "Destination": 2038165,
              "Destination_Names": "Candice Runge",
              "Purchase_Count": 1,
              "Unnamed: 0": 361
             },
             {
              "Destination": 2037863,
              "Destination_Names": "Tony Roberts",
              "Purchase_Count": 1,
              "Unnamed: 0": 392
             },
             {
              "Destination": 2037842,
              "Destination_Names": "Cody Thomas",
              "Purchase_Count": 1,
              "Unnamed: 0": 399
             },
             {
              "Destination": 2038023,
              "Destination_Names": "Mayme Moreno",
              "Purchase_Count": 1,
              "Unnamed: 0": 64
             },
             {
              "Destination": 2038068,
              "Destination_Names": "Santana Horak",
              "Purchase_Count": 1,
              "Unnamed: 0": 398
             },
             {
              "Destination": 2037882,
              "Destination_Names": "Rosa Cobb",
              "Purchase_Count": 1,
              "Unnamed: 0": 397
             },
             {
              "Destination": 2043386,
              "Destination_Names": "Jina Seiders",
              "Purchase_Count": 1,
              "Unnamed: 0": 67
             },
             {
              "Destination": 2043976,
              "Destination_Names": "Randy Berry",
              "Purchase_Count": 1,
              "Unnamed: 0": 396
             },
             {
              "Destination": 2037888,
              "Destination_Names": "Pearl Bell",
              "Purchase_Count": 1,
              "Unnamed: 0": 395
             },
             {
              "Destination": 2038117,
              "Destination_Names": "Ann Harvey",
              "Purchase_Count": 1,
              "Unnamed: 0": 394
             },
             {
              "Destination": 2037789,
              "Destination_Names": "Bailey Shoddie",
              "Purchase_Count": 1,
              "Unnamed: 0": 393
             },
             {
              "Destination": 2040609,
              "Destination_Names": "Monty Ashmen",
              "Purchase_Count": 1,
              "Unnamed: 0": 103
             },
             {
              "Destination": 2037866,
              "Destination_Names": "Opal Mock",
              "Purchase_Count": 1,
              "Unnamed: 0": 391
             },
             {
              "Destination": 2037852,
              "Destination_Names": "Ophelia Butler",
              "Purchase_Count": 1,
              "Unnamed: 0": 366
             },
             {
              "Destination": 2037914,
              "Destination_Names": "Myrtle Lawrence",
              "Purchase_Count": 1,
              "Unnamed: 0": 388
             },
             {
              "Destination": 2037743,
              "Destination_Names": "Shanice Nakahara",
              "Purchase_Count": 1,
              "Unnamed: 0": 390
             },
             {
              "Destination": 2040438,
              "Destination_Names": "Liberty Nuzum",
              "Purchase_Count": 1,
              "Unnamed: 0": 360
             },
             {
              "Destination": 2037904,
              "Destination_Names": "Yong Leyra",
              "Purchase_Count": 1,
              "Unnamed: 0": 359
             },
             {
              "Destination": 2037986,
              "Destination_Names": "Dora Atkins",
              "Purchase_Count": 1,
              "Unnamed: 0": 106
             },
             {
              "Destination": 2043973,
              "Destination_Names": "Whitney Rissman",
              "Purchase_Count": 1,
              "Unnamed: 0": 389
             },
             {
              "Destination": 2037905,
              "Destination_Names": "Melva Vassell",
              "Purchase_Count": 1,
              "Unnamed: 0": 358
             },
             {
              "Destination": 2038028,
              "Destination_Names": "Neville Roya",
              "Purchase_Count": 2,
              "Unnamed: 0": 252
             },
             {
              "Destination": 2038057,
              "Destination_Names": "Oliver Leuthe",
              "Purchase_Count": 2,
              "Unnamed: 0": 357
             },
             {
              "Destination": 2037865,
              "Destination_Names": "Evelia Duer",
              "Purchase_Count": 2,
              "Unnamed: 0": 260
             },
             {
              "Destination": 2037970,
              "Destination_Names": "Brenton Trucker",
              "Purchase_Count": 2,
              "Unnamed: 0": 346
             },
             {
              "Destination": 2038102,
              "Destination_Names": "Louis Ottman",
              "Purchase_Count": 2,
              "Unnamed: 0": 250
             },
             {
              "Destination": 2038172,
              "Destination_Names": "Duane Sylva",
              "Purchase_Count": 2,
              "Unnamed: 0": 251
             },
             {
              "Destination": 2038171,
              "Destination_Names": "Troy Morton",
              "Purchase_Count": 2,
              "Unnamed: 0": 262
             },
             {
              "Destination": 2038031,
              "Destination_Names": "Kia Halonen",
              "Purchase_Count": 2,
              "Unnamed: 0": 447
             },
             {
              "Destination": 2041379,
              "Destination_Names": "Jeremy Cravalho",
              "Purchase_Count": 2,
              "Unnamed: 0": 254
             },
             {
              "Destination": 2037901,
              "Destination_Names": "Tony Daffron",
              "Purchase_Count": 2,
              "Unnamed: 0": 350
             },
             {
              "Destination": 2038175,
              "Destination_Names": "Noelle Amarante",
              "Purchase_Count": 2,
              "Unnamed: 0": 259
             },
             {
              "Destination": 2038043,
              "Destination_Names": "Nestor Olguin",
              "Purchase_Count": 2,
              "Unnamed: 0": 308
             },
             {
              "Destination": 2037965,
              "Destination_Names": "Viki Shoulders",
              "Purchase_Count": 2,
              "Unnamed: 0": 277
             },
             {
              "Destination": 2037793,
              "Destination_Names": "Merry Blevans",
              "Purchase_Count": 2,
              "Unnamed: 0": 305
             },
             {
              "Destination": 2040631,
              "Destination_Names": "Jorge Burns",
              "Purchase_Count": 2,
              "Unnamed: 0": 406
             },
             {
              "Destination": 2037720,
              "Destination_Names": "Neal Blazon",
              "Purchase_Count": 2,
              "Unnamed: 0": 407
             },
             {
              "Destination": 2037696,
              "Destination_Names": "Cinthia Plante",
              "Purchase_Count": 2,
              "Unnamed: 0": 297
             },
             {
              "Destination": 2037735,
              "Destination_Names": "Genia Newmyer",
              "Purchase_Count": 2,
              "Unnamed: 0": 415
             },
             {
              "Destination": 2037936,
              "Destination_Names": "Vicky Goy",
              "Purchase_Count": 2,
              "Unnamed: 0": 296
             },
             {
              "Destination": 2037828,
              "Destination_Names": "Bennett Hess",
              "Purchase_Count": 2,
              "Unnamed: 0": 319
             },
             {
              "Destination": 2038048,
              "Destination_Names": "Jeanice Friar",
              "Purchase_Count": 2,
              "Unnamed: 0": 321
             },
             {
              "Destination": 2038108,
              "Destination_Names": "Conrad Mira",
              "Purchase_Count": 2,
              "Unnamed: 0": 435
             },
             {
              "Destination": 2038089,
              "Destination_Names": "Jason Jimenez",
              "Purchase_Count": 2,
              "Unnamed: 0": 322
             },
             {
              "Destination": 2040592,
              "Destination_Names": "Adam Ruiz",
              "Purchase_Count": 2,
              "Unnamed: 0": 287
             },
             {
              "Destination": 2038156,
              "Destination_Names": "Merry Diodonet",
              "Purchase_Count": 2,
              "Unnamed: 0": 285
             },
             {
              "Destination": 2037860,
              "Destination_Names": "Carlos Morris",
              "Purchase_Count": 2,
              "Unnamed: 0": 423
             },
             {
              "Destination": 2040601,
              "Destination_Names": "Jorge Patrick",
              "Purchase_Count": 2,
              "Unnamed: 0": 283
             },
             {
              "Destination": 2037836,
              "Destination_Names": "Ossie Barbeau",
              "Purchase_Count": 2,
              "Unnamed: 0": 282
             },
             {
              "Destination": 2037797,
              "Destination_Names": "Rolande Hargreaves",
              "Purchase_Count": 2,
              "Unnamed: 0": 325
             },
             {
              "Destination": 2038091,
              "Destination_Names": "Odell Surrey",
              "Purchase_Count": 2,
              "Unnamed: 0": 326
             },
             {
              "Destination": 2037922,
              "Destination_Names": "Tawny Rapko",
              "Purchase_Count": 2,
              "Unnamed: 0": 333
             },
             {
              "Destination": 2037718,
              "Destination_Names": "Aaron Cilva",
              "Purchase_Count": 2,
              "Unnamed: 0": 288
             },
             {
              "Destination": 2037759,
              "Destination_Names": "Clotilde Kinstle",
              "Purchase_Count": 2,
              "Unnamed: 0": 409
             },
             {
              "Destination": 2038011,
              "Destination_Names": "Letty Pontiff",
              "Purchase_Count": 2,
              "Unnamed: 0": 229
             },
             {
              "Destination": 2038097,
              "Destination_Names": "Hannelore Javarone",
              "Purchase_Count": 2,
              "Unnamed: 0": 248
             },
             {
              "Destination": 2038054,
              "Destination_Names": "Dennise Kinkella",
              "Purchase_Count": 2,
              "Unnamed: 0": 114
             },
             {
              "Destination": 2037992,
              "Destination_Names": "Darci Rodrigus",
              "Purchase_Count": 2,
              "Unnamed: 0": 165
             },
             {
              "Destination": 2040590,
              "Destination_Names": "Duane Harper",
              "Purchase_Count": 2,
              "Unnamed: 0": 202
             },
             {
              "Destination": 2037972,
              "Destination_Names": "Keli Kehn",
              "Purchase_Count": 2,
              "Unnamed: 0": 124
             },
             {
              "Destination": 2037856,
              "Destination_Names": "Elizebeth Berliew",
              "Purchase_Count": 2,
              "Unnamed: 0": 197
             },
             {
              "Destination": 2038024,
              "Destination_Names": "Carl Coxon",
              "Purchase_Count": 2,
              "Unnamed: 0": 128
             },
             {
              "Destination": 2037740,
              "Destination_Names": "Malik Rolland",
              "Purchase_Count": 2,
              "Unnamed: 0": 129
             },
             {
              "Destination": 2037770,
              "Destination_Names": "Grazyna Hustead",
              "Purchase_Count": 2,
              "Unnamed: 0": 131
             },
             {
              "Destination": 2037968,
              "Destination_Names": "Jame Wytch",
              "Purchase_Count": 2,
              "Unnamed: 0": 136
             },
             {
              "Destination": 2040392,
              "Destination_Names": "Kerry Jinkerson",
              "Purchase_Count": 2,
              "Unnamed: 0": 140
             },
             {
              "Destination": 2038173,
              "Destination_Names": "Alma Murray",
              "Purchase_Count": 2,
              "Unnamed: 0": 189
             },
             {
              "Destination": 2037933,
              "Destination_Names": "Louise Stevens",
              "Purchase_Count": 2,
              "Unnamed: 0": 210
             },
             {
              "Destination": 2037850,
              "Destination_Names": "Cora Hart",
              "Purchase_Count": 2,
              "Unnamed: 0": 186
             },
             {
              "Destination": 2040577,
              "Destination_Names": "Jeremiah Farmer",
              "Purchase_Count": 2,
              "Unnamed: 0": 182
             },
             {
              "Destination": 2037823,
              "Destination_Names": "Kerry Menousek",
              "Purchase_Count": 2,
              "Unnamed: 0": 155
             },
             {
              "Destination": 2037717,
              "Destination_Names": "Clara Singleton",
              "Purchase_Count": 2,
              "Unnamed: 0": 157
             },
             {
              "Destination": 2037861,
              "Destination_Names": "Jewell Dronet",
              "Purchase_Count": 2,
              "Unnamed: 0": 180
             },
             {
              "Destination": 2040557,
              "Destination_Names": "Alexander Sanchez",
              "Purchase_Count": 2,
              "Unnamed: 0": 177
             },
             {
              "Destination": 2037987,
              "Destination_Names": "Brunilda Colesar",
              "Purchase_Count": 2,
              "Unnamed: 0": 159
             },
             {
              "Destination": 2037794,
              "Destination_Names": "Erinn Anewalt",
              "Purchase_Count": 2,
              "Unnamed: 0": 173
             },
             {
              "Destination": 2038071,
              "Destination_Names": "Renee Knightstep",
              "Purchase_Count": 2,
              "Unnamed: 0": 172
             },
             {
              "Destination": 2037999,
              "Destination_Names": "Fannie Andrews",
              "Purchase_Count": 2,
              "Unnamed: 0": 161
             },
             {
              "Destination": 2037984,
              "Destination_Names": "Owen Ortega",
              "Purchase_Count": 2,
              "Unnamed: 0": 169
             },
             {
              "Destination": 2037997,
              "Destination_Names": "Edgar Lawson",
              "Purchase_Count": 2,
              "Unnamed: 0": 164
             },
             {
              "Destination": 2047240,
              "Destination_Names": "Duane Owens",
              "Purchase_Count": 2,
              "Unnamed: 0": 149
             },
             {
              "Destination": 2037780,
              "Destination_Names": "Maggie Manning",
              "Purchase_Count": 2,
              "Unnamed: 0": 105
             },
             {
              "Destination": 2037697,
              "Destination_Names": "Mary Brewer",
              "Purchase_Count": 2,
              "Unnamed: 0": 166
             },
             {
              "Destination": 2041386,
              "Destination_Names": "Carry Daryanl",
              "Purchase_Count": 2,
              "Unnamed: 0": 98
             },
             {
              "Destination": 2037798,
              "Destination_Names": "Carroll Hyrkas",
              "Purchase_Count": 2,
              "Unnamed: 0": 236
             },
             {
              "Destination": 2037880,
              "Destination_Names": "Emilio Cokel",
              "Purchase_Count": 2,
              "Unnamed: 0": 239
             },
             {
              "Destination": 2038111,
              "Destination_Names": "Lai Okelberry",
              "Purchase_Count": 2,
              "Unnamed: 0": 61
             },
             {
              "Destination": 2037967,
              "Destination_Names": "Charley Offermann",
              "Purchase_Count": 2,
              "Unnamed: 0": 81
             },
             {
              "Destination": 2038063,
              "Destination_Names": "Carmen Ting",
              "Purchase_Count": 2,
              "Unnamed: 0": 226
             },
             {
              "Destination": 2037761,
              "Destination_Names": "Anna Morren",
              "Purchase_Count": 2,
              "Unnamed: 0": 83
             },
             {
              "Destination": 2040594,
              "Destination_Names": "Christian Zierenberg",
              "Purchase_Count": 2,
              "Unnamed: 0": 233
             },
             {
              "Destination": 2040344,
              "Destination_Names": "Connor Fernandez",
              "Purchase_Count": 2,
              "Unnamed: 0": 220
             },
             {
              "Destination": 2037695,
              "Destination_Names": "Chasidy Clampitt",
              "Purchase_Count": 2,
              "Unnamed: 0": 68
             },
             {
              "Destination": 2037938,
              "Destination_Names": "Major Stokey",
              "Purchase_Count": 2,
              "Unnamed: 0": 87
             },
             {
              "Destination": 2038061,
              "Destination_Names": "Virginia Wheeler",
              "Purchase_Count": 2,
              "Unnamed: 0": 89
             },
             {
              "Destination": 2038012,
              "Destination_Names": "Perla Matney",
              "Purchase_Count": 2,
              "Unnamed: 0": 17
             },
             {
              "Destination": 2038053,
              "Destination_Names": "Kenneth Little",
              "Purchase_Count": 2,
              "Unnamed: 0": 95
             },
             {
              "Destination": 2038126,
              "Destination_Names": "Sudie Hulslander",
              "Purchase_Count": 2,
              "Unnamed: 0": 215
             },
             {
              "Destination": 2040312,
              "Destination_Names": "Eleonore Mikelsen",
              "Purchase_Count": 2,
              "Unnamed: 0": 244
             },
             {
              "Destination": 2038159,
              "Destination_Names": "Albert Doshier",
              "Purchase_Count": 2,
              "Unnamed: 0": 241
             },
             {
              "Destination": 2038014,
              "Destination_Names": "Wesley Andaverde",
              "Purchase_Count": 3,
              "Unnamed: 0": 39
             },
             {
              "Destination": 2038032,
              "Destination_Names": "Priscila Gooch",
              "Purchase_Count": 3,
              "Unnamed: 0": 30
             },
             {
              "Destination": 2037766,
              "Destination_Names": "Gregory Russell",
              "Purchase_Count": 3,
              "Unnamed: 0": 414
             },
             {
              "Destination": 2038035,
              "Destination_Names": "Corazon Ney",
              "Purchase_Count": 3,
              "Unnamed: 0": 33
             },
             {
              "Destination": 2038026,
              "Destination_Names": "Victoria Woods",
              "Purchase_Count": 3,
              "Unnamed: 0": 80
             },
             {
              "Destination": 2037688,
              "Destination_Names": "Gordon Perez",
              "Purchase_Count": 3,
              "Unnamed: 0": 77
             },
             {
              "Destination": 2037958,
              "Destination_Names": "Russell Sterr",
              "Purchase_Count": 3,
              "Unnamed: 0": 328
             },
             {
              "Destination": 2037781,
              "Destination_Names": "Reyna Eclarinal",
              "Purchase_Count": 3,
              "Unnamed: 0": 362
             },
             {
              "Destination": 2038000,
              "Destination_Names": "Fern Przybycien",
              "Purchase_Count": 3,
              "Unnamed: 0": 143
             },
             {
              "Destination": 2038100,
              "Destination_Names": "Wenona Bradmon",
              "Purchase_Count": 3,
              "Unnamed: 0": 330
             },
             {
              "Destination": 2037742,
              "Destination_Names": "Sophia Medina",
              "Purchase_Count": 3,
              "Unnamed: 0": 86
             },
             {
              "Destination": 2038149,
              "Destination_Names": "Darius Jinks",
              "Purchase_Count": 3,
              "Unnamed: 0": 340
             },
             {
              "Destination": 2038180,
              "Destination_Names": "Rosalyn Maclay",
              "Purchase_Count": 3,
              "Unnamed: 0": 377
             },
             {
              "Destination": 2038016,
              "Destination_Names": "Davina Perrota",
              "Purchase_Count": 3,
              "Unnamed: 0": 121
             },
             {
              "Destination": 2037777,
              "Destination_Names": "Carlo Castillero",
              "Purchase_Count": 3,
              "Unnamed: 0": 352
             },
             {
              "Destination": 2038152,
              "Destination_Names": "Viola Vasquez",
              "Purchase_Count": 3,
              "Unnamed: 0": 107
             },
             {
              "Destination": 2038141,
              "Destination_Names": "Randy Pena",
              "Purchase_Count": 3,
              "Unnamed: 0": 327
             },
             {
              "Destination": 2037955,
              "Destination_Names": "Ollie Lindsey",
              "Purchase_Count": 3,
              "Unnamed: 0": 245
             },
             {
              "Destination": 2037763,
              "Destination_Names": "Maryrose Schryver",
              "Purchase_Count": 3,
              "Unnamed: 0": 118
             },
             {
              "Destination": 2038138,
              "Destination_Names": "Tyree Barreneche",
              "Purchase_Count": 3,
              "Unnamed: 0": 188
             },
             {
              "Destination": 2037868,
              "Destination_Names": "Kate Burton",
              "Purchase_Count": 3,
              "Unnamed: 0": 227
             },
             {
              "Destination": 2038062,
              "Destination_Names": "Ozell Lampkins",
              "Purchase_Count": 3,
              "Unnamed: 0": 263
             },
             {
              "Destination": 2038162,
              "Destination_Names": "Sasha Papagni",
              "Purchase_Count": 3,
              "Unnamed: 0": 167
             },
             {
              "Destination": 2040309,
              "Destination_Names": "Eric Schneider",
              "Purchase_Count": 3,
              "Unnamed: 0": 272
             },
             {
              "Destination": 2037998,
              "Destination_Names": "Emilia Zanin",
              "Purchase_Count": 3,
              "Unnamed: 0": 204
             },
             {
              "Destination": 2038122,
              "Destination_Names": "Francina Jinkens",
              "Purchase_Count": 3,
              "Unnamed: 0": 213
             },
             {
              "Destination": 2037851,
              "Destination_Names": "Deon Boldman",
              "Purchase_Count": 3,
              "Unnamed: 0": 257
             },
             {
              "Destination": 2038017,
              "Destination_Names": "Octavia Rallison",
              "Purchase_Count": 3,
              "Unnamed: 0": 300
             },
             {
              "Destination": 2040630,
              "Destination_Names": "Alberto Osbourn",
              "Purchase_Count": 3,
              "Unnamed: 0": 267
             },
             {
              "Destination": 2037920,
              "Destination_Names": "Julieann Terheggen",
              "Purchase_Count": 3,
              "Unnamed: 0": 255
             },
             {
              "Destination": 2038084,
              "Destination_Names": "Jeannine Riccardi",
              "Purchase_Count": 3,
              "Unnamed: 0": 217
             },
             {
              "Destination": 2037788,
              "Destination_Names": "Miesha Ostrum",
              "Purchase_Count": 3,
              "Unnamed: 0": 192
             },
             {
              "Destination": 2037932,
              "Destination_Names": "Janie Roberson",
              "Purchase_Count": 3,
              "Unnamed: 0": 292
             },
             {
              "Destination": 2038072,
              "Destination_Names": "Toccara Kempa",
              "Purchase_Count": 4,
              "Unnamed: 0": 291
             },
             {
              "Destination": 2038144,
              "Destination_Names": "Iva Cook",
              "Purchase_Count": 4,
              "Unnamed: 0": 191
             },
             {
              "Destination": 2037691,
              "Destination_Names": "Mary Robinson",
              "Purchase_Count": 4,
              "Unnamed: 0": 122
             },
             {
              "Destination": 2038051,
              "Destination_Names": "Anastacia Suri",
              "Purchase_Count": 4,
              "Unnamed: 0": 195
             },
             {
              "Destination": 2037784,
              "Destination_Names": "Sierra Denherder",
              "Purchase_Count": 4,
              "Unnamed: 0": 231
             },
             {
              "Destination": 2038131,
              "Destination_Names": "Diamond Hollenbach",
              "Purchase_Count": 4,
              "Unnamed: 0": 190
             },
             {
              "Destination": 2037990,
              "Destination_Names": "Susana Ganser",
              "Purchase_Count": 4,
              "Unnamed: 0": 343
             },
             {
              "Destination": 2038079,
              "Destination_Names": "Denna Slemmer",
              "Purchase_Count": 4,
              "Unnamed: 0": 242
             },
             {
              "Destination": 2037771,
              "Destination_Names": "Sherrell Macdonald",
              "Purchase_Count": 4,
              "Unnamed: 0": 183
             },
             {
              "Destination": 2038050,
              "Destination_Names": "Andre Gregory",
              "Purchase_Count": 4,
              "Unnamed: 0": 280
             },
             {
              "Destination": 2041370,
              "Destination_Names": "Griselda Protain",
              "Purchase_Count": 4,
              "Unnamed: 0": 73
             },
             {
              "Destination": 2037821,
              "Destination_Names": "Daniela Oharra",
              "Purchase_Count": 4,
              "Unnamed: 0": 156
             },
             {
              "Destination": 2037994,
              "Destination_Names": "Lola Wilson",
              "Purchase_Count": 4,
              "Unnamed: 0": 170
             },
             {
              "Destination": 2037750,
              "Destination_Names": "Joann Wallgren",
              "Purchase_Count": 5,
              "Unnamed: 0": 123
             },
             {
              "Destination": 2037915,
              "Destination_Names": "Chris Jefferson",
              "Purchase_Count": 5,
              "Unnamed: 0": 199
             },
             {
              "Destination": 2037981,
              "Destination_Names": "Harrison Chalaban",
              "Purchase_Count": 5,
              "Unnamed: 0": 104
             },
             {
              "Destination": 2037989,
              "Destination_Names": "Karisa Filosa",
              "Purchase_Count": 5,
              "Unnamed: 0": 91
             },
             {
              "Destination": 2037700,
              "Destination_Names": "Gene Marsh",
              "Purchase_Count": 5,
              "Unnamed: 0": 256
             },
             {
              "Destination": 2038070,
              "Destination_Names": "Tyler Miles",
              "Purchase_Count": 5,
              "Unnamed: 0": 134
             },
             {
              "Destination": 2037690,
              "Destination_Names": "Donald Washington",
              "Purchase_Count": 5,
              "Unnamed: 0": 243
             },
             {
              "Destination": 2037975,
              "Destination_Names": "Kenneth Holt",
              "Purchase_Count": 5,
              "Unnamed: 0": 82
             },
             {
              "Destination": 2038005,
              "Destination_Names": "Felton Lawcewicz",
              "Purchase_Count": 5,
              "Unnamed: 0": 142
             },
             {
              "Destination": 2040454,
              "Destination_Names": "Rosendo Esteve",
              "Purchase_Count": 5,
              "Unnamed: 0": 144
             },
             {
              "Destination": 2038154,
              "Destination_Names": "Luis Higgins",
              "Purchase_Count": 5,
              "Unnamed: 0": 148
             },
             {
              "Destination": 2040349,
              "Destination_Names": "Andria Tumulty",
              "Purchase_Count": 5,
              "Unnamed: 0": 230
             },
             {
              "Destination": 2037859,
              "Destination_Names": "Eric Atkins",
              "Purchase_Count": 5,
              "Unnamed: 0": 75
             },
             {
              "Destination": 2037689,
              "Destination_Names": "Aisha Stafford",
              "Purchase_Count": 5,
              "Unnamed: 0": 211
             },
             {
              "Destination": 2044645,
              "Destination_Names": "Oscar Hutley",
              "Purchase_Count": 6,
              "Unnamed: 0": 218
             },
             {
              "Destination": 2037769,
              "Destination_Names": "Floy Warholic",
              "Purchase_Count": 6,
              "Unnamed: 0": 47
             },
             {
              "Destination": 2038007,
              "Destination_Names": "Carolyn Hines",
              "Purchase_Count": 6,
              "Unnamed: 0": 99
             },
             {
              "Destination": 2038001,
              "Destination_Names": "Gabrielle Iarussi",
              "Purchase_Count": 6,
              "Unnamed: 0": 72
             },
             {
              "Destination": 2037824,
              "Destination_Names": "Demetria Mckibbens",
              "Purchase_Count": 6,
              "Unnamed: 0": 71
             },
             {
              "Destination": 2037978,
              "Destination_Names": "Wayne Ahne",
              "Purchase_Count": 6,
              "Unnamed: 0": 216
             },
             {
              "Destination": 2040467,
              "Destination_Names": "Frederica Guillan",
              "Purchase_Count": 6,
              "Unnamed: 0": 309
             },
             {
              "Destination": 2037820,
              "Destination_Names": "Cristina Leber",
              "Purchase_Count": 6,
              "Unnamed: 0": 18
             },
             {
              "Destination": 2037708,
              "Destination_Names": "Marya Stetler",
              "Purchase_Count": 6,
              "Unnamed: 0": 181
             },
             {
              "Destination": 2037877,
              "Destination_Names": "Seymour Johndrow",
              "Purchase_Count": 6,
              "Unnamed: 0": 153
             },
             {
              "Destination": 2037698,
              "Destination_Names": "Betty Summers",
              "Purchase_Count": 6,
              "Unnamed: 0": 152
             },
             {
              "Destination": 2037847,
              "Destination_Names": "Manuel Allison",
              "Purchase_Count": 6,
              "Unnamed: 0": 20
             },
             {
              "Destination": 2037941,
              "Destination_Names": "Yon Shilleh",
              "Purchase_Count": 6,
              "Unnamed: 0": 281
             },
             {
              "Destination": 2037870,
              "Destination_Names": "Hettie Gray",
              "Purchase_Count": 6,
              "Unnamed: 0": 240
             },
             {
              "Destination": 2038013,
              "Destination_Names": "Gabriella Striegel",
              "Purchase_Count": 7,
              "Unnamed: 0": 96
             },
             {
              "Destination": 2037808,
              "Destination_Names": "Elvis Drilling",
              "Purchase_Count": 7,
              "Unnamed: 0": 101
             },
             {
              "Destination": 2038078,
              "Destination_Names": "Cordelia Critcher",
              "Purchase_Count": 7,
              "Unnamed: 0": 200
             },
             {
              "Destination": 2037774,
              "Destination_Names": "Nannie Bennett",
              "Purchase_Count": 7,
              "Unnamed: 0": 126
             },
             {
              "Destination": 2038092,
              "Destination_Names": "Norman Shaw",
              "Purchase_Count": 8,
              "Unnamed: 0": 109
             },
             {
              "Destination": 2040550,
              "Destination_Names": "Bradley Daniel",
              "Purchase_Count": 8,
              "Unnamed: 0": 16
             },
             {
              "Destination": 2038139,
              "Destination_Names": "Roy Rhodes",
              "Purchase_Count": 8,
              "Unnamed: 0": 42
             },
             {
              "Destination": 2037943,
              "Destination_Names": "Johnnie Enslow",
              "Purchase_Count": 8,
              "Unnamed: 0": 194
             },
             {
              "Destination": 2038127,
              "Destination_Names": "Harris Dearmas",
              "Purchase_Count": 8,
              "Unnamed: 0": 222
             },
             {
              "Destination": 2040378,
              "Destination_Names": "Lashaunda Mautone",
              "Purchase_Count": 8,
              "Unnamed: 0": 102
             },
             {
              "Destination": 2038075,
              "Destination_Names": "Dustin Poskitt",
              "Purchase_Count": 8,
              "Unnamed: 0": 120
             },
             {
              "Destination": 2040591,
              "Destination_Names": "Kenny Miskiewicz",
              "Purchase_Count": 9,
              "Unnamed: 0": 174
             },
             {
              "Destination": 2045457,
              "Destination_Names": "Armand Millerbernd",
              "Purchase_Count": 9,
              "Unnamed: 0": 70
             },
             {
              "Destination": 2038021,
              "Destination_Names": "Lilli Samsel",
              "Purchase_Count": 9,
              "Unnamed: 0": 203
             },
             {
              "Destination": 2037701,
              "Destination_Names": "Lola Lloyd",
              "Purchase_Count": 9,
              "Unnamed: 0": 145
             },
             {
              "Destination": 2037876,
              "Destination_Names": "Jamika Glines",
              "Purchase_Count": 9,
              "Unnamed: 0": 184
             },
             {
              "Destination": 2038049,
              "Destination_Names": "Jake Dececco",
              "Purchase_Count": 9,
              "Unnamed: 0": 60
             },
             {
              "Destination": 2038059,
              "Destination_Names": "Irwin Ellender",
              "Purchase_Count": 9,
              "Unnamed: 0": 125
             },
             {
              "Destination": 2038045,
              "Destination_Names": "Ashly Reischl",
              "Purchase_Count": 10,
              "Unnamed: 0": 92
             },
             {
              "Destination": 2038029,
              "Destination_Names": "Martine Hanlin",
              "Purchase_Count": 10,
              "Unnamed: 0": 48
             },
             {
              "Destination": 2037748,
              "Destination_Names": "Amy Malone",
              "Purchase_Count": 11,
              "Unnamed: 0": 55
             },
             {
              "Destination": 2038030,
              "Destination_Names": "Amelia Becker",
              "Purchase_Count": 11,
              "Unnamed: 0": 62
             },
             {
              "Destination": 2037952,
              "Destination_Names": "Willie Byrd",
              "Purchase_Count": 11,
              "Unnamed: 0": 154
             },
             {
              "Destination": 2038018,
              "Destination_Names": "Lynelle Skildum",
              "Purchase_Count": 12,
              "Unnamed: 0": 151
             },
             {
              "Destination": 2040390,
              "Destination_Names": "Alvaro Beers",
              "Purchase_Count": 12,
              "Unnamed: 0": 59
             },
             {
              "Destination": 2037872,
              "Destination_Names": "Sophia Blair",
              "Purchase_Count": 12,
              "Unnamed: 0": 38
             },
             {
              "Destination": 2038019,
              "Destination_Names": "Carolyn Howard",
              "Purchase_Count": 13,
              "Unnamed: 0": 108
             },
             {
              "Destination": 2037704,
              "Destination_Names": "Charlsie Lesa",
              "Purchase_Count": 13,
              "Unnamed: 0": 12
             },
             {
              "Destination": 2037927,
              "Destination_Names": "Blanche Mason",
              "Purchase_Count": 14,
              "Unnamed: 0": 79
             },
             {
              "Destination": 2040582,
              "Destination_Names": "Stephen Peterson",
              "Purchase_Count": 14,
              "Unnamed: 0": 78
             },
             {
              "Destination": 2038022,
              "Destination_Names": "Rocky Hassett",
              "Purchase_Count": 15,
              "Unnamed: 0": 100
             },
             {
              "Destination": 2038060,
              "Destination_Names": "Roberto Amphy",
              "Purchase_Count": 15,
              "Unnamed: 0": 130
             },
             {
              "Destination": 2038044,
              "Destination_Names": "Sidney Simien",
              "Purchase_Count": 15,
              "Unnamed: 0": 24
             },
             {
              "Destination": 2038164,
              "Destination_Names": "Kimbery Demmert",
              "Purchase_Count": 16,
              "Unnamed: 0": 193
             },
             {
              "Destination": 2037962,
              "Destination_Names": "Charmain Olenick",
              "Purchase_Count": 16,
              "Unnamed: 0": 57
             },
             {
              "Destination": 2038166,
              "Destination_Names": "Mattie Perez",
              "Purchase_Count": 17,
              "Unnamed: 0": 119
             },
             {
              "Destination": 2038025,
              "Destination_Names": "Miriam Franch",
              "Purchase_Count": 18,
              "Unnamed: 0": 52
             },
             {
              "Destination": 2038145,
              "Destination_Names": "Lola Haynes",
              "Purchase_Count": 19,
              "Unnamed: 0": 54
             },
             {
              "Destination": 2040585,
              "Destination_Names": "Rita Cassem",
              "Purchase_Count": 19,
              "Unnamed: 0": 23
             },
             {
              "Destination": 2038160,
              "Destination_Names": "Suzette Sienicki",
              "Purchase_Count": 20,
              "Unnamed: 0": 93
             },
             {
              "Destination": 2037835,
              "Destination_Names": "Benjamin Rimbach",
              "Purchase_Count": 22,
              "Unnamed: 0": 58
             },
             {
              "Destination": 2038137,
              "Destination_Names": "Magdalena Gehm",
              "Purchase_Count": 22,
              "Unnamed: 0": 212
             },
             {
              "Destination": 2037811,
              "Destination_Names": "Steven Nichols",
              "Purchase_Count": 22,
              "Unnamed: 0": 84
             },
             {
              "Destination": 2040597,
              "Destination_Names": "Dwayne Fyock",
              "Purchase_Count": 23,
              "Unnamed: 0": 85
             },
             {
              "Destination": 2040314,
              "Destination_Names": "Dora Resek",
              "Purchase_Count": 23,
              "Unnamed: 0": 43
             },
             {
              "Destination": 2040311,
              "Destination_Names": "Kirby Liter",
              "Purchase_Count": 23,
              "Unnamed: 0": 139
             },
             {
              "Destination": 2038170,
              "Destination_Names": "Karrie Tennent",
              "Purchase_Count": 24,
              "Unnamed: 0": 49
             },
             {
              "Destination": 2037912,
              "Destination_Names": "Winnie Byrd",
              "Purchase_Count": 25,
              "Unnamed: 0": 90
             },
             {
              "Destination": 2037896,
              "Destination_Names": "Catrice Reho",
              "Purchase_Count": 25,
              "Unnamed: 0": 25
             },
             {
              "Destination": 2037687,
              "Destination_Names": "Lessie Tutor",
              "Purchase_Count": 25,
              "Unnamed: 0": 88
             },
             {
              "Destination": 2038040,
              "Destination_Names": "Anastacia Henriques",
              "Purchase_Count": 25,
              "Unnamed: 0": 7
             },
             {
              "Destination": 2038041,
              "Destination_Names": "Chi Eichhorst",
              "Purchase_Count": 25,
              "Unnamed: 0": 40
             },
             {
              "Destination": 2038148,
              "Destination_Names": "Milly Kokesh",
              "Purchase_Count": 26,
              "Unnamed: 0": 50
             },
             {
              "Destination": 2040490,
              "Destination_Names": "Carli Agostino",
              "Purchase_Count": 27,
              "Unnamed: 0": 46
             },
             {
              "Destination": 2038147,
              "Destination_Names": "Brandon Carr",
              "Purchase_Count": 28,
              "Unnamed: 0": 34
             },
             {
              "Destination": 2038046,
              "Destination_Names": "Nerissa Ovalles",
              "Purchase_Count": 30,
              "Unnamed: 0": 97
             },
             {
              "Destination": 2037871,
              "Destination_Names": "Cynthia Knight",
              "Purchase_Count": 30,
              "Unnamed: 0": 138
             },
             {
              "Destination": 2040310,
              "Destination_Names": "Melvin Washington",
              "Purchase_Count": 31,
              "Unnamed: 0": 14
             },
             {
              "Destination": 2040578,
              "Destination_Names": "Forrest Murrah",
              "Purchase_Count": 33,
              "Unnamed: 0": 69
             },
             {
              "Destination": 2038015,
              "Destination_Names": "Maude Hammond",
              "Purchase_Count": 34,
              "Unnamed: 0": 10
             },
             {
              "Destination": 2037725,
              "Destination_Names": "Vanesa Chartier",
              "Purchase_Count": 35,
              "Unnamed: 0": 65
             },
             {
              "Destination": 2037934,
              "Destination_Names": "Galen Granelli",
              "Purchase_Count": 38,
              "Unnamed: 0": 127
             },
             {
              "Destination": 2038010,
              "Destination_Names": "Rochel Mirr",
              "Purchase_Count": 40,
              "Unnamed: 0": 76
             },
             {
              "Destination": 2038143,
              "Destination_Names": "Marguerite Rivera",
              "Purchase_Count": 41,
              "Unnamed: 0": 51
             },
             {
              "Destination": 2037816,
              "Destination_Names": "Mabel Gilbert",
              "Purchase_Count": 43,
              "Unnamed: 0": 63
             },
             {
              "Destination": 2038178,
              "Destination_Names": "Demetria Murff",
              "Purchase_Count": 51,
              "Unnamed: 0": 41
             },
             {
              "Destination": 2037758,
              "Destination_Names": "Christeen Gulliver",
              "Purchase_Count": 53,
              "Unnamed: 0": 115
             },
             {
              "Destination": 2038002,
              "Destination_Names": "Janette Laffoon",
              "Purchase_Count": 61,
              "Unnamed: 0": 74
             },
             {
              "Destination": 2037706,
              "Destination_Names": "Amal Horman",
              "Purchase_Count": 70,
              "Unnamed: 0": 11
             },
             {
              "Destination": 2037825,
              "Destination_Names": "Rodney Mason",
              "Purchase_Count": 75,
              "Unnamed: 0": 66
             },
             {
              "Destination": 2038008,
              "Destination_Names": "Cora Douglas",
              "Purchase_Count": 76,
              "Unnamed: 0": 36
             },
             {
              "Destination": 2038052,
              "Destination_Names": "Tom Langman",
              "Purchase_Count": 81,
              "Unnamed: 0": 26
             },
             {
              "Destination": 2037832,
              "Destination_Names": "Shaunte Wair",
              "Purchase_Count": 82,
              "Unnamed: 0": 22
             },
             {
              "Destination": 2037924,
              "Destination_Names": "Juli Grossmeyer",
              "Purchase_Count": 87,
              "Unnamed: 0": 21
             },
             {
              "Destination": 2038073,
              "Destination_Names": "Melvin Taliman",
              "Purchase_Count": 87,
              "Unnamed: 0": 13
             },
             {
              "Destination": 2038042,
              "Destination_Names": "Ardella Slifko",
              "Purchase_Count": 90,
              "Unnamed: 0": 29
             },
             {
              "Destination": 2037930,
              "Destination_Names": "Jenae Muldowney",
              "Purchase_Count": 118,
              "Unnamed: 0": 9
             },
             {
              "Destination": 2040484,
              "Destination_Names": "Dina Arrojo",
              "Purchase_Count": 130,
              "Unnamed: 0": 53
             },
             {
              "Destination": 2038076,
              "Destination_Names": "Cira Brookshire",
              "Purchase_Count": 133,
              "Unnamed: 0": 31
             },
             {
              "Destination": 2038176,
              "Destination_Names": "Corey Jefferson",
              "Purchase_Count": 179,
              "Unnamed: 0": 32
             },
             {
              "Destination": 2037699,
              "Destination_Names": "Lois Dixon",
              "Purchase_Count": 193,
              "Unnamed: 0": 19
             },
             {
              "Destination": 2037760,
              "Destination_Names": "Robert Wallace",
              "Purchase_Count": 210,
              "Unnamed: 0": 8
             },
             {
              "Destination": 2040623,
              "Destination_Names": "Micha Werries",
              "Purchase_Count": 210,
              "Unnamed: 0": 4
             },
             {
              "Destination": 2037754,
              "Destination_Names": "Celina Orellama",
              "Purchase_Count": 272,
              "Unnamed: 0": 28
             },
             {
              "Destination": 2037827,
              "Destination_Names": "Brittanie Spadlin",
              "Purchase_Count": 392,
              "Unnamed: 0": 37
             },
             {
              "Destination": 2037694,
              "Destination_Names": "Ernest Patterson",
              "Purchase_Count": 990,
              "Unnamed: 0": 6
             },
             {
              "Destination": 2037744,
              "Destination_Names": "Miesha Lettsome",
              "Purchase_Count": 1902,
              "Unnamed: 0": 2
             },
             {
              "Destination": 2040624,
              "Destination_Names": "Torri Devilliers",
              "Purchase_Count": 2385,
              "Unnamed: 0": 1
             },
             {
              "Destination": 2038155,
              "Destination_Names": "Brandon Bradley",
              "Purchase_Count": 2590,
              "Unnamed: 0": 3
             },
             {
              "Destination": 2040339,
              "Destination_Names": "Fairy Boratko",
              "Purchase_Count": 4798,
              "Unnamed: 0": 5
             },
             {
              "Destination": 2040565,
              "Destination_Names": "Gail Feindt",
              "Purchase_Count": 745027,
              "Unnamed: 0": 0
             }
            ]
           },
           "encoding": {
            "tooltip": {
             "field": "Destination_Names",
             "type": "nominal"
            },
            "x": {
             "field": "Purchase_Count",
             "type": "quantitative"
            },
            "y": {
             "field": "Destination",
             "type": "quantitative"
            }
           },
           "mark": "point",
           "selection": {
            "selector129": {
             "bind": "scales",
             "encodings": [
              "x",
              "y"
             ],
             "mark": {
              "fill": "#333",
              "fillOpacity": 0.125,
              "stroke": "white"
             },
             "on": "[mousedown, window:mouseup] > window:mousemove!",
             "resolve": "global",
             "translate": "[mousedown, window:mouseup] > window:mousemove!",
             "type": "interval",
             "zoom": "wheel!"
            }
           },
           "transform": [
            {
             "filter": {
              "selection": "selector118"
             }
            }
           ]
          }
         ]
        },
        {
         "data": {
          "values": [
           {
            "Destination": 2037791,
            "Destination_Names": "Brett Higgins",
            "Purchase_Count": 1,
            "Unnamed: 0": 458
           },
           {
            "Destination": 2037741,
            "Destination_Names": "Justin Harvey",
            "Purchase_Count": 1,
            "Unnamed: 0": 146
           },
           {
            "Destination": 2037815,
            "Destination_Names": "Winnie Klein",
            "Purchase_Count": 1,
            "Unnamed: 0": 147
           },
           {
            "Destination": 2037873,
            "Destination_Names": "Danielle Yu",
            "Purchase_Count": 1,
            "Unnamed: 0": 324
           },
           {
            "Destination": 2037947,
            "Destination_Names": "Belle Houston",
            "Purchase_Count": 1,
            "Unnamed: 0": 323
           },
           {
            "Destination": 2037944,
            "Destination_Names": "Diamond Olexa",
            "Purchase_Count": 1,
            "Unnamed: 0": 150
           },
           {
            "Destination": 2037874,
            "Destination_Names": "Dorotha Mosey",
            "Purchase_Count": 1,
            "Unnamed: 0": 320
           },
           {
            "Destination": 2037957,
            "Destination_Names": "Aisha Misner",
            "Purchase_Count": 1,
            "Unnamed: 0": 318
           },
           {
            "Destination": 2037960,
            "Destination_Names": "Andy Geyette",
            "Purchase_Count": 1,
            "Unnamed: 0": 317
           },
           {
            "Destination": 2037855,
            "Destination_Names": "Tonia Anawalt",
            "Purchase_Count": 1,
            "Unnamed: 0": 316
           },
           {
            "Destination": 2043367,
            "Destination_Names": "Kaitlyn Focke",
            "Purchase_Count": 1,
            "Unnamed: 0": 158
           },
           {
            "Destination": 2040308,
            "Destination_Names": "Sadie Elliott",
            "Purchase_Count": 1,
            "Unnamed: 0": 315
           },
           {
            "Destination": 2037928,
            "Destination_Names": "Caroline Stanley",
            "Purchase_Count": 1,
            "Unnamed: 0": 329
           },
           {
            "Destination": 2037979,
            "Destination_Names": "Loree Acero",
            "Purchase_Count": 1,
            "Unnamed: 0": 160
           },
           {
            "Destination": 2037977,
            "Destination_Names": "Lizzie Cross",
            "Purchase_Count": 1,
            "Unnamed: 0": 162
           },
           {
            "Destination": 2037886,
            "Destination_Names": "Juan Cabiltes",
            "Purchase_Count": 1,
            "Unnamed: 0": 163
           },
           {
            "Destination": 2037767,
            "Destination_Names": "Natalia Macomber",
            "Purchase_Count": 1,
            "Unnamed: 0": 313
           },
           {
            "Destination": 2037843,
            "Destination_Names": "Pamella Schroy",
            "Purchase_Count": 1,
            "Unnamed: 0": 312
           },
           {
            "Destination": 2037857,
            "Destination_Names": "Claude Chesterfield",
            "Purchase_Count": 1,
            "Unnamed: 0": 311
           },
           {
            "Destination": 2037841,
            "Destination_Names": "Elsie Potter",
            "Purchase_Count": 1,
            "Unnamed: 0": 310
           },
           {
            "Destination": 2037945,
            "Destination_Names": "Bernice Figueroa",
            "Purchase_Count": 1,
            "Unnamed: 0": 168
           },
           {
            "Destination": 2040993,
            "Destination_Names": "Mamie Wheeler",
            "Purchase_Count": 1,
            "Unnamed: 0": 307
           },
           {
            "Destination": 2037983,
            "Destination_Names": "Shannan Fesenbek",
            "Purchase_Count": 1,
            "Unnamed: 0": 171
           },
           {
            "Destination": 2037749,
            "Destination_Names": "Jewell Maiorano",
            "Purchase_Count": 1,
            "Unnamed: 0": 306
           },
           {
            "Destination": 2037711,
            "Destination_Names": "David Simon",
            "Purchase_Count": 1,
            "Unnamed: 0": 304
           },
           {
            "Destination": 2037881,
            "Destination_Names": "Hester Parsons",
            "Purchase_Count": 1,
            "Unnamed: 0": 314
           },
           {
            "Destination": 2041367,
            "Destination_Names": "Effie Freeman",
            "Purchase_Count": 1,
            "Unnamed: 0": 175
           },
           {
            "Destination": 2037923,
            "Destination_Names": "Minnie Hopkins",
            "Purchase_Count": 1,
            "Unnamed: 0": 331
           },
           {
            "Destination": 2040313,
            "Destination_Names": "Mac Berisha",
            "Purchase_Count": 1,
            "Unnamed: 0": 332
           },
           {
            "Destination": 2044046,
            "Destination_Names": "Jenee Pentecost",
            "Purchase_Count": 1,
            "Unnamed: 0": 113
           },
           {
            "Destination": 2037804,
            "Destination_Names": "Cody Mullins",
            "Purchase_Count": 1,
            "Unnamed: 0": 355
           },
           {
            "Destination": 2038124,
            "Destination_Names": "Bettie Vargas",
            "Purchase_Count": 1,
            "Unnamed: 0": 354
           },
           {
            "Destination": 2037762,
            "Destination_Names": "Laura Cox",
            "Purchase_Count": 1,
            "Unnamed: 0": 116
           },
           {
            "Destination": 2038058,
            "Destination_Names": "Shela Cordoza",
            "Purchase_Count": 1,
            "Unnamed: 0": 117
           },
           {
            "Destination": 2038181,
            "Destination_Names": "Ernestina Paskow",
            "Purchase_Count": 1,
            "Unnamed: 0": 353
           },
           {
            "Destination": 2037907,
            "Destination_Names": "Sherita Herkel",
            "Purchase_Count": 1,
            "Unnamed: 0": 351
           },
           {
            "Destination": 2038099,
            "Destination_Names": "Cristopher Oehlschlager",
            "Purchase_Count": 1,
            "Unnamed: 0": 349
           },
           {
            "Destination": 2037908,
            "Destination_Names": "Leila Wade",
            "Purchase_Count": 1,
            "Unnamed: 0": 348
           },
           {
            "Destination": 2043969,
            "Destination_Names": "Ricky Curry",
            "Purchase_Count": 1,
            "Unnamed: 0": 246
           },
           {
            "Destination": 2037909,
            "Destination_Names": "Regenia Macabeo",
            "Purchase_Count": 1,
            "Unnamed: 0": 345
           },
           {
            "Destination": 2038020,
            "Destination_Names": "Jane Alvarado",
            "Purchase_Count": 1,
            "Unnamed: 0": 141
           },
           {
            "Destination": 2037948,
            "Destination_Names": "Cortez Rapin",
            "Purchase_Count": 1,
            "Unnamed: 0": 344
           },
           {
            "Destination": 2037916,
            "Destination_Names": "Elizabeth Conner",
            "Purchase_Count": 1,
            "Unnamed: 0": 341
           },
           {
            "Destination": 2038136,
            "Destination_Names": "Bertha Beachell",
            "Purchase_Count": 1,
            "Unnamed: 0": 339
           },
           {
            "Destination": 2037778,
            "Destination_Names": "Willie Fowler",
            "Purchase_Count": 1,
            "Unnamed: 0": 338
           },
           {
            "Destination": 2037969,
            "Destination_Names": "Curtis Stone",
            "Purchase_Count": 1,
            "Unnamed: 0": 337
           },
           {
            "Destination": 2037756,
            "Destination_Names": "Daisy Briggs",
            "Purchase_Count": 1,
            "Unnamed: 0": 132
           },
           {
            "Destination": 2040595,
            "Destination_Names": "Armida Tatu",
            "Purchase_Count": 1,
            "Unnamed: 0": 133
           },
           {
            "Destination": 2037844,
            "Destination_Names": "Shelli Auther",
            "Purchase_Count": 1,
            "Unnamed: 0": 336
           },
           {
            "Destination": 2037893,
            "Destination_Names": "Chauncey Micco",
            "Purchase_Count": 1,
            "Unnamed: 0": 135
           },
           {
            "Destination": 2037898,
            "Destination_Names": "Adeline Walsh",
            "Purchase_Count": 1,
            "Unnamed: 0": 335
           },
           {
            "Destination": 2038006,
            "Destination_Names": "Leo Nelson",
            "Purchase_Count": 1,
            "Unnamed: 0": 137
           },
           {
            "Destination": 2037710,
            "Destination_Names": "Angelica Tankard",
            "Purchase_Count": 1,
            "Unnamed: 0": 334
           },
           {
            "Destination": 2037911,
            "Destination_Names": "Callie Roberson",
            "Purchase_Count": 1,
            "Unnamed: 0": 342
           },
           {
            "Destination": 2040551,
            "Destination_Names": "Samuel Herting",
            "Purchase_Count": 1,
            "Unnamed: 0": 112
           },
           {
            "Destination": 2037996,
            "Destination_Names": "Eugena Shikuma",
            "Purchase_Count": 1,
            "Unnamed: 0": 176
           },
           {
            "Destination": 2040345,
            "Destination_Names": "Marilynn Estergard",
            "Purchase_Count": 1,
            "Unnamed: 0": 178
           },
           {
            "Destination": 2038151,
            "Destination_Names": "Micheline Blagg",
            "Purchase_Count": 1,
            "Unnamed: 0": 273
           },
           {
            "Destination": 2037884,
            "Destination_Names": "Shanna Susko",
            "Purchase_Count": 1,
            "Unnamed: 0": 271
           },
           {
            "Destination": 2038009,
            "Destination_Names": "Johnathon Kotterna",
            "Purchase_Count": 1,
            "Unnamed: 0": 270
           },
           {
            "Destination": 2037779,
            "Destination_Names": "Carrie Carson",
            "Purchase_Count": 1,
            "Unnamed: 0": 269
           },
           {
            "Destination": 2037885,
            "Destination_Names": "Edwin Payne",
            "Purchase_Count": 1,
            "Unnamed: 0": 219
           },
           {
            "Destination": 2038080,
            "Destination_Names": "Ralph Summers",
            "Purchase_Count": 1,
            "Unnamed: 0": 268
           },
           {
            "Destination": 2037894,
            "Destination_Names": "Juana Newland",
            "Purchase_Count": 1,
            "Unnamed: 0": 221
           },
           {
            "Destination": 2037985,
            "Destination_Names": "Hilda Ballard",
            "Purchase_Count": 1,
            "Unnamed: 0": 266
           },
           {
            "Destination": 2038085,
            "Destination_Names": "Ann Nash",
            "Purchase_Count": 1,
            "Unnamed: 0": 223
           },
           {
            "Destination": 2037792,
            "Destination_Names": "Trula Artibee",
            "Purchase_Count": 1,
            "Unnamed: 0": 224
           },
           {
            "Destination": 2040586,
            "Destination_Names": "Randell Xyong",
            "Purchase_Count": 1,
            "Unnamed: 0": 225
           },
           {
            "Destination": 2038083,
            "Destination_Names": "Starla Grisham",
            "Purchase_Count": 1,
            "Unnamed: 0": 214
           },
           {
            "Destination": 2037982,
            "Destination_Names": "Jefferson Quintana",
            "Purchase_Count": 1,
            "Unnamed: 0": 265
           },
           {
            "Destination": 2037840,
            "Destination_Names": "Kyle Wade",
            "Purchase_Count": 1,
            "Unnamed: 0": 228
           },
           {
            "Destination": 2037899,
            "Destination_Names": "Carter Ingalsbe",
            "Purchase_Count": 1,
            "Unnamed: 0": 457
           },
           {
            "Destination": 2037973,
            "Destination_Names": "Jolyn Khauv",
            "Purchase_Count": 1,
            "Unnamed: 0": 261
           },
           {
            "Destination": 2037988,
            "Destination_Names": "Song Lamonte",
            "Purchase_Count": 1,
            "Unnamed: 0": 232
           },
           {
            "Destination": 2040315,
            "Destination_Names": "Chara Bahar",
            "Purchase_Count": 1,
            "Unnamed: 0": 234
           },
           {
            "Destination": 2037849,
            "Destination_Names": "Twyla Flahaven",
            "Purchase_Count": 1,
            "Unnamed: 0": 235
           },
           {
            "Destination": 2037738,
            "Destination_Names": "Leisha Lerwill",
            "Purchase_Count": 1,
            "Unnamed: 0": 237
           },
           {
            "Destination": 2037773,
            "Destination_Names": "Verna Pratt",
            "Purchase_Count": 1,
            "Unnamed: 0": 238
           },
           {
            "Destination": 2037739,
            "Destination_Names": "Ji Niffenegger",
            "Purchase_Count": 1,
            "Unnamed: 0": 258
           },
           {
            "Destination": 2037814,
            "Destination_Names": "Clay Thomes",
            "Purchase_Count": 1,
            "Unnamed: 0": 253
           },
           {
            "Destination": 2038128,
            "Destination_Names": "Johnie Suchla",
            "Purchase_Count": 1,
            "Unnamed: 0": 249
           },
           {
            "Destination": 2037959,
            "Destination_Names": "Myung Eddins",
            "Purchase_Count": 1,
            "Unnamed: 0": 264
           },
           {
            "Destination": 2037935,
            "Destination_Names": "Roger Hughes",
            "Purchase_Count": 1,
            "Unnamed: 0": 303
           },
           {
            "Destination": 2038004,
            "Destination_Names": "Sasha Lukman",
            "Purchase_Count": 1,
            "Unnamed: 0": 274
           },
           {
            "Destination": 2037799,
            "Destination_Names": "Joel Mason",
            "Purchase_Count": 1,
            "Unnamed: 0": 276
           },
           {
            "Destination": 2037714,
            "Destination_Names": "Kristal Kilborne",
            "Purchase_Count": 1,
            "Unnamed: 0": 179
           },
           {
            "Destination": 2038105,
            "Destination_Names": "Ina Elliott",
            "Purchase_Count": 1,
            "Unnamed: 0": 302
           },
           {
            "Destination": 2038167,
            "Destination_Names": "Elizabeth Ramsey",
            "Purchase_Count": 1,
            "Unnamed: 0": 301
           },
           {
            "Destination": 2037801,
            "Destination_Names": "Cordelia Fernandez",
            "Purchase_Count": 1,
            "Unnamed: 0": 299
           },
           {
            "Destination": 2038086,
            "Destination_Names": "Lyda Kelton",
            "Purchase_Count": 1,
            "Unnamed: 0": 298
           },
           {
            "Destination": 2038130,
            "Destination_Names": "Mackenzie Inzunza",
            "Purchase_Count": 1,
            "Unnamed: 0": 185
           },
           {
            "Destination": 2037709,
            "Destination_Names": "Chance Jorda",
            "Purchase_Count": 1,
            "Unnamed: 0": 187
           },
           {
            "Destination": 2037966,
            "Destination_Names": "Thomas Nunez",
            "Purchase_Count": 1,
            "Unnamed: 0": 295
           },
           {
            "Destination": 2037913,
            "Destination_Names": "Edna Santos",
            "Purchase_Count": 1,
            "Unnamed: 0": 294
           },
           {
            "Destination": 2038095,
            "Destination_Names": "Sara Hill",
            "Purchase_Count": 1,
            "Unnamed: 0": 293
           },
           {
            "Destination": 2037846,
            "Destination_Names": "Dione Mettlen",
            "Purchase_Count": 1,
            "Unnamed: 0": 290
           },
           {
            "Destination": 2037715,
            "Destination_Names": "Demetrice Emmerling",
            "Purchase_Count": 1,
            "Unnamed: 0": 275
           },
           {
            "Destination": 2037834,
            "Destination_Names": "Richard Howell",
            "Purchase_Count": 1,
            "Unnamed: 0": 289
           },
           {
            "Destination": 2037753,
            "Destination_Names": "Melvin Suchanek",
            "Purchase_Count": 1,
            "Unnamed: 0": 196
           },
           {
            "Destination": 2037974,
            "Destination_Names": "Emiko Dyreson",
            "Purchase_Count": 1,
            "Unnamed: 0": 198
           },
           {
            "Destination": 2038110,
            "Destination_Names": "Lavone Manglona",
            "Purchase_Count": 1,
            "Unnamed: 0": 284
           },
           {
            "Destination": 2037719,
            "Destination_Names": "Katheleen Bergsten",
            "Purchase_Count": 1,
            "Unnamed: 0": 201
           },
           {
            "Destination": 2037752,
            "Destination_Names": "Stacey Simmonds",
            "Purchase_Count": 1,
            "Unnamed: 0": 279
           },
           {
            "Destination": 2040593,
            "Destination_Names": "Elayne Purwin",
            "Purchase_Count": 1,
            "Unnamed: 0": 278
           },
           {
            "Destination": 2037867,
            "Destination_Names": "Malcolm Laforte",
            "Purchase_Count": 1,
            "Unnamed: 0": 205
           },
           {
            "Destination": 2037722,
            "Destination_Names": "Lura Sandovar",
            "Purchase_Count": 1,
            "Unnamed: 0": 206
           },
           {
            "Destination": 2044028,
            "Destination_Names": "Violet Lewis",
            "Purchase_Count": 1,
            "Unnamed: 0": 207
           },
           {
            "Destination": 2038132,
            "Destination_Names": "Deneen Chaudoin",
            "Purchase_Count": 1,
            "Unnamed: 0": 208
           },
           {
            "Destination": 2037809,
            "Destination_Names": "Marylou Strausz",
            "Purchase_Count": 1,
            "Unnamed: 0": 209
           },
           {
            "Destination": 2038064,
            "Destination_Names": "Grace Owen",
            "Purchase_Count": 1,
            "Unnamed: 0": 286
           },
           {
            "Destination": 2040391,
            "Destination_Names": "Cecila Hendee",
            "Purchase_Count": 1,
            "Unnamed: 0": 111
           },
           {
            "Destination": 2040382,
            "Destination_Names": "Estelle Reyes",
            "Purchase_Count": 1,
            "Unnamed: 0": 347
           },
           {
            "Destination": 2037906,
            "Destination_Names": "Trena Gagen",
            "Purchase_Count": 1,
            "Unnamed: 0": 356
           },
           {
            "Destination": 2050630,
            "Destination_Names": "Peter Richardson",
            "Purchase_Count": 1,
            "Unnamed: 0": 427
           },
           {
            "Destination": 2038082,
            "Destination_Names": "Sophia Salazar",
            "Purchase_Count": 1,
            "Unnamed: 0": 426
           },
           {
            "Destination": 2037737,
            "Destination_Names": "Edith Carroll",
            "Purchase_Count": 1,
            "Unnamed: 0": 425
           },
           {
            "Destination": 2038034,
            "Destination_Names": "Martina Krane",
            "Purchase_Count": 1,
            "Unnamed: 0": 35
           },
           {
            "Destination": 2037802,
            "Destination_Names": "Suanne Legrande",
            "Purchase_Count": 1,
            "Unnamed: 0": 424
           },
           {
            "Destination": 2038088,
            "Destination_Names": "Ty Straughter",
            "Purchase_Count": 1,
            "Unnamed: 0": 422
           },
           {
            "Destination": 2037833,
            "Destination_Names": "Marianela Chinskey",
            "Purchase_Count": 1,
            "Unnamed: 0": 421
           },
           {
            "Destination": 2037854,
            "Destination_Names": "Phillip Hunt",
            "Purchase_Count": 1,
            "Unnamed: 0": 420
           },
           {
            "Destination": 2037772,
            "Destination_Names": "Francisco Rothschild",
            "Purchase_Count": 1,
            "Unnamed: 0": 419
           },
           {
            "Destination": 2037702,
            "Destination_Names": "Joel Olson",
            "Purchase_Count": 1,
            "Unnamed: 0": 418
           },
           {
            "Destination": 2037926,
            "Destination_Names": "Mariette Poynor",
            "Purchase_Count": 1,
            "Unnamed: 0": 417
           },
           {
            "Destination": 2050522,
            "Destination_Names": "Alma Borok",
            "Purchase_Count": 1,
            "Unnamed: 0": 428
           },
           {
            "Destination": 2038087,
            "Destination_Names": "Christina Stevenson",
            "Purchase_Count": 1,
            "Unnamed: 0": 44
           },
           {
            "Destination": 2038158,
            "Destination_Names": "Clair Lotz",
            "Purchase_Count": 1,
            "Unnamed: 0": 416
           },
           {
            "Destination": 2037746,
            "Destination_Names": "Nicholas Newton",
            "Purchase_Count": 1,
            "Unnamed: 0": 413
           },
           {
            "Destination": 2037818,
            "Destination_Names": "Leah Erickson",
            "Purchase_Count": 1,
            "Unnamed: 0": 412
           },
           {
            "Destination": 2037757,
            "Destination_Names": "Mason Schutzman",
            "Purchase_Count": 1,
            "Unnamed: 0": 411
           },
           {
            "Destination": 2037858,
            "Destination_Names": "Leonard Douglas",
            "Purchase_Count": 1,
            "Unnamed: 0": 410
           },
           {
            "Destination": 2038027,
            "Destination_Names": "Inga Ozimek",
            "Purchase_Count": 1,
            "Unnamed: 0": 110
           },
           {
            "Destination": 2037963,
            "Destination_Names": "William Peterson",
            "Purchase_Count": 1,
            "Unnamed: 0": 408
           },
           {
            "Destination": 2037991,
            "Destination_Names": "Lavonna Feasel",
            "Purchase_Count": 1,
            "Unnamed: 0": 56
           },
           {
            "Destination": 2037707,
            "Destination_Names": "Miguel Thornton",
            "Purchase_Count": 1,
            "Unnamed: 0": 405
           },
           {
            "Destination": 2038121,
            "Destination_Names": "Columbus Bouillion",
            "Purchase_Count": 1,
            "Unnamed: 0": 404
           },
           {
            "Destination": 2038174,
            "Destination_Names": "Jules Awalt",
            "Purchase_Count": 1,
            "Unnamed: 0": 403
           },
           {
            "Destination": 2041817,
            "Destination_Names": "Katie Owen",
            "Purchase_Count": 1,
            "Unnamed: 0": 45
           },
           {
            "Destination": 2037819,
            "Destination_Names": "Lavina Rocha",
            "Purchase_Count": 1,
            "Unnamed: 0": 429
           },
           {
            "Destination": 2038129,
            "Destination_Names": "Marion Schwartz",
            "Purchase_Count": 1,
            "Unnamed: 0": 430
           },
           {
            "Destination": 2040583,
            "Destination_Names": "Houston Poulton",
            "Purchase_Count": 1,
            "Unnamed: 0": 431
           },
           {
            "Destination": 2037839,
            "Destination_Names": "Maria Robinson",
            "Purchase_Count": 1,
            "Unnamed: 0": 456
           },
           {
            "Destination": 2037897,
            "Destination_Names": "Rena Wilson",
            "Purchase_Count": 1,
            "Unnamed: 0": 455
           },
           {
            "Destination": 2038184,
            "Destination_Names": "Lelia Rogel",
            "Purchase_Count": 1,
            "Unnamed: 0": 454
           },
           {
            "Destination": 2037937,
            "Destination_Names": "Micheal Kapral",
            "Purchase_Count": 1,
            "Unnamed: 0": 453
           },
           {
            "Destination": 2040468,
            "Destination_Names": "Matthew Howell",
            "Purchase_Count": 1,
            "Unnamed: 0": 452
           },
           {
            "Destination": 2037919,
            "Destination_Names": "Cecelia Marsh",
            "Purchase_Count": 1,
            "Unnamed: 0": 451
           },
           {
            "Destination": 2043997,
            "Destination_Names": "Josephine Reed",
            "Purchase_Count": 1,
            "Unnamed: 0": 450
           },
           {
            "Destination": 2043981,
            "Destination_Names": "Thora Beltrami",
            "Purchase_Count": 1,
            "Unnamed: 0": 449
           },
           {
            "Destination": 2038150,
            "Destination_Names": "Susie Daniels",
            "Purchase_Count": 1,
            "Unnamed: 0": 448
           },
           {
            "Destination": 2038055,
            "Destination_Names": "Harvey Frazier",
            "Purchase_Count": 1,
            "Unnamed: 0": 446
           },
           {
            "Destination": 2041810,
            "Destination_Names": "Lucille Morales",
            "Purchase_Count": 1,
            "Unnamed: 0": 445
           },
           {
            "Destination": 2037950,
            "Destination_Names": "Lillian Kennedy",
            "Purchase_Count": 1,
            "Unnamed: 0": 444
           },
           {
            "Destination": 2037918,
            "Destination_Names": "Ruby Davidson",
            "Purchase_Count": 1,
            "Unnamed: 0": 443
           },
           {
            "Destination": 2038047,
            "Destination_Names": "Man Maxedon",
            "Purchase_Count": 1,
            "Unnamed: 0": 15
           },
           {
            "Destination": 2038134,
            "Destination_Names": "Kendra Stash",
            "Purchase_Count": 1,
            "Unnamed: 0": 442
           },
           {
            "Destination": 2038125,
            "Destination_Names": "Jung Caselli",
            "Purchase_Count": 1,
            "Unnamed: 0": 441
           },
           {
            "Destination": 2037837,
            "Destination_Names": "Geri Nager",
            "Purchase_Count": 1,
            "Unnamed: 0": 440
           },
           {
            "Destination": 2037733,
            "Destination_Names": "Ellis Gabeline",
            "Purchase_Count": 1,
            "Unnamed: 0": 439
           },
           {
            "Destination": 2038003,
            "Destination_Names": "Jenice Savaria",
            "Purchase_Count": 1,
            "Unnamed: 0": 438
           },
           {
            "Destination": 2037736,
            "Destination_Names": "Ashlee Schur",
            "Purchase_Count": 1,
            "Unnamed: 0": 437
           },
           {
            "Destination": 2040626,
            "Destination_Names": "Travis Conner",
            "Purchase_Count": 1,
            "Unnamed: 0": 436
           },
           {
            "Destination": 2037734,
            "Destination_Names": "Pam Perrott",
            "Purchase_Count": 1,
            "Unnamed: 0": 434
           },
           {
            "Destination": 2037685,
            "Destination_Names": "Wanda Reddinger",
            "Purchase_Count": 1,
            "Unnamed: 0": 433
           },
           {
            "Destination": 2037848,
            "Destination_Names": "Ina Obrien",
            "Purchase_Count": 1,
            "Unnamed: 0": 432
           },
           {
            "Destination": 2037853,
            "Destination_Names": "Ollie Rivera",
            "Purchase_Count": 1,
            "Unnamed: 0": 27
           },
           {
            "Destination": 2038179,
            "Destination_Names": "Bettie Steele",
            "Purchase_Count": 1,
            "Unnamed: 0": 402
           },
           {
            "Destination": 2037892,
            "Destination_Names": "Jeanette Malone",
            "Purchase_Count": 1,
            "Unnamed: 0": 401
           },
           {
            "Destination": 2038096,
            "Destination_Names": "Lavenia Daddona",
            "Purchase_Count": 1,
            "Unnamed: 0": 247
           },
           {
            "Destination": 2038101,
            "Destination_Names": "Jordan Elliott",
            "Purchase_Count": 1,
            "Unnamed: 0": 380
           },
           {
            "Destination": 2037902,
            "Destination_Names": "Rory Ockmond",
            "Purchase_Count": 1,
            "Unnamed: 0": 367
           },
           {
            "Destination": 2037845,
            "Destination_Names": "Pinkie Vanandel",
            "Purchase_Count": 1,
            "Unnamed: 0": 385
           },
           {
            "Destination": 2038077,
            "Destination_Names": "Reta Klimkowicz",
            "Purchase_Count": 1,
            "Unnamed: 0": 384
           },
           {
            "Destination": 2040317,
            "Destination_Names": "Cassaundra Arthun",
            "Purchase_Count": 1,
            "Unnamed: 0": 363
           },
           {
            "Destination": 2037693,
            "Destination_Names": "Leila Bishop",
            "Purchase_Count": 1,
            "Unnamed: 0": 383
           },
           {
            "Destination": 2038056,
            "Destination_Names": "Elinor Heckerman",
            "Purchase_Count": 1,
            "Unnamed: 0": 382
           },
           {
            "Destination": 2038090,
            "Destination_Names": "Lurlene Cherian",
            "Purchase_Count": 1,
            "Unnamed: 0": 381
           },
           {
            "Destination": 2037971,
            "Destination_Names": "Lucille Wise",
            "Purchase_Count": 1,
            "Unnamed: 0": 400
           },
           {
            "Destination": 2037692,
            "Destination_Names": "Elida Talarico",
            "Purchase_Count": 1,
            "Unnamed: 0": 364
           },
           {
            "Destination": 2038119,
            "Destination_Names": "Hulda Owen",
            "Purchase_Count": 1,
            "Unnamed: 0": 365
           },
           {
            "Destination": 2037891,
            "Destination_Names": "Grace Farmer",
            "Purchase_Count": 1,
            "Unnamed: 0": 386
           },
           {
            "Destination": 2041373,
            "Destination_Names": "Valeria Batrum",
            "Purchase_Count": 1,
            "Unnamed: 0": 379
           },
           {
            "Destination": 2037993,
            "Destination_Names": "Armand Adside",
            "Purchase_Count": 1,
            "Unnamed: 0": 376
           },
           {
            "Destination": 2038033,
            "Destination_Names": "Marion Leonard",
            "Purchase_Count": 1,
            "Unnamed: 0": 375
           },
           {
            "Destination": 2037869,
            "Destination_Names": "Ivelisse Butkovich",
            "Purchase_Count": 1,
            "Unnamed: 0": 374
           },
           {
            "Destination": 2037917,
            "Destination_Names": "Luke Gross",
            "Purchase_Count": 1,
            "Unnamed: 0": 373
           },
           {
            "Destination": 2037931,
            "Destination_Names": "Somer Lofthouse",
            "Purchase_Count": 1,
            "Unnamed: 0": 372
           },
           {
            "Destination": 2037747,
            "Destination_Names": "Lou Klimaszewski",
            "Purchase_Count": 1,
            "Unnamed: 0": 371
           },
           {
            "Destination": 2037803,
            "Destination_Names": "Minh Orcutt",
            "Purchase_Count": 1,
            "Unnamed: 0": 370
           },
           {
            "Destination": 2037786,
            "Destination_Names": "Ann Kingshott",
            "Purchase_Count": 1,
            "Unnamed: 0": 94
           },
           {
            "Destination": 2037976,
            "Destination_Names": "Loise Gladhill",
            "Purchase_Count": 1,
            "Unnamed: 0": 369
           },
           {
            "Destination": 2037956,
            "Destination_Names": "Jon Obrien",
            "Purchase_Count": 1,
            "Unnamed: 0": 368
           },
           {
            "Destination": 2040572,
            "Destination_Names": "Eddy Faerber",
            "Purchase_Count": 1,
            "Unnamed: 0": 378
           },
           {
            "Destination": 2037910,
            "Destination_Names": "Nina Carr",
            "Purchase_Count": 1,
            "Unnamed: 0": 387
           },
           {
            "Destination": 2038165,
            "Destination_Names": "Candice Runge",
            "Purchase_Count": 1,
            "Unnamed: 0": 361
           },
           {
            "Destination": 2037863,
            "Destination_Names": "Tony Roberts",
            "Purchase_Count": 1,
            "Unnamed: 0": 392
           },
           {
            "Destination": 2037842,
            "Destination_Names": "Cody Thomas",
            "Purchase_Count": 1,
            "Unnamed: 0": 399
           },
           {
            "Destination": 2038023,
            "Destination_Names": "Mayme Moreno",
            "Purchase_Count": 1,
            "Unnamed: 0": 64
           },
           {
            "Destination": 2038068,
            "Destination_Names": "Santana Horak",
            "Purchase_Count": 1,
            "Unnamed: 0": 398
           },
           {
            "Destination": 2037882,
            "Destination_Names": "Rosa Cobb",
            "Purchase_Count": 1,
            "Unnamed: 0": 397
           },
           {
            "Destination": 2043386,
            "Destination_Names": "Jina Seiders",
            "Purchase_Count": 1,
            "Unnamed: 0": 67
           },
           {
            "Destination": 2043976,
            "Destination_Names": "Randy Berry",
            "Purchase_Count": 1,
            "Unnamed: 0": 396
           },
           {
            "Destination": 2037888,
            "Destination_Names": "Pearl Bell",
            "Purchase_Count": 1,
            "Unnamed: 0": 395
           },
           {
            "Destination": 2038117,
            "Destination_Names": "Ann Harvey",
            "Purchase_Count": 1,
            "Unnamed: 0": 394
           },
           {
            "Destination": 2037789,
            "Destination_Names": "Bailey Shoddie",
            "Purchase_Count": 1,
            "Unnamed: 0": 393
           },
           {
            "Destination": 2040609,
            "Destination_Names": "Monty Ashmen",
            "Purchase_Count": 1,
            "Unnamed: 0": 103
           },
           {
            "Destination": 2037866,
            "Destination_Names": "Opal Mock",
            "Purchase_Count": 1,
            "Unnamed: 0": 391
           },
           {
            "Destination": 2037852,
            "Destination_Names": "Ophelia Butler",
            "Purchase_Count": 1,
            "Unnamed: 0": 366
           },
           {
            "Destination": 2037914,
            "Destination_Names": "Myrtle Lawrence",
            "Purchase_Count": 1,
            "Unnamed: 0": 388
           },
           {
            "Destination": 2037743,
            "Destination_Names": "Shanice Nakahara",
            "Purchase_Count": 1,
            "Unnamed: 0": 390
           },
           {
            "Destination": 2040438,
            "Destination_Names": "Liberty Nuzum",
            "Purchase_Count": 1,
            "Unnamed: 0": 360
           },
           {
            "Destination": 2037904,
            "Destination_Names": "Yong Leyra",
            "Purchase_Count": 1,
            "Unnamed: 0": 359
           },
           {
            "Destination": 2037986,
            "Destination_Names": "Dora Atkins",
            "Purchase_Count": 1,
            "Unnamed: 0": 106
           },
           {
            "Destination": 2043973,
            "Destination_Names": "Whitney Rissman",
            "Purchase_Count": 1,
            "Unnamed: 0": 389
           },
           {
            "Destination": 2037905,
            "Destination_Names": "Melva Vassell",
            "Purchase_Count": 1,
            "Unnamed: 0": 358
           },
           {
            "Destination": 2038028,
            "Destination_Names": "Neville Roya",
            "Purchase_Count": 2,
            "Unnamed: 0": 252
           },
           {
            "Destination": 2038057,
            "Destination_Names": "Oliver Leuthe",
            "Purchase_Count": 2,
            "Unnamed: 0": 357
           },
           {
            "Destination": 2037865,
            "Destination_Names": "Evelia Duer",
            "Purchase_Count": 2,
            "Unnamed: 0": 260
           },
           {
            "Destination": 2037970,
            "Destination_Names": "Brenton Trucker",
            "Purchase_Count": 2,
            "Unnamed: 0": 346
           },
           {
            "Destination": 2038102,
            "Destination_Names": "Louis Ottman",
            "Purchase_Count": 2,
            "Unnamed: 0": 250
           },
           {
            "Destination": 2038172,
            "Destination_Names": "Duane Sylva",
            "Purchase_Count": 2,
            "Unnamed: 0": 251
           },
           {
            "Destination": 2038171,
            "Destination_Names": "Troy Morton",
            "Purchase_Count": 2,
            "Unnamed: 0": 262
           },
           {
            "Destination": 2038031,
            "Destination_Names": "Kia Halonen",
            "Purchase_Count": 2,
            "Unnamed: 0": 447
           },
           {
            "Destination": 2041379,
            "Destination_Names": "Jeremy Cravalho",
            "Purchase_Count": 2,
            "Unnamed: 0": 254
           },
           {
            "Destination": 2037901,
            "Destination_Names": "Tony Daffron",
            "Purchase_Count": 2,
            "Unnamed: 0": 350
           },
           {
            "Destination": 2038175,
            "Destination_Names": "Noelle Amarante",
            "Purchase_Count": 2,
            "Unnamed: 0": 259
           },
           {
            "Destination": 2038043,
            "Destination_Names": "Nestor Olguin",
            "Purchase_Count": 2,
            "Unnamed: 0": 308
           },
           {
            "Destination": 2037965,
            "Destination_Names": "Viki Shoulders",
            "Purchase_Count": 2,
            "Unnamed: 0": 277
           },
           {
            "Destination": 2037793,
            "Destination_Names": "Merry Blevans",
            "Purchase_Count": 2,
            "Unnamed: 0": 305
           },
           {
            "Destination": 2040631,
            "Destination_Names": "Jorge Burns",
            "Purchase_Count": 2,
            "Unnamed: 0": 406
           },
           {
            "Destination": 2037720,
            "Destination_Names": "Neal Blazon",
            "Purchase_Count": 2,
            "Unnamed: 0": 407
           },
           {
            "Destination": 2037696,
            "Destination_Names": "Cinthia Plante",
            "Purchase_Count": 2,
            "Unnamed: 0": 297
           },
           {
            "Destination": 2037735,
            "Destination_Names": "Genia Newmyer",
            "Purchase_Count": 2,
            "Unnamed: 0": 415
           },
           {
            "Destination": 2037936,
            "Destination_Names": "Vicky Goy",
            "Purchase_Count": 2,
            "Unnamed: 0": 296
           },
           {
            "Destination": 2037828,
            "Destination_Names": "Bennett Hess",
            "Purchase_Count": 2,
            "Unnamed: 0": 319
           },
           {
            "Destination": 2038048,
            "Destination_Names": "Jeanice Friar",
            "Purchase_Count": 2,
            "Unnamed: 0": 321
           },
           {
            "Destination": 2038108,
            "Destination_Names": "Conrad Mira",
            "Purchase_Count": 2,
            "Unnamed: 0": 435
           },
           {
            "Destination": 2038089,
            "Destination_Names": "Jason Jimenez",
            "Purchase_Count": 2,
            "Unnamed: 0": 322
           },
           {
            "Destination": 2040592,
            "Destination_Names": "Adam Ruiz",
            "Purchase_Count": 2,
            "Unnamed: 0": 287
           },
           {
            "Destination": 2038156,
            "Destination_Names": "Merry Diodonet",
            "Purchase_Count": 2,
            "Unnamed: 0": 285
           },
           {
            "Destination": 2037860,
            "Destination_Names": "Carlos Morris",
            "Purchase_Count": 2,
            "Unnamed: 0": 423
           },
           {
            "Destination": 2040601,
            "Destination_Names": "Jorge Patrick",
            "Purchase_Count": 2,
            "Unnamed: 0": 283
           },
           {
            "Destination": 2037836,
            "Destination_Names": "Ossie Barbeau",
            "Purchase_Count": 2,
            "Unnamed: 0": 282
           },
           {
            "Destination": 2037797,
            "Destination_Names": "Rolande Hargreaves",
            "Purchase_Count": 2,
            "Unnamed: 0": 325
           },
           {
            "Destination": 2038091,
            "Destination_Names": "Odell Surrey",
            "Purchase_Count": 2,
            "Unnamed: 0": 326
           },
           {
            "Destination": 2037922,
            "Destination_Names": "Tawny Rapko",
            "Purchase_Count": 2,
            "Unnamed: 0": 333
           },
           {
            "Destination": 2037718,
            "Destination_Names": "Aaron Cilva",
            "Purchase_Count": 2,
            "Unnamed: 0": 288
           },
           {
            "Destination": 2037759,
            "Destination_Names": "Clotilde Kinstle",
            "Purchase_Count": 2,
            "Unnamed: 0": 409
           },
           {
            "Destination": 2038011,
            "Destination_Names": "Letty Pontiff",
            "Purchase_Count": 2,
            "Unnamed: 0": 229
           },
           {
            "Destination": 2038097,
            "Destination_Names": "Hannelore Javarone",
            "Purchase_Count": 2,
            "Unnamed: 0": 248
           },
           {
            "Destination": 2038054,
            "Destination_Names": "Dennise Kinkella",
            "Purchase_Count": 2,
            "Unnamed: 0": 114
           },
           {
            "Destination": 2037992,
            "Destination_Names": "Darci Rodrigus",
            "Purchase_Count": 2,
            "Unnamed: 0": 165
           },
           {
            "Destination": 2040590,
            "Destination_Names": "Duane Harper",
            "Purchase_Count": 2,
            "Unnamed: 0": 202
           },
           {
            "Destination": 2037972,
            "Destination_Names": "Keli Kehn",
            "Purchase_Count": 2,
            "Unnamed: 0": 124
           },
           {
            "Destination": 2037856,
            "Destination_Names": "Elizebeth Berliew",
            "Purchase_Count": 2,
            "Unnamed: 0": 197
           },
           {
            "Destination": 2038024,
            "Destination_Names": "Carl Coxon",
            "Purchase_Count": 2,
            "Unnamed: 0": 128
           },
           {
            "Destination": 2037740,
            "Destination_Names": "Malik Rolland",
            "Purchase_Count": 2,
            "Unnamed: 0": 129
           },
           {
            "Destination": 2037770,
            "Destination_Names": "Grazyna Hustead",
            "Purchase_Count": 2,
            "Unnamed: 0": 131
           },
           {
            "Destination": 2037968,
            "Destination_Names": "Jame Wytch",
            "Purchase_Count": 2,
            "Unnamed: 0": 136
           },
           {
            "Destination": 2040392,
            "Destination_Names": "Kerry Jinkerson",
            "Purchase_Count": 2,
            "Unnamed: 0": 140
           },
           {
            "Destination": 2038173,
            "Destination_Names": "Alma Murray",
            "Purchase_Count": 2,
            "Unnamed: 0": 189
           },
           {
            "Destination": 2037933,
            "Destination_Names": "Louise Stevens",
            "Purchase_Count": 2,
            "Unnamed: 0": 210
           },
           {
            "Destination": 2037850,
            "Destination_Names": "Cora Hart",
            "Purchase_Count": 2,
            "Unnamed: 0": 186
           },
           {
            "Destination": 2040577,
            "Destination_Names": "Jeremiah Farmer",
            "Purchase_Count": 2,
            "Unnamed: 0": 182
           },
           {
            "Destination": 2037823,
            "Destination_Names": "Kerry Menousek",
            "Purchase_Count": 2,
            "Unnamed: 0": 155
           },
           {
            "Destination": 2037717,
            "Destination_Names": "Clara Singleton",
            "Purchase_Count": 2,
            "Unnamed: 0": 157
           },
           {
            "Destination": 2037861,
            "Destination_Names": "Jewell Dronet",
            "Purchase_Count": 2,
            "Unnamed: 0": 180
           },
           {
            "Destination": 2040557,
            "Destination_Names": "Alexander Sanchez",
            "Purchase_Count": 2,
            "Unnamed: 0": 177
           },
           {
            "Destination": 2037987,
            "Destination_Names": "Brunilda Colesar",
            "Purchase_Count": 2,
            "Unnamed: 0": 159
           },
           {
            "Destination": 2037794,
            "Destination_Names": "Erinn Anewalt",
            "Purchase_Count": 2,
            "Unnamed: 0": 173
           },
           {
            "Destination": 2038071,
            "Destination_Names": "Renee Knightstep",
            "Purchase_Count": 2,
            "Unnamed: 0": 172
           },
           {
            "Destination": 2037999,
            "Destination_Names": "Fannie Andrews",
            "Purchase_Count": 2,
            "Unnamed: 0": 161
           },
           {
            "Destination": 2037984,
            "Destination_Names": "Owen Ortega",
            "Purchase_Count": 2,
            "Unnamed: 0": 169
           },
           {
            "Destination": 2037997,
            "Destination_Names": "Edgar Lawson",
            "Purchase_Count": 2,
            "Unnamed: 0": 164
           },
           {
            "Destination": 2047240,
            "Destination_Names": "Duane Owens",
            "Purchase_Count": 2,
            "Unnamed: 0": 149
           },
           {
            "Destination": 2037780,
            "Destination_Names": "Maggie Manning",
            "Purchase_Count": 2,
            "Unnamed: 0": 105
           },
           {
            "Destination": 2037697,
            "Destination_Names": "Mary Brewer",
            "Purchase_Count": 2,
            "Unnamed: 0": 166
           },
           {
            "Destination": 2041386,
            "Destination_Names": "Carry Daryanl",
            "Purchase_Count": 2,
            "Unnamed: 0": 98
           },
           {
            "Destination": 2037798,
            "Destination_Names": "Carroll Hyrkas",
            "Purchase_Count": 2,
            "Unnamed: 0": 236
           },
           {
            "Destination": 2037880,
            "Destination_Names": "Emilio Cokel",
            "Purchase_Count": 2,
            "Unnamed: 0": 239
           },
           {
            "Destination": 2038111,
            "Destination_Names": "Lai Okelberry",
            "Purchase_Count": 2,
            "Unnamed: 0": 61
           },
           {
            "Destination": 2037967,
            "Destination_Names": "Charley Offermann",
            "Purchase_Count": 2,
            "Unnamed: 0": 81
           },
           {
            "Destination": 2038063,
            "Destination_Names": "Carmen Ting",
            "Purchase_Count": 2,
            "Unnamed: 0": 226
           },
           {
            "Destination": 2037761,
            "Destination_Names": "Anna Morren",
            "Purchase_Count": 2,
            "Unnamed: 0": 83
           },
           {
            "Destination": 2040594,
            "Destination_Names": "Christian Zierenberg",
            "Purchase_Count": 2,
            "Unnamed: 0": 233
           },
           {
            "Destination": 2040344,
            "Destination_Names": "Connor Fernandez",
            "Purchase_Count": 2,
            "Unnamed: 0": 220
           },
           {
            "Destination": 2037695,
            "Destination_Names": "Chasidy Clampitt",
            "Purchase_Count": 2,
            "Unnamed: 0": 68
           },
           {
            "Destination": 2037938,
            "Destination_Names": "Major Stokey",
            "Purchase_Count": 2,
            "Unnamed: 0": 87
           },
           {
            "Destination": 2038061,
            "Destination_Names": "Virginia Wheeler",
            "Purchase_Count": 2,
            "Unnamed: 0": 89
           },
           {
            "Destination": 2038012,
            "Destination_Names": "Perla Matney",
            "Purchase_Count": 2,
            "Unnamed: 0": 17
           },
           {
            "Destination": 2038053,
            "Destination_Names": "Kenneth Little",
            "Purchase_Count": 2,
            "Unnamed: 0": 95
           },
           {
            "Destination": 2038126,
            "Destination_Names": "Sudie Hulslander",
            "Purchase_Count": 2,
            "Unnamed: 0": 215
           },
           {
            "Destination": 2040312,
            "Destination_Names": "Eleonore Mikelsen",
            "Purchase_Count": 2,
            "Unnamed: 0": 244
           },
           {
            "Destination": 2038159,
            "Destination_Names": "Albert Doshier",
            "Purchase_Count": 2,
            "Unnamed: 0": 241
           },
           {
            "Destination": 2038014,
            "Destination_Names": "Wesley Andaverde",
            "Purchase_Count": 3,
            "Unnamed: 0": 39
           },
           {
            "Destination": 2038032,
            "Destination_Names": "Priscila Gooch",
            "Purchase_Count": 3,
            "Unnamed: 0": 30
           },
           {
            "Destination": 2037766,
            "Destination_Names": "Gregory Russell",
            "Purchase_Count": 3,
            "Unnamed: 0": 414
           },
           {
            "Destination": 2038035,
            "Destination_Names": "Corazon Ney",
            "Purchase_Count": 3,
            "Unnamed: 0": 33
           },
           {
            "Destination": 2038026,
            "Destination_Names": "Victoria Woods",
            "Purchase_Count": 3,
            "Unnamed: 0": 80
           },
           {
            "Destination": 2037688,
            "Destination_Names": "Gordon Perez",
            "Purchase_Count": 3,
            "Unnamed: 0": 77
           },
           {
            "Destination": 2037958,
            "Destination_Names": "Russell Sterr",
            "Purchase_Count": 3,
            "Unnamed: 0": 328
           },
           {
            "Destination": 2037781,
            "Destination_Names": "Reyna Eclarinal",
            "Purchase_Count": 3,
            "Unnamed: 0": 362
           },
           {
            "Destination": 2038000,
            "Destination_Names": "Fern Przybycien",
            "Purchase_Count": 3,
            "Unnamed: 0": 143
           },
           {
            "Destination": 2038100,
            "Destination_Names": "Wenona Bradmon",
            "Purchase_Count": 3,
            "Unnamed: 0": 330
           },
           {
            "Destination": 2037742,
            "Destination_Names": "Sophia Medina",
            "Purchase_Count": 3,
            "Unnamed: 0": 86
           },
           {
            "Destination": 2038149,
            "Destination_Names": "Darius Jinks",
            "Purchase_Count": 3,
            "Unnamed: 0": 340
           },
           {
            "Destination": 2038180,
            "Destination_Names": "Rosalyn Maclay",
            "Purchase_Count": 3,
            "Unnamed: 0": 377
           },
           {
            "Destination": 2038016,
            "Destination_Names": "Davina Perrota",
            "Purchase_Count": 3,
            "Unnamed: 0": 121
           },
           {
            "Destination": 2037777,
            "Destination_Names": "Carlo Castillero",
            "Purchase_Count": 3,
            "Unnamed: 0": 352
           },
           {
            "Destination": 2038152,
            "Destination_Names": "Viola Vasquez",
            "Purchase_Count": 3,
            "Unnamed: 0": 107
           },
           {
            "Destination": 2038141,
            "Destination_Names": "Randy Pena",
            "Purchase_Count": 3,
            "Unnamed: 0": 327
           },
           {
            "Destination": 2037955,
            "Destination_Names": "Ollie Lindsey",
            "Purchase_Count": 3,
            "Unnamed: 0": 245
           },
           {
            "Destination": 2037763,
            "Destination_Names": "Maryrose Schryver",
            "Purchase_Count": 3,
            "Unnamed: 0": 118
           },
           {
            "Destination": 2038138,
            "Destination_Names": "Tyree Barreneche",
            "Purchase_Count": 3,
            "Unnamed: 0": 188
           },
           {
            "Destination": 2037868,
            "Destination_Names": "Kate Burton",
            "Purchase_Count": 3,
            "Unnamed: 0": 227
           },
           {
            "Destination": 2038062,
            "Destination_Names": "Ozell Lampkins",
            "Purchase_Count": 3,
            "Unnamed: 0": 263
           },
           {
            "Destination": 2038162,
            "Destination_Names": "Sasha Papagni",
            "Purchase_Count": 3,
            "Unnamed: 0": 167
           },
           {
            "Destination": 2040309,
            "Destination_Names": "Eric Schneider",
            "Purchase_Count": 3,
            "Unnamed: 0": 272
           },
           {
            "Destination": 2037998,
            "Destination_Names": "Emilia Zanin",
            "Purchase_Count": 3,
            "Unnamed: 0": 204
           },
           {
            "Destination": 2038122,
            "Destination_Names": "Francina Jinkens",
            "Purchase_Count": 3,
            "Unnamed: 0": 213
           },
           {
            "Destination": 2037851,
            "Destination_Names": "Deon Boldman",
            "Purchase_Count": 3,
            "Unnamed: 0": 257
           },
           {
            "Destination": 2038017,
            "Destination_Names": "Octavia Rallison",
            "Purchase_Count": 3,
            "Unnamed: 0": 300
           },
           {
            "Destination": 2040630,
            "Destination_Names": "Alberto Osbourn",
            "Purchase_Count": 3,
            "Unnamed: 0": 267
           },
           {
            "Destination": 2037920,
            "Destination_Names": "Julieann Terheggen",
            "Purchase_Count": 3,
            "Unnamed: 0": 255
           },
           {
            "Destination": 2038084,
            "Destination_Names": "Jeannine Riccardi",
            "Purchase_Count": 3,
            "Unnamed: 0": 217
           },
           {
            "Destination": 2037788,
            "Destination_Names": "Miesha Ostrum",
            "Purchase_Count": 3,
            "Unnamed: 0": 192
           },
           {
            "Destination": 2037932,
            "Destination_Names": "Janie Roberson",
            "Purchase_Count": 3,
            "Unnamed: 0": 292
           },
           {
            "Destination": 2038072,
            "Destination_Names": "Toccara Kempa",
            "Purchase_Count": 4,
            "Unnamed: 0": 291
           },
           {
            "Destination": 2038144,
            "Destination_Names": "Iva Cook",
            "Purchase_Count": 4,
            "Unnamed: 0": 191
           },
           {
            "Destination": 2037691,
            "Destination_Names": "Mary Robinson",
            "Purchase_Count": 4,
            "Unnamed: 0": 122
           },
           {
            "Destination": 2038051,
            "Destination_Names": "Anastacia Suri",
            "Purchase_Count": 4,
            "Unnamed: 0": 195
           },
           {
            "Destination": 2037784,
            "Destination_Names": "Sierra Denherder",
            "Purchase_Count": 4,
            "Unnamed: 0": 231
           },
           {
            "Destination": 2038131,
            "Destination_Names": "Diamond Hollenbach",
            "Purchase_Count": 4,
            "Unnamed: 0": 190
           },
           {
            "Destination": 2037990,
            "Destination_Names": "Susana Ganser",
            "Purchase_Count": 4,
            "Unnamed: 0": 343
           },
           {
            "Destination": 2038079,
            "Destination_Names": "Denna Slemmer",
            "Purchase_Count": 4,
            "Unnamed: 0": 242
           },
           {
            "Destination": 2037771,
            "Destination_Names": "Sherrell Macdonald",
            "Purchase_Count": 4,
            "Unnamed: 0": 183
           },
           {
            "Destination": 2038050,
            "Destination_Names": "Andre Gregory",
            "Purchase_Count": 4,
            "Unnamed: 0": 280
           },
           {
            "Destination": 2041370,
            "Destination_Names": "Griselda Protain",
            "Purchase_Count": 4,
            "Unnamed: 0": 73
           },
           {
            "Destination": 2037821,
            "Destination_Names": "Daniela Oharra",
            "Purchase_Count": 4,
            "Unnamed: 0": 156
           },
           {
            "Destination": 2037994,
            "Destination_Names": "Lola Wilson",
            "Purchase_Count": 4,
            "Unnamed: 0": 170
           },
           {
            "Destination": 2037750,
            "Destination_Names": "Joann Wallgren",
            "Purchase_Count": 5,
            "Unnamed: 0": 123
           },
           {
            "Destination": 2037915,
            "Destination_Names": "Chris Jefferson",
            "Purchase_Count": 5,
            "Unnamed: 0": 199
           },
           {
            "Destination": 2037981,
            "Destination_Names": "Harrison Chalaban",
            "Purchase_Count": 5,
            "Unnamed: 0": 104
           },
           {
            "Destination": 2037989,
            "Destination_Names": "Karisa Filosa",
            "Purchase_Count": 5,
            "Unnamed: 0": 91
           },
           {
            "Destination": 2037700,
            "Destination_Names": "Gene Marsh",
            "Purchase_Count": 5,
            "Unnamed: 0": 256
           },
           {
            "Destination": 2038070,
            "Destination_Names": "Tyler Miles",
            "Purchase_Count": 5,
            "Unnamed: 0": 134
           },
           {
            "Destination": 2037690,
            "Destination_Names": "Donald Washington",
            "Purchase_Count": 5,
            "Unnamed: 0": 243
           },
           {
            "Destination": 2037975,
            "Destination_Names": "Kenneth Holt",
            "Purchase_Count": 5,
            "Unnamed: 0": 82
           },
           {
            "Destination": 2038005,
            "Destination_Names": "Felton Lawcewicz",
            "Purchase_Count": 5,
            "Unnamed: 0": 142
           },
           {
            "Destination": 2040454,
            "Destination_Names": "Rosendo Esteve",
            "Purchase_Count": 5,
            "Unnamed: 0": 144
           },
           {
            "Destination": 2038154,
            "Destination_Names": "Luis Higgins",
            "Purchase_Count": 5,
            "Unnamed: 0": 148
           },
           {
            "Destination": 2040349,
            "Destination_Names": "Andria Tumulty",
            "Purchase_Count": 5,
            "Unnamed: 0": 230
           },
           {
            "Destination": 2037859,
            "Destination_Names": "Eric Atkins",
            "Purchase_Count": 5,
            "Unnamed: 0": 75
           },
           {
            "Destination": 2037689,
            "Destination_Names": "Aisha Stafford",
            "Purchase_Count": 5,
            "Unnamed: 0": 211
           },
           {
            "Destination": 2044645,
            "Destination_Names": "Oscar Hutley",
            "Purchase_Count": 6,
            "Unnamed: 0": 218
           },
           {
            "Destination": 2037769,
            "Destination_Names": "Floy Warholic",
            "Purchase_Count": 6,
            "Unnamed: 0": 47
           },
           {
            "Destination": 2038007,
            "Destination_Names": "Carolyn Hines",
            "Purchase_Count": 6,
            "Unnamed: 0": 99
           },
           {
            "Destination": 2038001,
            "Destination_Names": "Gabrielle Iarussi",
            "Purchase_Count": 6,
            "Unnamed: 0": 72
           },
           {
            "Destination": 2037824,
            "Destination_Names": "Demetria Mckibbens",
            "Purchase_Count": 6,
            "Unnamed: 0": 71
           },
           {
            "Destination": 2037978,
            "Destination_Names": "Wayne Ahne",
            "Purchase_Count": 6,
            "Unnamed: 0": 216
           },
           {
            "Destination": 2040467,
            "Destination_Names": "Frederica Guillan",
            "Purchase_Count": 6,
            "Unnamed: 0": 309
           },
           {
            "Destination": 2037820,
            "Destination_Names": "Cristina Leber",
            "Purchase_Count": 6,
            "Unnamed: 0": 18
           },
           {
            "Destination": 2037708,
            "Destination_Names": "Marya Stetler",
            "Purchase_Count": 6,
            "Unnamed: 0": 181
           },
           {
            "Destination": 2037877,
            "Destination_Names": "Seymour Johndrow",
            "Purchase_Count": 6,
            "Unnamed: 0": 153
           },
           {
            "Destination": 2037698,
            "Destination_Names": "Betty Summers",
            "Purchase_Count": 6,
            "Unnamed: 0": 152
           },
           {
            "Destination": 2037847,
            "Destination_Names": "Manuel Allison",
            "Purchase_Count": 6,
            "Unnamed: 0": 20
           },
           {
            "Destination": 2037941,
            "Destination_Names": "Yon Shilleh",
            "Purchase_Count": 6,
            "Unnamed: 0": 281
           },
           {
            "Destination": 2037870,
            "Destination_Names": "Hettie Gray",
            "Purchase_Count": 6,
            "Unnamed: 0": 240
           },
           {
            "Destination": 2038013,
            "Destination_Names": "Gabriella Striegel",
            "Purchase_Count": 7,
            "Unnamed: 0": 96
           },
           {
            "Destination": 2037808,
            "Destination_Names": "Elvis Drilling",
            "Purchase_Count": 7,
            "Unnamed: 0": 101
           },
           {
            "Destination": 2038078,
            "Destination_Names": "Cordelia Critcher",
            "Purchase_Count": 7,
            "Unnamed: 0": 200
           },
           {
            "Destination": 2037774,
            "Destination_Names": "Nannie Bennett",
            "Purchase_Count": 7,
            "Unnamed: 0": 126
           },
           {
            "Destination": 2038092,
            "Destination_Names": "Norman Shaw",
            "Purchase_Count": 8,
            "Unnamed: 0": 109
           },
           {
            "Destination": 2040550,
            "Destination_Names": "Bradley Daniel",
            "Purchase_Count": 8,
            "Unnamed: 0": 16
           },
           {
            "Destination": 2038139,
            "Destination_Names": "Roy Rhodes",
            "Purchase_Count": 8,
            "Unnamed: 0": 42
           },
           {
            "Destination": 2037943,
            "Destination_Names": "Johnnie Enslow",
            "Purchase_Count": 8,
            "Unnamed: 0": 194
           },
           {
            "Destination": 2038127,
            "Destination_Names": "Harris Dearmas",
            "Purchase_Count": 8,
            "Unnamed: 0": 222
           },
           {
            "Destination": 2040378,
            "Destination_Names": "Lashaunda Mautone",
            "Purchase_Count": 8,
            "Unnamed: 0": 102
           },
           {
            "Destination": 2038075,
            "Destination_Names": "Dustin Poskitt",
            "Purchase_Count": 8,
            "Unnamed: 0": 120
           },
           {
            "Destination": 2040591,
            "Destination_Names": "Kenny Miskiewicz",
            "Purchase_Count": 9,
            "Unnamed: 0": 174
           },
           {
            "Destination": 2045457,
            "Destination_Names": "Armand Millerbernd",
            "Purchase_Count": 9,
            "Unnamed: 0": 70
           },
           {
            "Destination": 2038021,
            "Destination_Names": "Lilli Samsel",
            "Purchase_Count": 9,
            "Unnamed: 0": 203
           },
           {
            "Destination": 2037701,
            "Destination_Names": "Lola Lloyd",
            "Purchase_Count": 9,
            "Unnamed: 0": 145
           },
           {
            "Destination": 2037876,
            "Destination_Names": "Jamika Glines",
            "Purchase_Count": 9,
            "Unnamed: 0": 184
           },
           {
            "Destination": 2038049,
            "Destination_Names": "Jake Dececco",
            "Purchase_Count": 9,
            "Unnamed: 0": 60
           },
           {
            "Destination": 2038059,
            "Destination_Names": "Irwin Ellender",
            "Purchase_Count": 9,
            "Unnamed: 0": 125
           },
           {
            "Destination": 2038045,
            "Destination_Names": "Ashly Reischl",
            "Purchase_Count": 10,
            "Unnamed: 0": 92
           },
           {
            "Destination": 2038029,
            "Destination_Names": "Martine Hanlin",
            "Purchase_Count": 10,
            "Unnamed: 0": 48
           },
           {
            "Destination": 2037748,
            "Destination_Names": "Amy Malone",
            "Purchase_Count": 11,
            "Unnamed: 0": 55
           },
           {
            "Destination": 2038030,
            "Destination_Names": "Amelia Becker",
            "Purchase_Count": 11,
            "Unnamed: 0": 62
           },
           {
            "Destination": 2037952,
            "Destination_Names": "Willie Byrd",
            "Purchase_Count": 11,
            "Unnamed: 0": 154
           },
           {
            "Destination": 2038018,
            "Destination_Names": "Lynelle Skildum",
            "Purchase_Count": 12,
            "Unnamed: 0": 151
           },
           {
            "Destination": 2040390,
            "Destination_Names": "Alvaro Beers",
            "Purchase_Count": 12,
            "Unnamed: 0": 59
           },
           {
            "Destination": 2037872,
            "Destination_Names": "Sophia Blair",
            "Purchase_Count": 12,
            "Unnamed: 0": 38
           },
           {
            "Destination": 2038019,
            "Destination_Names": "Carolyn Howard",
            "Purchase_Count": 13,
            "Unnamed: 0": 108
           },
           {
            "Destination": 2037704,
            "Destination_Names": "Charlsie Lesa",
            "Purchase_Count": 13,
            "Unnamed: 0": 12
           },
           {
            "Destination": 2037927,
            "Destination_Names": "Blanche Mason",
            "Purchase_Count": 14,
            "Unnamed: 0": 79
           },
           {
            "Destination": 2040582,
            "Destination_Names": "Stephen Peterson",
            "Purchase_Count": 14,
            "Unnamed: 0": 78
           },
           {
            "Destination": 2038022,
            "Destination_Names": "Rocky Hassett",
            "Purchase_Count": 15,
            "Unnamed: 0": 100
           },
           {
            "Destination": 2038060,
            "Destination_Names": "Roberto Amphy",
            "Purchase_Count": 15,
            "Unnamed: 0": 130
           },
           {
            "Destination": 2038044,
            "Destination_Names": "Sidney Simien",
            "Purchase_Count": 15,
            "Unnamed: 0": 24
           },
           {
            "Destination": 2038164,
            "Destination_Names": "Kimbery Demmert",
            "Purchase_Count": 16,
            "Unnamed: 0": 193
           },
           {
            "Destination": 2037962,
            "Destination_Names": "Charmain Olenick",
            "Purchase_Count": 16,
            "Unnamed: 0": 57
           },
           {
            "Destination": 2038166,
            "Destination_Names": "Mattie Perez",
            "Purchase_Count": 17,
            "Unnamed: 0": 119
           },
           {
            "Destination": 2038025,
            "Destination_Names": "Miriam Franch",
            "Purchase_Count": 18,
            "Unnamed: 0": 52
           },
           {
            "Destination": 2038145,
            "Destination_Names": "Lola Haynes",
            "Purchase_Count": 19,
            "Unnamed: 0": 54
           },
           {
            "Destination": 2040585,
            "Destination_Names": "Rita Cassem",
            "Purchase_Count": 19,
            "Unnamed: 0": 23
           },
           {
            "Destination": 2038160,
            "Destination_Names": "Suzette Sienicki",
            "Purchase_Count": 20,
            "Unnamed: 0": 93
           },
           {
            "Destination": 2037835,
            "Destination_Names": "Benjamin Rimbach",
            "Purchase_Count": 22,
            "Unnamed: 0": 58
           },
           {
            "Destination": 2038137,
            "Destination_Names": "Magdalena Gehm",
            "Purchase_Count": 22,
            "Unnamed: 0": 212
           },
           {
            "Destination": 2037811,
            "Destination_Names": "Steven Nichols",
            "Purchase_Count": 22,
            "Unnamed: 0": 84
           },
           {
            "Destination": 2040597,
            "Destination_Names": "Dwayne Fyock",
            "Purchase_Count": 23,
            "Unnamed: 0": 85
           },
           {
            "Destination": 2040314,
            "Destination_Names": "Dora Resek",
            "Purchase_Count": 23,
            "Unnamed: 0": 43
           },
           {
            "Destination": 2040311,
            "Destination_Names": "Kirby Liter",
            "Purchase_Count": 23,
            "Unnamed: 0": 139
           },
           {
            "Destination": 2038170,
            "Destination_Names": "Karrie Tennent",
            "Purchase_Count": 24,
            "Unnamed: 0": 49
           },
           {
            "Destination": 2037912,
            "Destination_Names": "Winnie Byrd",
            "Purchase_Count": 25,
            "Unnamed: 0": 90
           },
           {
            "Destination": 2037896,
            "Destination_Names": "Catrice Reho",
            "Purchase_Count": 25,
            "Unnamed: 0": 25
           },
           {
            "Destination": 2037687,
            "Destination_Names": "Lessie Tutor",
            "Purchase_Count": 25,
            "Unnamed: 0": 88
           },
           {
            "Destination": 2038040,
            "Destination_Names": "Anastacia Henriques",
            "Purchase_Count": 25,
            "Unnamed: 0": 7
           },
           {
            "Destination": 2038041,
            "Destination_Names": "Chi Eichhorst",
            "Purchase_Count": 25,
            "Unnamed: 0": 40
           },
           {
            "Destination": 2038148,
            "Destination_Names": "Milly Kokesh",
            "Purchase_Count": 26,
            "Unnamed: 0": 50
           },
           {
            "Destination": 2040490,
            "Destination_Names": "Carli Agostino",
            "Purchase_Count": 27,
            "Unnamed: 0": 46
           },
           {
            "Destination": 2038147,
            "Destination_Names": "Brandon Carr",
            "Purchase_Count": 28,
            "Unnamed: 0": 34
           },
           {
            "Destination": 2038046,
            "Destination_Names": "Nerissa Ovalles",
            "Purchase_Count": 30,
            "Unnamed: 0": 97
           },
           {
            "Destination": 2037871,
            "Destination_Names": "Cynthia Knight",
            "Purchase_Count": 30,
            "Unnamed: 0": 138
           },
           {
            "Destination": 2040310,
            "Destination_Names": "Melvin Washington",
            "Purchase_Count": 31,
            "Unnamed: 0": 14
           },
           {
            "Destination": 2040578,
            "Destination_Names": "Forrest Murrah",
            "Purchase_Count": 33,
            "Unnamed: 0": 69
           },
           {
            "Destination": 2038015,
            "Destination_Names": "Maude Hammond",
            "Purchase_Count": 34,
            "Unnamed: 0": 10
           },
           {
            "Destination": 2037725,
            "Destination_Names": "Vanesa Chartier",
            "Purchase_Count": 35,
            "Unnamed: 0": 65
           },
           {
            "Destination": 2037934,
            "Destination_Names": "Galen Granelli",
            "Purchase_Count": 38,
            "Unnamed: 0": 127
           },
           {
            "Destination": 2038010,
            "Destination_Names": "Rochel Mirr",
            "Purchase_Count": 40,
            "Unnamed: 0": 76
           },
           {
            "Destination": 2038143,
            "Destination_Names": "Marguerite Rivera",
            "Purchase_Count": 41,
            "Unnamed: 0": 51
           },
           {
            "Destination": 2037816,
            "Destination_Names": "Mabel Gilbert",
            "Purchase_Count": 43,
            "Unnamed: 0": 63
           },
           {
            "Destination": 2038178,
            "Destination_Names": "Demetria Murff",
            "Purchase_Count": 51,
            "Unnamed: 0": 41
           },
           {
            "Destination": 2037758,
            "Destination_Names": "Christeen Gulliver",
            "Purchase_Count": 53,
            "Unnamed: 0": 115
           },
           {
            "Destination": 2038002,
            "Destination_Names": "Janette Laffoon",
            "Purchase_Count": 61,
            "Unnamed: 0": 74
           },
           {
            "Destination": 2037706,
            "Destination_Names": "Amal Horman",
            "Purchase_Count": 70,
            "Unnamed: 0": 11
           },
           {
            "Destination": 2037825,
            "Destination_Names": "Rodney Mason",
            "Purchase_Count": 75,
            "Unnamed: 0": 66
           },
           {
            "Destination": 2038008,
            "Destination_Names": "Cora Douglas",
            "Purchase_Count": 76,
            "Unnamed: 0": 36
           },
           {
            "Destination": 2038052,
            "Destination_Names": "Tom Langman",
            "Purchase_Count": 81,
            "Unnamed: 0": 26
           },
           {
            "Destination": 2037832,
            "Destination_Names": "Shaunte Wair",
            "Purchase_Count": 82,
            "Unnamed: 0": 22
           },
           {
            "Destination": 2037924,
            "Destination_Names": "Juli Grossmeyer",
            "Purchase_Count": 87,
            "Unnamed: 0": 21
           },
           {
            "Destination": 2038073,
            "Destination_Names": "Melvin Taliman",
            "Purchase_Count": 87,
            "Unnamed: 0": 13
           },
           {
            "Destination": 2038042,
            "Destination_Names": "Ardella Slifko",
            "Purchase_Count": 90,
            "Unnamed: 0": 29
           },
           {
            "Destination": 2037930,
            "Destination_Names": "Jenae Muldowney",
            "Purchase_Count": 118,
            "Unnamed: 0": 9
           },
           {
            "Destination": 2040484,
            "Destination_Names": "Dina Arrojo",
            "Purchase_Count": 130,
            "Unnamed: 0": 53
           },
           {
            "Destination": 2038076,
            "Destination_Names": "Cira Brookshire",
            "Purchase_Count": 133,
            "Unnamed: 0": 31
           },
           {
            "Destination": 2038176,
            "Destination_Names": "Corey Jefferson",
            "Purchase_Count": 179,
            "Unnamed: 0": 32
           },
           {
            "Destination": 2037699,
            "Destination_Names": "Lois Dixon",
            "Purchase_Count": 193,
            "Unnamed: 0": 19
           },
           {
            "Destination": 2037760,
            "Destination_Names": "Robert Wallace",
            "Purchase_Count": 210,
            "Unnamed: 0": 8
           },
           {
            "Destination": 2040623,
            "Destination_Names": "Micha Werries",
            "Purchase_Count": 210,
            "Unnamed: 0": 4
           },
           {
            "Destination": 2037754,
            "Destination_Names": "Celina Orellama",
            "Purchase_Count": 272,
            "Unnamed: 0": 28
           },
           {
            "Destination": 2037827,
            "Destination_Names": "Brittanie Spadlin",
            "Purchase_Count": 392,
            "Unnamed: 0": 37
           },
           {
            "Destination": 2037694,
            "Destination_Names": "Ernest Patterson",
            "Purchase_Count": 990,
            "Unnamed: 0": 6
           },
           {
            "Destination": 2037744,
            "Destination_Names": "Miesha Lettsome",
            "Purchase_Count": 1902,
            "Unnamed: 0": 2
           },
           {
            "Destination": 2040624,
            "Destination_Names": "Torri Devilliers",
            "Purchase_Count": 2385,
            "Unnamed: 0": 1
           },
           {
            "Destination": 2038155,
            "Destination_Names": "Brandon Bradley",
            "Purchase_Count": 2590,
            "Unnamed: 0": 3
           },
           {
            "Destination": 2040339,
            "Destination_Names": "Fairy Boratko",
            "Purchase_Count": 4798,
            "Unnamed: 0": 5
           },
           {
            "Destination": 2040565,
            "Destination_Names": "Gail Feindt",
            "Purchase_Count": 745027,
            "Unnamed: 0": 0
           }
          ]
         },
         "encoding": {
          "x": {
           "bin": true,
           "field": "Purchase_Count",
           "type": "quantitative"
          },
          "y": {
           "aggregate": "count",
           "type": "quantitative"
          }
         },
         "mark": "bar",
         "selection": {
          "selector125": {
           "bind": "scales",
           "encodings": [
            "x",
            "y"
           ],
           "mark": {
            "fill": "#333",
            "fillOpacity": 0.125,
            "stroke": "white"
           },
           "on": "[mousedown, window:mouseup] > window:mousemove!",
           "resolve": "global",
           "translate": "[mousedown, window:mouseup] > window:mousemove!",
           "type": "interval",
           "zoom": "wheel!"
          }
         },
         "transform": [
          {
           "filter": {
            "selection": "selector118"
           }
          }
         ]
        }
       ]
      },
      "image/png": "[encoded data removed]",
      "text/plain": [
       "<VegaLite 2 object>\n",
       "\n",
       "If you see this message, it means the renderer has not been properly enabled\n",
       "for the frontend that you are using. For more information, see\n",
       "https://altair-viz.github.io/user_guide/troubleshooting.html\n"
      ]
     },
     "execution_count": 172,
     "metadata": {},
     "output_type": "execute_result"
    }
   ],
   "source": [
    "(scatter | scatter2) & histogram"
   ]
  },
  {
   "cell_type": "code",
   "execution_count": 142,
   "metadata": {},
   "outputs": [],
   "source": [
    "((scatter | scatter2) & histogram).save('purchase_data_with_gail.html')"
   ]
  },
  {
   "cell_type": "code",
   "execution_count": 143,
   "metadata": {},
   "outputs": [
    {
     "data": {
      "text/html": [
       "<div>\n",
       "<style scoped>\n",
       "    .dataframe tbody tr th:only-of-type {\n",
       "        vertical-align: middle;\n",
       "    }\n",
       "\n",
       "    .dataframe tbody tr th {\n",
       "        vertical-align: top;\n",
       "    }\n",
       "\n",
       "    .dataframe thead th {\n",
       "        text-align: right;\n",
       "    }\n",
       "</style>\n",
       "<table border=\"1\" class=\"dataframe\">\n",
       "  <thead>\n",
       "    <tr style=\"text-align: right;\">\n",
       "      <th></th>\n",
       "      <th>Unnamed: 0</th>\n",
       "      <th>Destination</th>\n",
       "      <th>Purchase_Count</th>\n",
       "      <th>Destination_Names</th>\n",
       "    </tr>\n",
       "  </thead>\n",
       "  <tbody>\n",
       "    <tr>\n",
       "      <th>454</th>\n",
       "      <td>2</td>\n",
       "      <td>2037744</td>\n",
       "      <td>1902</td>\n",
       "      <td>Miesha Lettsome</td>\n",
       "    </tr>\n",
       "    <tr>\n",
       "      <th>455</th>\n",
       "      <td>1</td>\n",
       "      <td>2040624</td>\n",
       "      <td>2385</td>\n",
       "      <td>Torri Devilliers</td>\n",
       "    </tr>\n",
       "    <tr>\n",
       "      <th>456</th>\n",
       "      <td>3</td>\n",
       "      <td>2038155</td>\n",
       "      <td>2590</td>\n",
       "      <td>Brandon Bradley</td>\n",
       "    </tr>\n",
       "    <tr>\n",
       "      <th>457</th>\n",
       "      <td>5</td>\n",
       "      <td>2040339</td>\n",
       "      <td>4798</td>\n",
       "      <td>Fairy Boratko</td>\n",
       "    </tr>\n",
       "    <tr>\n",
       "      <th>458</th>\n",
       "      <td>0</td>\n",
       "      <td>2040565</td>\n",
       "      <td>745027</td>\n",
       "      <td>Gail Feindt</td>\n",
       "    </tr>\n",
       "  </tbody>\n",
       "</table>\n",
       "</div>"
      ],
      "text/plain": [
       "     Unnamed: 0  Destination  Purchase_Count Destination_Names\n",
       "454           2      2037744            1902   Miesha Lettsome\n",
       "455           1      2040624            2385  Torri Devilliers\n",
       "456           3      2038155            2590   Brandon Bradley\n",
       "457           5      2040339            4798     Fairy Boratko\n",
       "458           0      2040565          745027       Gail Feindt"
      ]
     },
     "execution_count": 143,
     "metadata": {},
     "output_type": "execute_result"
    }
   ],
   "source": [
    "purchase_data.tail()"
   ]
  },
  {
   "cell_type": "code",
   "execution_count": 144,
   "metadata": {},
   "outputs": [],
   "source": [
    "no_gail =purchase_data.drop(458)"
   ]
  },
  {
   "cell_type": "code",
   "execution_count": 145,
   "metadata": {},
   "outputs": [
    {
     "data": {
      "text/html": [
       "<div>\n",
       "<style scoped>\n",
       "    .dataframe tbody tr th:only-of-type {\n",
       "        vertical-align: middle;\n",
       "    }\n",
       "\n",
       "    .dataframe tbody tr th {\n",
       "        vertical-align: top;\n",
       "    }\n",
       "\n",
       "    .dataframe thead th {\n",
       "        text-align: right;\n",
       "    }\n",
       "</style>\n",
       "<table border=\"1\" class=\"dataframe\">\n",
       "  <thead>\n",
       "    <tr style=\"text-align: right;\">\n",
       "      <th></th>\n",
       "      <th>Unnamed: 0</th>\n",
       "      <th>Destination</th>\n",
       "      <th>Purchase_Count</th>\n",
       "      <th>Destination_Names</th>\n",
       "    </tr>\n",
       "  </thead>\n",
       "  <tbody>\n",
       "    <tr>\n",
       "      <th>453</th>\n",
       "      <td>6</td>\n",
       "      <td>2037694</td>\n",
       "      <td>990</td>\n",
       "      <td>Ernest Patterson</td>\n",
       "    </tr>\n",
       "    <tr>\n",
       "      <th>454</th>\n",
       "      <td>2</td>\n",
       "      <td>2037744</td>\n",
       "      <td>1902</td>\n",
       "      <td>Miesha Lettsome</td>\n",
       "    </tr>\n",
       "    <tr>\n",
       "      <th>455</th>\n",
       "      <td>1</td>\n",
       "      <td>2040624</td>\n",
       "      <td>2385</td>\n",
       "      <td>Torri Devilliers</td>\n",
       "    </tr>\n",
       "    <tr>\n",
       "      <th>456</th>\n",
       "      <td>3</td>\n",
       "      <td>2038155</td>\n",
       "      <td>2590</td>\n",
       "      <td>Brandon Bradley</td>\n",
       "    </tr>\n",
       "    <tr>\n",
       "      <th>457</th>\n",
       "      <td>5</td>\n",
       "      <td>2040339</td>\n",
       "      <td>4798</td>\n",
       "      <td>Fairy Boratko</td>\n",
       "    </tr>\n",
       "  </tbody>\n",
       "</table>\n",
       "</div>"
      ],
      "text/plain": [
       "     Unnamed: 0  Destination  Purchase_Count Destination_Names\n",
       "453           6      2037694             990  Ernest Patterson\n",
       "454           2      2037744            1902   Miesha Lettsome\n",
       "455           1      2040624            2385  Torri Devilliers\n",
       "456           3      2038155            2590   Brandon Bradley\n",
       "457           5      2040339            4798     Fairy Boratko"
      ]
     },
     "execution_count": 145,
     "metadata": {},
     "output_type": "execute_result"
    }
   ],
   "source": [
    "no_gail.tail()"
   ]
  },
  {
   "cell_type": "code",
   "execution_count": 150,
   "metadata": {},
   "outputs": [],
   "source": [
    "interval = alt.selection_interval()\n",
    "scatter = alt.Chart(no_gail).mark_point().encode(\n",
    "    y='Purchase_Count',\n",
    "    x='Purchase_Count',\n",
    "    color=alt.condition(interval,alt.value('green'), alt.value('blue'))\n",
    ").interactive().properties(selection=interval)"
   ]
  },
  {
   "cell_type": "code",
   "execution_count": 151,
   "metadata": {},
   "outputs": [],
   "source": [
    "\n",
    "histogram= alt.Chart(no_gail).mark_bar().encode(\n",
    "    y='count()',\n",
    "    x=alt.X('Purchase_Count',bin=True)\n",
    ").interactive().transform_filter(\n",
    "    interval\n",
    ")"
   ]
  },
  {
   "cell_type": "code",
   "execution_count": 167,
   "metadata": {},
   "outputs": [],
   "source": [
    "scatter2 = alt.Chart(no_gail).mark_point().encode(\n",
    "    y='Purchase_Count',\n",
    "    x='Purchase_Count',\n",
    "    tooltip='Destination_Names'\n",
    ").interactive().transform_filter(\n",
    "    interval\n",
    ")"
   ]
  },
  {
   "cell_type": "code",
   "execution_count": 168,
   "metadata": {},
   "outputs": [
    {
     "data": {
      "application/vnd.vegalite.v2+json": {
       "$schema": "https://vega.github.io/schema/vega-lite/v2.4.3.json",
       "config": {
        "view": {
         "height": 300,
         "width": 400
        }
       },
       "vconcat": [
        {
         "hconcat": [
          {
           "data": {
            "values": [
             {
              "Destination": 2037791,
              "Destination_Names": "Brett Higgins",
              "Purchase_Count": 1,
              "Unnamed: 0": 458
             },
             {
              "Destination": 2037741,
              "Destination_Names": "Justin Harvey",
              "Purchase_Count": 1,
              "Unnamed: 0": 146
             },
             {
              "Destination": 2037815,
              "Destination_Names": "Winnie Klein",
              "Purchase_Count": 1,
              "Unnamed: 0": 147
             },
             {
              "Destination": 2037873,
              "Destination_Names": "Danielle Yu",
              "Purchase_Count": 1,
              "Unnamed: 0": 324
             },
             {
              "Destination": 2037947,
              "Destination_Names": "Belle Houston",
              "Purchase_Count": 1,
              "Unnamed: 0": 323
             },
             {
              "Destination": 2037944,
              "Destination_Names": "Diamond Olexa",
              "Purchase_Count": 1,
              "Unnamed: 0": 150
             },
             {
              "Destination": 2037874,
              "Destination_Names": "Dorotha Mosey",
              "Purchase_Count": 1,
              "Unnamed: 0": 320
             },
             {
              "Destination": 2037957,
              "Destination_Names": "Aisha Misner",
              "Purchase_Count": 1,
              "Unnamed: 0": 318
             },
             {
              "Destination": 2037960,
              "Destination_Names": "Andy Geyette",
              "Purchase_Count": 1,
              "Unnamed: 0": 317
             },
             {
              "Destination": 2037855,
              "Destination_Names": "Tonia Anawalt",
              "Purchase_Count": 1,
              "Unnamed: 0": 316
             },
             {
              "Destination": 2043367,
              "Destination_Names": "Kaitlyn Focke",
              "Purchase_Count": 1,
              "Unnamed: 0": 158
             },
             {
              "Destination": 2040308,
              "Destination_Names": "Sadie Elliott",
              "Purchase_Count": 1,
              "Unnamed: 0": 315
             },
             {
              "Destination": 2037928,
              "Destination_Names": "Caroline Stanley",
              "Purchase_Count": 1,
              "Unnamed: 0": 329
             },
             {
              "Destination": 2037979,
              "Destination_Names": "Loree Acero",
              "Purchase_Count": 1,
              "Unnamed: 0": 160
             },
             {
              "Destination": 2037977,
              "Destination_Names": "Lizzie Cross",
              "Purchase_Count": 1,
              "Unnamed: 0": 162
             },
             {
              "Destination": 2037886,
              "Destination_Names": "Juan Cabiltes",
              "Purchase_Count": 1,
              "Unnamed: 0": 163
             },
             {
              "Destination": 2037767,
              "Destination_Names": "Natalia Macomber",
              "Purchase_Count": 1,
              "Unnamed: 0": 313
             },
             {
              "Destination": 2037843,
              "Destination_Names": "Pamella Schroy",
              "Purchase_Count": 1,
              "Unnamed: 0": 312
             },
             {
              "Destination": 2037857,
              "Destination_Names": "Claude Chesterfield",
              "Purchase_Count": 1,
              "Unnamed: 0": 311
             },
             {
              "Destination": 2037841,
              "Destination_Names": "Elsie Potter",
              "Purchase_Count": 1,
              "Unnamed: 0": 310
             },
             {
              "Destination": 2037945,
              "Destination_Names": "Bernice Figueroa",
              "Purchase_Count": 1,
              "Unnamed: 0": 168
             },
             {
              "Destination": 2040993,
              "Destination_Names": "Mamie Wheeler",
              "Purchase_Count": 1,
              "Unnamed: 0": 307
             },
             {
              "Destination": 2037983,
              "Destination_Names": "Shannan Fesenbek",
              "Purchase_Count": 1,
              "Unnamed: 0": 171
             },
             {
              "Destination": 2037749,
              "Destination_Names": "Jewell Maiorano",
              "Purchase_Count": 1,
              "Unnamed: 0": 306
             },
             {
              "Destination": 2037711,
              "Destination_Names": "David Simon",
              "Purchase_Count": 1,
              "Unnamed: 0": 304
             },
             {
              "Destination": 2037881,
              "Destination_Names": "Hester Parsons",
              "Purchase_Count": 1,
              "Unnamed: 0": 314
             },
             {
              "Destination": 2041367,
              "Destination_Names": "Effie Freeman",
              "Purchase_Count": 1,
              "Unnamed: 0": 175
             },
             {
              "Destination": 2037923,
              "Destination_Names": "Minnie Hopkins",
              "Purchase_Count": 1,
              "Unnamed: 0": 331
             },
             {
              "Destination": 2040313,
              "Destination_Names": "Mac Berisha",
              "Purchase_Count": 1,
              "Unnamed: 0": 332
             },
             {
              "Destination": 2044046,
              "Destination_Names": "Jenee Pentecost",
              "Purchase_Count": 1,
              "Unnamed: 0": 113
             },
             {
              "Destination": 2037804,
              "Destination_Names": "Cody Mullins",
              "Purchase_Count": 1,
              "Unnamed: 0": 355
             },
             {
              "Destination": 2038124,
              "Destination_Names": "Bettie Vargas",
              "Purchase_Count": 1,
              "Unnamed: 0": 354
             },
             {
              "Destination": 2037762,
              "Destination_Names": "Laura Cox",
              "Purchase_Count": 1,
              "Unnamed: 0": 116
             },
             {
              "Destination": 2038058,
              "Destination_Names": "Shela Cordoza",
              "Purchase_Count": 1,
              "Unnamed: 0": 117
             },
             {
              "Destination": 2038181,
              "Destination_Names": "Ernestina Paskow",
              "Purchase_Count": 1,
              "Unnamed: 0": 353
             },
             {
              "Destination": 2037907,
              "Destination_Names": "Sherita Herkel",
              "Purchase_Count": 1,
              "Unnamed: 0": 351
             },
             {
              "Destination": 2038099,
              "Destination_Names": "Cristopher Oehlschlager",
              "Purchase_Count": 1,
              "Unnamed: 0": 349
             },
             {
              "Destination": 2037908,
              "Destination_Names": "Leila Wade",
              "Purchase_Count": 1,
              "Unnamed: 0": 348
             },
             {
              "Destination": 2043969,
              "Destination_Names": "Ricky Curry",
              "Purchase_Count": 1,
              "Unnamed: 0": 246
             },
             {
              "Destination": 2037909,
              "Destination_Names": "Regenia Macabeo",
              "Purchase_Count": 1,
              "Unnamed: 0": 345
             },
             {
              "Destination": 2038020,
              "Destination_Names": "Jane Alvarado",
              "Purchase_Count": 1,
              "Unnamed: 0": 141
             },
             {
              "Destination": 2037948,
              "Destination_Names": "Cortez Rapin",
              "Purchase_Count": 1,
              "Unnamed: 0": 344
             },
             {
              "Destination": 2037916,
              "Destination_Names": "Elizabeth Conner",
              "Purchase_Count": 1,
              "Unnamed: 0": 341
             },
             {
              "Destination": 2038136,
              "Destination_Names": "Bertha Beachell",
              "Purchase_Count": 1,
              "Unnamed: 0": 339
             },
             {
              "Destination": 2037778,
              "Destination_Names": "Willie Fowler",
              "Purchase_Count": 1,
              "Unnamed: 0": 338
             },
             {
              "Destination": 2037969,
              "Destination_Names": "Curtis Stone",
              "Purchase_Count": 1,
              "Unnamed: 0": 337
             },
             {
              "Destination": 2037756,
              "Destination_Names": "Daisy Briggs",
              "Purchase_Count": 1,
              "Unnamed: 0": 132
             },
             {
              "Destination": 2040595,
              "Destination_Names": "Armida Tatu",
              "Purchase_Count": 1,
              "Unnamed: 0": 133
             },
             {
              "Destination": 2037844,
              "Destination_Names": "Shelli Auther",
              "Purchase_Count": 1,
              "Unnamed: 0": 336
             },
             {
              "Destination": 2037893,
              "Destination_Names": "Chauncey Micco",
              "Purchase_Count": 1,
              "Unnamed: 0": 135
             },
             {
              "Destination": 2037898,
              "Destination_Names": "Adeline Walsh",
              "Purchase_Count": 1,
              "Unnamed: 0": 335
             },
             {
              "Destination": 2038006,
              "Destination_Names": "Leo Nelson",
              "Purchase_Count": 1,
              "Unnamed: 0": 137
             },
             {
              "Destination": 2037710,
              "Destination_Names": "Angelica Tankard",
              "Purchase_Count": 1,
              "Unnamed: 0": 334
             },
             {
              "Destination": 2037911,
              "Destination_Names": "Callie Roberson",
              "Purchase_Count": 1,
              "Unnamed: 0": 342
             },
             {
              "Destination": 2040551,
              "Destination_Names": "Samuel Herting",
              "Purchase_Count": 1,
              "Unnamed: 0": 112
             },
             {
              "Destination": 2037996,
              "Destination_Names": "Eugena Shikuma",
              "Purchase_Count": 1,
              "Unnamed: 0": 176
             },
             {
              "Destination": 2040345,
              "Destination_Names": "Marilynn Estergard",
              "Purchase_Count": 1,
              "Unnamed: 0": 178
             },
             {
              "Destination": 2038151,
              "Destination_Names": "Micheline Blagg",
              "Purchase_Count": 1,
              "Unnamed: 0": 273
             },
             {
              "Destination": 2037884,
              "Destination_Names": "Shanna Susko",
              "Purchase_Count": 1,
              "Unnamed: 0": 271
             },
             {
              "Destination": 2038009,
              "Destination_Names": "Johnathon Kotterna",
              "Purchase_Count": 1,
              "Unnamed: 0": 270
             },
             {
              "Destination": 2037779,
              "Destination_Names": "Carrie Carson",
              "Purchase_Count": 1,
              "Unnamed: 0": 269
             },
             {
              "Destination": 2037885,
              "Destination_Names": "Edwin Payne",
              "Purchase_Count": 1,
              "Unnamed: 0": 219
             },
             {
              "Destination": 2038080,
              "Destination_Names": "Ralph Summers",
              "Purchase_Count": 1,
              "Unnamed: 0": 268
             },
             {
              "Destination": 2037894,
              "Destination_Names": "Juana Newland",
              "Purchase_Count": 1,
              "Unnamed: 0": 221
             },
             {
              "Destination": 2037985,
              "Destination_Names": "Hilda Ballard",
              "Purchase_Count": 1,
              "Unnamed: 0": 266
             },
             {
              "Destination": 2038085,
              "Destination_Names": "Ann Nash",
              "Purchase_Count": 1,
              "Unnamed: 0": 223
             },
             {
              "Destination": 2037792,
              "Destination_Names": "Trula Artibee",
              "Purchase_Count": 1,
              "Unnamed: 0": 224
             },
             {
              "Destination": 2040586,
              "Destination_Names": "Randell Xyong",
              "Purchase_Count": 1,
              "Unnamed: 0": 225
             },
             {
              "Destination": 2038083,
              "Destination_Names": "Starla Grisham",
              "Purchase_Count": 1,
              "Unnamed: 0": 214
             },
             {
              "Destination": 2037982,
              "Destination_Names": "Jefferson Quintana",
              "Purchase_Count": 1,
              "Unnamed: 0": 265
             },
             {
              "Destination": 2037840,
              "Destination_Names": "Kyle Wade",
              "Purchase_Count": 1,
              "Unnamed: 0": 228
             },
             {
              "Destination": 2037899,
              "Destination_Names": "Carter Ingalsbe",
              "Purchase_Count": 1,
              "Unnamed: 0": 457
             },
             {
              "Destination": 2037973,
              "Destination_Names": "Jolyn Khauv",
              "Purchase_Count": 1,
              "Unnamed: 0": 261
             },
             {
              "Destination": 2037988,
              "Destination_Names": "Song Lamonte",
              "Purchase_Count": 1,
              "Unnamed: 0": 232
             },
             {
              "Destination": 2040315,
              "Destination_Names": "Chara Bahar",
              "Purchase_Count": 1,
              "Unnamed: 0": 234
             },
             {
              "Destination": 2037849,
              "Destination_Names": "Twyla Flahaven",
              "Purchase_Count": 1,
              "Unnamed: 0": 235
             },
             {
              "Destination": 2037738,
              "Destination_Names": "Leisha Lerwill",
              "Purchase_Count": 1,
              "Unnamed: 0": 237
             },
             {
              "Destination": 2037773,
              "Destination_Names": "Verna Pratt",
              "Purchase_Count": 1,
              "Unnamed: 0": 238
             },
             {
              "Destination": 2037739,
              "Destination_Names": "Ji Niffenegger",
              "Purchase_Count": 1,
              "Unnamed: 0": 258
             },
             {
              "Destination": 2037814,
              "Destination_Names": "Clay Thomes",
              "Purchase_Count": 1,
              "Unnamed: 0": 253
             },
             {
              "Destination": 2038128,
              "Destination_Names": "Johnie Suchla",
              "Purchase_Count": 1,
              "Unnamed: 0": 249
             },
             {
              "Destination": 2037959,
              "Destination_Names": "Myung Eddins",
              "Purchase_Count": 1,
              "Unnamed: 0": 264
             },
             {
              "Destination": 2037935,
              "Destination_Names": "Roger Hughes",
              "Purchase_Count": 1,
              "Unnamed: 0": 303
             },
             {
              "Destination": 2038004,
              "Destination_Names": "Sasha Lukman",
              "Purchase_Count": 1,
              "Unnamed: 0": 274
             },
             {
              "Destination": 2037799,
              "Destination_Names": "Joel Mason",
              "Purchase_Count": 1,
              "Unnamed: 0": 276
             },
             {
              "Destination": 2037714,
              "Destination_Names": "Kristal Kilborne",
              "Purchase_Count": 1,
              "Unnamed: 0": 179
             },
             {
              "Destination": 2038105,
              "Destination_Names": "Ina Elliott",
              "Purchase_Count": 1,
              "Unnamed: 0": 302
             },
             {
              "Destination": 2038167,
              "Destination_Names": "Elizabeth Ramsey",
              "Purchase_Count": 1,
              "Unnamed: 0": 301
             },
             {
              "Destination": 2037801,
              "Destination_Names": "Cordelia Fernandez",
              "Purchase_Count": 1,
              "Unnamed: 0": 299
             },
             {
              "Destination": 2038086,
              "Destination_Names": "Lyda Kelton",
              "Purchase_Count": 1,
              "Unnamed: 0": 298
             },
             {
              "Destination": 2038130,
              "Destination_Names": "Mackenzie Inzunza",
              "Purchase_Count": 1,
              "Unnamed: 0": 185
             },
             {
              "Destination": 2037709,
              "Destination_Names": "Chance Jorda",
              "Purchase_Count": 1,
              "Unnamed: 0": 187
             },
             {
              "Destination": 2037966,
              "Destination_Names": "Thomas Nunez",
              "Purchase_Count": 1,
              "Unnamed: 0": 295
             },
             {
              "Destination": 2037913,
              "Destination_Names": "Edna Santos",
              "Purchase_Count": 1,
              "Unnamed: 0": 294
             },
             {
              "Destination": 2038095,
              "Destination_Names": "Sara Hill",
              "Purchase_Count": 1,
              "Unnamed: 0": 293
             },
             {
              "Destination": 2037846,
              "Destination_Names": "Dione Mettlen",
              "Purchase_Count": 1,
              "Unnamed: 0": 290
             },
             {
              "Destination": 2037715,
              "Destination_Names": "Demetrice Emmerling",
              "Purchase_Count": 1,
              "Unnamed: 0": 275
             },
             {
              "Destination": 2037834,
              "Destination_Names": "Richard Howell",
              "Purchase_Count": 1,
              "Unnamed: 0": 289
             },
             {
              "Destination": 2037753,
              "Destination_Names": "Melvin Suchanek",
              "Purchase_Count": 1,
              "Unnamed: 0": 196
             },
             {
              "Destination": 2037974,
              "Destination_Names": "Emiko Dyreson",
              "Purchase_Count": 1,
              "Unnamed: 0": 198
             },
             {
              "Destination": 2038110,
              "Destination_Names": "Lavone Manglona",
              "Purchase_Count": 1,
              "Unnamed: 0": 284
             },
             {
              "Destination": 2037719,
              "Destination_Names": "Katheleen Bergsten",
              "Purchase_Count": 1,
              "Unnamed: 0": 201
             },
             {
              "Destination": 2037752,
              "Destination_Names": "Stacey Simmonds",
              "Purchase_Count": 1,
              "Unnamed: 0": 279
             },
             {
              "Destination": 2040593,
              "Destination_Names": "Elayne Purwin",
              "Purchase_Count": 1,
              "Unnamed: 0": 278
             },
             {
              "Destination": 2037867,
              "Destination_Names": "Malcolm Laforte",
              "Purchase_Count": 1,
              "Unnamed: 0": 205
             },
             {
              "Destination": 2037722,
              "Destination_Names": "Lura Sandovar",
              "Purchase_Count": 1,
              "Unnamed: 0": 206
             },
             {
              "Destination": 2044028,
              "Destination_Names": "Violet Lewis",
              "Purchase_Count": 1,
              "Unnamed: 0": 207
             },
             {
              "Destination": 2038132,
              "Destination_Names": "Deneen Chaudoin",
              "Purchase_Count": 1,
              "Unnamed: 0": 208
             },
             {
              "Destination": 2037809,
              "Destination_Names": "Marylou Strausz",
              "Purchase_Count": 1,
              "Unnamed: 0": 209
             },
             {
              "Destination": 2038064,
              "Destination_Names": "Grace Owen",
              "Purchase_Count": 1,
              "Unnamed: 0": 286
             },
             {
              "Destination": 2040391,
              "Destination_Names": "Cecila Hendee",
              "Purchase_Count": 1,
              "Unnamed: 0": 111
             },
             {
              "Destination": 2040382,
              "Destination_Names": "Estelle Reyes",
              "Purchase_Count": 1,
              "Unnamed: 0": 347
             },
             {
              "Destination": 2037906,
              "Destination_Names": "Trena Gagen",
              "Purchase_Count": 1,
              "Unnamed: 0": 356
             },
             {
              "Destination": 2050630,
              "Destination_Names": "Peter Richardson",
              "Purchase_Count": 1,
              "Unnamed: 0": 427
             },
             {
              "Destination": 2038082,
              "Destination_Names": "Sophia Salazar",
              "Purchase_Count": 1,
              "Unnamed: 0": 426
             },
             {
              "Destination": 2037737,
              "Destination_Names": "Edith Carroll",
              "Purchase_Count": 1,
              "Unnamed: 0": 425
             },
             {
              "Destination": 2038034,
              "Destination_Names": "Martina Krane",
              "Purchase_Count": 1,
              "Unnamed: 0": 35
             },
             {
              "Destination": 2037802,
              "Destination_Names": "Suanne Legrande",
              "Purchase_Count": 1,
              "Unnamed: 0": 424
             },
             {
              "Destination": 2038088,
              "Destination_Names": "Ty Straughter",
              "Purchase_Count": 1,
              "Unnamed: 0": 422
             },
             {
              "Destination": 2037833,
              "Destination_Names": "Marianela Chinskey",
              "Purchase_Count": 1,
              "Unnamed: 0": 421
             },
             {
              "Destination": 2037854,
              "Destination_Names": "Phillip Hunt",
              "Purchase_Count": 1,
              "Unnamed: 0": 420
             },
             {
              "Destination": 2037772,
              "Destination_Names": "Francisco Rothschild",
              "Purchase_Count": 1,
              "Unnamed: 0": 419
             },
             {
              "Destination": 2037702,
              "Destination_Names": "Joel Olson",
              "Purchase_Count": 1,
              "Unnamed: 0": 418
             },
             {
              "Destination": 2037926,
              "Destination_Names": "Mariette Poynor",
              "Purchase_Count": 1,
              "Unnamed: 0": 417
             },
             {
              "Destination": 2050522,
              "Destination_Names": "Alma Borok",
              "Purchase_Count": 1,
              "Unnamed: 0": 428
             },
             {
              "Destination": 2038087,
              "Destination_Names": "Christina Stevenson",
              "Purchase_Count": 1,
              "Unnamed: 0": 44
             },
             {
              "Destination": 2038158,
              "Destination_Names": "Clair Lotz",
              "Purchase_Count": 1,
              "Unnamed: 0": 416
             },
             {
              "Destination": 2037746,
              "Destination_Names": "Nicholas Newton",
              "Purchase_Count": 1,
              "Unnamed: 0": 413
             },
             {
              "Destination": 2037818,
              "Destination_Names": "Leah Erickson",
              "Purchase_Count": 1,
              "Unnamed: 0": 412
             },
             {
              "Destination": 2037757,
              "Destination_Names": "Mason Schutzman",
              "Purchase_Count": 1,
              "Unnamed: 0": 411
             },
             {
              "Destination": 2037858,
              "Destination_Names": "Leonard Douglas",
              "Purchase_Count": 1,
              "Unnamed: 0": 410
             },
             {
              "Destination": 2038027,
              "Destination_Names": "Inga Ozimek",
              "Purchase_Count": 1,
              "Unnamed: 0": 110
             },
             {
              "Destination": 2037963,
              "Destination_Names": "William Peterson",
              "Purchase_Count": 1,
              "Unnamed: 0": 408
             },
             {
              "Destination": 2037991,
              "Destination_Names": "Lavonna Feasel",
              "Purchase_Count": 1,
              "Unnamed: 0": 56
             },
             {
              "Destination": 2037707,
              "Destination_Names": "Miguel Thornton",
              "Purchase_Count": 1,
              "Unnamed: 0": 405
             },
             {
              "Destination": 2038121,
              "Destination_Names": "Columbus Bouillion",
              "Purchase_Count": 1,
              "Unnamed: 0": 404
             },
             {
              "Destination": 2038174,
              "Destination_Names": "Jules Awalt",
              "Purchase_Count": 1,
              "Unnamed: 0": 403
             },
             {
              "Destination": 2041817,
              "Destination_Names": "Katie Owen",
              "Purchase_Count": 1,
              "Unnamed: 0": 45
             },
             {
              "Destination": 2037819,
              "Destination_Names": "Lavina Rocha",
              "Purchase_Count": 1,
              "Unnamed: 0": 429
             },
             {
              "Destination": 2038129,
              "Destination_Names": "Marion Schwartz",
              "Purchase_Count": 1,
              "Unnamed: 0": 430
             },
             {
              "Destination": 2040583,
              "Destination_Names": "Houston Poulton",
              "Purchase_Count": 1,
              "Unnamed: 0": 431
             },
             {
              "Destination": 2037839,
              "Destination_Names": "Maria Robinson",
              "Purchase_Count": 1,
              "Unnamed: 0": 456
             },
             {
              "Destination": 2037897,
              "Destination_Names": "Rena Wilson",
              "Purchase_Count": 1,
              "Unnamed: 0": 455
             },
             {
              "Destination": 2038184,
              "Destination_Names": "Lelia Rogel",
              "Purchase_Count": 1,
              "Unnamed: 0": 454
             },
             {
              "Destination": 2037937,
              "Destination_Names": "Micheal Kapral",
              "Purchase_Count": 1,
              "Unnamed: 0": 453
             },
             {
              "Destination": 2040468,
              "Destination_Names": "Matthew Howell",
              "Purchase_Count": 1,
              "Unnamed: 0": 452
             },
             {
              "Destination": 2037919,
              "Destination_Names": "Cecelia Marsh",
              "Purchase_Count": 1,
              "Unnamed: 0": 451
             },
             {
              "Destination": 2043997,
              "Destination_Names": "Josephine Reed",
              "Purchase_Count": 1,
              "Unnamed: 0": 450
             },
             {
              "Destination": 2043981,
              "Destination_Names": "Thora Beltrami",
              "Purchase_Count": 1,
              "Unnamed: 0": 449
             },
             {
              "Destination": 2038150,
              "Destination_Names": "Susie Daniels",
              "Purchase_Count": 1,
              "Unnamed: 0": 448
             },
             {
              "Destination": 2038055,
              "Destination_Names": "Harvey Frazier",
              "Purchase_Count": 1,
              "Unnamed: 0": 446
             },
             {
              "Destination": 2041810,
              "Destination_Names": "Lucille Morales",
              "Purchase_Count": 1,
              "Unnamed: 0": 445
             },
             {
              "Destination": 2037950,
              "Destination_Names": "Lillian Kennedy",
              "Purchase_Count": 1,
              "Unnamed: 0": 444
             },
             {
              "Destination": 2037918,
              "Destination_Names": "Ruby Davidson",
              "Purchase_Count": 1,
              "Unnamed: 0": 443
             },
             {
              "Destination": 2038047,
              "Destination_Names": "Man Maxedon",
              "Purchase_Count": 1,
              "Unnamed: 0": 15
             },
             {
              "Destination": 2038134,
              "Destination_Names": "Kendra Stash",
              "Purchase_Count": 1,
              "Unnamed: 0": 442
             },
             {
              "Destination": 2038125,
              "Destination_Names": "Jung Caselli",
              "Purchase_Count": 1,
              "Unnamed: 0": 441
             },
             {
              "Destination": 2037837,
              "Destination_Names": "Geri Nager",
              "Purchase_Count": 1,
              "Unnamed: 0": 440
             },
             {
              "Destination": 2037733,
              "Destination_Names": "Ellis Gabeline",
              "Purchase_Count": 1,
              "Unnamed: 0": 439
             },
             {
              "Destination": 2038003,
              "Destination_Names": "Jenice Savaria",
              "Purchase_Count": 1,
              "Unnamed: 0": 438
             },
             {
              "Destination": 2037736,
              "Destination_Names": "Ashlee Schur",
              "Purchase_Count": 1,
              "Unnamed: 0": 437
             },
             {
              "Destination": 2040626,
              "Destination_Names": "Travis Conner",
              "Purchase_Count": 1,
              "Unnamed: 0": 436
             },
             {
              "Destination": 2037734,
              "Destination_Names": "Pam Perrott",
              "Purchase_Count": 1,
              "Unnamed: 0": 434
             },
             {
              "Destination": 2037685,
              "Destination_Names": "Wanda Reddinger",
              "Purchase_Count": 1,
              "Unnamed: 0": 433
             },
             {
              "Destination": 2037848,
              "Destination_Names": "Ina Obrien",
              "Purchase_Count": 1,
              "Unnamed: 0": 432
             },
             {
              "Destination": 2037853,
              "Destination_Names": "Ollie Rivera",
              "Purchase_Count": 1,
              "Unnamed: 0": 27
             },
             {
              "Destination": 2038179,
              "Destination_Names": "Bettie Steele",
              "Purchase_Count": 1,
              "Unnamed: 0": 402
             },
             {
              "Destination": 2037892,
              "Destination_Names": "Jeanette Malone",
              "Purchase_Count": 1,
              "Unnamed: 0": 401
             },
             {
              "Destination": 2038096,
              "Destination_Names": "Lavenia Daddona",
              "Purchase_Count": 1,
              "Unnamed: 0": 247
             },
             {
              "Destination": 2038101,
              "Destination_Names": "Jordan Elliott",
              "Purchase_Count": 1,
              "Unnamed: 0": 380
             },
             {
              "Destination": 2037902,
              "Destination_Names": "Rory Ockmond",
              "Purchase_Count": 1,
              "Unnamed: 0": 367
             },
             {
              "Destination": 2037845,
              "Destination_Names": "Pinkie Vanandel",
              "Purchase_Count": 1,
              "Unnamed: 0": 385
             },
             {
              "Destination": 2038077,
              "Destination_Names": "Reta Klimkowicz",
              "Purchase_Count": 1,
              "Unnamed: 0": 384
             },
             {
              "Destination": 2040317,
              "Destination_Names": "Cassaundra Arthun",
              "Purchase_Count": 1,
              "Unnamed: 0": 363
             },
             {
              "Destination": 2037693,
              "Destination_Names": "Leila Bishop",
              "Purchase_Count": 1,
              "Unnamed: 0": 383
             },
             {
              "Destination": 2038056,
              "Destination_Names": "Elinor Heckerman",
              "Purchase_Count": 1,
              "Unnamed: 0": 382
             },
             {
              "Destination": 2038090,
              "Destination_Names": "Lurlene Cherian",
              "Purchase_Count": 1,
              "Unnamed: 0": 381
             },
             {
              "Destination": 2037971,
              "Destination_Names": "Lucille Wise",
              "Purchase_Count": 1,
              "Unnamed: 0": 400
             },
             {
              "Destination": 2037692,
              "Destination_Names": "Elida Talarico",
              "Purchase_Count": 1,
              "Unnamed: 0": 364
             },
             {
              "Destination": 2038119,
              "Destination_Names": "Hulda Owen",
              "Purchase_Count": 1,
              "Unnamed: 0": 365
             },
             {
              "Destination": 2037891,
              "Destination_Names": "Grace Farmer",
              "Purchase_Count": 1,
              "Unnamed: 0": 386
             },
             {
              "Destination": 2041373,
              "Destination_Names": "Valeria Batrum",
              "Purchase_Count": 1,
              "Unnamed: 0": 379
             },
             {
              "Destination": 2037993,
              "Destination_Names": "Armand Adside",
              "Purchase_Count": 1,
              "Unnamed: 0": 376
             },
             {
              "Destination": 2038033,
              "Destination_Names": "Marion Leonard",
              "Purchase_Count": 1,
              "Unnamed: 0": 375
             },
             {
              "Destination": 2037869,
              "Destination_Names": "Ivelisse Butkovich",
              "Purchase_Count": 1,
              "Unnamed: 0": 374
             },
             {
              "Destination": 2037917,
              "Destination_Names": "Luke Gross",
              "Purchase_Count": 1,
              "Unnamed: 0": 373
             },
             {
              "Destination": 2037931,
              "Destination_Names": "Somer Lofthouse",
              "Purchase_Count": 1,
              "Unnamed: 0": 372
             },
             {
              "Destination": 2037747,
              "Destination_Names": "Lou Klimaszewski",
              "Purchase_Count": 1,
              "Unnamed: 0": 371
             },
             {
              "Destination": 2037803,
              "Destination_Names": "Minh Orcutt",
              "Purchase_Count": 1,
              "Unnamed: 0": 370
             },
             {
              "Destination": 2037786,
              "Destination_Names": "Ann Kingshott",
              "Purchase_Count": 1,
              "Unnamed: 0": 94
             },
             {
              "Destination": 2037976,
              "Destination_Names": "Loise Gladhill",
              "Purchase_Count": 1,
              "Unnamed: 0": 369
             },
             {
              "Destination": 2037956,
              "Destination_Names": "Jon Obrien",
              "Purchase_Count": 1,
              "Unnamed: 0": 368
             },
             {
              "Destination": 2040572,
              "Destination_Names": "Eddy Faerber",
              "Purchase_Count": 1,
              "Unnamed: 0": 378
             },
             {
              "Destination": 2037910,
              "Destination_Names": "Nina Carr",
              "Purchase_Count": 1,
              "Unnamed: 0": 387
             },
             {
              "Destination": 2038165,
              "Destination_Names": "Candice Runge",
              "Purchase_Count": 1,
              "Unnamed: 0": 361
             },
             {
              "Destination": 2037863,
              "Destination_Names": "Tony Roberts",
              "Purchase_Count": 1,
              "Unnamed: 0": 392
             },
             {
              "Destination": 2037842,
              "Destination_Names": "Cody Thomas",
              "Purchase_Count": 1,
              "Unnamed: 0": 399
             },
             {
              "Destination": 2038023,
              "Destination_Names": "Mayme Moreno",
              "Purchase_Count": 1,
              "Unnamed: 0": 64
             },
             {
              "Destination": 2038068,
              "Destination_Names": "Santana Horak",
              "Purchase_Count": 1,
              "Unnamed: 0": 398
             },
             {
              "Destination": 2037882,
              "Destination_Names": "Rosa Cobb",
              "Purchase_Count": 1,
              "Unnamed: 0": 397
             },
             {
              "Destination": 2043386,
              "Destination_Names": "Jina Seiders",
              "Purchase_Count": 1,
              "Unnamed: 0": 67
             },
             {
              "Destination": 2043976,
              "Destination_Names": "Randy Berry",
              "Purchase_Count": 1,
              "Unnamed: 0": 396
             },
             {
              "Destination": 2037888,
              "Destination_Names": "Pearl Bell",
              "Purchase_Count": 1,
              "Unnamed: 0": 395
             },
             {
              "Destination": 2038117,
              "Destination_Names": "Ann Harvey",
              "Purchase_Count": 1,
              "Unnamed: 0": 394
             },
             {
              "Destination": 2037789,
              "Destination_Names": "Bailey Shoddie",
              "Purchase_Count": 1,
              "Unnamed: 0": 393
             },
             {
              "Destination": 2040609,
              "Destination_Names": "Monty Ashmen",
              "Purchase_Count": 1,
              "Unnamed: 0": 103
             },
             {
              "Destination": 2037866,
              "Destination_Names": "Opal Mock",
              "Purchase_Count": 1,
              "Unnamed: 0": 391
             },
             {
              "Destination": 2037852,
              "Destination_Names": "Ophelia Butler",
              "Purchase_Count": 1,
              "Unnamed: 0": 366
             },
             {
              "Destination": 2037914,
              "Destination_Names": "Myrtle Lawrence",
              "Purchase_Count": 1,
              "Unnamed: 0": 388
             },
             {
              "Destination": 2037743,
              "Destination_Names": "Shanice Nakahara",
              "Purchase_Count": 1,
              "Unnamed: 0": 390
             },
             {
              "Destination": 2040438,
              "Destination_Names": "Liberty Nuzum",
              "Purchase_Count": 1,
              "Unnamed: 0": 360
             },
             {
              "Destination": 2037904,
              "Destination_Names": "Yong Leyra",
              "Purchase_Count": 1,
              "Unnamed: 0": 359
             },
             {
              "Destination": 2037986,
              "Destination_Names": "Dora Atkins",
              "Purchase_Count": 1,
              "Unnamed: 0": 106
             },
             {
              "Destination": 2043973,
              "Destination_Names": "Whitney Rissman",
              "Purchase_Count": 1,
              "Unnamed: 0": 389
             },
             {
              "Destination": 2037905,
              "Destination_Names": "Melva Vassell",
              "Purchase_Count": 1,
              "Unnamed: 0": 358
             },
             {
              "Destination": 2038028,
              "Destination_Names": "Neville Roya",
              "Purchase_Count": 2,
              "Unnamed: 0": 252
             },
             {
              "Destination": 2038057,
              "Destination_Names": "Oliver Leuthe",
              "Purchase_Count": 2,
              "Unnamed: 0": 357
             },
             {
              "Destination": 2037865,
              "Destination_Names": "Evelia Duer",
              "Purchase_Count": 2,
              "Unnamed: 0": 260
             },
             {
              "Destination": 2037970,
              "Destination_Names": "Brenton Trucker",
              "Purchase_Count": 2,
              "Unnamed: 0": 346
             },
             {
              "Destination": 2038102,
              "Destination_Names": "Louis Ottman",
              "Purchase_Count": 2,
              "Unnamed: 0": 250
             },
             {
              "Destination": 2038172,
              "Destination_Names": "Duane Sylva",
              "Purchase_Count": 2,
              "Unnamed: 0": 251
             },
             {
              "Destination": 2038171,
              "Destination_Names": "Troy Morton",
              "Purchase_Count": 2,
              "Unnamed: 0": 262
             },
             {
              "Destination": 2038031,
              "Destination_Names": "Kia Halonen",
              "Purchase_Count": 2,
              "Unnamed: 0": 447
             },
             {
              "Destination": 2041379,
              "Destination_Names": "Jeremy Cravalho",
              "Purchase_Count": 2,
              "Unnamed: 0": 254
             },
             {
              "Destination": 2037901,
              "Destination_Names": "Tony Daffron",
              "Purchase_Count": 2,
              "Unnamed: 0": 350
             },
             {
              "Destination": 2038175,
              "Destination_Names": "Noelle Amarante",
              "Purchase_Count": 2,
              "Unnamed: 0": 259
             },
             {
              "Destination": 2038043,
              "Destination_Names": "Nestor Olguin",
              "Purchase_Count": 2,
              "Unnamed: 0": 308
             },
             {
              "Destination": 2037965,
              "Destination_Names": "Viki Shoulders",
              "Purchase_Count": 2,
              "Unnamed: 0": 277
             },
             {
              "Destination": 2037793,
              "Destination_Names": "Merry Blevans",
              "Purchase_Count": 2,
              "Unnamed: 0": 305
             },
             {
              "Destination": 2040631,
              "Destination_Names": "Jorge Burns",
              "Purchase_Count": 2,
              "Unnamed: 0": 406
             },
             {
              "Destination": 2037720,
              "Destination_Names": "Neal Blazon",
              "Purchase_Count": 2,
              "Unnamed: 0": 407
             },
             {
              "Destination": 2037696,
              "Destination_Names": "Cinthia Plante",
              "Purchase_Count": 2,
              "Unnamed: 0": 297
             },
             {
              "Destination": 2037735,
              "Destination_Names": "Genia Newmyer",
              "Purchase_Count": 2,
              "Unnamed: 0": 415
             },
             {
              "Destination": 2037936,
              "Destination_Names": "Vicky Goy",
              "Purchase_Count": 2,
              "Unnamed: 0": 296
             },
             {
              "Destination": 2037828,
              "Destination_Names": "Bennett Hess",
              "Purchase_Count": 2,
              "Unnamed: 0": 319
             },
             {
              "Destination": 2038048,
              "Destination_Names": "Jeanice Friar",
              "Purchase_Count": 2,
              "Unnamed: 0": 321
             },
             {
              "Destination": 2038108,
              "Destination_Names": "Conrad Mira",
              "Purchase_Count": 2,
              "Unnamed: 0": 435
             },
             {
              "Destination": 2038089,
              "Destination_Names": "Jason Jimenez",
              "Purchase_Count": 2,
              "Unnamed: 0": 322
             },
             {
              "Destination": 2040592,
              "Destination_Names": "Adam Ruiz",
              "Purchase_Count": 2,
              "Unnamed: 0": 287
             },
             {
              "Destination": 2038156,
              "Destination_Names": "Merry Diodonet",
              "Purchase_Count": 2,
              "Unnamed: 0": 285
             },
             {
              "Destination": 2037860,
              "Destination_Names": "Carlos Morris",
              "Purchase_Count": 2,
              "Unnamed: 0": 423
             },
             {
              "Destination": 2040601,
              "Destination_Names": "Jorge Patrick",
              "Purchase_Count": 2,
              "Unnamed: 0": 283
             },
             {
              "Destination": 2037836,
              "Destination_Names": "Ossie Barbeau",
              "Purchase_Count": 2,
              "Unnamed: 0": 282
             },
             {
              "Destination": 2037797,
              "Destination_Names": "Rolande Hargreaves",
              "Purchase_Count": 2,
              "Unnamed: 0": 325
             },
             {
              "Destination": 2038091,
              "Destination_Names": "Odell Surrey",
              "Purchase_Count": 2,
              "Unnamed: 0": 326
             },
             {
              "Destination": 2037922,
              "Destination_Names": "Tawny Rapko",
              "Purchase_Count": 2,
              "Unnamed: 0": 333
             },
             {
              "Destination": 2037718,
              "Destination_Names": "Aaron Cilva",
              "Purchase_Count": 2,
              "Unnamed: 0": 288
             },
             {
              "Destination": 2037759,
              "Destination_Names": "Clotilde Kinstle",
              "Purchase_Count": 2,
              "Unnamed: 0": 409
             },
             {
              "Destination": 2038011,
              "Destination_Names": "Letty Pontiff",
              "Purchase_Count": 2,
              "Unnamed: 0": 229
             },
             {
              "Destination": 2038097,
              "Destination_Names": "Hannelore Javarone",
              "Purchase_Count": 2,
              "Unnamed: 0": 248
             },
             {
              "Destination": 2038054,
              "Destination_Names": "Dennise Kinkella",
              "Purchase_Count": 2,
              "Unnamed: 0": 114
             },
             {
              "Destination": 2037992,
              "Destination_Names": "Darci Rodrigus",
              "Purchase_Count": 2,
              "Unnamed: 0": 165
             },
             {
              "Destination": 2040590,
              "Destination_Names": "Duane Harper",
              "Purchase_Count": 2,
              "Unnamed: 0": 202
             },
             {
              "Destination": 2037972,
              "Destination_Names": "Keli Kehn",
              "Purchase_Count": 2,
              "Unnamed: 0": 124
             },
             {
              "Destination": 2037856,
              "Destination_Names": "Elizebeth Berliew",
              "Purchase_Count": 2,
              "Unnamed: 0": 197
             },
             {
              "Destination": 2038024,
              "Destination_Names": "Carl Coxon",
              "Purchase_Count": 2,
              "Unnamed: 0": 128
             },
             {
              "Destination": 2037740,
              "Destination_Names": "Malik Rolland",
              "Purchase_Count": 2,
              "Unnamed: 0": 129
             },
             {
              "Destination": 2037770,
              "Destination_Names": "Grazyna Hustead",
              "Purchase_Count": 2,
              "Unnamed: 0": 131
             },
             {
              "Destination": 2037968,
              "Destination_Names": "Jame Wytch",
              "Purchase_Count": 2,
              "Unnamed: 0": 136
             },
             {
              "Destination": 2040392,
              "Destination_Names": "Kerry Jinkerson",
              "Purchase_Count": 2,
              "Unnamed: 0": 140
             },
             {
              "Destination": 2038173,
              "Destination_Names": "Alma Murray",
              "Purchase_Count": 2,
              "Unnamed: 0": 189
             },
             {
              "Destination": 2037933,
              "Destination_Names": "Louise Stevens",
              "Purchase_Count": 2,
              "Unnamed: 0": 210
             },
             {
              "Destination": 2037850,
              "Destination_Names": "Cora Hart",
              "Purchase_Count": 2,
              "Unnamed: 0": 186
             },
             {
              "Destination": 2040577,
              "Destination_Names": "Jeremiah Farmer",
              "Purchase_Count": 2,
              "Unnamed: 0": 182
             },
             {
              "Destination": 2037823,
              "Destination_Names": "Kerry Menousek",
              "Purchase_Count": 2,
              "Unnamed: 0": 155
             },
             {
              "Destination": 2037717,
              "Destination_Names": "Clara Singleton",
              "Purchase_Count": 2,
              "Unnamed: 0": 157
             },
             {
              "Destination": 2037861,
              "Destination_Names": "Jewell Dronet",
              "Purchase_Count": 2,
              "Unnamed: 0": 180
             },
             {
              "Destination": 2040557,
              "Destination_Names": "Alexander Sanchez",
              "Purchase_Count": 2,
              "Unnamed: 0": 177
             },
             {
              "Destination": 2037987,
              "Destination_Names": "Brunilda Colesar",
              "Purchase_Count": 2,
              "Unnamed: 0": 159
             },
             {
              "Destination": 2037794,
              "Destination_Names": "Erinn Anewalt",
              "Purchase_Count": 2,
              "Unnamed: 0": 173
             },
             {
              "Destination": 2038071,
              "Destination_Names": "Renee Knightstep",
              "Purchase_Count": 2,
              "Unnamed: 0": 172
             },
             {
              "Destination": 2037999,
              "Destination_Names": "Fannie Andrews",
              "Purchase_Count": 2,
              "Unnamed: 0": 161
             },
             {
              "Destination": 2037984,
              "Destination_Names": "Owen Ortega",
              "Purchase_Count": 2,
              "Unnamed: 0": 169
             },
             {
              "Destination": 2037997,
              "Destination_Names": "Edgar Lawson",
              "Purchase_Count": 2,
              "Unnamed: 0": 164
             },
             {
              "Destination": 2047240,
              "Destination_Names": "Duane Owens",
              "Purchase_Count": 2,
              "Unnamed: 0": 149
             },
             {
              "Destination": 2037780,
              "Destination_Names": "Maggie Manning",
              "Purchase_Count": 2,
              "Unnamed: 0": 105
             },
             {
              "Destination": 2037697,
              "Destination_Names": "Mary Brewer",
              "Purchase_Count": 2,
              "Unnamed: 0": 166
             },
             {
              "Destination": 2041386,
              "Destination_Names": "Carry Daryanl",
              "Purchase_Count": 2,
              "Unnamed: 0": 98
             },
             {
              "Destination": 2037798,
              "Destination_Names": "Carroll Hyrkas",
              "Purchase_Count": 2,
              "Unnamed: 0": 236
             },
             {
              "Destination": 2037880,
              "Destination_Names": "Emilio Cokel",
              "Purchase_Count": 2,
              "Unnamed: 0": 239
             },
             {
              "Destination": 2038111,
              "Destination_Names": "Lai Okelberry",
              "Purchase_Count": 2,
              "Unnamed: 0": 61
             },
             {
              "Destination": 2037967,
              "Destination_Names": "Charley Offermann",
              "Purchase_Count": 2,
              "Unnamed: 0": 81
             },
             {
              "Destination": 2038063,
              "Destination_Names": "Carmen Ting",
              "Purchase_Count": 2,
              "Unnamed: 0": 226
             },
             {
              "Destination": 2037761,
              "Destination_Names": "Anna Morren",
              "Purchase_Count": 2,
              "Unnamed: 0": 83
             },
             {
              "Destination": 2040594,
              "Destination_Names": "Christian Zierenberg",
              "Purchase_Count": 2,
              "Unnamed: 0": 233
             },
             {
              "Destination": 2040344,
              "Destination_Names": "Connor Fernandez",
              "Purchase_Count": 2,
              "Unnamed: 0": 220
             },
             {
              "Destination": 2037695,
              "Destination_Names": "Chasidy Clampitt",
              "Purchase_Count": 2,
              "Unnamed: 0": 68
             },
             {
              "Destination": 2037938,
              "Destination_Names": "Major Stokey",
              "Purchase_Count": 2,
              "Unnamed: 0": 87
             },
             {
              "Destination": 2038061,
              "Destination_Names": "Virginia Wheeler",
              "Purchase_Count": 2,
              "Unnamed: 0": 89
             },
             {
              "Destination": 2038012,
              "Destination_Names": "Perla Matney",
              "Purchase_Count": 2,
              "Unnamed: 0": 17
             },
             {
              "Destination": 2038053,
              "Destination_Names": "Kenneth Little",
              "Purchase_Count": 2,
              "Unnamed: 0": 95
             },
             {
              "Destination": 2038126,
              "Destination_Names": "Sudie Hulslander",
              "Purchase_Count": 2,
              "Unnamed: 0": 215
             },
             {
              "Destination": 2040312,
              "Destination_Names": "Eleonore Mikelsen",
              "Purchase_Count": 2,
              "Unnamed: 0": 244
             },
             {
              "Destination": 2038159,
              "Destination_Names": "Albert Doshier",
              "Purchase_Count": 2,
              "Unnamed: 0": 241
             },
             {
              "Destination": 2038014,
              "Destination_Names": "Wesley Andaverde",
              "Purchase_Count": 3,
              "Unnamed: 0": 39
             },
             {
              "Destination": 2038032,
              "Destination_Names": "Priscila Gooch",
              "Purchase_Count": 3,
              "Unnamed: 0": 30
             },
             {
              "Destination": 2037766,
              "Destination_Names": "Gregory Russell",
              "Purchase_Count": 3,
              "Unnamed: 0": 414
             },
             {
              "Destination": 2038035,
              "Destination_Names": "Corazon Ney",
              "Purchase_Count": 3,
              "Unnamed: 0": 33
             },
             {
              "Destination": 2038026,
              "Destination_Names": "Victoria Woods",
              "Purchase_Count": 3,
              "Unnamed: 0": 80
             },
             {
              "Destination": 2037688,
              "Destination_Names": "Gordon Perez",
              "Purchase_Count": 3,
              "Unnamed: 0": 77
             },
             {
              "Destination": 2037958,
              "Destination_Names": "Russell Sterr",
              "Purchase_Count": 3,
              "Unnamed: 0": 328
             },
             {
              "Destination": 2037781,
              "Destination_Names": "Reyna Eclarinal",
              "Purchase_Count": 3,
              "Unnamed: 0": 362
             },
             {
              "Destination": 2038000,
              "Destination_Names": "Fern Przybycien",
              "Purchase_Count": 3,
              "Unnamed: 0": 143
             },
             {
              "Destination": 2038100,
              "Destination_Names": "Wenona Bradmon",
              "Purchase_Count": 3,
              "Unnamed: 0": 330
             },
             {
              "Destination": 2037742,
              "Destination_Names": "Sophia Medina",
              "Purchase_Count": 3,
              "Unnamed: 0": 86
             },
             {
              "Destination": 2038149,
              "Destination_Names": "Darius Jinks",
              "Purchase_Count": 3,
              "Unnamed: 0": 340
             },
             {
              "Destination": 2038180,
              "Destination_Names": "Rosalyn Maclay",
              "Purchase_Count": 3,
              "Unnamed: 0": 377
             },
             {
              "Destination": 2038016,
              "Destination_Names": "Davina Perrota",
              "Purchase_Count": 3,
              "Unnamed: 0": 121
             },
             {
              "Destination": 2037777,
              "Destination_Names": "Carlo Castillero",
              "Purchase_Count": 3,
              "Unnamed: 0": 352
             },
             {
              "Destination": 2038152,
              "Destination_Names": "Viola Vasquez",
              "Purchase_Count": 3,
              "Unnamed: 0": 107
             },
             {
              "Destination": 2038141,
              "Destination_Names": "Randy Pena",
              "Purchase_Count": 3,
              "Unnamed: 0": 327
             },
             {
              "Destination": 2037955,
              "Destination_Names": "Ollie Lindsey",
              "Purchase_Count": 3,
              "Unnamed: 0": 245
             },
             {
              "Destination": 2037763,
              "Destination_Names": "Maryrose Schryver",
              "Purchase_Count": 3,
              "Unnamed: 0": 118
             },
             {
              "Destination": 2038138,
              "Destination_Names": "Tyree Barreneche",
              "Purchase_Count": 3,
              "Unnamed: 0": 188
             },
             {
              "Destination": 2037868,
              "Destination_Names": "Kate Burton",
              "Purchase_Count": 3,
              "Unnamed: 0": 227
             },
             {
              "Destination": 2038062,
              "Destination_Names": "Ozell Lampkins",
              "Purchase_Count": 3,
              "Unnamed: 0": 263
             },
             {
              "Destination": 2038162,
              "Destination_Names": "Sasha Papagni",
              "Purchase_Count": 3,
              "Unnamed: 0": 167
             },
             {
              "Destination": 2040309,
              "Destination_Names": "Eric Schneider",
              "Purchase_Count": 3,
              "Unnamed: 0": 272
             },
             {
              "Destination": 2037998,
              "Destination_Names": "Emilia Zanin",
              "Purchase_Count": 3,
              "Unnamed: 0": 204
             },
             {
              "Destination": 2038122,
              "Destination_Names": "Francina Jinkens",
              "Purchase_Count": 3,
              "Unnamed: 0": 213
             },
             {
              "Destination": 2037851,
              "Destination_Names": "Deon Boldman",
              "Purchase_Count": 3,
              "Unnamed: 0": 257
             },
             {
              "Destination": 2038017,
              "Destination_Names": "Octavia Rallison",
              "Purchase_Count": 3,
              "Unnamed: 0": 300
             },
             {
              "Destination": 2040630,
              "Destination_Names": "Alberto Osbourn",
              "Purchase_Count": 3,
              "Unnamed: 0": 267
             },
             {
              "Destination": 2037920,
              "Destination_Names": "Julieann Terheggen",
              "Purchase_Count": 3,
              "Unnamed: 0": 255
             },
             {
              "Destination": 2038084,
              "Destination_Names": "Jeannine Riccardi",
              "Purchase_Count": 3,
              "Unnamed: 0": 217
             },
             {
              "Destination": 2037788,
              "Destination_Names": "Miesha Ostrum",
              "Purchase_Count": 3,
              "Unnamed: 0": 192
             },
             {
              "Destination": 2037932,
              "Destination_Names": "Janie Roberson",
              "Purchase_Count": 3,
              "Unnamed: 0": 292
             },
             {
              "Destination": 2038072,
              "Destination_Names": "Toccara Kempa",
              "Purchase_Count": 4,
              "Unnamed: 0": 291
             },
             {
              "Destination": 2038144,
              "Destination_Names": "Iva Cook",
              "Purchase_Count": 4,
              "Unnamed: 0": 191
             },
             {
              "Destination": 2037691,
              "Destination_Names": "Mary Robinson",
              "Purchase_Count": 4,
              "Unnamed: 0": 122
             },
             {
              "Destination": 2038051,
              "Destination_Names": "Anastacia Suri",
              "Purchase_Count": 4,
              "Unnamed: 0": 195
             },
             {
              "Destination": 2037784,
              "Destination_Names": "Sierra Denherder",
              "Purchase_Count": 4,
              "Unnamed: 0": 231
             },
             {
              "Destination": 2038131,
              "Destination_Names": "Diamond Hollenbach",
              "Purchase_Count": 4,
              "Unnamed: 0": 190
             },
             {
              "Destination": 2037990,
              "Destination_Names": "Susana Ganser",
              "Purchase_Count": 4,
              "Unnamed: 0": 343
             },
             {
              "Destination": 2038079,
              "Destination_Names": "Denna Slemmer",
              "Purchase_Count": 4,
              "Unnamed: 0": 242
             },
             {
              "Destination": 2037771,
              "Destination_Names": "Sherrell Macdonald",
              "Purchase_Count": 4,
              "Unnamed: 0": 183
             },
             {
              "Destination": 2038050,
              "Destination_Names": "Andre Gregory",
              "Purchase_Count": 4,
              "Unnamed: 0": 280
             },
             {
              "Destination": 2041370,
              "Destination_Names": "Griselda Protain",
              "Purchase_Count": 4,
              "Unnamed: 0": 73
             },
             {
              "Destination": 2037821,
              "Destination_Names": "Daniela Oharra",
              "Purchase_Count": 4,
              "Unnamed: 0": 156
             },
             {
              "Destination": 2037994,
              "Destination_Names": "Lola Wilson",
              "Purchase_Count": 4,
              "Unnamed: 0": 170
             },
             {
              "Destination": 2037750,
              "Destination_Names": "Joann Wallgren",
              "Purchase_Count": 5,
              "Unnamed: 0": 123
             },
             {
              "Destination": 2037915,
              "Destination_Names": "Chris Jefferson",
              "Purchase_Count": 5,
              "Unnamed: 0": 199
             },
             {
              "Destination": 2037981,
              "Destination_Names": "Harrison Chalaban",
              "Purchase_Count": 5,
              "Unnamed: 0": 104
             },
             {
              "Destination": 2037989,
              "Destination_Names": "Karisa Filosa",
              "Purchase_Count": 5,
              "Unnamed: 0": 91
             },
             {
              "Destination": 2037700,
              "Destination_Names": "Gene Marsh",
              "Purchase_Count": 5,
              "Unnamed: 0": 256
             },
             {
              "Destination": 2038070,
              "Destination_Names": "Tyler Miles",
              "Purchase_Count": 5,
              "Unnamed: 0": 134
             },
             {
              "Destination": 2037690,
              "Destination_Names": "Donald Washington",
              "Purchase_Count": 5,
              "Unnamed: 0": 243
             },
             {
              "Destination": 2037975,
              "Destination_Names": "Kenneth Holt",
              "Purchase_Count": 5,
              "Unnamed: 0": 82
             },
             {
              "Destination": 2038005,
              "Destination_Names": "Felton Lawcewicz",
              "Purchase_Count": 5,
              "Unnamed: 0": 142
             },
             {
              "Destination": 2040454,
              "Destination_Names": "Rosendo Esteve",
              "Purchase_Count": 5,
              "Unnamed: 0": 144
             },
             {
              "Destination": 2038154,
              "Destination_Names": "Luis Higgins",
              "Purchase_Count": 5,
              "Unnamed: 0": 148
             },
             {
              "Destination": 2040349,
              "Destination_Names": "Andria Tumulty",
              "Purchase_Count": 5,
              "Unnamed: 0": 230
             },
             {
              "Destination": 2037859,
              "Destination_Names": "Eric Atkins",
              "Purchase_Count": 5,
              "Unnamed: 0": 75
             },
             {
              "Destination": 2037689,
              "Destination_Names": "Aisha Stafford",
              "Purchase_Count": 5,
              "Unnamed: 0": 211
             },
             {
              "Destination": 2044645,
              "Destination_Names": "Oscar Hutley",
              "Purchase_Count": 6,
              "Unnamed: 0": 218
             },
             {
              "Destination": 2037769,
              "Destination_Names": "Floy Warholic",
              "Purchase_Count": 6,
              "Unnamed: 0": 47
             },
             {
              "Destination": 2038007,
              "Destination_Names": "Carolyn Hines",
              "Purchase_Count": 6,
              "Unnamed: 0": 99
             },
             {
              "Destination": 2038001,
              "Destination_Names": "Gabrielle Iarussi",
              "Purchase_Count": 6,
              "Unnamed: 0": 72
             },
             {
              "Destination": 2037824,
              "Destination_Names": "Demetria Mckibbens",
              "Purchase_Count": 6,
              "Unnamed: 0": 71
             },
             {
              "Destination": 2037978,
              "Destination_Names": "Wayne Ahne",
              "Purchase_Count": 6,
              "Unnamed: 0": 216
             },
             {
              "Destination": 2040467,
              "Destination_Names": "Frederica Guillan",
              "Purchase_Count": 6,
              "Unnamed: 0": 309
             },
             {
              "Destination": 2037820,
              "Destination_Names": "Cristina Leber",
              "Purchase_Count": 6,
              "Unnamed: 0": 18
             },
             {
              "Destination": 2037708,
              "Destination_Names": "Marya Stetler",
              "Purchase_Count": 6,
              "Unnamed: 0": 181
             },
             {
              "Destination": 2037877,
              "Destination_Names": "Seymour Johndrow",
              "Purchase_Count": 6,
              "Unnamed: 0": 153
             },
             {
              "Destination": 2037698,
              "Destination_Names": "Betty Summers",
              "Purchase_Count": 6,
              "Unnamed: 0": 152
             },
             {
              "Destination": 2037847,
              "Destination_Names": "Manuel Allison",
              "Purchase_Count": 6,
              "Unnamed: 0": 20
             },
             {
              "Destination": 2037941,
              "Destination_Names": "Yon Shilleh",
              "Purchase_Count": 6,
              "Unnamed: 0": 281
             },
             {
              "Destination": 2037870,
              "Destination_Names": "Hettie Gray",
              "Purchase_Count": 6,
              "Unnamed: 0": 240
             },
             {
              "Destination": 2038013,
              "Destination_Names": "Gabriella Striegel",
              "Purchase_Count": 7,
              "Unnamed: 0": 96
             },
             {
              "Destination": 2037808,
              "Destination_Names": "Elvis Drilling",
              "Purchase_Count": 7,
              "Unnamed: 0": 101
             },
             {
              "Destination": 2038078,
              "Destination_Names": "Cordelia Critcher",
              "Purchase_Count": 7,
              "Unnamed: 0": 200
             },
             {
              "Destination": 2037774,
              "Destination_Names": "Nannie Bennett",
              "Purchase_Count": 7,
              "Unnamed: 0": 126
             },
             {
              "Destination": 2038092,
              "Destination_Names": "Norman Shaw",
              "Purchase_Count": 8,
              "Unnamed: 0": 109
             },
             {
              "Destination": 2040550,
              "Destination_Names": "Bradley Daniel",
              "Purchase_Count": 8,
              "Unnamed: 0": 16
             },
             {
              "Destination": 2038139,
              "Destination_Names": "Roy Rhodes",
              "Purchase_Count": 8,
              "Unnamed: 0": 42
             },
             {
              "Destination": 2037943,
              "Destination_Names": "Johnnie Enslow",
              "Purchase_Count": 8,
              "Unnamed: 0": 194
             },
             {
              "Destination": 2038127,
              "Destination_Names": "Harris Dearmas",
              "Purchase_Count": 8,
              "Unnamed: 0": 222
             },
             {
              "Destination": 2040378,
              "Destination_Names": "Lashaunda Mautone",
              "Purchase_Count": 8,
              "Unnamed: 0": 102
             },
             {
              "Destination": 2038075,
              "Destination_Names": "Dustin Poskitt",
              "Purchase_Count": 8,
              "Unnamed: 0": 120
             },
             {
              "Destination": 2040591,
              "Destination_Names": "Kenny Miskiewicz",
              "Purchase_Count": 9,
              "Unnamed: 0": 174
             },
             {
              "Destination": 2045457,
              "Destination_Names": "Armand Millerbernd",
              "Purchase_Count": 9,
              "Unnamed: 0": 70
             },
             {
              "Destination": 2038021,
              "Destination_Names": "Lilli Samsel",
              "Purchase_Count": 9,
              "Unnamed: 0": 203
             },
             {
              "Destination": 2037701,
              "Destination_Names": "Lola Lloyd",
              "Purchase_Count": 9,
              "Unnamed: 0": 145
             },
             {
              "Destination": 2037876,
              "Destination_Names": "Jamika Glines",
              "Purchase_Count": 9,
              "Unnamed: 0": 184
             },
             {
              "Destination": 2038049,
              "Destination_Names": "Jake Dececco",
              "Purchase_Count": 9,
              "Unnamed: 0": 60
             },
             {
              "Destination": 2038059,
              "Destination_Names": "Irwin Ellender",
              "Purchase_Count": 9,
              "Unnamed: 0": 125
             },
             {
              "Destination": 2038045,
              "Destination_Names": "Ashly Reischl",
              "Purchase_Count": 10,
              "Unnamed: 0": 92
             },
             {
              "Destination": 2038029,
              "Destination_Names": "Martine Hanlin",
              "Purchase_Count": 10,
              "Unnamed: 0": 48
             },
             {
              "Destination": 2037748,
              "Destination_Names": "Amy Malone",
              "Purchase_Count": 11,
              "Unnamed: 0": 55
             },
             {
              "Destination": 2038030,
              "Destination_Names": "Amelia Becker",
              "Purchase_Count": 11,
              "Unnamed: 0": 62
             },
             {
              "Destination": 2037952,
              "Destination_Names": "Willie Byrd",
              "Purchase_Count": 11,
              "Unnamed: 0": 154
             },
             {
              "Destination": 2038018,
              "Destination_Names": "Lynelle Skildum",
              "Purchase_Count": 12,
              "Unnamed: 0": 151
             },
             {
              "Destination": 2040390,
              "Destination_Names": "Alvaro Beers",
              "Purchase_Count": 12,
              "Unnamed: 0": 59
             },
             {
              "Destination": 2037872,
              "Destination_Names": "Sophia Blair",
              "Purchase_Count": 12,
              "Unnamed: 0": 38
             },
             {
              "Destination": 2038019,
              "Destination_Names": "Carolyn Howard",
              "Purchase_Count": 13,
              "Unnamed: 0": 108
             },
             {
              "Destination": 2037704,
              "Destination_Names": "Charlsie Lesa",
              "Purchase_Count": 13,
              "Unnamed: 0": 12
             },
             {
              "Destination": 2037927,
              "Destination_Names": "Blanche Mason",
              "Purchase_Count": 14,
              "Unnamed: 0": 79
             },
             {
              "Destination": 2040582,
              "Destination_Names": "Stephen Peterson",
              "Purchase_Count": 14,
              "Unnamed: 0": 78
             },
             {
              "Destination": 2038022,
              "Destination_Names": "Rocky Hassett",
              "Purchase_Count": 15,
              "Unnamed: 0": 100
             },
             {
              "Destination": 2038060,
              "Destination_Names": "Roberto Amphy",
              "Purchase_Count": 15,
              "Unnamed: 0": 130
             },
             {
              "Destination": 2038044,
              "Destination_Names": "Sidney Simien",
              "Purchase_Count": 15,
              "Unnamed: 0": 24
             },
             {
              "Destination": 2038164,
              "Destination_Names": "Kimbery Demmert",
              "Purchase_Count": 16,
              "Unnamed: 0": 193
             },
             {
              "Destination": 2037962,
              "Destination_Names": "Charmain Olenick",
              "Purchase_Count": 16,
              "Unnamed: 0": 57
             },
             {
              "Destination": 2038166,
              "Destination_Names": "Mattie Perez",
              "Purchase_Count": 17,
              "Unnamed: 0": 119
             },
             {
              "Destination": 2038025,
              "Destination_Names": "Miriam Franch",
              "Purchase_Count": 18,
              "Unnamed: 0": 52
             },
             {
              "Destination": 2038145,
              "Destination_Names": "Lola Haynes",
              "Purchase_Count": 19,
              "Unnamed: 0": 54
             },
             {
              "Destination": 2040585,
              "Destination_Names": "Rita Cassem",
              "Purchase_Count": 19,
              "Unnamed: 0": 23
             },
             {
              "Destination": 2038160,
              "Destination_Names": "Suzette Sienicki",
              "Purchase_Count": 20,
              "Unnamed: 0": 93
             },
             {
              "Destination": 2037835,
              "Destination_Names": "Benjamin Rimbach",
              "Purchase_Count": 22,
              "Unnamed: 0": 58
             },
             {
              "Destination": 2038137,
              "Destination_Names": "Magdalena Gehm",
              "Purchase_Count": 22,
              "Unnamed: 0": 212
             },
             {
              "Destination": 2037811,
              "Destination_Names": "Steven Nichols",
              "Purchase_Count": 22,
              "Unnamed: 0": 84
             },
             {
              "Destination": 2040597,
              "Destination_Names": "Dwayne Fyock",
              "Purchase_Count": 23,
              "Unnamed: 0": 85
             },
             {
              "Destination": 2040314,
              "Destination_Names": "Dora Resek",
              "Purchase_Count": 23,
              "Unnamed: 0": 43
             },
             {
              "Destination": 2040311,
              "Destination_Names": "Kirby Liter",
              "Purchase_Count": 23,
              "Unnamed: 0": 139
             },
             {
              "Destination": 2038170,
              "Destination_Names": "Karrie Tennent",
              "Purchase_Count": 24,
              "Unnamed: 0": 49
             },
             {
              "Destination": 2037912,
              "Destination_Names": "Winnie Byrd",
              "Purchase_Count": 25,
              "Unnamed: 0": 90
             },
             {
              "Destination": 2037896,
              "Destination_Names": "Catrice Reho",
              "Purchase_Count": 25,
              "Unnamed: 0": 25
             },
             {
              "Destination": 2037687,
              "Destination_Names": "Lessie Tutor",
              "Purchase_Count": 25,
              "Unnamed: 0": 88
             },
             {
              "Destination": 2038040,
              "Destination_Names": "Anastacia Henriques",
              "Purchase_Count": 25,
              "Unnamed: 0": 7
             },
             {
              "Destination": 2038041,
              "Destination_Names": "Chi Eichhorst",
              "Purchase_Count": 25,
              "Unnamed: 0": 40
             },
             {
              "Destination": 2038148,
              "Destination_Names": "Milly Kokesh",
              "Purchase_Count": 26,
              "Unnamed: 0": 50
             },
             {
              "Destination": 2040490,
              "Destination_Names": "Carli Agostino",
              "Purchase_Count": 27,
              "Unnamed: 0": 46
             },
             {
              "Destination": 2038147,
              "Destination_Names": "Brandon Carr",
              "Purchase_Count": 28,
              "Unnamed: 0": 34
             },
             {
              "Destination": 2038046,
              "Destination_Names": "Nerissa Ovalles",
              "Purchase_Count": 30,
              "Unnamed: 0": 97
             },
             {
              "Destination": 2037871,
              "Destination_Names": "Cynthia Knight",
              "Purchase_Count": 30,
              "Unnamed: 0": 138
             },
             {
              "Destination": 2040310,
              "Destination_Names": "Melvin Washington",
              "Purchase_Count": 31,
              "Unnamed: 0": 14
             },
             {
              "Destination": 2040578,
              "Destination_Names": "Forrest Murrah",
              "Purchase_Count": 33,
              "Unnamed: 0": 69
             },
             {
              "Destination": 2038015,
              "Destination_Names": "Maude Hammond",
              "Purchase_Count": 34,
              "Unnamed: 0": 10
             },
             {
              "Destination": 2037725,
              "Destination_Names": "Vanesa Chartier",
              "Purchase_Count": 35,
              "Unnamed: 0": 65
             },
             {
              "Destination": 2037934,
              "Destination_Names": "Galen Granelli",
              "Purchase_Count": 38,
              "Unnamed: 0": 127
             },
             {
              "Destination": 2038010,
              "Destination_Names": "Rochel Mirr",
              "Purchase_Count": 40,
              "Unnamed: 0": 76
             },
             {
              "Destination": 2038143,
              "Destination_Names": "Marguerite Rivera",
              "Purchase_Count": 41,
              "Unnamed: 0": 51
             },
             {
              "Destination": 2037816,
              "Destination_Names": "Mabel Gilbert",
              "Purchase_Count": 43,
              "Unnamed: 0": 63
             },
             {
              "Destination": 2038178,
              "Destination_Names": "Demetria Murff",
              "Purchase_Count": 51,
              "Unnamed: 0": 41
             },
             {
              "Destination": 2037758,
              "Destination_Names": "Christeen Gulliver",
              "Purchase_Count": 53,
              "Unnamed: 0": 115
             },
             {
              "Destination": 2038002,
              "Destination_Names": "Janette Laffoon",
              "Purchase_Count": 61,
              "Unnamed: 0": 74
             },
             {
              "Destination": 2037706,
              "Destination_Names": "Amal Horman",
              "Purchase_Count": 70,
              "Unnamed: 0": 11
             },
             {
              "Destination": 2037825,
              "Destination_Names": "Rodney Mason",
              "Purchase_Count": 75,
              "Unnamed: 0": 66
             },
             {
              "Destination": 2038008,
              "Destination_Names": "Cora Douglas",
              "Purchase_Count": 76,
              "Unnamed: 0": 36
             },
             {
              "Destination": 2038052,
              "Destination_Names": "Tom Langman",
              "Purchase_Count": 81,
              "Unnamed: 0": 26
             },
             {
              "Destination": 2037832,
              "Destination_Names": "Shaunte Wair",
              "Purchase_Count": 82,
              "Unnamed: 0": 22
             },
             {
              "Destination": 2037924,
              "Destination_Names": "Juli Grossmeyer",
              "Purchase_Count": 87,
              "Unnamed: 0": 21
             },
             {
              "Destination": 2038073,
              "Destination_Names": "Melvin Taliman",
              "Purchase_Count": 87,
              "Unnamed: 0": 13
             },
             {
              "Destination": 2038042,
              "Destination_Names": "Ardella Slifko",
              "Purchase_Count": 90,
              "Unnamed: 0": 29
             },
             {
              "Destination": 2037930,
              "Destination_Names": "Jenae Muldowney",
              "Purchase_Count": 118,
              "Unnamed: 0": 9
             },
             {
              "Destination": 2040484,
              "Destination_Names": "Dina Arrojo",
              "Purchase_Count": 130,
              "Unnamed: 0": 53
             },
             {
              "Destination": 2038076,
              "Destination_Names": "Cira Brookshire",
              "Purchase_Count": 133,
              "Unnamed: 0": 31
             },
             {
              "Destination": 2038176,
              "Destination_Names": "Corey Jefferson",
              "Purchase_Count": 179,
              "Unnamed: 0": 32
             },
             {
              "Destination": 2037699,
              "Destination_Names": "Lois Dixon",
              "Purchase_Count": 193,
              "Unnamed: 0": 19
             },
             {
              "Destination": 2037760,
              "Destination_Names": "Robert Wallace",
              "Purchase_Count": 210,
              "Unnamed: 0": 8
             },
             {
              "Destination": 2040623,
              "Destination_Names": "Micha Werries",
              "Purchase_Count": 210,
              "Unnamed: 0": 4
             },
             {
              "Destination": 2037754,
              "Destination_Names": "Celina Orellama",
              "Purchase_Count": 272,
              "Unnamed: 0": 28
             },
             {
              "Destination": 2037827,
              "Destination_Names": "Brittanie Spadlin",
              "Purchase_Count": 392,
              "Unnamed: 0": 37
             },
             {
              "Destination": 2037694,
              "Destination_Names": "Ernest Patterson",
              "Purchase_Count": 990,
              "Unnamed: 0": 6
             },
             {
              "Destination": 2037744,
              "Destination_Names": "Miesha Lettsome",
              "Purchase_Count": 1902,
              "Unnamed: 0": 2
             },
             {
              "Destination": 2040624,
              "Destination_Names": "Torri Devilliers",
              "Purchase_Count": 2385,
              "Unnamed: 0": 1
             },
             {
              "Destination": 2038155,
              "Destination_Names": "Brandon Bradley",
              "Purchase_Count": 2590,
              "Unnamed: 0": 3
             },
             {
              "Destination": 2040339,
              "Destination_Names": "Fairy Boratko",
              "Purchase_Count": 4798,
              "Unnamed: 0": 5
             },
             {
              "Destination": 2040565,
              "Destination_Names": "Gail Feindt",
              "Purchase_Count": 745027,
              "Unnamed: 0": 0
             }
            ]
           },
           "encoding": {
            "color": {
             "condition": {
              "selection": "selector118",
              "value": "green"
             },
             "value": "blue"
            },
            "x": {
             "field": "Purchase_Count",
             "type": "quantitative"
            },
            "y": {
             "field": "Purchase_Count",
             "type": "quantitative"
            }
           },
           "mark": "point",
           "selection": {
            "selector118": {
             "encodings": [
              "x",
              "y"
             ],
             "mark": {
              "fill": "#333",
              "fillOpacity": 0.125,
              "stroke": "white"
             },
             "on": "[mousedown, window:mouseup] > window:mousemove!",
             "resolve": "global",
             "translate": "[mousedown, window:mouseup] > window:mousemove!",
             "type": "interval",
             "zoom": "wheel!"
            }
           }
          },
          {
           "data": {
            "values": [
             {
              "Destination": 2037791,
              "Destination_Names": "Brett Higgins",
              "Purchase_Count": 1,
              "Unnamed: 0": 458
             },
             {
              "Destination": 2037741,
              "Destination_Names": "Justin Harvey",
              "Purchase_Count": 1,
              "Unnamed: 0": 146
             },
             {
              "Destination": 2037815,
              "Destination_Names": "Winnie Klein",
              "Purchase_Count": 1,
              "Unnamed: 0": 147
             },
             {
              "Destination": 2037873,
              "Destination_Names": "Danielle Yu",
              "Purchase_Count": 1,
              "Unnamed: 0": 324
             },
             {
              "Destination": 2037947,
              "Destination_Names": "Belle Houston",
              "Purchase_Count": 1,
              "Unnamed: 0": 323
             },
             {
              "Destination": 2037944,
              "Destination_Names": "Diamond Olexa",
              "Purchase_Count": 1,
              "Unnamed: 0": 150
             },
             {
              "Destination": 2037874,
              "Destination_Names": "Dorotha Mosey",
              "Purchase_Count": 1,
              "Unnamed: 0": 320
             },
             {
              "Destination": 2037957,
              "Destination_Names": "Aisha Misner",
              "Purchase_Count": 1,
              "Unnamed: 0": 318
             },
             {
              "Destination": 2037960,
              "Destination_Names": "Andy Geyette",
              "Purchase_Count": 1,
              "Unnamed: 0": 317
             },
             {
              "Destination": 2037855,
              "Destination_Names": "Tonia Anawalt",
              "Purchase_Count": 1,
              "Unnamed: 0": 316
             },
             {
              "Destination": 2043367,
              "Destination_Names": "Kaitlyn Focke",
              "Purchase_Count": 1,
              "Unnamed: 0": 158
             },
             {
              "Destination": 2040308,
              "Destination_Names": "Sadie Elliott",
              "Purchase_Count": 1,
              "Unnamed: 0": 315
             },
             {
              "Destination": 2037928,
              "Destination_Names": "Caroline Stanley",
              "Purchase_Count": 1,
              "Unnamed: 0": 329
             },
             {
              "Destination": 2037979,
              "Destination_Names": "Loree Acero",
              "Purchase_Count": 1,
              "Unnamed: 0": 160
             },
             {
              "Destination": 2037977,
              "Destination_Names": "Lizzie Cross",
              "Purchase_Count": 1,
              "Unnamed: 0": 162
             },
             {
              "Destination": 2037886,
              "Destination_Names": "Juan Cabiltes",
              "Purchase_Count": 1,
              "Unnamed: 0": 163
             },
             {
              "Destination": 2037767,
              "Destination_Names": "Natalia Macomber",
              "Purchase_Count": 1,
              "Unnamed: 0": 313
             },
             {
              "Destination": 2037843,
              "Destination_Names": "Pamella Schroy",
              "Purchase_Count": 1,
              "Unnamed: 0": 312
             },
             {
              "Destination": 2037857,
              "Destination_Names": "Claude Chesterfield",
              "Purchase_Count": 1,
              "Unnamed: 0": 311
             },
             {
              "Destination": 2037841,
              "Destination_Names": "Elsie Potter",
              "Purchase_Count": 1,
              "Unnamed: 0": 310
             },
             {
              "Destination": 2037945,
              "Destination_Names": "Bernice Figueroa",
              "Purchase_Count": 1,
              "Unnamed: 0": 168
             },
             {
              "Destination": 2040993,
              "Destination_Names": "Mamie Wheeler",
              "Purchase_Count": 1,
              "Unnamed: 0": 307
             },
             {
              "Destination": 2037983,
              "Destination_Names": "Shannan Fesenbek",
              "Purchase_Count": 1,
              "Unnamed: 0": 171
             },
             {
              "Destination": 2037749,
              "Destination_Names": "Jewell Maiorano",
              "Purchase_Count": 1,
              "Unnamed: 0": 306
             },
             {
              "Destination": 2037711,
              "Destination_Names": "David Simon",
              "Purchase_Count": 1,
              "Unnamed: 0": 304
             },
             {
              "Destination": 2037881,
              "Destination_Names": "Hester Parsons",
              "Purchase_Count": 1,
              "Unnamed: 0": 314
             },
             {
              "Destination": 2041367,
              "Destination_Names": "Effie Freeman",
              "Purchase_Count": 1,
              "Unnamed: 0": 175
             },
             {
              "Destination": 2037923,
              "Destination_Names": "Minnie Hopkins",
              "Purchase_Count": 1,
              "Unnamed: 0": 331
             },
             {
              "Destination": 2040313,
              "Destination_Names": "Mac Berisha",
              "Purchase_Count": 1,
              "Unnamed: 0": 332
             },
             {
              "Destination": 2044046,
              "Destination_Names": "Jenee Pentecost",
              "Purchase_Count": 1,
              "Unnamed: 0": 113
             },
             {
              "Destination": 2037804,
              "Destination_Names": "Cody Mullins",
              "Purchase_Count": 1,
              "Unnamed: 0": 355
             },
             {
              "Destination": 2038124,
              "Destination_Names": "Bettie Vargas",
              "Purchase_Count": 1,
              "Unnamed: 0": 354
             },
             {
              "Destination": 2037762,
              "Destination_Names": "Laura Cox",
              "Purchase_Count": 1,
              "Unnamed: 0": 116
             },
             {
              "Destination": 2038058,
              "Destination_Names": "Shela Cordoza",
              "Purchase_Count": 1,
              "Unnamed: 0": 117
             },
             {
              "Destination": 2038181,
              "Destination_Names": "Ernestina Paskow",
              "Purchase_Count": 1,
              "Unnamed: 0": 353
             },
             {
              "Destination": 2037907,
              "Destination_Names": "Sherita Herkel",
              "Purchase_Count": 1,
              "Unnamed: 0": 351
             },
             {
              "Destination": 2038099,
              "Destination_Names": "Cristopher Oehlschlager",
              "Purchase_Count": 1,
              "Unnamed: 0": 349
             },
             {
              "Destination": 2037908,
              "Destination_Names": "Leila Wade",
              "Purchase_Count": 1,
              "Unnamed: 0": 348
             },
             {
              "Destination": 2043969,
              "Destination_Names": "Ricky Curry",
              "Purchase_Count": 1,
              "Unnamed: 0": 246
             },
             {
              "Destination": 2037909,
              "Destination_Names": "Regenia Macabeo",
              "Purchase_Count": 1,
              "Unnamed: 0": 345
             },
             {
              "Destination": 2038020,
              "Destination_Names": "Jane Alvarado",
              "Purchase_Count": 1,
              "Unnamed: 0": 141
             },
             {
              "Destination": 2037948,
              "Destination_Names": "Cortez Rapin",
              "Purchase_Count": 1,
              "Unnamed: 0": 344
             },
             {
              "Destination": 2037916,
              "Destination_Names": "Elizabeth Conner",
              "Purchase_Count": 1,
              "Unnamed: 0": 341
             },
             {
              "Destination": 2038136,
              "Destination_Names": "Bertha Beachell",
              "Purchase_Count": 1,
              "Unnamed: 0": 339
             },
             {
              "Destination": 2037778,
              "Destination_Names": "Willie Fowler",
              "Purchase_Count": 1,
              "Unnamed: 0": 338
             },
             {
              "Destination": 2037969,
              "Destination_Names": "Curtis Stone",
              "Purchase_Count": 1,
              "Unnamed: 0": 337
             },
             {
              "Destination": 2037756,
              "Destination_Names": "Daisy Briggs",
              "Purchase_Count": 1,
              "Unnamed: 0": 132
             },
             {
              "Destination": 2040595,
              "Destination_Names": "Armida Tatu",
              "Purchase_Count": 1,
              "Unnamed: 0": 133
             },
             {
              "Destination": 2037844,
              "Destination_Names": "Shelli Auther",
              "Purchase_Count": 1,
              "Unnamed: 0": 336
             },
             {
              "Destination": 2037893,
              "Destination_Names": "Chauncey Micco",
              "Purchase_Count": 1,
              "Unnamed: 0": 135
             },
             {
              "Destination": 2037898,
              "Destination_Names": "Adeline Walsh",
              "Purchase_Count": 1,
              "Unnamed: 0": 335
             },
             {
              "Destination": 2038006,
              "Destination_Names": "Leo Nelson",
              "Purchase_Count": 1,
              "Unnamed: 0": 137
             },
             {
              "Destination": 2037710,
              "Destination_Names": "Angelica Tankard",
              "Purchase_Count": 1,
              "Unnamed: 0": 334
             },
             {
              "Destination": 2037911,
              "Destination_Names": "Callie Roberson",
              "Purchase_Count": 1,
              "Unnamed: 0": 342
             },
             {
              "Destination": 2040551,
              "Destination_Names": "Samuel Herting",
              "Purchase_Count": 1,
              "Unnamed: 0": 112
             },
             {
              "Destination": 2037996,
              "Destination_Names": "Eugena Shikuma",
              "Purchase_Count": 1,
              "Unnamed: 0": 176
             },
             {
              "Destination": 2040345,
              "Destination_Names": "Marilynn Estergard",
              "Purchase_Count": 1,
              "Unnamed: 0": 178
             },
             {
              "Destination": 2038151,
              "Destination_Names": "Micheline Blagg",
              "Purchase_Count": 1,
              "Unnamed: 0": 273
             },
             {
              "Destination": 2037884,
              "Destination_Names": "Shanna Susko",
              "Purchase_Count": 1,
              "Unnamed: 0": 271
             },
             {
              "Destination": 2038009,
              "Destination_Names": "Johnathon Kotterna",
              "Purchase_Count": 1,
              "Unnamed: 0": 270
             },
             {
              "Destination": 2037779,
              "Destination_Names": "Carrie Carson",
              "Purchase_Count": 1,
              "Unnamed: 0": 269
             },
             {
              "Destination": 2037885,
              "Destination_Names": "Edwin Payne",
              "Purchase_Count": 1,
              "Unnamed: 0": 219
             },
             {
              "Destination": 2038080,
              "Destination_Names": "Ralph Summers",
              "Purchase_Count": 1,
              "Unnamed: 0": 268
             },
             {
              "Destination": 2037894,
              "Destination_Names": "Juana Newland",
              "Purchase_Count": 1,
              "Unnamed: 0": 221
             },
             {
              "Destination": 2037985,
              "Destination_Names": "Hilda Ballard",
              "Purchase_Count": 1,
              "Unnamed: 0": 266
             },
             {
              "Destination": 2038085,
              "Destination_Names": "Ann Nash",
              "Purchase_Count": 1,
              "Unnamed: 0": 223
             },
             {
              "Destination": 2037792,
              "Destination_Names": "Trula Artibee",
              "Purchase_Count": 1,
              "Unnamed: 0": 224
             },
             {
              "Destination": 2040586,
              "Destination_Names": "Randell Xyong",
              "Purchase_Count": 1,
              "Unnamed: 0": 225
             },
             {
              "Destination": 2038083,
              "Destination_Names": "Starla Grisham",
              "Purchase_Count": 1,
              "Unnamed: 0": 214
             },
             {
              "Destination": 2037982,
              "Destination_Names": "Jefferson Quintana",
              "Purchase_Count": 1,
              "Unnamed: 0": 265
             },
             {
              "Destination": 2037840,
              "Destination_Names": "Kyle Wade",
              "Purchase_Count": 1,
              "Unnamed: 0": 228
             },
             {
              "Destination": 2037899,
              "Destination_Names": "Carter Ingalsbe",
              "Purchase_Count": 1,
              "Unnamed: 0": 457
             },
             {
              "Destination": 2037973,
              "Destination_Names": "Jolyn Khauv",
              "Purchase_Count": 1,
              "Unnamed: 0": 261
             },
             {
              "Destination": 2037988,
              "Destination_Names": "Song Lamonte",
              "Purchase_Count": 1,
              "Unnamed: 0": 232
             },
             {
              "Destination": 2040315,
              "Destination_Names": "Chara Bahar",
              "Purchase_Count": 1,
              "Unnamed: 0": 234
             },
             {
              "Destination": 2037849,
              "Destination_Names": "Twyla Flahaven",
              "Purchase_Count": 1,
              "Unnamed: 0": 235
             },
             {
              "Destination": 2037738,
              "Destination_Names": "Leisha Lerwill",
              "Purchase_Count": 1,
              "Unnamed: 0": 237
             },
             {
              "Destination": 2037773,
              "Destination_Names": "Verna Pratt",
              "Purchase_Count": 1,
              "Unnamed: 0": 238
             },
             {
              "Destination": 2037739,
              "Destination_Names": "Ji Niffenegger",
              "Purchase_Count": 1,
              "Unnamed: 0": 258
             },
             {
              "Destination": 2037814,
              "Destination_Names": "Clay Thomes",
              "Purchase_Count": 1,
              "Unnamed: 0": 253
             },
             {
              "Destination": 2038128,
              "Destination_Names": "Johnie Suchla",
              "Purchase_Count": 1,
              "Unnamed: 0": 249
             },
             {
              "Destination": 2037959,
              "Destination_Names": "Myung Eddins",
              "Purchase_Count": 1,
              "Unnamed: 0": 264
             },
             {
              "Destination": 2037935,
              "Destination_Names": "Roger Hughes",
              "Purchase_Count": 1,
              "Unnamed: 0": 303
             },
             {
              "Destination": 2038004,
              "Destination_Names": "Sasha Lukman",
              "Purchase_Count": 1,
              "Unnamed: 0": 274
             },
             {
              "Destination": 2037799,
              "Destination_Names": "Joel Mason",
              "Purchase_Count": 1,
              "Unnamed: 0": 276
             },
             {
              "Destination": 2037714,
              "Destination_Names": "Kristal Kilborne",
              "Purchase_Count": 1,
              "Unnamed: 0": 179
             },
             {
              "Destination": 2038105,
              "Destination_Names": "Ina Elliott",
              "Purchase_Count": 1,
              "Unnamed: 0": 302
             },
             {
              "Destination": 2038167,
              "Destination_Names": "Elizabeth Ramsey",
              "Purchase_Count": 1,
              "Unnamed: 0": 301
             },
             {
              "Destination": 2037801,
              "Destination_Names": "Cordelia Fernandez",
              "Purchase_Count": 1,
              "Unnamed: 0": 299
             },
             {
              "Destination": 2038086,
              "Destination_Names": "Lyda Kelton",
              "Purchase_Count": 1,
              "Unnamed: 0": 298
             },
             {
              "Destination": 2038130,
              "Destination_Names": "Mackenzie Inzunza",
              "Purchase_Count": 1,
              "Unnamed: 0": 185
             },
             {
              "Destination": 2037709,
              "Destination_Names": "Chance Jorda",
              "Purchase_Count": 1,
              "Unnamed: 0": 187
             },
             {
              "Destination": 2037966,
              "Destination_Names": "Thomas Nunez",
              "Purchase_Count": 1,
              "Unnamed: 0": 295
             },
             {
              "Destination": 2037913,
              "Destination_Names": "Edna Santos",
              "Purchase_Count": 1,
              "Unnamed: 0": 294
             },
             {
              "Destination": 2038095,
              "Destination_Names": "Sara Hill",
              "Purchase_Count": 1,
              "Unnamed: 0": 293
             },
             {
              "Destination": 2037846,
              "Destination_Names": "Dione Mettlen",
              "Purchase_Count": 1,
              "Unnamed: 0": 290
             },
             {
              "Destination": 2037715,
              "Destination_Names": "Demetrice Emmerling",
              "Purchase_Count": 1,
              "Unnamed: 0": 275
             },
             {
              "Destination": 2037834,
              "Destination_Names": "Richard Howell",
              "Purchase_Count": 1,
              "Unnamed: 0": 289
             },
             {
              "Destination": 2037753,
              "Destination_Names": "Melvin Suchanek",
              "Purchase_Count": 1,
              "Unnamed: 0": 196
             },
             {
              "Destination": 2037974,
              "Destination_Names": "Emiko Dyreson",
              "Purchase_Count": 1,
              "Unnamed: 0": 198
             },
             {
              "Destination": 2038110,
              "Destination_Names": "Lavone Manglona",
              "Purchase_Count": 1,
              "Unnamed: 0": 284
             },
             {
              "Destination": 2037719,
              "Destination_Names": "Katheleen Bergsten",
              "Purchase_Count": 1,
              "Unnamed: 0": 201
             },
             {
              "Destination": 2037752,
              "Destination_Names": "Stacey Simmonds",
              "Purchase_Count": 1,
              "Unnamed: 0": 279
             },
             {
              "Destination": 2040593,
              "Destination_Names": "Elayne Purwin",
              "Purchase_Count": 1,
              "Unnamed: 0": 278
             },
             {
              "Destination": 2037867,
              "Destination_Names": "Malcolm Laforte",
              "Purchase_Count": 1,
              "Unnamed: 0": 205
             },
             {
              "Destination": 2037722,
              "Destination_Names": "Lura Sandovar",
              "Purchase_Count": 1,
              "Unnamed: 0": 206
             },
             {
              "Destination": 2044028,
              "Destination_Names": "Violet Lewis",
              "Purchase_Count": 1,
              "Unnamed: 0": 207
             },
             {
              "Destination": 2038132,
              "Destination_Names": "Deneen Chaudoin",
              "Purchase_Count": 1,
              "Unnamed: 0": 208
             },
             {
              "Destination": 2037809,
              "Destination_Names": "Marylou Strausz",
              "Purchase_Count": 1,
              "Unnamed: 0": 209
             },
             {
              "Destination": 2038064,
              "Destination_Names": "Grace Owen",
              "Purchase_Count": 1,
              "Unnamed: 0": 286
             },
             {
              "Destination": 2040391,
              "Destination_Names": "Cecila Hendee",
              "Purchase_Count": 1,
              "Unnamed: 0": 111
             },
             {
              "Destination": 2040382,
              "Destination_Names": "Estelle Reyes",
              "Purchase_Count": 1,
              "Unnamed: 0": 347
             },
             {
              "Destination": 2037906,
              "Destination_Names": "Trena Gagen",
              "Purchase_Count": 1,
              "Unnamed: 0": 356
             },
             {
              "Destination": 2050630,
              "Destination_Names": "Peter Richardson",
              "Purchase_Count": 1,
              "Unnamed: 0": 427
             },
             {
              "Destination": 2038082,
              "Destination_Names": "Sophia Salazar",
              "Purchase_Count": 1,
              "Unnamed: 0": 426
             },
             {
              "Destination": 2037737,
              "Destination_Names": "Edith Carroll",
              "Purchase_Count": 1,
              "Unnamed: 0": 425
             },
             {
              "Destination": 2038034,
              "Destination_Names": "Martina Krane",
              "Purchase_Count": 1,
              "Unnamed: 0": 35
             },
             {
              "Destination": 2037802,
              "Destination_Names": "Suanne Legrande",
              "Purchase_Count": 1,
              "Unnamed: 0": 424
             },
             {
              "Destination": 2038088,
              "Destination_Names": "Ty Straughter",
              "Purchase_Count": 1,
              "Unnamed: 0": 422
             },
             {
              "Destination": 2037833,
              "Destination_Names": "Marianela Chinskey",
              "Purchase_Count": 1,
              "Unnamed: 0": 421
             },
             {
              "Destination": 2037854,
              "Destination_Names": "Phillip Hunt",
              "Purchase_Count": 1,
              "Unnamed: 0": 420
             },
             {
              "Destination": 2037772,
              "Destination_Names": "Francisco Rothschild",
              "Purchase_Count": 1,
              "Unnamed: 0": 419
             },
             {
              "Destination": 2037702,
              "Destination_Names": "Joel Olson",
              "Purchase_Count": 1,
              "Unnamed: 0": 418
             },
             {
              "Destination": 2037926,
              "Destination_Names": "Mariette Poynor",
              "Purchase_Count": 1,
              "Unnamed: 0": 417
             },
             {
              "Destination": 2050522,
              "Destination_Names": "Alma Borok",
              "Purchase_Count": 1,
              "Unnamed: 0": 428
             },
             {
              "Destination": 2038087,
              "Destination_Names": "Christina Stevenson",
              "Purchase_Count": 1,
              "Unnamed: 0": 44
             },
             {
              "Destination": 2038158,
              "Destination_Names": "Clair Lotz",
              "Purchase_Count": 1,
              "Unnamed: 0": 416
             },
             {
              "Destination": 2037746,
              "Destination_Names": "Nicholas Newton",
              "Purchase_Count": 1,
              "Unnamed: 0": 413
             },
             {
              "Destination": 2037818,
              "Destination_Names": "Leah Erickson",
              "Purchase_Count": 1,
              "Unnamed: 0": 412
             },
             {
              "Destination": 2037757,
              "Destination_Names": "Mason Schutzman",
              "Purchase_Count": 1,
              "Unnamed: 0": 411
             },
             {
              "Destination": 2037858,
              "Destination_Names": "Leonard Douglas",
              "Purchase_Count": 1,
              "Unnamed: 0": 410
             },
             {
              "Destination": 2038027,
              "Destination_Names": "Inga Ozimek",
              "Purchase_Count": 1,
              "Unnamed: 0": 110
             },
             {
              "Destination": 2037963,
              "Destination_Names": "William Peterson",
              "Purchase_Count": 1,
              "Unnamed: 0": 408
             },
             {
              "Destination": 2037991,
              "Destination_Names": "Lavonna Feasel",
              "Purchase_Count": 1,
              "Unnamed: 0": 56
             },
             {
              "Destination": 2037707,
              "Destination_Names": "Miguel Thornton",
              "Purchase_Count": 1,
              "Unnamed: 0": 405
             },
             {
              "Destination": 2038121,
              "Destination_Names": "Columbus Bouillion",
              "Purchase_Count": 1,
              "Unnamed: 0": 404
             },
             {
              "Destination": 2038174,
              "Destination_Names": "Jules Awalt",
              "Purchase_Count": 1,
              "Unnamed: 0": 403
             },
             {
              "Destination": 2041817,
              "Destination_Names": "Katie Owen",
              "Purchase_Count": 1,
              "Unnamed: 0": 45
             },
             {
              "Destination": 2037819,
              "Destination_Names": "Lavina Rocha",
              "Purchase_Count": 1,
              "Unnamed: 0": 429
             },
             {
              "Destination": 2038129,
              "Destination_Names": "Marion Schwartz",
              "Purchase_Count": 1,
              "Unnamed: 0": 430
             },
             {
              "Destination": 2040583,
              "Destination_Names": "Houston Poulton",
              "Purchase_Count": 1,
              "Unnamed: 0": 431
             },
             {
              "Destination": 2037839,
              "Destination_Names": "Maria Robinson",
              "Purchase_Count": 1,
              "Unnamed: 0": 456
             },
             {
              "Destination": 2037897,
              "Destination_Names": "Rena Wilson",
              "Purchase_Count": 1,
              "Unnamed: 0": 455
             },
             {
              "Destination": 2038184,
              "Destination_Names": "Lelia Rogel",
              "Purchase_Count": 1,
              "Unnamed: 0": 454
             },
             {
              "Destination": 2037937,
              "Destination_Names": "Micheal Kapral",
              "Purchase_Count": 1,
              "Unnamed: 0": 453
             },
             {
              "Destination": 2040468,
              "Destination_Names": "Matthew Howell",
              "Purchase_Count": 1,
              "Unnamed: 0": 452
             },
             {
              "Destination": 2037919,
              "Destination_Names": "Cecelia Marsh",
              "Purchase_Count": 1,
              "Unnamed: 0": 451
             },
             {
              "Destination": 2043997,
              "Destination_Names": "Josephine Reed",
              "Purchase_Count": 1,
              "Unnamed: 0": 450
             },
             {
              "Destination": 2043981,
              "Destination_Names": "Thora Beltrami",
              "Purchase_Count": 1,
              "Unnamed: 0": 449
             },
             {
              "Destination": 2038150,
              "Destination_Names": "Susie Daniels",
              "Purchase_Count": 1,
              "Unnamed: 0": 448
             },
             {
              "Destination": 2038055,
              "Destination_Names": "Harvey Frazier",
              "Purchase_Count": 1,
              "Unnamed: 0": 446
             },
             {
              "Destination": 2041810,
              "Destination_Names": "Lucille Morales",
              "Purchase_Count": 1,
              "Unnamed: 0": 445
             },
             {
              "Destination": 2037950,
              "Destination_Names": "Lillian Kennedy",
              "Purchase_Count": 1,
              "Unnamed: 0": 444
             },
             {
              "Destination": 2037918,
              "Destination_Names": "Ruby Davidson",
              "Purchase_Count": 1,
              "Unnamed: 0": 443
             },
             {
              "Destination": 2038047,
              "Destination_Names": "Man Maxedon",
              "Purchase_Count": 1,
              "Unnamed: 0": 15
             },
             {
              "Destination": 2038134,
              "Destination_Names": "Kendra Stash",
              "Purchase_Count": 1,
              "Unnamed: 0": 442
             },
             {
              "Destination": 2038125,
              "Destination_Names": "Jung Caselli",
              "Purchase_Count": 1,
              "Unnamed: 0": 441
             },
             {
              "Destination": 2037837,
              "Destination_Names": "Geri Nager",
              "Purchase_Count": 1,
              "Unnamed: 0": 440
             },
             {
              "Destination": 2037733,
              "Destination_Names": "Ellis Gabeline",
              "Purchase_Count": 1,
              "Unnamed: 0": 439
             },
             {
              "Destination": 2038003,
              "Destination_Names": "Jenice Savaria",
              "Purchase_Count": 1,
              "Unnamed: 0": 438
             },
             {
              "Destination": 2037736,
              "Destination_Names": "Ashlee Schur",
              "Purchase_Count": 1,
              "Unnamed: 0": 437
             },
             {
              "Destination": 2040626,
              "Destination_Names": "Travis Conner",
              "Purchase_Count": 1,
              "Unnamed: 0": 436
             },
             {
              "Destination": 2037734,
              "Destination_Names": "Pam Perrott",
              "Purchase_Count": 1,
              "Unnamed: 0": 434
             },
             {
              "Destination": 2037685,
              "Destination_Names": "Wanda Reddinger",
              "Purchase_Count": 1,
              "Unnamed: 0": 433
             },
             {
              "Destination": 2037848,
              "Destination_Names": "Ina Obrien",
              "Purchase_Count": 1,
              "Unnamed: 0": 432
             },
             {
              "Destination": 2037853,
              "Destination_Names": "Ollie Rivera",
              "Purchase_Count": 1,
              "Unnamed: 0": 27
             },
             {
              "Destination": 2038179,
              "Destination_Names": "Bettie Steele",
              "Purchase_Count": 1,
              "Unnamed: 0": 402
             },
             {
              "Destination": 2037892,
              "Destination_Names": "Jeanette Malone",
              "Purchase_Count": 1,
              "Unnamed: 0": 401
             },
             {
              "Destination": 2038096,
              "Destination_Names": "Lavenia Daddona",
              "Purchase_Count": 1,
              "Unnamed: 0": 247
             },
             {
              "Destination": 2038101,
              "Destination_Names": "Jordan Elliott",
              "Purchase_Count": 1,
              "Unnamed: 0": 380
             },
             {
              "Destination": 2037902,
              "Destination_Names": "Rory Ockmond",
              "Purchase_Count": 1,
              "Unnamed: 0": 367
             },
             {
              "Destination": 2037845,
              "Destination_Names": "Pinkie Vanandel",
              "Purchase_Count": 1,
              "Unnamed: 0": 385
             },
             {
              "Destination": 2038077,
              "Destination_Names": "Reta Klimkowicz",
              "Purchase_Count": 1,
              "Unnamed: 0": 384
             },
             {
              "Destination": 2040317,
              "Destination_Names": "Cassaundra Arthun",
              "Purchase_Count": 1,
              "Unnamed: 0": 363
             },
             {
              "Destination": 2037693,
              "Destination_Names": "Leila Bishop",
              "Purchase_Count": 1,
              "Unnamed: 0": 383
             },
             {
              "Destination": 2038056,
              "Destination_Names": "Elinor Heckerman",
              "Purchase_Count": 1,
              "Unnamed: 0": 382
             },
             {
              "Destination": 2038090,
              "Destination_Names": "Lurlene Cherian",
              "Purchase_Count": 1,
              "Unnamed: 0": 381
             },
             {
              "Destination": 2037971,
              "Destination_Names": "Lucille Wise",
              "Purchase_Count": 1,
              "Unnamed: 0": 400
             },
             {
              "Destination": 2037692,
              "Destination_Names": "Elida Talarico",
              "Purchase_Count": 1,
              "Unnamed: 0": 364
             },
             {
              "Destination": 2038119,
              "Destination_Names": "Hulda Owen",
              "Purchase_Count": 1,
              "Unnamed: 0": 365
             },
             {
              "Destination": 2037891,
              "Destination_Names": "Grace Farmer",
              "Purchase_Count": 1,
              "Unnamed: 0": 386
             },
             {
              "Destination": 2041373,
              "Destination_Names": "Valeria Batrum",
              "Purchase_Count": 1,
              "Unnamed: 0": 379
             },
             {
              "Destination": 2037993,
              "Destination_Names": "Armand Adside",
              "Purchase_Count": 1,
              "Unnamed: 0": 376
             },
             {
              "Destination": 2038033,
              "Destination_Names": "Marion Leonard",
              "Purchase_Count": 1,
              "Unnamed: 0": 375
             },
             {
              "Destination": 2037869,
              "Destination_Names": "Ivelisse Butkovich",
              "Purchase_Count": 1,
              "Unnamed: 0": 374
             },
             {
              "Destination": 2037917,
              "Destination_Names": "Luke Gross",
              "Purchase_Count": 1,
              "Unnamed: 0": 373
             },
             {
              "Destination": 2037931,
              "Destination_Names": "Somer Lofthouse",
              "Purchase_Count": 1,
              "Unnamed: 0": 372
             },
             {
              "Destination": 2037747,
              "Destination_Names": "Lou Klimaszewski",
              "Purchase_Count": 1,
              "Unnamed: 0": 371
             },
             {
              "Destination": 2037803,
              "Destination_Names": "Minh Orcutt",
              "Purchase_Count": 1,
              "Unnamed: 0": 370
             },
             {
              "Destination": 2037786,
              "Destination_Names": "Ann Kingshott",
              "Purchase_Count": 1,
              "Unnamed: 0": 94
             },
             {
              "Destination": 2037976,
              "Destination_Names": "Loise Gladhill",
              "Purchase_Count": 1,
              "Unnamed: 0": 369
             },
             {
              "Destination": 2037956,
              "Destination_Names": "Jon Obrien",
              "Purchase_Count": 1,
              "Unnamed: 0": 368
             },
             {
              "Destination": 2040572,
              "Destination_Names": "Eddy Faerber",
              "Purchase_Count": 1,
              "Unnamed: 0": 378
             },
             {
              "Destination": 2037910,
              "Destination_Names": "Nina Carr",
              "Purchase_Count": 1,
              "Unnamed: 0": 387
             },
             {
              "Destination": 2038165,
              "Destination_Names": "Candice Runge",
              "Purchase_Count": 1,
              "Unnamed: 0": 361
             },
             {
              "Destination": 2037863,
              "Destination_Names": "Tony Roberts",
              "Purchase_Count": 1,
              "Unnamed: 0": 392
             },
             {
              "Destination": 2037842,
              "Destination_Names": "Cody Thomas",
              "Purchase_Count": 1,
              "Unnamed: 0": 399
             },
             {
              "Destination": 2038023,
              "Destination_Names": "Mayme Moreno",
              "Purchase_Count": 1,
              "Unnamed: 0": 64
             },
             {
              "Destination": 2038068,
              "Destination_Names": "Santana Horak",
              "Purchase_Count": 1,
              "Unnamed: 0": 398
             },
             {
              "Destination": 2037882,
              "Destination_Names": "Rosa Cobb",
              "Purchase_Count": 1,
              "Unnamed: 0": 397
             },
             {
              "Destination": 2043386,
              "Destination_Names": "Jina Seiders",
              "Purchase_Count": 1,
              "Unnamed: 0": 67
             },
             {
              "Destination": 2043976,
              "Destination_Names": "Randy Berry",
              "Purchase_Count": 1,
              "Unnamed: 0": 396
             },
             {
              "Destination": 2037888,
              "Destination_Names": "Pearl Bell",
              "Purchase_Count": 1,
              "Unnamed: 0": 395
             },
             {
              "Destination": 2038117,
              "Destination_Names": "Ann Harvey",
              "Purchase_Count": 1,
              "Unnamed: 0": 394
             },
             {
              "Destination": 2037789,
              "Destination_Names": "Bailey Shoddie",
              "Purchase_Count": 1,
              "Unnamed: 0": 393
             },
             {
              "Destination": 2040609,
              "Destination_Names": "Monty Ashmen",
              "Purchase_Count": 1,
              "Unnamed: 0": 103
             },
             {
              "Destination": 2037866,
              "Destination_Names": "Opal Mock",
              "Purchase_Count": 1,
              "Unnamed: 0": 391
             },
             {
              "Destination": 2037852,
              "Destination_Names": "Ophelia Butler",
              "Purchase_Count": 1,
              "Unnamed: 0": 366
             },
             {
              "Destination": 2037914,
              "Destination_Names": "Myrtle Lawrence",
              "Purchase_Count": 1,
              "Unnamed: 0": 388
             },
             {
              "Destination": 2037743,
              "Destination_Names": "Shanice Nakahara",
              "Purchase_Count": 1,
              "Unnamed: 0": 390
             },
             {
              "Destination": 2040438,
              "Destination_Names": "Liberty Nuzum",
              "Purchase_Count": 1,
              "Unnamed: 0": 360
             },
             {
              "Destination": 2037904,
              "Destination_Names": "Yong Leyra",
              "Purchase_Count": 1,
              "Unnamed: 0": 359
             },
             {
              "Destination": 2037986,
              "Destination_Names": "Dora Atkins",
              "Purchase_Count": 1,
              "Unnamed: 0": 106
             },
             {
              "Destination": 2043973,
              "Destination_Names": "Whitney Rissman",
              "Purchase_Count": 1,
              "Unnamed: 0": 389
             },
             {
              "Destination": 2037905,
              "Destination_Names": "Melva Vassell",
              "Purchase_Count": 1,
              "Unnamed: 0": 358
             },
             {
              "Destination": 2038028,
              "Destination_Names": "Neville Roya",
              "Purchase_Count": 2,
              "Unnamed: 0": 252
             },
             {
              "Destination": 2038057,
              "Destination_Names": "Oliver Leuthe",
              "Purchase_Count": 2,
              "Unnamed: 0": 357
             },
             {
              "Destination": 2037865,
              "Destination_Names": "Evelia Duer",
              "Purchase_Count": 2,
              "Unnamed: 0": 260
             },
             {
              "Destination": 2037970,
              "Destination_Names": "Brenton Trucker",
              "Purchase_Count": 2,
              "Unnamed: 0": 346
             },
             {
              "Destination": 2038102,
              "Destination_Names": "Louis Ottman",
              "Purchase_Count": 2,
              "Unnamed: 0": 250
             },
             {
              "Destination": 2038172,
              "Destination_Names": "Duane Sylva",
              "Purchase_Count": 2,
              "Unnamed: 0": 251
             },
             {
              "Destination": 2038171,
              "Destination_Names": "Troy Morton",
              "Purchase_Count": 2,
              "Unnamed: 0": 262
             },
             {
              "Destination": 2038031,
              "Destination_Names": "Kia Halonen",
              "Purchase_Count": 2,
              "Unnamed: 0": 447
             },
             {
              "Destination": 2041379,
              "Destination_Names": "Jeremy Cravalho",
              "Purchase_Count": 2,
              "Unnamed: 0": 254
             },
             {
              "Destination": 2037901,
              "Destination_Names": "Tony Daffron",
              "Purchase_Count": 2,
              "Unnamed: 0": 350
             },
             {
              "Destination": 2038175,
              "Destination_Names": "Noelle Amarante",
              "Purchase_Count": 2,
              "Unnamed: 0": 259
             },
             {
              "Destination": 2038043,
              "Destination_Names": "Nestor Olguin",
              "Purchase_Count": 2,
              "Unnamed: 0": 308
             },
             {
              "Destination": 2037965,
              "Destination_Names": "Viki Shoulders",
              "Purchase_Count": 2,
              "Unnamed: 0": 277
             },
             {
              "Destination": 2037793,
              "Destination_Names": "Merry Blevans",
              "Purchase_Count": 2,
              "Unnamed: 0": 305
             },
             {
              "Destination": 2040631,
              "Destination_Names": "Jorge Burns",
              "Purchase_Count": 2,
              "Unnamed: 0": 406
             },
             {
              "Destination": 2037720,
              "Destination_Names": "Neal Blazon",
              "Purchase_Count": 2,
              "Unnamed: 0": 407
             },
             {
              "Destination": 2037696,
              "Destination_Names": "Cinthia Plante",
              "Purchase_Count": 2,
              "Unnamed: 0": 297
             },
             {
              "Destination": 2037735,
              "Destination_Names": "Genia Newmyer",
              "Purchase_Count": 2,
              "Unnamed: 0": 415
             },
             {
              "Destination": 2037936,
              "Destination_Names": "Vicky Goy",
              "Purchase_Count": 2,
              "Unnamed: 0": 296
             },
             {
              "Destination": 2037828,
              "Destination_Names": "Bennett Hess",
              "Purchase_Count": 2,
              "Unnamed: 0": 319
             },
             {
              "Destination": 2038048,
              "Destination_Names": "Jeanice Friar",
              "Purchase_Count": 2,
              "Unnamed: 0": 321
             },
             {
              "Destination": 2038108,
              "Destination_Names": "Conrad Mira",
              "Purchase_Count": 2,
              "Unnamed: 0": 435
             },
             {
              "Destination": 2038089,
              "Destination_Names": "Jason Jimenez",
              "Purchase_Count": 2,
              "Unnamed: 0": 322
             },
             {
              "Destination": 2040592,
              "Destination_Names": "Adam Ruiz",
              "Purchase_Count": 2,
              "Unnamed: 0": 287
             },
             {
              "Destination": 2038156,
              "Destination_Names": "Merry Diodonet",
              "Purchase_Count": 2,
              "Unnamed: 0": 285
             },
             {
              "Destination": 2037860,
              "Destination_Names": "Carlos Morris",
              "Purchase_Count": 2,
              "Unnamed: 0": 423
             },
             {
              "Destination": 2040601,
              "Destination_Names": "Jorge Patrick",
              "Purchase_Count": 2,
              "Unnamed: 0": 283
             },
             {
              "Destination": 2037836,
              "Destination_Names": "Ossie Barbeau",
              "Purchase_Count": 2,
              "Unnamed: 0": 282
             },
             {
              "Destination": 2037797,
              "Destination_Names": "Rolande Hargreaves",
              "Purchase_Count": 2,
              "Unnamed: 0": 325
             },
             {
              "Destination": 2038091,
              "Destination_Names": "Odell Surrey",
              "Purchase_Count": 2,
              "Unnamed: 0": 326
             },
             {
              "Destination": 2037922,
              "Destination_Names": "Tawny Rapko",
              "Purchase_Count": 2,
              "Unnamed: 0": 333
             },
             {
              "Destination": 2037718,
              "Destination_Names": "Aaron Cilva",
              "Purchase_Count": 2,
              "Unnamed: 0": 288
             },
             {
              "Destination": 2037759,
              "Destination_Names": "Clotilde Kinstle",
              "Purchase_Count": 2,
              "Unnamed: 0": 409
             },
             {
              "Destination": 2038011,
              "Destination_Names": "Letty Pontiff",
              "Purchase_Count": 2,
              "Unnamed: 0": 229
             },
             {
              "Destination": 2038097,
              "Destination_Names": "Hannelore Javarone",
              "Purchase_Count": 2,
              "Unnamed: 0": 248
             },
             {
              "Destination": 2038054,
              "Destination_Names": "Dennise Kinkella",
              "Purchase_Count": 2,
              "Unnamed: 0": 114
             },
             {
              "Destination": 2037992,
              "Destination_Names": "Darci Rodrigus",
              "Purchase_Count": 2,
              "Unnamed: 0": 165
             },
             {
              "Destination": 2040590,
              "Destination_Names": "Duane Harper",
              "Purchase_Count": 2,
              "Unnamed: 0": 202
             },
             {
              "Destination": 2037972,
              "Destination_Names": "Keli Kehn",
              "Purchase_Count": 2,
              "Unnamed: 0": 124
             },
             {
              "Destination": 2037856,
              "Destination_Names": "Elizebeth Berliew",
              "Purchase_Count": 2,
              "Unnamed: 0": 197
             },
             {
              "Destination": 2038024,
              "Destination_Names": "Carl Coxon",
              "Purchase_Count": 2,
              "Unnamed: 0": 128
             },
             {
              "Destination": 2037740,
              "Destination_Names": "Malik Rolland",
              "Purchase_Count": 2,
              "Unnamed: 0": 129
             },
             {
              "Destination": 2037770,
              "Destination_Names": "Grazyna Hustead",
              "Purchase_Count": 2,
              "Unnamed: 0": 131
             },
             {
              "Destination": 2037968,
              "Destination_Names": "Jame Wytch",
              "Purchase_Count": 2,
              "Unnamed: 0": 136
             },
             {
              "Destination": 2040392,
              "Destination_Names": "Kerry Jinkerson",
              "Purchase_Count": 2,
              "Unnamed: 0": 140
             },
             {
              "Destination": 2038173,
              "Destination_Names": "Alma Murray",
              "Purchase_Count": 2,
              "Unnamed: 0": 189
             },
             {
              "Destination": 2037933,
              "Destination_Names": "Louise Stevens",
              "Purchase_Count": 2,
              "Unnamed: 0": 210
             },
             {
              "Destination": 2037850,
              "Destination_Names": "Cora Hart",
              "Purchase_Count": 2,
              "Unnamed: 0": 186
             },
             {
              "Destination": 2040577,
              "Destination_Names": "Jeremiah Farmer",
              "Purchase_Count": 2,
              "Unnamed: 0": 182
             },
             {
              "Destination": 2037823,
              "Destination_Names": "Kerry Menousek",
              "Purchase_Count": 2,
              "Unnamed: 0": 155
             },
             {
              "Destination": 2037717,
              "Destination_Names": "Clara Singleton",
              "Purchase_Count": 2,
              "Unnamed: 0": 157
             },
             {
              "Destination": 2037861,
              "Destination_Names": "Jewell Dronet",
              "Purchase_Count": 2,
              "Unnamed: 0": 180
             },
             {
              "Destination": 2040557,
              "Destination_Names": "Alexander Sanchez",
              "Purchase_Count": 2,
              "Unnamed: 0": 177
             },
             {
              "Destination": 2037987,
              "Destination_Names": "Brunilda Colesar",
              "Purchase_Count": 2,
              "Unnamed: 0": 159
             },
             {
              "Destination": 2037794,
              "Destination_Names": "Erinn Anewalt",
              "Purchase_Count": 2,
              "Unnamed: 0": 173
             },
             {
              "Destination": 2038071,
              "Destination_Names": "Renee Knightstep",
              "Purchase_Count": 2,
              "Unnamed: 0": 172
             },
             {
              "Destination": 2037999,
              "Destination_Names": "Fannie Andrews",
              "Purchase_Count": 2,
              "Unnamed: 0": 161
             },
             {
              "Destination": 2037984,
              "Destination_Names": "Owen Ortega",
              "Purchase_Count": 2,
              "Unnamed: 0": 169
             },
             {
              "Destination": 2037997,
              "Destination_Names": "Edgar Lawson",
              "Purchase_Count": 2,
              "Unnamed: 0": 164
             },
             {
              "Destination": 2047240,
              "Destination_Names": "Duane Owens",
              "Purchase_Count": 2,
              "Unnamed: 0": 149
             },
             {
              "Destination": 2037780,
              "Destination_Names": "Maggie Manning",
              "Purchase_Count": 2,
              "Unnamed: 0": 105
             },
             {
              "Destination": 2037697,
              "Destination_Names": "Mary Brewer",
              "Purchase_Count": 2,
              "Unnamed: 0": 166
             },
             {
              "Destination": 2041386,
              "Destination_Names": "Carry Daryanl",
              "Purchase_Count": 2,
              "Unnamed: 0": 98
             },
             {
              "Destination": 2037798,
              "Destination_Names": "Carroll Hyrkas",
              "Purchase_Count": 2,
              "Unnamed: 0": 236
             },
             {
              "Destination": 2037880,
              "Destination_Names": "Emilio Cokel",
              "Purchase_Count": 2,
              "Unnamed: 0": 239
             },
             {
              "Destination": 2038111,
              "Destination_Names": "Lai Okelberry",
              "Purchase_Count": 2,
              "Unnamed: 0": 61
             },
             {
              "Destination": 2037967,
              "Destination_Names": "Charley Offermann",
              "Purchase_Count": 2,
              "Unnamed: 0": 81
             },
             {
              "Destination": 2038063,
              "Destination_Names": "Carmen Ting",
              "Purchase_Count": 2,
              "Unnamed: 0": 226
             },
             {
              "Destination": 2037761,
              "Destination_Names": "Anna Morren",
              "Purchase_Count": 2,
              "Unnamed: 0": 83
             },
             {
              "Destination": 2040594,
              "Destination_Names": "Christian Zierenberg",
              "Purchase_Count": 2,
              "Unnamed: 0": 233
             },
             {
              "Destination": 2040344,
              "Destination_Names": "Connor Fernandez",
              "Purchase_Count": 2,
              "Unnamed: 0": 220
             },
             {
              "Destination": 2037695,
              "Destination_Names": "Chasidy Clampitt",
              "Purchase_Count": 2,
              "Unnamed: 0": 68
             },
             {
              "Destination": 2037938,
              "Destination_Names": "Major Stokey",
              "Purchase_Count": 2,
              "Unnamed: 0": 87
             },
             {
              "Destination": 2038061,
              "Destination_Names": "Virginia Wheeler",
              "Purchase_Count": 2,
              "Unnamed: 0": 89
             },
             {
              "Destination": 2038012,
              "Destination_Names": "Perla Matney",
              "Purchase_Count": 2,
              "Unnamed: 0": 17
             },
             {
              "Destination": 2038053,
              "Destination_Names": "Kenneth Little",
              "Purchase_Count": 2,
              "Unnamed: 0": 95
             },
             {
              "Destination": 2038126,
              "Destination_Names": "Sudie Hulslander",
              "Purchase_Count": 2,
              "Unnamed: 0": 215
             },
             {
              "Destination": 2040312,
              "Destination_Names": "Eleonore Mikelsen",
              "Purchase_Count": 2,
              "Unnamed: 0": 244
             },
             {
              "Destination": 2038159,
              "Destination_Names": "Albert Doshier",
              "Purchase_Count": 2,
              "Unnamed: 0": 241
             },
             {
              "Destination": 2038014,
              "Destination_Names": "Wesley Andaverde",
              "Purchase_Count": 3,
              "Unnamed: 0": 39
             },
             {
              "Destination": 2038032,
              "Destination_Names": "Priscila Gooch",
              "Purchase_Count": 3,
              "Unnamed: 0": 30
             },
             {
              "Destination": 2037766,
              "Destination_Names": "Gregory Russell",
              "Purchase_Count": 3,
              "Unnamed: 0": 414
             },
             {
              "Destination": 2038035,
              "Destination_Names": "Corazon Ney",
              "Purchase_Count": 3,
              "Unnamed: 0": 33
             },
             {
              "Destination": 2038026,
              "Destination_Names": "Victoria Woods",
              "Purchase_Count": 3,
              "Unnamed: 0": 80
             },
             {
              "Destination": 2037688,
              "Destination_Names": "Gordon Perez",
              "Purchase_Count": 3,
              "Unnamed: 0": 77
             },
             {
              "Destination": 2037958,
              "Destination_Names": "Russell Sterr",
              "Purchase_Count": 3,
              "Unnamed: 0": 328
             },
             {
              "Destination": 2037781,
              "Destination_Names": "Reyna Eclarinal",
              "Purchase_Count": 3,
              "Unnamed: 0": 362
             },
             {
              "Destination": 2038000,
              "Destination_Names": "Fern Przybycien",
              "Purchase_Count": 3,
              "Unnamed: 0": 143
             },
             {
              "Destination": 2038100,
              "Destination_Names": "Wenona Bradmon",
              "Purchase_Count": 3,
              "Unnamed: 0": 330
             },
             {
              "Destination": 2037742,
              "Destination_Names": "Sophia Medina",
              "Purchase_Count": 3,
              "Unnamed: 0": 86
             },
             {
              "Destination": 2038149,
              "Destination_Names": "Darius Jinks",
              "Purchase_Count": 3,
              "Unnamed: 0": 340
             },
             {
              "Destination": 2038180,
              "Destination_Names": "Rosalyn Maclay",
              "Purchase_Count": 3,
              "Unnamed: 0": 377
             },
             {
              "Destination": 2038016,
              "Destination_Names": "Davina Perrota",
              "Purchase_Count": 3,
              "Unnamed: 0": 121
             },
             {
              "Destination": 2037777,
              "Destination_Names": "Carlo Castillero",
              "Purchase_Count": 3,
              "Unnamed: 0": 352
             },
             {
              "Destination": 2038152,
              "Destination_Names": "Viola Vasquez",
              "Purchase_Count": 3,
              "Unnamed: 0": 107
             },
             {
              "Destination": 2038141,
              "Destination_Names": "Randy Pena",
              "Purchase_Count": 3,
              "Unnamed: 0": 327
             },
             {
              "Destination": 2037955,
              "Destination_Names": "Ollie Lindsey",
              "Purchase_Count": 3,
              "Unnamed: 0": 245
             },
             {
              "Destination": 2037763,
              "Destination_Names": "Maryrose Schryver",
              "Purchase_Count": 3,
              "Unnamed: 0": 118
             },
             {
              "Destination": 2038138,
              "Destination_Names": "Tyree Barreneche",
              "Purchase_Count": 3,
              "Unnamed: 0": 188
             },
             {
              "Destination": 2037868,
              "Destination_Names": "Kate Burton",
              "Purchase_Count": 3,
              "Unnamed: 0": 227
             },
             {
              "Destination": 2038062,
              "Destination_Names": "Ozell Lampkins",
              "Purchase_Count": 3,
              "Unnamed: 0": 263
             },
             {
              "Destination": 2038162,
              "Destination_Names": "Sasha Papagni",
              "Purchase_Count": 3,
              "Unnamed: 0": 167
             },
             {
              "Destination": 2040309,
              "Destination_Names": "Eric Schneider",
              "Purchase_Count": 3,
              "Unnamed: 0": 272
             },
             {
              "Destination": 2037998,
              "Destination_Names": "Emilia Zanin",
              "Purchase_Count": 3,
              "Unnamed: 0": 204
             },
             {
              "Destination": 2038122,
              "Destination_Names": "Francina Jinkens",
              "Purchase_Count": 3,
              "Unnamed: 0": 213
             },
             {
              "Destination": 2037851,
              "Destination_Names": "Deon Boldman",
              "Purchase_Count": 3,
              "Unnamed: 0": 257
             },
             {
              "Destination": 2038017,
              "Destination_Names": "Octavia Rallison",
              "Purchase_Count": 3,
              "Unnamed: 0": 300
             },
             {
              "Destination": 2040630,
              "Destination_Names": "Alberto Osbourn",
              "Purchase_Count": 3,
              "Unnamed: 0": 267
             },
             {
              "Destination": 2037920,
              "Destination_Names": "Julieann Terheggen",
              "Purchase_Count": 3,
              "Unnamed: 0": 255
             },
             {
              "Destination": 2038084,
              "Destination_Names": "Jeannine Riccardi",
              "Purchase_Count": 3,
              "Unnamed: 0": 217
             },
             {
              "Destination": 2037788,
              "Destination_Names": "Miesha Ostrum",
              "Purchase_Count": 3,
              "Unnamed: 0": 192
             },
             {
              "Destination": 2037932,
              "Destination_Names": "Janie Roberson",
              "Purchase_Count": 3,
              "Unnamed: 0": 292
             },
             {
              "Destination": 2038072,
              "Destination_Names": "Toccara Kempa",
              "Purchase_Count": 4,
              "Unnamed: 0": 291
             },
             {
              "Destination": 2038144,
              "Destination_Names": "Iva Cook",
              "Purchase_Count": 4,
              "Unnamed: 0": 191
             },
             {
              "Destination": 2037691,
              "Destination_Names": "Mary Robinson",
              "Purchase_Count": 4,
              "Unnamed: 0": 122
             },
             {
              "Destination": 2038051,
              "Destination_Names": "Anastacia Suri",
              "Purchase_Count": 4,
              "Unnamed: 0": 195
             },
             {
              "Destination": 2037784,
              "Destination_Names": "Sierra Denherder",
              "Purchase_Count": 4,
              "Unnamed: 0": 231
             },
             {
              "Destination": 2038131,
              "Destination_Names": "Diamond Hollenbach",
              "Purchase_Count": 4,
              "Unnamed: 0": 190
             },
             {
              "Destination": 2037990,
              "Destination_Names": "Susana Ganser",
              "Purchase_Count": 4,
              "Unnamed: 0": 343
             },
             {
              "Destination": 2038079,
              "Destination_Names": "Denna Slemmer",
              "Purchase_Count": 4,
              "Unnamed: 0": 242
             },
             {
              "Destination": 2037771,
              "Destination_Names": "Sherrell Macdonald",
              "Purchase_Count": 4,
              "Unnamed: 0": 183
             },
             {
              "Destination": 2038050,
              "Destination_Names": "Andre Gregory",
              "Purchase_Count": 4,
              "Unnamed: 0": 280
             },
             {
              "Destination": 2041370,
              "Destination_Names": "Griselda Protain",
              "Purchase_Count": 4,
              "Unnamed: 0": 73
             },
             {
              "Destination": 2037821,
              "Destination_Names": "Daniela Oharra",
              "Purchase_Count": 4,
              "Unnamed: 0": 156
             },
             {
              "Destination": 2037994,
              "Destination_Names": "Lola Wilson",
              "Purchase_Count": 4,
              "Unnamed: 0": 170
             },
             {
              "Destination": 2037750,
              "Destination_Names": "Joann Wallgren",
              "Purchase_Count": 5,
              "Unnamed: 0": 123
             },
             {
              "Destination": 2037915,
              "Destination_Names": "Chris Jefferson",
              "Purchase_Count": 5,
              "Unnamed: 0": 199
             },
             {
              "Destination": 2037981,
              "Destination_Names": "Harrison Chalaban",
              "Purchase_Count": 5,
              "Unnamed: 0": 104
             },
             {
              "Destination": 2037989,
              "Destination_Names": "Karisa Filosa",
              "Purchase_Count": 5,
              "Unnamed: 0": 91
             },
             {
              "Destination": 2037700,
              "Destination_Names": "Gene Marsh",
              "Purchase_Count": 5,
              "Unnamed: 0": 256
             },
             {
              "Destination": 2038070,
              "Destination_Names": "Tyler Miles",
              "Purchase_Count": 5,
              "Unnamed: 0": 134
             },
             {
              "Destination": 2037690,
              "Destination_Names": "Donald Washington",
              "Purchase_Count": 5,
              "Unnamed: 0": 243
             },
             {
              "Destination": 2037975,
              "Destination_Names": "Kenneth Holt",
              "Purchase_Count": 5,
              "Unnamed: 0": 82
             },
             {
              "Destination": 2038005,
              "Destination_Names": "Felton Lawcewicz",
              "Purchase_Count": 5,
              "Unnamed: 0": 142
             },
             {
              "Destination": 2040454,
              "Destination_Names": "Rosendo Esteve",
              "Purchase_Count": 5,
              "Unnamed: 0": 144
             },
             {
              "Destination": 2038154,
              "Destination_Names": "Luis Higgins",
              "Purchase_Count": 5,
              "Unnamed: 0": 148
             },
             {
              "Destination": 2040349,
              "Destination_Names": "Andria Tumulty",
              "Purchase_Count": 5,
              "Unnamed: 0": 230
             },
             {
              "Destination": 2037859,
              "Destination_Names": "Eric Atkins",
              "Purchase_Count": 5,
              "Unnamed: 0": 75
             },
             {
              "Destination": 2037689,
              "Destination_Names": "Aisha Stafford",
              "Purchase_Count": 5,
              "Unnamed: 0": 211
             },
             {
              "Destination": 2044645,
              "Destination_Names": "Oscar Hutley",
              "Purchase_Count": 6,
              "Unnamed: 0": 218
             },
             {
              "Destination": 2037769,
              "Destination_Names": "Floy Warholic",
              "Purchase_Count": 6,
              "Unnamed: 0": 47
             },
             {
              "Destination": 2038007,
              "Destination_Names": "Carolyn Hines",
              "Purchase_Count": 6,
              "Unnamed: 0": 99
             },
             {
              "Destination": 2038001,
              "Destination_Names": "Gabrielle Iarussi",
              "Purchase_Count": 6,
              "Unnamed: 0": 72
             },
             {
              "Destination": 2037824,
              "Destination_Names": "Demetria Mckibbens",
              "Purchase_Count": 6,
              "Unnamed: 0": 71
             },
             {
              "Destination": 2037978,
              "Destination_Names": "Wayne Ahne",
              "Purchase_Count": 6,
              "Unnamed: 0": 216
             },
             {
              "Destination": 2040467,
              "Destination_Names": "Frederica Guillan",
              "Purchase_Count": 6,
              "Unnamed: 0": 309
             },
             {
              "Destination": 2037820,
              "Destination_Names": "Cristina Leber",
              "Purchase_Count": 6,
              "Unnamed: 0": 18
             },
             {
              "Destination": 2037708,
              "Destination_Names": "Marya Stetler",
              "Purchase_Count": 6,
              "Unnamed: 0": 181
             },
             {
              "Destination": 2037877,
              "Destination_Names": "Seymour Johndrow",
              "Purchase_Count": 6,
              "Unnamed: 0": 153
             },
             {
              "Destination": 2037698,
              "Destination_Names": "Betty Summers",
              "Purchase_Count": 6,
              "Unnamed: 0": 152
             },
             {
              "Destination": 2037847,
              "Destination_Names": "Manuel Allison",
              "Purchase_Count": 6,
              "Unnamed: 0": 20
             },
             {
              "Destination": 2037941,
              "Destination_Names": "Yon Shilleh",
              "Purchase_Count": 6,
              "Unnamed: 0": 281
             },
             {
              "Destination": 2037870,
              "Destination_Names": "Hettie Gray",
              "Purchase_Count": 6,
              "Unnamed: 0": 240
             },
             {
              "Destination": 2038013,
              "Destination_Names": "Gabriella Striegel",
              "Purchase_Count": 7,
              "Unnamed: 0": 96
             },
             {
              "Destination": 2037808,
              "Destination_Names": "Elvis Drilling",
              "Purchase_Count": 7,
              "Unnamed: 0": 101
             },
             {
              "Destination": 2038078,
              "Destination_Names": "Cordelia Critcher",
              "Purchase_Count": 7,
              "Unnamed: 0": 200
             },
             {
              "Destination": 2037774,
              "Destination_Names": "Nannie Bennett",
              "Purchase_Count": 7,
              "Unnamed: 0": 126
             },
             {
              "Destination": 2038092,
              "Destination_Names": "Norman Shaw",
              "Purchase_Count": 8,
              "Unnamed: 0": 109
             },
             {
              "Destination": 2040550,
              "Destination_Names": "Bradley Daniel",
              "Purchase_Count": 8,
              "Unnamed: 0": 16
             },
             {
              "Destination": 2038139,
              "Destination_Names": "Roy Rhodes",
              "Purchase_Count": 8,
              "Unnamed: 0": 42
             },
             {
              "Destination": 2037943,
              "Destination_Names": "Johnnie Enslow",
              "Purchase_Count": 8,
              "Unnamed: 0": 194
             },
             {
              "Destination": 2038127,
              "Destination_Names": "Harris Dearmas",
              "Purchase_Count": 8,
              "Unnamed: 0": 222
             },
             {
              "Destination": 2040378,
              "Destination_Names": "Lashaunda Mautone",
              "Purchase_Count": 8,
              "Unnamed: 0": 102
             },
             {
              "Destination": 2038075,
              "Destination_Names": "Dustin Poskitt",
              "Purchase_Count": 8,
              "Unnamed: 0": 120
             },
             {
              "Destination": 2040591,
              "Destination_Names": "Kenny Miskiewicz",
              "Purchase_Count": 9,
              "Unnamed: 0": 174
             },
             {
              "Destination": 2045457,
              "Destination_Names": "Armand Millerbernd",
              "Purchase_Count": 9,
              "Unnamed: 0": 70
             },
             {
              "Destination": 2038021,
              "Destination_Names": "Lilli Samsel",
              "Purchase_Count": 9,
              "Unnamed: 0": 203
             },
             {
              "Destination": 2037701,
              "Destination_Names": "Lola Lloyd",
              "Purchase_Count": 9,
              "Unnamed: 0": 145
             },
             {
              "Destination": 2037876,
              "Destination_Names": "Jamika Glines",
              "Purchase_Count": 9,
              "Unnamed: 0": 184
             },
             {
              "Destination": 2038049,
              "Destination_Names": "Jake Dececco",
              "Purchase_Count": 9,
              "Unnamed: 0": 60
             },
             {
              "Destination": 2038059,
              "Destination_Names": "Irwin Ellender",
              "Purchase_Count": 9,
              "Unnamed: 0": 125
             },
             {
              "Destination": 2038045,
              "Destination_Names": "Ashly Reischl",
              "Purchase_Count": 10,
              "Unnamed: 0": 92
             },
             {
              "Destination": 2038029,
              "Destination_Names": "Martine Hanlin",
              "Purchase_Count": 10,
              "Unnamed: 0": 48
             },
             {
              "Destination": 2037748,
              "Destination_Names": "Amy Malone",
              "Purchase_Count": 11,
              "Unnamed: 0": 55
             },
             {
              "Destination": 2038030,
              "Destination_Names": "Amelia Becker",
              "Purchase_Count": 11,
              "Unnamed: 0": 62
             },
             {
              "Destination": 2037952,
              "Destination_Names": "Willie Byrd",
              "Purchase_Count": 11,
              "Unnamed: 0": 154
             },
             {
              "Destination": 2038018,
              "Destination_Names": "Lynelle Skildum",
              "Purchase_Count": 12,
              "Unnamed: 0": 151
             },
             {
              "Destination": 2040390,
              "Destination_Names": "Alvaro Beers",
              "Purchase_Count": 12,
              "Unnamed: 0": 59
             },
             {
              "Destination": 2037872,
              "Destination_Names": "Sophia Blair",
              "Purchase_Count": 12,
              "Unnamed: 0": 38
             },
             {
              "Destination": 2038019,
              "Destination_Names": "Carolyn Howard",
              "Purchase_Count": 13,
              "Unnamed: 0": 108
             },
             {
              "Destination": 2037704,
              "Destination_Names": "Charlsie Lesa",
              "Purchase_Count": 13,
              "Unnamed: 0": 12
             },
             {
              "Destination": 2037927,
              "Destination_Names": "Blanche Mason",
              "Purchase_Count": 14,
              "Unnamed: 0": 79
             },
             {
              "Destination": 2040582,
              "Destination_Names": "Stephen Peterson",
              "Purchase_Count": 14,
              "Unnamed: 0": 78
             },
             {
              "Destination": 2038022,
              "Destination_Names": "Rocky Hassett",
              "Purchase_Count": 15,
              "Unnamed: 0": 100
             },
             {
              "Destination": 2038060,
              "Destination_Names": "Roberto Amphy",
              "Purchase_Count": 15,
              "Unnamed: 0": 130
             },
             {
              "Destination": 2038044,
              "Destination_Names": "Sidney Simien",
              "Purchase_Count": 15,
              "Unnamed: 0": 24
             },
             {
              "Destination": 2038164,
              "Destination_Names": "Kimbery Demmert",
              "Purchase_Count": 16,
              "Unnamed: 0": 193
             },
             {
              "Destination": 2037962,
              "Destination_Names": "Charmain Olenick",
              "Purchase_Count": 16,
              "Unnamed: 0": 57
             },
             {
              "Destination": 2038166,
              "Destination_Names": "Mattie Perez",
              "Purchase_Count": 17,
              "Unnamed: 0": 119
             },
             {
              "Destination": 2038025,
              "Destination_Names": "Miriam Franch",
              "Purchase_Count": 18,
              "Unnamed: 0": 52
             },
             {
              "Destination": 2038145,
              "Destination_Names": "Lola Haynes",
              "Purchase_Count": 19,
              "Unnamed: 0": 54
             },
             {
              "Destination": 2040585,
              "Destination_Names": "Rita Cassem",
              "Purchase_Count": 19,
              "Unnamed: 0": 23
             },
             {
              "Destination": 2038160,
              "Destination_Names": "Suzette Sienicki",
              "Purchase_Count": 20,
              "Unnamed: 0": 93
             },
             {
              "Destination": 2037835,
              "Destination_Names": "Benjamin Rimbach",
              "Purchase_Count": 22,
              "Unnamed: 0": 58
             },
             {
              "Destination": 2038137,
              "Destination_Names": "Magdalena Gehm",
              "Purchase_Count": 22,
              "Unnamed: 0": 212
             },
             {
              "Destination": 2037811,
              "Destination_Names": "Steven Nichols",
              "Purchase_Count": 22,
              "Unnamed: 0": 84
             },
             {
              "Destination": 2040597,
              "Destination_Names": "Dwayne Fyock",
              "Purchase_Count": 23,
              "Unnamed: 0": 85
             },
             {
              "Destination": 2040314,
              "Destination_Names": "Dora Resek",
              "Purchase_Count": 23,
              "Unnamed: 0": 43
             },
             {
              "Destination": 2040311,
              "Destination_Names": "Kirby Liter",
              "Purchase_Count": 23,
              "Unnamed: 0": 139
             },
             {
              "Destination": 2038170,
              "Destination_Names": "Karrie Tennent",
              "Purchase_Count": 24,
              "Unnamed: 0": 49
             },
             {
              "Destination": 2037912,
              "Destination_Names": "Winnie Byrd",
              "Purchase_Count": 25,
              "Unnamed: 0": 90
             },
             {
              "Destination": 2037896,
              "Destination_Names": "Catrice Reho",
              "Purchase_Count": 25,
              "Unnamed: 0": 25
             },
             {
              "Destination": 2037687,
              "Destination_Names": "Lessie Tutor",
              "Purchase_Count": 25,
              "Unnamed: 0": 88
             },
             {
              "Destination": 2038040,
              "Destination_Names": "Anastacia Henriques",
              "Purchase_Count": 25,
              "Unnamed: 0": 7
             },
             {
              "Destination": 2038041,
              "Destination_Names": "Chi Eichhorst",
              "Purchase_Count": 25,
              "Unnamed: 0": 40
             },
             {
              "Destination": 2038148,
              "Destination_Names": "Milly Kokesh",
              "Purchase_Count": 26,
              "Unnamed: 0": 50
             },
             {
              "Destination": 2040490,
              "Destination_Names": "Carli Agostino",
              "Purchase_Count": 27,
              "Unnamed: 0": 46
             },
             {
              "Destination": 2038147,
              "Destination_Names": "Brandon Carr",
              "Purchase_Count": 28,
              "Unnamed: 0": 34
             },
             {
              "Destination": 2038046,
              "Destination_Names": "Nerissa Ovalles",
              "Purchase_Count": 30,
              "Unnamed: 0": 97
             },
             {
              "Destination": 2037871,
              "Destination_Names": "Cynthia Knight",
              "Purchase_Count": 30,
              "Unnamed: 0": 138
             },
             {
              "Destination": 2040310,
              "Destination_Names": "Melvin Washington",
              "Purchase_Count": 31,
              "Unnamed: 0": 14
             },
             {
              "Destination": 2040578,
              "Destination_Names": "Forrest Murrah",
              "Purchase_Count": 33,
              "Unnamed: 0": 69
             },
             {
              "Destination": 2038015,
              "Destination_Names": "Maude Hammond",
              "Purchase_Count": 34,
              "Unnamed: 0": 10
             },
             {
              "Destination": 2037725,
              "Destination_Names": "Vanesa Chartier",
              "Purchase_Count": 35,
              "Unnamed: 0": 65
             },
             {
              "Destination": 2037934,
              "Destination_Names": "Galen Granelli",
              "Purchase_Count": 38,
              "Unnamed: 0": 127
             },
             {
              "Destination": 2038010,
              "Destination_Names": "Rochel Mirr",
              "Purchase_Count": 40,
              "Unnamed: 0": 76
             },
             {
              "Destination": 2038143,
              "Destination_Names": "Marguerite Rivera",
              "Purchase_Count": 41,
              "Unnamed: 0": 51
             },
             {
              "Destination": 2037816,
              "Destination_Names": "Mabel Gilbert",
              "Purchase_Count": 43,
              "Unnamed: 0": 63
             },
             {
              "Destination": 2038178,
              "Destination_Names": "Demetria Murff",
              "Purchase_Count": 51,
              "Unnamed: 0": 41
             },
             {
              "Destination": 2037758,
              "Destination_Names": "Christeen Gulliver",
              "Purchase_Count": 53,
              "Unnamed: 0": 115
             },
             {
              "Destination": 2038002,
              "Destination_Names": "Janette Laffoon",
              "Purchase_Count": 61,
              "Unnamed: 0": 74
             },
             {
              "Destination": 2037706,
              "Destination_Names": "Amal Horman",
              "Purchase_Count": 70,
              "Unnamed: 0": 11
             },
             {
              "Destination": 2037825,
              "Destination_Names": "Rodney Mason",
              "Purchase_Count": 75,
              "Unnamed: 0": 66
             },
             {
              "Destination": 2038008,
              "Destination_Names": "Cora Douglas",
              "Purchase_Count": 76,
              "Unnamed: 0": 36
             },
             {
              "Destination": 2038052,
              "Destination_Names": "Tom Langman",
              "Purchase_Count": 81,
              "Unnamed: 0": 26
             },
             {
              "Destination": 2037832,
              "Destination_Names": "Shaunte Wair",
              "Purchase_Count": 82,
              "Unnamed: 0": 22
             },
             {
              "Destination": 2037924,
              "Destination_Names": "Juli Grossmeyer",
              "Purchase_Count": 87,
              "Unnamed: 0": 21
             },
             {
              "Destination": 2038073,
              "Destination_Names": "Melvin Taliman",
              "Purchase_Count": 87,
              "Unnamed: 0": 13
             },
             {
              "Destination": 2038042,
              "Destination_Names": "Ardella Slifko",
              "Purchase_Count": 90,
              "Unnamed: 0": 29
             },
             {
              "Destination": 2037930,
              "Destination_Names": "Jenae Muldowney",
              "Purchase_Count": 118,
              "Unnamed: 0": 9
             },
             {
              "Destination": 2040484,
              "Destination_Names": "Dina Arrojo",
              "Purchase_Count": 130,
              "Unnamed: 0": 53
             },
             {
              "Destination": 2038076,
              "Destination_Names": "Cira Brookshire",
              "Purchase_Count": 133,
              "Unnamed: 0": 31
             },
             {
              "Destination": 2038176,
              "Destination_Names": "Corey Jefferson",
              "Purchase_Count": 179,
              "Unnamed: 0": 32
             },
             {
              "Destination": 2037699,
              "Destination_Names": "Lois Dixon",
              "Purchase_Count": 193,
              "Unnamed: 0": 19
             },
             {
              "Destination": 2037760,
              "Destination_Names": "Robert Wallace",
              "Purchase_Count": 210,
              "Unnamed: 0": 8
             },
             {
              "Destination": 2040623,
              "Destination_Names": "Micha Werries",
              "Purchase_Count": 210,
              "Unnamed: 0": 4
             },
             {
              "Destination": 2037754,
              "Destination_Names": "Celina Orellama",
              "Purchase_Count": 272,
              "Unnamed: 0": 28
             },
             {
              "Destination": 2037827,
              "Destination_Names": "Brittanie Spadlin",
              "Purchase_Count": 392,
              "Unnamed: 0": 37
             },
             {
              "Destination": 2037694,
              "Destination_Names": "Ernest Patterson",
              "Purchase_Count": 990,
              "Unnamed: 0": 6
             },
             {
              "Destination": 2037744,
              "Destination_Names": "Miesha Lettsome",
              "Purchase_Count": 1902,
              "Unnamed: 0": 2
             },
             {
              "Destination": 2040624,
              "Destination_Names": "Torri Devilliers",
              "Purchase_Count": 2385,
              "Unnamed: 0": 1
             },
             {
              "Destination": 2038155,
              "Destination_Names": "Brandon Bradley",
              "Purchase_Count": 2590,
              "Unnamed: 0": 3
             },
             {
              "Destination": 2040339,
              "Destination_Names": "Fairy Boratko",
              "Purchase_Count": 4798,
              "Unnamed: 0": 5
             }
            ]
           },
           "encoding": {
            "tooltip": {
             "field": "Destination_Names",
             "type": "nominal"
            },
            "x": {
             "field": "Purchase_Count",
             "type": "quantitative"
            },
            "y": {
             "field": "Purchase_Count",
             "type": "quantitative"
            }
           },
           "mark": "point",
           "selection": {
            "selector128": {
             "bind": "scales",
             "encodings": [
              "x",
              "y"
             ],
             "mark": {
              "fill": "#333",
              "fillOpacity": 0.125,
              "stroke": "white"
             },
             "on": "[mousedown, window:mouseup] > window:mousemove!",
             "resolve": "global",
             "translate": "[mousedown, window:mouseup] > window:mousemove!",
             "type": "interval",
             "zoom": "wheel!"
            }
           },
           "transform": [
            {
             "filter": {
              "selection": "selector118"
             }
            }
           ]
          }
         ]
        },
        {
         "data": {
          "values": [
           {
            "Destination": 2037791,
            "Destination_Names": "Brett Higgins",
            "Purchase_Count": 1,
            "Unnamed: 0": 458
           },
           {
            "Destination": 2037741,
            "Destination_Names": "Justin Harvey",
            "Purchase_Count": 1,
            "Unnamed: 0": 146
           },
           {
            "Destination": 2037815,
            "Destination_Names": "Winnie Klein",
            "Purchase_Count": 1,
            "Unnamed: 0": 147
           },
           {
            "Destination": 2037873,
            "Destination_Names": "Danielle Yu",
            "Purchase_Count": 1,
            "Unnamed: 0": 324
           },
           {
            "Destination": 2037947,
            "Destination_Names": "Belle Houston",
            "Purchase_Count": 1,
            "Unnamed: 0": 323
           },
           {
            "Destination": 2037944,
            "Destination_Names": "Diamond Olexa",
            "Purchase_Count": 1,
            "Unnamed: 0": 150
           },
           {
            "Destination": 2037874,
            "Destination_Names": "Dorotha Mosey",
            "Purchase_Count": 1,
            "Unnamed: 0": 320
           },
           {
            "Destination": 2037957,
            "Destination_Names": "Aisha Misner",
            "Purchase_Count": 1,
            "Unnamed: 0": 318
           },
           {
            "Destination": 2037960,
            "Destination_Names": "Andy Geyette",
            "Purchase_Count": 1,
            "Unnamed: 0": 317
           },
           {
            "Destination": 2037855,
            "Destination_Names": "Tonia Anawalt",
            "Purchase_Count": 1,
            "Unnamed: 0": 316
           },
           {
            "Destination": 2043367,
            "Destination_Names": "Kaitlyn Focke",
            "Purchase_Count": 1,
            "Unnamed: 0": 158
           },
           {
            "Destination": 2040308,
            "Destination_Names": "Sadie Elliott",
            "Purchase_Count": 1,
            "Unnamed: 0": 315
           },
           {
            "Destination": 2037928,
            "Destination_Names": "Caroline Stanley",
            "Purchase_Count": 1,
            "Unnamed: 0": 329
           },
           {
            "Destination": 2037979,
            "Destination_Names": "Loree Acero",
            "Purchase_Count": 1,
            "Unnamed: 0": 160
           },
           {
            "Destination": 2037977,
            "Destination_Names": "Lizzie Cross",
            "Purchase_Count": 1,
            "Unnamed: 0": 162
           },
           {
            "Destination": 2037886,
            "Destination_Names": "Juan Cabiltes",
            "Purchase_Count": 1,
            "Unnamed: 0": 163
           },
           {
            "Destination": 2037767,
            "Destination_Names": "Natalia Macomber",
            "Purchase_Count": 1,
            "Unnamed: 0": 313
           },
           {
            "Destination": 2037843,
            "Destination_Names": "Pamella Schroy",
            "Purchase_Count": 1,
            "Unnamed: 0": 312
           },
           {
            "Destination": 2037857,
            "Destination_Names": "Claude Chesterfield",
            "Purchase_Count": 1,
            "Unnamed: 0": 311
           },
           {
            "Destination": 2037841,
            "Destination_Names": "Elsie Potter",
            "Purchase_Count": 1,
            "Unnamed: 0": 310
           },
           {
            "Destination": 2037945,
            "Destination_Names": "Bernice Figueroa",
            "Purchase_Count": 1,
            "Unnamed: 0": 168
           },
           {
            "Destination": 2040993,
            "Destination_Names": "Mamie Wheeler",
            "Purchase_Count": 1,
            "Unnamed: 0": 307
           },
           {
            "Destination": 2037983,
            "Destination_Names": "Shannan Fesenbek",
            "Purchase_Count": 1,
            "Unnamed: 0": 171
           },
           {
            "Destination": 2037749,
            "Destination_Names": "Jewell Maiorano",
            "Purchase_Count": 1,
            "Unnamed: 0": 306
           },
           {
            "Destination": 2037711,
            "Destination_Names": "David Simon",
            "Purchase_Count": 1,
            "Unnamed: 0": 304
           },
           {
            "Destination": 2037881,
            "Destination_Names": "Hester Parsons",
            "Purchase_Count": 1,
            "Unnamed: 0": 314
           },
           {
            "Destination": 2041367,
            "Destination_Names": "Effie Freeman",
            "Purchase_Count": 1,
            "Unnamed: 0": 175
           },
           {
            "Destination": 2037923,
            "Destination_Names": "Minnie Hopkins",
            "Purchase_Count": 1,
            "Unnamed: 0": 331
           },
           {
            "Destination": 2040313,
            "Destination_Names": "Mac Berisha",
            "Purchase_Count": 1,
            "Unnamed: 0": 332
           },
           {
            "Destination": 2044046,
            "Destination_Names": "Jenee Pentecost",
            "Purchase_Count": 1,
            "Unnamed: 0": 113
           },
           {
            "Destination": 2037804,
            "Destination_Names": "Cody Mullins",
            "Purchase_Count": 1,
            "Unnamed: 0": 355
           },
           {
            "Destination": 2038124,
            "Destination_Names": "Bettie Vargas",
            "Purchase_Count": 1,
            "Unnamed: 0": 354
           },
           {
            "Destination": 2037762,
            "Destination_Names": "Laura Cox",
            "Purchase_Count": 1,
            "Unnamed: 0": 116
           },
           {
            "Destination": 2038058,
            "Destination_Names": "Shela Cordoza",
            "Purchase_Count": 1,
            "Unnamed: 0": 117
           },
           {
            "Destination": 2038181,
            "Destination_Names": "Ernestina Paskow",
            "Purchase_Count": 1,
            "Unnamed: 0": 353
           },
           {
            "Destination": 2037907,
            "Destination_Names": "Sherita Herkel",
            "Purchase_Count": 1,
            "Unnamed: 0": 351
           },
           {
            "Destination": 2038099,
            "Destination_Names": "Cristopher Oehlschlager",
            "Purchase_Count": 1,
            "Unnamed: 0": 349
           },
           {
            "Destination": 2037908,
            "Destination_Names": "Leila Wade",
            "Purchase_Count": 1,
            "Unnamed: 0": 348
           },
           {
            "Destination": 2043969,
            "Destination_Names": "Ricky Curry",
            "Purchase_Count": 1,
            "Unnamed: 0": 246
           },
           {
            "Destination": 2037909,
            "Destination_Names": "Regenia Macabeo",
            "Purchase_Count": 1,
            "Unnamed: 0": 345
           },
           {
            "Destination": 2038020,
            "Destination_Names": "Jane Alvarado",
            "Purchase_Count": 1,
            "Unnamed: 0": 141
           },
           {
            "Destination": 2037948,
            "Destination_Names": "Cortez Rapin",
            "Purchase_Count": 1,
            "Unnamed: 0": 344
           },
           {
            "Destination": 2037916,
            "Destination_Names": "Elizabeth Conner",
            "Purchase_Count": 1,
            "Unnamed: 0": 341
           },
           {
            "Destination": 2038136,
            "Destination_Names": "Bertha Beachell",
            "Purchase_Count": 1,
            "Unnamed: 0": 339
           },
           {
            "Destination": 2037778,
            "Destination_Names": "Willie Fowler",
            "Purchase_Count": 1,
            "Unnamed: 0": 338
           },
           {
            "Destination": 2037969,
            "Destination_Names": "Curtis Stone",
            "Purchase_Count": 1,
            "Unnamed: 0": 337
           },
           {
            "Destination": 2037756,
            "Destination_Names": "Daisy Briggs",
            "Purchase_Count": 1,
            "Unnamed: 0": 132
           },
           {
            "Destination": 2040595,
            "Destination_Names": "Armida Tatu",
            "Purchase_Count": 1,
            "Unnamed: 0": 133
           },
           {
            "Destination": 2037844,
            "Destination_Names": "Shelli Auther",
            "Purchase_Count": 1,
            "Unnamed: 0": 336
           },
           {
            "Destination": 2037893,
            "Destination_Names": "Chauncey Micco",
            "Purchase_Count": 1,
            "Unnamed: 0": 135
           },
           {
            "Destination": 2037898,
            "Destination_Names": "Adeline Walsh",
            "Purchase_Count": 1,
            "Unnamed: 0": 335
           },
           {
            "Destination": 2038006,
            "Destination_Names": "Leo Nelson",
            "Purchase_Count": 1,
            "Unnamed: 0": 137
           },
           {
            "Destination": 2037710,
            "Destination_Names": "Angelica Tankard",
            "Purchase_Count": 1,
            "Unnamed: 0": 334
           },
           {
            "Destination": 2037911,
            "Destination_Names": "Callie Roberson",
            "Purchase_Count": 1,
            "Unnamed: 0": 342
           },
           {
            "Destination": 2040551,
            "Destination_Names": "Samuel Herting",
            "Purchase_Count": 1,
            "Unnamed: 0": 112
           },
           {
            "Destination": 2037996,
            "Destination_Names": "Eugena Shikuma",
            "Purchase_Count": 1,
            "Unnamed: 0": 176
           },
           {
            "Destination": 2040345,
            "Destination_Names": "Marilynn Estergard",
            "Purchase_Count": 1,
            "Unnamed: 0": 178
           },
           {
            "Destination": 2038151,
            "Destination_Names": "Micheline Blagg",
            "Purchase_Count": 1,
            "Unnamed: 0": 273
           },
           {
            "Destination": 2037884,
            "Destination_Names": "Shanna Susko",
            "Purchase_Count": 1,
            "Unnamed: 0": 271
           },
           {
            "Destination": 2038009,
            "Destination_Names": "Johnathon Kotterna",
            "Purchase_Count": 1,
            "Unnamed: 0": 270
           },
           {
            "Destination": 2037779,
            "Destination_Names": "Carrie Carson",
            "Purchase_Count": 1,
            "Unnamed: 0": 269
           },
           {
            "Destination": 2037885,
            "Destination_Names": "Edwin Payne",
            "Purchase_Count": 1,
            "Unnamed: 0": 219
           },
           {
            "Destination": 2038080,
            "Destination_Names": "Ralph Summers",
            "Purchase_Count": 1,
            "Unnamed: 0": 268
           },
           {
            "Destination": 2037894,
            "Destination_Names": "Juana Newland",
            "Purchase_Count": 1,
            "Unnamed: 0": 221
           },
           {
            "Destination": 2037985,
            "Destination_Names": "Hilda Ballard",
            "Purchase_Count": 1,
            "Unnamed: 0": 266
           },
           {
            "Destination": 2038085,
            "Destination_Names": "Ann Nash",
            "Purchase_Count": 1,
            "Unnamed: 0": 223
           },
           {
            "Destination": 2037792,
            "Destination_Names": "Trula Artibee",
            "Purchase_Count": 1,
            "Unnamed: 0": 224
           },
           {
            "Destination": 2040586,
            "Destination_Names": "Randell Xyong",
            "Purchase_Count": 1,
            "Unnamed: 0": 225
           },
           {
            "Destination": 2038083,
            "Destination_Names": "Starla Grisham",
            "Purchase_Count": 1,
            "Unnamed: 0": 214
           },
           {
            "Destination": 2037982,
            "Destination_Names": "Jefferson Quintana",
            "Purchase_Count": 1,
            "Unnamed: 0": 265
           },
           {
            "Destination": 2037840,
            "Destination_Names": "Kyle Wade",
            "Purchase_Count": 1,
            "Unnamed: 0": 228
           },
           {
            "Destination": 2037899,
            "Destination_Names": "Carter Ingalsbe",
            "Purchase_Count": 1,
            "Unnamed: 0": 457
           },
           {
            "Destination": 2037973,
            "Destination_Names": "Jolyn Khauv",
            "Purchase_Count": 1,
            "Unnamed: 0": 261
           },
           {
            "Destination": 2037988,
            "Destination_Names": "Song Lamonte",
            "Purchase_Count": 1,
            "Unnamed: 0": 232
           },
           {
            "Destination": 2040315,
            "Destination_Names": "Chara Bahar",
            "Purchase_Count": 1,
            "Unnamed: 0": 234
           },
           {
            "Destination": 2037849,
            "Destination_Names": "Twyla Flahaven",
            "Purchase_Count": 1,
            "Unnamed: 0": 235
           },
           {
            "Destination": 2037738,
            "Destination_Names": "Leisha Lerwill",
            "Purchase_Count": 1,
            "Unnamed: 0": 237
           },
           {
            "Destination": 2037773,
            "Destination_Names": "Verna Pratt",
            "Purchase_Count": 1,
            "Unnamed: 0": 238
           },
           {
            "Destination": 2037739,
            "Destination_Names": "Ji Niffenegger",
            "Purchase_Count": 1,
            "Unnamed: 0": 258
           },
           {
            "Destination": 2037814,
            "Destination_Names": "Clay Thomes",
            "Purchase_Count": 1,
            "Unnamed: 0": 253
           },
           {
            "Destination": 2038128,
            "Destination_Names": "Johnie Suchla",
            "Purchase_Count": 1,
            "Unnamed: 0": 249
           },
           {
            "Destination": 2037959,
            "Destination_Names": "Myung Eddins",
            "Purchase_Count": 1,
            "Unnamed: 0": 264
           },
           {
            "Destination": 2037935,
            "Destination_Names": "Roger Hughes",
            "Purchase_Count": 1,
            "Unnamed: 0": 303
           },
           {
            "Destination": 2038004,
            "Destination_Names": "Sasha Lukman",
            "Purchase_Count": 1,
            "Unnamed: 0": 274
           },
           {
            "Destination": 2037799,
            "Destination_Names": "Joel Mason",
            "Purchase_Count": 1,
            "Unnamed: 0": 276
           },
           {
            "Destination": 2037714,
            "Destination_Names": "Kristal Kilborne",
            "Purchase_Count": 1,
            "Unnamed: 0": 179
           },
           {
            "Destination": 2038105,
            "Destination_Names": "Ina Elliott",
            "Purchase_Count": 1,
            "Unnamed: 0": 302
           },
           {
            "Destination": 2038167,
            "Destination_Names": "Elizabeth Ramsey",
            "Purchase_Count": 1,
            "Unnamed: 0": 301
           },
           {
            "Destination": 2037801,
            "Destination_Names": "Cordelia Fernandez",
            "Purchase_Count": 1,
            "Unnamed: 0": 299
           },
           {
            "Destination": 2038086,
            "Destination_Names": "Lyda Kelton",
            "Purchase_Count": 1,
            "Unnamed: 0": 298
           },
           {
            "Destination": 2038130,
            "Destination_Names": "Mackenzie Inzunza",
            "Purchase_Count": 1,
            "Unnamed: 0": 185
           },
           {
            "Destination": 2037709,
            "Destination_Names": "Chance Jorda",
            "Purchase_Count": 1,
            "Unnamed: 0": 187
           },
           {
            "Destination": 2037966,
            "Destination_Names": "Thomas Nunez",
            "Purchase_Count": 1,
            "Unnamed: 0": 295
           },
           {
            "Destination": 2037913,
            "Destination_Names": "Edna Santos",
            "Purchase_Count": 1,
            "Unnamed: 0": 294
           },
           {
            "Destination": 2038095,
            "Destination_Names": "Sara Hill",
            "Purchase_Count": 1,
            "Unnamed: 0": 293
           },
           {
            "Destination": 2037846,
            "Destination_Names": "Dione Mettlen",
            "Purchase_Count": 1,
            "Unnamed: 0": 290
           },
           {
            "Destination": 2037715,
            "Destination_Names": "Demetrice Emmerling",
            "Purchase_Count": 1,
            "Unnamed: 0": 275
           },
           {
            "Destination": 2037834,
            "Destination_Names": "Richard Howell",
            "Purchase_Count": 1,
            "Unnamed: 0": 289
           },
           {
            "Destination": 2037753,
            "Destination_Names": "Melvin Suchanek",
            "Purchase_Count": 1,
            "Unnamed: 0": 196
           },
           {
            "Destination": 2037974,
            "Destination_Names": "Emiko Dyreson",
            "Purchase_Count": 1,
            "Unnamed: 0": 198
           },
           {
            "Destination": 2038110,
            "Destination_Names": "Lavone Manglona",
            "Purchase_Count": 1,
            "Unnamed: 0": 284
           },
           {
            "Destination": 2037719,
            "Destination_Names": "Katheleen Bergsten",
            "Purchase_Count": 1,
            "Unnamed: 0": 201
           },
           {
            "Destination": 2037752,
            "Destination_Names": "Stacey Simmonds",
            "Purchase_Count": 1,
            "Unnamed: 0": 279
           },
           {
            "Destination": 2040593,
            "Destination_Names": "Elayne Purwin",
            "Purchase_Count": 1,
            "Unnamed: 0": 278
           },
           {
            "Destination": 2037867,
            "Destination_Names": "Malcolm Laforte",
            "Purchase_Count": 1,
            "Unnamed: 0": 205
           },
           {
            "Destination": 2037722,
            "Destination_Names": "Lura Sandovar",
            "Purchase_Count": 1,
            "Unnamed: 0": 206
           },
           {
            "Destination": 2044028,
            "Destination_Names": "Violet Lewis",
            "Purchase_Count": 1,
            "Unnamed: 0": 207
           },
           {
            "Destination": 2038132,
            "Destination_Names": "Deneen Chaudoin",
            "Purchase_Count": 1,
            "Unnamed: 0": 208
           },
           {
            "Destination": 2037809,
            "Destination_Names": "Marylou Strausz",
            "Purchase_Count": 1,
            "Unnamed: 0": 209
           },
           {
            "Destination": 2038064,
            "Destination_Names": "Grace Owen",
            "Purchase_Count": 1,
            "Unnamed: 0": 286
           },
           {
            "Destination": 2040391,
            "Destination_Names": "Cecila Hendee",
            "Purchase_Count": 1,
            "Unnamed: 0": 111
           },
           {
            "Destination": 2040382,
            "Destination_Names": "Estelle Reyes",
            "Purchase_Count": 1,
            "Unnamed: 0": 347
           },
           {
            "Destination": 2037906,
            "Destination_Names": "Trena Gagen",
            "Purchase_Count": 1,
            "Unnamed: 0": 356
           },
           {
            "Destination": 2050630,
            "Destination_Names": "Peter Richardson",
            "Purchase_Count": 1,
            "Unnamed: 0": 427
           },
           {
            "Destination": 2038082,
            "Destination_Names": "Sophia Salazar",
            "Purchase_Count": 1,
            "Unnamed: 0": 426
           },
           {
            "Destination": 2037737,
            "Destination_Names": "Edith Carroll",
            "Purchase_Count": 1,
            "Unnamed: 0": 425
           },
           {
            "Destination": 2038034,
            "Destination_Names": "Martina Krane",
            "Purchase_Count": 1,
            "Unnamed: 0": 35
           },
           {
            "Destination": 2037802,
            "Destination_Names": "Suanne Legrande",
            "Purchase_Count": 1,
            "Unnamed: 0": 424
           },
           {
            "Destination": 2038088,
            "Destination_Names": "Ty Straughter",
            "Purchase_Count": 1,
            "Unnamed: 0": 422
           },
           {
            "Destination": 2037833,
            "Destination_Names": "Marianela Chinskey",
            "Purchase_Count": 1,
            "Unnamed: 0": 421
           },
           {
            "Destination": 2037854,
            "Destination_Names": "Phillip Hunt",
            "Purchase_Count": 1,
            "Unnamed: 0": 420
           },
           {
            "Destination": 2037772,
            "Destination_Names": "Francisco Rothschild",
            "Purchase_Count": 1,
            "Unnamed: 0": 419
           },
           {
            "Destination": 2037702,
            "Destination_Names": "Joel Olson",
            "Purchase_Count": 1,
            "Unnamed: 0": 418
           },
           {
            "Destination": 2037926,
            "Destination_Names": "Mariette Poynor",
            "Purchase_Count": 1,
            "Unnamed: 0": 417
           },
           {
            "Destination": 2050522,
            "Destination_Names": "Alma Borok",
            "Purchase_Count": 1,
            "Unnamed: 0": 428
           },
           {
            "Destination": 2038087,
            "Destination_Names": "Christina Stevenson",
            "Purchase_Count": 1,
            "Unnamed: 0": 44
           },
           {
            "Destination": 2038158,
            "Destination_Names": "Clair Lotz",
            "Purchase_Count": 1,
            "Unnamed: 0": 416
           },
           {
            "Destination": 2037746,
            "Destination_Names": "Nicholas Newton",
            "Purchase_Count": 1,
            "Unnamed: 0": 413
           },
           {
            "Destination": 2037818,
            "Destination_Names": "Leah Erickson",
            "Purchase_Count": 1,
            "Unnamed: 0": 412
           },
           {
            "Destination": 2037757,
            "Destination_Names": "Mason Schutzman",
            "Purchase_Count": 1,
            "Unnamed: 0": 411
           },
           {
            "Destination": 2037858,
            "Destination_Names": "Leonard Douglas",
            "Purchase_Count": 1,
            "Unnamed: 0": 410
           },
           {
            "Destination": 2038027,
            "Destination_Names": "Inga Ozimek",
            "Purchase_Count": 1,
            "Unnamed: 0": 110
           },
           {
            "Destination": 2037963,
            "Destination_Names": "William Peterson",
            "Purchase_Count": 1,
            "Unnamed: 0": 408
           },
           {
            "Destination": 2037991,
            "Destination_Names": "Lavonna Feasel",
            "Purchase_Count": 1,
            "Unnamed: 0": 56
           },
           {
            "Destination": 2037707,
            "Destination_Names": "Miguel Thornton",
            "Purchase_Count": 1,
            "Unnamed: 0": 405
           },
           {
            "Destination": 2038121,
            "Destination_Names": "Columbus Bouillion",
            "Purchase_Count": 1,
            "Unnamed: 0": 404
           },
           {
            "Destination": 2038174,
            "Destination_Names": "Jules Awalt",
            "Purchase_Count": 1,
            "Unnamed: 0": 403
           },
           {
            "Destination": 2041817,
            "Destination_Names": "Katie Owen",
            "Purchase_Count": 1,
            "Unnamed: 0": 45
           },
           {
            "Destination": 2037819,
            "Destination_Names": "Lavina Rocha",
            "Purchase_Count": 1,
            "Unnamed: 0": 429
           },
           {
            "Destination": 2038129,
            "Destination_Names": "Marion Schwartz",
            "Purchase_Count": 1,
            "Unnamed: 0": 430
           },
           {
            "Destination": 2040583,
            "Destination_Names": "Houston Poulton",
            "Purchase_Count": 1,
            "Unnamed: 0": 431
           },
           {
            "Destination": 2037839,
            "Destination_Names": "Maria Robinson",
            "Purchase_Count": 1,
            "Unnamed: 0": 456
           },
           {
            "Destination": 2037897,
            "Destination_Names": "Rena Wilson",
            "Purchase_Count": 1,
            "Unnamed: 0": 455
           },
           {
            "Destination": 2038184,
            "Destination_Names": "Lelia Rogel",
            "Purchase_Count": 1,
            "Unnamed: 0": 454
           },
           {
            "Destination": 2037937,
            "Destination_Names": "Micheal Kapral",
            "Purchase_Count": 1,
            "Unnamed: 0": 453
           },
           {
            "Destination": 2040468,
            "Destination_Names": "Matthew Howell",
            "Purchase_Count": 1,
            "Unnamed: 0": 452
           },
           {
            "Destination": 2037919,
            "Destination_Names": "Cecelia Marsh",
            "Purchase_Count": 1,
            "Unnamed: 0": 451
           },
           {
            "Destination": 2043997,
            "Destination_Names": "Josephine Reed",
            "Purchase_Count": 1,
            "Unnamed: 0": 450
           },
           {
            "Destination": 2043981,
            "Destination_Names": "Thora Beltrami",
            "Purchase_Count": 1,
            "Unnamed: 0": 449
           },
           {
            "Destination": 2038150,
            "Destination_Names": "Susie Daniels",
            "Purchase_Count": 1,
            "Unnamed: 0": 448
           },
           {
            "Destination": 2038055,
            "Destination_Names": "Harvey Frazier",
            "Purchase_Count": 1,
            "Unnamed: 0": 446
           },
           {
            "Destination": 2041810,
            "Destination_Names": "Lucille Morales",
            "Purchase_Count": 1,
            "Unnamed: 0": 445
           },
           {
            "Destination": 2037950,
            "Destination_Names": "Lillian Kennedy",
            "Purchase_Count": 1,
            "Unnamed: 0": 444
           },
           {
            "Destination": 2037918,
            "Destination_Names": "Ruby Davidson",
            "Purchase_Count": 1,
            "Unnamed: 0": 443
           },
           {
            "Destination": 2038047,
            "Destination_Names": "Man Maxedon",
            "Purchase_Count": 1,
            "Unnamed: 0": 15
           },
           {
            "Destination": 2038134,
            "Destination_Names": "Kendra Stash",
            "Purchase_Count": 1,
            "Unnamed: 0": 442
           },
           {
            "Destination": 2038125,
            "Destination_Names": "Jung Caselli",
            "Purchase_Count": 1,
            "Unnamed: 0": 441
           },
           {
            "Destination": 2037837,
            "Destination_Names": "Geri Nager",
            "Purchase_Count": 1,
            "Unnamed: 0": 440
           },
           {
            "Destination": 2037733,
            "Destination_Names": "Ellis Gabeline",
            "Purchase_Count": 1,
            "Unnamed: 0": 439
           },
           {
            "Destination": 2038003,
            "Destination_Names": "Jenice Savaria",
            "Purchase_Count": 1,
            "Unnamed: 0": 438
           },
           {
            "Destination": 2037736,
            "Destination_Names": "Ashlee Schur",
            "Purchase_Count": 1,
            "Unnamed: 0": 437
           },
           {
            "Destination": 2040626,
            "Destination_Names": "Travis Conner",
            "Purchase_Count": 1,
            "Unnamed: 0": 436
           },
           {
            "Destination": 2037734,
            "Destination_Names": "Pam Perrott",
            "Purchase_Count": 1,
            "Unnamed: 0": 434
           },
           {
            "Destination": 2037685,
            "Destination_Names": "Wanda Reddinger",
            "Purchase_Count": 1,
            "Unnamed: 0": 433
           },
           {
            "Destination": 2037848,
            "Destination_Names": "Ina Obrien",
            "Purchase_Count": 1,
            "Unnamed: 0": 432
           },
           {
            "Destination": 2037853,
            "Destination_Names": "Ollie Rivera",
            "Purchase_Count": 1,
            "Unnamed: 0": 27
           },
           {
            "Destination": 2038179,
            "Destination_Names": "Bettie Steele",
            "Purchase_Count": 1,
            "Unnamed: 0": 402
           },
           {
            "Destination": 2037892,
            "Destination_Names": "Jeanette Malone",
            "Purchase_Count": 1,
            "Unnamed: 0": 401
           },
           {
            "Destination": 2038096,
            "Destination_Names": "Lavenia Daddona",
            "Purchase_Count": 1,
            "Unnamed: 0": 247
           },
           {
            "Destination": 2038101,
            "Destination_Names": "Jordan Elliott",
            "Purchase_Count": 1,
            "Unnamed: 0": 380
           },
           {
            "Destination": 2037902,
            "Destination_Names": "Rory Ockmond",
            "Purchase_Count": 1,
            "Unnamed: 0": 367
           },
           {
            "Destination": 2037845,
            "Destination_Names": "Pinkie Vanandel",
            "Purchase_Count": 1,
            "Unnamed: 0": 385
           },
           {
            "Destination": 2038077,
            "Destination_Names": "Reta Klimkowicz",
            "Purchase_Count": 1,
            "Unnamed: 0": 384
           },
           {
            "Destination": 2040317,
            "Destination_Names": "Cassaundra Arthun",
            "Purchase_Count": 1,
            "Unnamed: 0": 363
           },
           {
            "Destination": 2037693,
            "Destination_Names": "Leila Bishop",
            "Purchase_Count": 1,
            "Unnamed: 0": 383
           },
           {
            "Destination": 2038056,
            "Destination_Names": "Elinor Heckerman",
            "Purchase_Count": 1,
            "Unnamed: 0": 382
           },
           {
            "Destination": 2038090,
            "Destination_Names": "Lurlene Cherian",
            "Purchase_Count": 1,
            "Unnamed: 0": 381
           },
           {
            "Destination": 2037971,
            "Destination_Names": "Lucille Wise",
            "Purchase_Count": 1,
            "Unnamed: 0": 400
           },
           {
            "Destination": 2037692,
            "Destination_Names": "Elida Talarico",
            "Purchase_Count": 1,
            "Unnamed: 0": 364
           },
           {
            "Destination": 2038119,
            "Destination_Names": "Hulda Owen",
            "Purchase_Count": 1,
            "Unnamed: 0": 365
           },
           {
            "Destination": 2037891,
            "Destination_Names": "Grace Farmer",
            "Purchase_Count": 1,
            "Unnamed: 0": 386
           },
           {
            "Destination": 2041373,
            "Destination_Names": "Valeria Batrum",
            "Purchase_Count": 1,
            "Unnamed: 0": 379
           },
           {
            "Destination": 2037993,
            "Destination_Names": "Armand Adside",
            "Purchase_Count": 1,
            "Unnamed: 0": 376
           },
           {
            "Destination": 2038033,
            "Destination_Names": "Marion Leonard",
            "Purchase_Count": 1,
            "Unnamed: 0": 375
           },
           {
            "Destination": 2037869,
            "Destination_Names": "Ivelisse Butkovich",
            "Purchase_Count": 1,
            "Unnamed: 0": 374
           },
           {
            "Destination": 2037917,
            "Destination_Names": "Luke Gross",
            "Purchase_Count": 1,
            "Unnamed: 0": 373
           },
           {
            "Destination": 2037931,
            "Destination_Names": "Somer Lofthouse",
            "Purchase_Count": 1,
            "Unnamed: 0": 372
           },
           {
            "Destination": 2037747,
            "Destination_Names": "Lou Klimaszewski",
            "Purchase_Count": 1,
            "Unnamed: 0": 371
           },
           {
            "Destination": 2037803,
            "Destination_Names": "Minh Orcutt",
            "Purchase_Count": 1,
            "Unnamed: 0": 370
           },
           {
            "Destination": 2037786,
            "Destination_Names": "Ann Kingshott",
            "Purchase_Count": 1,
            "Unnamed: 0": 94
           },
           {
            "Destination": 2037976,
            "Destination_Names": "Loise Gladhill",
            "Purchase_Count": 1,
            "Unnamed: 0": 369
           },
           {
            "Destination": 2037956,
            "Destination_Names": "Jon Obrien",
            "Purchase_Count": 1,
            "Unnamed: 0": 368
           },
           {
            "Destination": 2040572,
            "Destination_Names": "Eddy Faerber",
            "Purchase_Count": 1,
            "Unnamed: 0": 378
           },
           {
            "Destination": 2037910,
            "Destination_Names": "Nina Carr",
            "Purchase_Count": 1,
            "Unnamed: 0": 387
           },
           {
            "Destination": 2038165,
            "Destination_Names": "Candice Runge",
            "Purchase_Count": 1,
            "Unnamed: 0": 361
           },
           {
            "Destination": 2037863,
            "Destination_Names": "Tony Roberts",
            "Purchase_Count": 1,
            "Unnamed: 0": 392
           },
           {
            "Destination": 2037842,
            "Destination_Names": "Cody Thomas",
            "Purchase_Count": 1,
            "Unnamed: 0": 399
           },
           {
            "Destination": 2038023,
            "Destination_Names": "Mayme Moreno",
            "Purchase_Count": 1,
            "Unnamed: 0": 64
           },
           {
            "Destination": 2038068,
            "Destination_Names": "Santana Horak",
            "Purchase_Count": 1,
            "Unnamed: 0": 398
           },
           {
            "Destination": 2037882,
            "Destination_Names": "Rosa Cobb",
            "Purchase_Count": 1,
            "Unnamed: 0": 397
           },
           {
            "Destination": 2043386,
            "Destination_Names": "Jina Seiders",
            "Purchase_Count": 1,
            "Unnamed: 0": 67
           },
           {
            "Destination": 2043976,
            "Destination_Names": "Randy Berry",
            "Purchase_Count": 1,
            "Unnamed: 0": 396
           },
           {
            "Destination": 2037888,
            "Destination_Names": "Pearl Bell",
            "Purchase_Count": 1,
            "Unnamed: 0": 395
           },
           {
            "Destination": 2038117,
            "Destination_Names": "Ann Harvey",
            "Purchase_Count": 1,
            "Unnamed: 0": 394
           },
           {
            "Destination": 2037789,
            "Destination_Names": "Bailey Shoddie",
            "Purchase_Count": 1,
            "Unnamed: 0": 393
           },
           {
            "Destination": 2040609,
            "Destination_Names": "Monty Ashmen",
            "Purchase_Count": 1,
            "Unnamed: 0": 103
           },
           {
            "Destination": 2037866,
            "Destination_Names": "Opal Mock",
            "Purchase_Count": 1,
            "Unnamed: 0": 391
           },
           {
            "Destination": 2037852,
            "Destination_Names": "Ophelia Butler",
            "Purchase_Count": 1,
            "Unnamed: 0": 366
           },
           {
            "Destination": 2037914,
            "Destination_Names": "Myrtle Lawrence",
            "Purchase_Count": 1,
            "Unnamed: 0": 388
           },
           {
            "Destination": 2037743,
            "Destination_Names": "Shanice Nakahara",
            "Purchase_Count": 1,
            "Unnamed: 0": 390
           },
           {
            "Destination": 2040438,
            "Destination_Names": "Liberty Nuzum",
            "Purchase_Count": 1,
            "Unnamed: 0": 360
           },
           {
            "Destination": 2037904,
            "Destination_Names": "Yong Leyra",
            "Purchase_Count": 1,
            "Unnamed: 0": 359
           },
           {
            "Destination": 2037986,
            "Destination_Names": "Dora Atkins",
            "Purchase_Count": 1,
            "Unnamed: 0": 106
           },
           {
            "Destination": 2043973,
            "Destination_Names": "Whitney Rissman",
            "Purchase_Count": 1,
            "Unnamed: 0": 389
           },
           {
            "Destination": 2037905,
            "Destination_Names": "Melva Vassell",
            "Purchase_Count": 1,
            "Unnamed: 0": 358
           },
           {
            "Destination": 2038028,
            "Destination_Names": "Neville Roya",
            "Purchase_Count": 2,
            "Unnamed: 0": 252
           },
           {
            "Destination": 2038057,
            "Destination_Names": "Oliver Leuthe",
            "Purchase_Count": 2,
            "Unnamed: 0": 357
           },
           {
            "Destination": 2037865,
            "Destination_Names": "Evelia Duer",
            "Purchase_Count": 2,
            "Unnamed: 0": 260
           },
           {
            "Destination": 2037970,
            "Destination_Names": "Brenton Trucker",
            "Purchase_Count": 2,
            "Unnamed: 0": 346
           },
           {
            "Destination": 2038102,
            "Destination_Names": "Louis Ottman",
            "Purchase_Count": 2,
            "Unnamed: 0": 250
           },
           {
            "Destination": 2038172,
            "Destination_Names": "Duane Sylva",
            "Purchase_Count": 2,
            "Unnamed: 0": 251
           },
           {
            "Destination": 2038171,
            "Destination_Names": "Troy Morton",
            "Purchase_Count": 2,
            "Unnamed: 0": 262
           },
           {
            "Destination": 2038031,
            "Destination_Names": "Kia Halonen",
            "Purchase_Count": 2,
            "Unnamed: 0": 447
           },
           {
            "Destination": 2041379,
            "Destination_Names": "Jeremy Cravalho",
            "Purchase_Count": 2,
            "Unnamed: 0": 254
           },
           {
            "Destination": 2037901,
            "Destination_Names": "Tony Daffron",
            "Purchase_Count": 2,
            "Unnamed: 0": 350
           },
           {
            "Destination": 2038175,
            "Destination_Names": "Noelle Amarante",
            "Purchase_Count": 2,
            "Unnamed: 0": 259
           },
           {
            "Destination": 2038043,
            "Destination_Names": "Nestor Olguin",
            "Purchase_Count": 2,
            "Unnamed: 0": 308
           },
           {
            "Destination": 2037965,
            "Destination_Names": "Viki Shoulders",
            "Purchase_Count": 2,
            "Unnamed: 0": 277
           },
           {
            "Destination": 2037793,
            "Destination_Names": "Merry Blevans",
            "Purchase_Count": 2,
            "Unnamed: 0": 305
           },
           {
            "Destination": 2040631,
            "Destination_Names": "Jorge Burns",
            "Purchase_Count": 2,
            "Unnamed: 0": 406
           },
           {
            "Destination": 2037720,
            "Destination_Names": "Neal Blazon",
            "Purchase_Count": 2,
            "Unnamed: 0": 407
           },
           {
            "Destination": 2037696,
            "Destination_Names": "Cinthia Plante",
            "Purchase_Count": 2,
            "Unnamed: 0": 297
           },
           {
            "Destination": 2037735,
            "Destination_Names": "Genia Newmyer",
            "Purchase_Count": 2,
            "Unnamed: 0": 415
           },
           {
            "Destination": 2037936,
            "Destination_Names": "Vicky Goy",
            "Purchase_Count": 2,
            "Unnamed: 0": 296
           },
           {
            "Destination": 2037828,
            "Destination_Names": "Bennett Hess",
            "Purchase_Count": 2,
            "Unnamed: 0": 319
           },
           {
            "Destination": 2038048,
            "Destination_Names": "Jeanice Friar",
            "Purchase_Count": 2,
            "Unnamed: 0": 321
           },
           {
            "Destination": 2038108,
            "Destination_Names": "Conrad Mira",
            "Purchase_Count": 2,
            "Unnamed: 0": 435
           },
           {
            "Destination": 2038089,
            "Destination_Names": "Jason Jimenez",
            "Purchase_Count": 2,
            "Unnamed: 0": 322
           },
           {
            "Destination": 2040592,
            "Destination_Names": "Adam Ruiz",
            "Purchase_Count": 2,
            "Unnamed: 0": 287
           },
           {
            "Destination": 2038156,
            "Destination_Names": "Merry Diodonet",
            "Purchase_Count": 2,
            "Unnamed: 0": 285
           },
           {
            "Destination": 2037860,
            "Destination_Names": "Carlos Morris",
            "Purchase_Count": 2,
            "Unnamed: 0": 423
           },
           {
            "Destination": 2040601,
            "Destination_Names": "Jorge Patrick",
            "Purchase_Count": 2,
            "Unnamed: 0": 283
           },
           {
            "Destination": 2037836,
            "Destination_Names": "Ossie Barbeau",
            "Purchase_Count": 2,
            "Unnamed: 0": 282
           },
           {
            "Destination": 2037797,
            "Destination_Names": "Rolande Hargreaves",
            "Purchase_Count": 2,
            "Unnamed: 0": 325
           },
           {
            "Destination": 2038091,
            "Destination_Names": "Odell Surrey",
            "Purchase_Count": 2,
            "Unnamed: 0": 326
           },
           {
            "Destination": 2037922,
            "Destination_Names": "Tawny Rapko",
            "Purchase_Count": 2,
            "Unnamed: 0": 333
           },
           {
            "Destination": 2037718,
            "Destination_Names": "Aaron Cilva",
            "Purchase_Count": 2,
            "Unnamed: 0": 288
           },
           {
            "Destination": 2037759,
            "Destination_Names": "Clotilde Kinstle",
            "Purchase_Count": 2,
            "Unnamed: 0": 409
           },
           {
            "Destination": 2038011,
            "Destination_Names": "Letty Pontiff",
            "Purchase_Count": 2,
            "Unnamed: 0": 229
           },
           {
            "Destination": 2038097,
            "Destination_Names": "Hannelore Javarone",
            "Purchase_Count": 2,
            "Unnamed: 0": 248
           },
           {
            "Destination": 2038054,
            "Destination_Names": "Dennise Kinkella",
            "Purchase_Count": 2,
            "Unnamed: 0": 114
           },
           {
            "Destination": 2037992,
            "Destination_Names": "Darci Rodrigus",
            "Purchase_Count": 2,
            "Unnamed: 0": 165
           },
           {
            "Destination": 2040590,
            "Destination_Names": "Duane Harper",
            "Purchase_Count": 2,
            "Unnamed: 0": 202
           },
           {
            "Destination": 2037972,
            "Destination_Names": "Keli Kehn",
            "Purchase_Count": 2,
            "Unnamed: 0": 124
           },
           {
            "Destination": 2037856,
            "Destination_Names": "Elizebeth Berliew",
            "Purchase_Count": 2,
            "Unnamed: 0": 197
           },
           {
            "Destination": 2038024,
            "Destination_Names": "Carl Coxon",
            "Purchase_Count": 2,
            "Unnamed: 0": 128
           },
           {
            "Destination": 2037740,
            "Destination_Names": "Malik Rolland",
            "Purchase_Count": 2,
            "Unnamed: 0": 129
           },
           {
            "Destination": 2037770,
            "Destination_Names": "Grazyna Hustead",
            "Purchase_Count": 2,
            "Unnamed: 0": 131
           },
           {
            "Destination": 2037968,
            "Destination_Names": "Jame Wytch",
            "Purchase_Count": 2,
            "Unnamed: 0": 136
           },
           {
            "Destination": 2040392,
            "Destination_Names": "Kerry Jinkerson",
            "Purchase_Count": 2,
            "Unnamed: 0": 140
           },
           {
            "Destination": 2038173,
            "Destination_Names": "Alma Murray",
            "Purchase_Count": 2,
            "Unnamed: 0": 189
           },
           {
            "Destination": 2037933,
            "Destination_Names": "Louise Stevens",
            "Purchase_Count": 2,
            "Unnamed: 0": 210
           },
           {
            "Destination": 2037850,
            "Destination_Names": "Cora Hart",
            "Purchase_Count": 2,
            "Unnamed: 0": 186
           },
           {
            "Destination": 2040577,
            "Destination_Names": "Jeremiah Farmer",
            "Purchase_Count": 2,
            "Unnamed: 0": 182
           },
           {
            "Destination": 2037823,
            "Destination_Names": "Kerry Menousek",
            "Purchase_Count": 2,
            "Unnamed: 0": 155
           },
           {
            "Destination": 2037717,
            "Destination_Names": "Clara Singleton",
            "Purchase_Count": 2,
            "Unnamed: 0": 157
           },
           {
            "Destination": 2037861,
            "Destination_Names": "Jewell Dronet",
            "Purchase_Count": 2,
            "Unnamed: 0": 180
           },
           {
            "Destination": 2040557,
            "Destination_Names": "Alexander Sanchez",
            "Purchase_Count": 2,
            "Unnamed: 0": 177
           },
           {
            "Destination": 2037987,
            "Destination_Names": "Brunilda Colesar",
            "Purchase_Count": 2,
            "Unnamed: 0": 159
           },
           {
            "Destination": 2037794,
            "Destination_Names": "Erinn Anewalt",
            "Purchase_Count": 2,
            "Unnamed: 0": 173
           },
           {
            "Destination": 2038071,
            "Destination_Names": "Renee Knightstep",
            "Purchase_Count": 2,
            "Unnamed: 0": 172
           },
           {
            "Destination": 2037999,
            "Destination_Names": "Fannie Andrews",
            "Purchase_Count": 2,
            "Unnamed: 0": 161
           },
           {
            "Destination": 2037984,
            "Destination_Names": "Owen Ortega",
            "Purchase_Count": 2,
            "Unnamed: 0": 169
           },
           {
            "Destination": 2037997,
            "Destination_Names": "Edgar Lawson",
            "Purchase_Count": 2,
            "Unnamed: 0": 164
           },
           {
            "Destination": 2047240,
            "Destination_Names": "Duane Owens",
            "Purchase_Count": 2,
            "Unnamed: 0": 149
           },
           {
            "Destination": 2037780,
            "Destination_Names": "Maggie Manning",
            "Purchase_Count": 2,
            "Unnamed: 0": 105
           },
           {
            "Destination": 2037697,
            "Destination_Names": "Mary Brewer",
            "Purchase_Count": 2,
            "Unnamed: 0": 166
           },
           {
            "Destination": 2041386,
            "Destination_Names": "Carry Daryanl",
            "Purchase_Count": 2,
            "Unnamed: 0": 98
           },
           {
            "Destination": 2037798,
            "Destination_Names": "Carroll Hyrkas",
            "Purchase_Count": 2,
            "Unnamed: 0": 236
           },
           {
            "Destination": 2037880,
            "Destination_Names": "Emilio Cokel",
            "Purchase_Count": 2,
            "Unnamed: 0": 239
           },
           {
            "Destination": 2038111,
            "Destination_Names": "Lai Okelberry",
            "Purchase_Count": 2,
            "Unnamed: 0": 61
           },
           {
            "Destination": 2037967,
            "Destination_Names": "Charley Offermann",
            "Purchase_Count": 2,
            "Unnamed: 0": 81
           },
           {
            "Destination": 2038063,
            "Destination_Names": "Carmen Ting",
            "Purchase_Count": 2,
            "Unnamed: 0": 226
           },
           {
            "Destination": 2037761,
            "Destination_Names": "Anna Morren",
            "Purchase_Count": 2,
            "Unnamed: 0": 83
           },
           {
            "Destination": 2040594,
            "Destination_Names": "Christian Zierenberg",
            "Purchase_Count": 2,
            "Unnamed: 0": 233
           },
           {
            "Destination": 2040344,
            "Destination_Names": "Connor Fernandez",
            "Purchase_Count": 2,
            "Unnamed: 0": 220
           },
           {
            "Destination": 2037695,
            "Destination_Names": "Chasidy Clampitt",
            "Purchase_Count": 2,
            "Unnamed: 0": 68
           },
           {
            "Destination": 2037938,
            "Destination_Names": "Major Stokey",
            "Purchase_Count": 2,
            "Unnamed: 0": 87
           },
           {
            "Destination": 2038061,
            "Destination_Names": "Virginia Wheeler",
            "Purchase_Count": 2,
            "Unnamed: 0": 89
           },
           {
            "Destination": 2038012,
            "Destination_Names": "Perla Matney",
            "Purchase_Count": 2,
            "Unnamed: 0": 17
           },
           {
            "Destination": 2038053,
            "Destination_Names": "Kenneth Little",
            "Purchase_Count": 2,
            "Unnamed: 0": 95
           },
           {
            "Destination": 2038126,
            "Destination_Names": "Sudie Hulslander",
            "Purchase_Count": 2,
            "Unnamed: 0": 215
           },
           {
            "Destination": 2040312,
            "Destination_Names": "Eleonore Mikelsen",
            "Purchase_Count": 2,
            "Unnamed: 0": 244
           },
           {
            "Destination": 2038159,
            "Destination_Names": "Albert Doshier",
            "Purchase_Count": 2,
            "Unnamed: 0": 241
           },
           {
            "Destination": 2038014,
            "Destination_Names": "Wesley Andaverde",
            "Purchase_Count": 3,
            "Unnamed: 0": 39
           },
           {
            "Destination": 2038032,
            "Destination_Names": "Priscila Gooch",
            "Purchase_Count": 3,
            "Unnamed: 0": 30
           },
           {
            "Destination": 2037766,
            "Destination_Names": "Gregory Russell",
            "Purchase_Count": 3,
            "Unnamed: 0": 414
           },
           {
            "Destination": 2038035,
            "Destination_Names": "Corazon Ney",
            "Purchase_Count": 3,
            "Unnamed: 0": 33
           },
           {
            "Destination": 2038026,
            "Destination_Names": "Victoria Woods",
            "Purchase_Count": 3,
            "Unnamed: 0": 80
           },
           {
            "Destination": 2037688,
            "Destination_Names": "Gordon Perez",
            "Purchase_Count": 3,
            "Unnamed: 0": 77
           },
           {
            "Destination": 2037958,
            "Destination_Names": "Russell Sterr",
            "Purchase_Count": 3,
            "Unnamed: 0": 328
           },
           {
            "Destination": 2037781,
            "Destination_Names": "Reyna Eclarinal",
            "Purchase_Count": 3,
            "Unnamed: 0": 362
           },
           {
            "Destination": 2038000,
            "Destination_Names": "Fern Przybycien",
            "Purchase_Count": 3,
            "Unnamed: 0": 143
           },
           {
            "Destination": 2038100,
            "Destination_Names": "Wenona Bradmon",
            "Purchase_Count": 3,
            "Unnamed: 0": 330
           },
           {
            "Destination": 2037742,
            "Destination_Names": "Sophia Medina",
            "Purchase_Count": 3,
            "Unnamed: 0": 86
           },
           {
            "Destination": 2038149,
            "Destination_Names": "Darius Jinks",
            "Purchase_Count": 3,
            "Unnamed: 0": 340
           },
           {
            "Destination": 2038180,
            "Destination_Names": "Rosalyn Maclay",
            "Purchase_Count": 3,
            "Unnamed: 0": 377
           },
           {
            "Destination": 2038016,
            "Destination_Names": "Davina Perrota",
            "Purchase_Count": 3,
            "Unnamed: 0": 121
           },
           {
            "Destination": 2037777,
            "Destination_Names": "Carlo Castillero",
            "Purchase_Count": 3,
            "Unnamed: 0": 352
           },
           {
            "Destination": 2038152,
            "Destination_Names": "Viola Vasquez",
            "Purchase_Count": 3,
            "Unnamed: 0": 107
           },
           {
            "Destination": 2038141,
            "Destination_Names": "Randy Pena",
            "Purchase_Count": 3,
            "Unnamed: 0": 327
           },
           {
            "Destination": 2037955,
            "Destination_Names": "Ollie Lindsey",
            "Purchase_Count": 3,
            "Unnamed: 0": 245
           },
           {
            "Destination": 2037763,
            "Destination_Names": "Maryrose Schryver",
            "Purchase_Count": 3,
            "Unnamed: 0": 118
           },
           {
            "Destination": 2038138,
            "Destination_Names": "Tyree Barreneche",
            "Purchase_Count": 3,
            "Unnamed: 0": 188
           },
           {
            "Destination": 2037868,
            "Destination_Names": "Kate Burton",
            "Purchase_Count": 3,
            "Unnamed: 0": 227
           },
           {
            "Destination": 2038062,
            "Destination_Names": "Ozell Lampkins",
            "Purchase_Count": 3,
            "Unnamed: 0": 263
           },
           {
            "Destination": 2038162,
            "Destination_Names": "Sasha Papagni",
            "Purchase_Count": 3,
            "Unnamed: 0": 167
           },
           {
            "Destination": 2040309,
            "Destination_Names": "Eric Schneider",
            "Purchase_Count": 3,
            "Unnamed: 0": 272
           },
           {
            "Destination": 2037998,
            "Destination_Names": "Emilia Zanin",
            "Purchase_Count": 3,
            "Unnamed: 0": 204
           },
           {
            "Destination": 2038122,
            "Destination_Names": "Francina Jinkens",
            "Purchase_Count": 3,
            "Unnamed: 0": 213
           },
           {
            "Destination": 2037851,
            "Destination_Names": "Deon Boldman",
            "Purchase_Count": 3,
            "Unnamed: 0": 257
           },
           {
            "Destination": 2038017,
            "Destination_Names": "Octavia Rallison",
            "Purchase_Count": 3,
            "Unnamed: 0": 300
           },
           {
            "Destination": 2040630,
            "Destination_Names": "Alberto Osbourn",
            "Purchase_Count": 3,
            "Unnamed: 0": 267
           },
           {
            "Destination": 2037920,
            "Destination_Names": "Julieann Terheggen",
            "Purchase_Count": 3,
            "Unnamed: 0": 255
           },
           {
            "Destination": 2038084,
            "Destination_Names": "Jeannine Riccardi",
            "Purchase_Count": 3,
            "Unnamed: 0": 217
           },
           {
            "Destination": 2037788,
            "Destination_Names": "Miesha Ostrum",
            "Purchase_Count": 3,
            "Unnamed: 0": 192
           },
           {
            "Destination": 2037932,
            "Destination_Names": "Janie Roberson",
            "Purchase_Count": 3,
            "Unnamed: 0": 292
           },
           {
            "Destination": 2038072,
            "Destination_Names": "Toccara Kempa",
            "Purchase_Count": 4,
            "Unnamed: 0": 291
           },
           {
            "Destination": 2038144,
            "Destination_Names": "Iva Cook",
            "Purchase_Count": 4,
            "Unnamed: 0": 191
           },
           {
            "Destination": 2037691,
            "Destination_Names": "Mary Robinson",
            "Purchase_Count": 4,
            "Unnamed: 0": 122
           },
           {
            "Destination": 2038051,
            "Destination_Names": "Anastacia Suri",
            "Purchase_Count": 4,
            "Unnamed: 0": 195
           },
           {
            "Destination": 2037784,
            "Destination_Names": "Sierra Denherder",
            "Purchase_Count": 4,
            "Unnamed: 0": 231
           },
           {
            "Destination": 2038131,
            "Destination_Names": "Diamond Hollenbach",
            "Purchase_Count": 4,
            "Unnamed: 0": 190
           },
           {
            "Destination": 2037990,
            "Destination_Names": "Susana Ganser",
            "Purchase_Count": 4,
            "Unnamed: 0": 343
           },
           {
            "Destination": 2038079,
            "Destination_Names": "Denna Slemmer",
            "Purchase_Count": 4,
            "Unnamed: 0": 242
           },
           {
            "Destination": 2037771,
            "Destination_Names": "Sherrell Macdonald",
            "Purchase_Count": 4,
            "Unnamed: 0": 183
           },
           {
            "Destination": 2038050,
            "Destination_Names": "Andre Gregory",
            "Purchase_Count": 4,
            "Unnamed: 0": 280
           },
           {
            "Destination": 2041370,
            "Destination_Names": "Griselda Protain",
            "Purchase_Count": 4,
            "Unnamed: 0": 73
           },
           {
            "Destination": 2037821,
            "Destination_Names": "Daniela Oharra",
            "Purchase_Count": 4,
            "Unnamed: 0": 156
           },
           {
            "Destination": 2037994,
            "Destination_Names": "Lola Wilson",
            "Purchase_Count": 4,
            "Unnamed: 0": 170
           },
           {
            "Destination": 2037750,
            "Destination_Names": "Joann Wallgren",
            "Purchase_Count": 5,
            "Unnamed: 0": 123
           },
           {
            "Destination": 2037915,
            "Destination_Names": "Chris Jefferson",
            "Purchase_Count": 5,
            "Unnamed: 0": 199
           },
           {
            "Destination": 2037981,
            "Destination_Names": "Harrison Chalaban",
            "Purchase_Count": 5,
            "Unnamed: 0": 104
           },
           {
            "Destination": 2037989,
            "Destination_Names": "Karisa Filosa",
            "Purchase_Count": 5,
            "Unnamed: 0": 91
           },
           {
            "Destination": 2037700,
            "Destination_Names": "Gene Marsh",
            "Purchase_Count": 5,
            "Unnamed: 0": 256
           },
           {
            "Destination": 2038070,
            "Destination_Names": "Tyler Miles",
            "Purchase_Count": 5,
            "Unnamed: 0": 134
           },
           {
            "Destination": 2037690,
            "Destination_Names": "Donald Washington",
            "Purchase_Count": 5,
            "Unnamed: 0": 243
           },
           {
            "Destination": 2037975,
            "Destination_Names": "Kenneth Holt",
            "Purchase_Count": 5,
            "Unnamed: 0": 82
           },
           {
            "Destination": 2038005,
            "Destination_Names": "Felton Lawcewicz",
            "Purchase_Count": 5,
            "Unnamed: 0": 142
           },
           {
            "Destination": 2040454,
            "Destination_Names": "Rosendo Esteve",
            "Purchase_Count": 5,
            "Unnamed: 0": 144
           },
           {
            "Destination": 2038154,
            "Destination_Names": "Luis Higgins",
            "Purchase_Count": 5,
            "Unnamed: 0": 148
           },
           {
            "Destination": 2040349,
            "Destination_Names": "Andria Tumulty",
            "Purchase_Count": 5,
            "Unnamed: 0": 230
           },
           {
            "Destination": 2037859,
            "Destination_Names": "Eric Atkins",
            "Purchase_Count": 5,
            "Unnamed: 0": 75
           },
           {
            "Destination": 2037689,
            "Destination_Names": "Aisha Stafford",
            "Purchase_Count": 5,
            "Unnamed: 0": 211
           },
           {
            "Destination": 2044645,
            "Destination_Names": "Oscar Hutley",
            "Purchase_Count": 6,
            "Unnamed: 0": 218
           },
           {
            "Destination": 2037769,
            "Destination_Names": "Floy Warholic",
            "Purchase_Count": 6,
            "Unnamed: 0": 47
           },
           {
            "Destination": 2038007,
            "Destination_Names": "Carolyn Hines",
            "Purchase_Count": 6,
            "Unnamed: 0": 99
           },
           {
            "Destination": 2038001,
            "Destination_Names": "Gabrielle Iarussi",
            "Purchase_Count": 6,
            "Unnamed: 0": 72
           },
           {
            "Destination": 2037824,
            "Destination_Names": "Demetria Mckibbens",
            "Purchase_Count": 6,
            "Unnamed: 0": 71
           },
           {
            "Destination": 2037978,
            "Destination_Names": "Wayne Ahne",
            "Purchase_Count": 6,
            "Unnamed: 0": 216
           },
           {
            "Destination": 2040467,
            "Destination_Names": "Frederica Guillan",
            "Purchase_Count": 6,
            "Unnamed: 0": 309
           },
           {
            "Destination": 2037820,
            "Destination_Names": "Cristina Leber",
            "Purchase_Count": 6,
            "Unnamed: 0": 18
           },
           {
            "Destination": 2037708,
            "Destination_Names": "Marya Stetler",
            "Purchase_Count": 6,
            "Unnamed: 0": 181
           },
           {
            "Destination": 2037877,
            "Destination_Names": "Seymour Johndrow",
            "Purchase_Count": 6,
            "Unnamed: 0": 153
           },
           {
            "Destination": 2037698,
            "Destination_Names": "Betty Summers",
            "Purchase_Count": 6,
            "Unnamed: 0": 152
           },
           {
            "Destination": 2037847,
            "Destination_Names": "Manuel Allison",
            "Purchase_Count": 6,
            "Unnamed: 0": 20
           },
           {
            "Destination": 2037941,
            "Destination_Names": "Yon Shilleh",
            "Purchase_Count": 6,
            "Unnamed: 0": 281
           },
           {
            "Destination": 2037870,
            "Destination_Names": "Hettie Gray",
            "Purchase_Count": 6,
            "Unnamed: 0": 240
           },
           {
            "Destination": 2038013,
            "Destination_Names": "Gabriella Striegel",
            "Purchase_Count": 7,
            "Unnamed: 0": 96
           },
           {
            "Destination": 2037808,
            "Destination_Names": "Elvis Drilling",
            "Purchase_Count": 7,
            "Unnamed: 0": 101
           },
           {
            "Destination": 2038078,
            "Destination_Names": "Cordelia Critcher",
            "Purchase_Count": 7,
            "Unnamed: 0": 200
           },
           {
            "Destination": 2037774,
            "Destination_Names": "Nannie Bennett",
            "Purchase_Count": 7,
            "Unnamed: 0": 126
           },
           {
            "Destination": 2038092,
            "Destination_Names": "Norman Shaw",
            "Purchase_Count": 8,
            "Unnamed: 0": 109
           },
           {
            "Destination": 2040550,
            "Destination_Names": "Bradley Daniel",
            "Purchase_Count": 8,
            "Unnamed: 0": 16
           },
           {
            "Destination": 2038139,
            "Destination_Names": "Roy Rhodes",
            "Purchase_Count": 8,
            "Unnamed: 0": 42
           },
           {
            "Destination": 2037943,
            "Destination_Names": "Johnnie Enslow",
            "Purchase_Count": 8,
            "Unnamed: 0": 194
           },
           {
            "Destination": 2038127,
            "Destination_Names": "Harris Dearmas",
            "Purchase_Count": 8,
            "Unnamed: 0": 222
           },
           {
            "Destination": 2040378,
            "Destination_Names": "Lashaunda Mautone",
            "Purchase_Count": 8,
            "Unnamed: 0": 102
           },
           {
            "Destination": 2038075,
            "Destination_Names": "Dustin Poskitt",
            "Purchase_Count": 8,
            "Unnamed: 0": 120
           },
           {
            "Destination": 2040591,
            "Destination_Names": "Kenny Miskiewicz",
            "Purchase_Count": 9,
            "Unnamed: 0": 174
           },
           {
            "Destination": 2045457,
            "Destination_Names": "Armand Millerbernd",
            "Purchase_Count": 9,
            "Unnamed: 0": 70
           },
           {
            "Destination": 2038021,
            "Destination_Names": "Lilli Samsel",
            "Purchase_Count": 9,
            "Unnamed: 0": 203
           },
           {
            "Destination": 2037701,
            "Destination_Names": "Lola Lloyd",
            "Purchase_Count": 9,
            "Unnamed: 0": 145
           },
           {
            "Destination": 2037876,
            "Destination_Names": "Jamika Glines",
            "Purchase_Count": 9,
            "Unnamed: 0": 184
           },
           {
            "Destination": 2038049,
            "Destination_Names": "Jake Dececco",
            "Purchase_Count": 9,
            "Unnamed: 0": 60
           },
           {
            "Destination": 2038059,
            "Destination_Names": "Irwin Ellender",
            "Purchase_Count": 9,
            "Unnamed: 0": 125
           },
           {
            "Destination": 2038045,
            "Destination_Names": "Ashly Reischl",
            "Purchase_Count": 10,
            "Unnamed: 0": 92
           },
           {
            "Destination": 2038029,
            "Destination_Names": "Martine Hanlin",
            "Purchase_Count": 10,
            "Unnamed: 0": 48
           },
           {
            "Destination": 2037748,
            "Destination_Names": "Amy Malone",
            "Purchase_Count": 11,
            "Unnamed: 0": 55
           },
           {
            "Destination": 2038030,
            "Destination_Names": "Amelia Becker",
            "Purchase_Count": 11,
            "Unnamed: 0": 62
           },
           {
            "Destination": 2037952,
            "Destination_Names": "Willie Byrd",
            "Purchase_Count": 11,
            "Unnamed: 0": 154
           },
           {
            "Destination": 2038018,
            "Destination_Names": "Lynelle Skildum",
            "Purchase_Count": 12,
            "Unnamed: 0": 151
           },
           {
            "Destination": 2040390,
            "Destination_Names": "Alvaro Beers",
            "Purchase_Count": 12,
            "Unnamed: 0": 59
           },
           {
            "Destination": 2037872,
            "Destination_Names": "Sophia Blair",
            "Purchase_Count": 12,
            "Unnamed: 0": 38
           },
           {
            "Destination": 2038019,
            "Destination_Names": "Carolyn Howard",
            "Purchase_Count": 13,
            "Unnamed: 0": 108
           },
           {
            "Destination": 2037704,
            "Destination_Names": "Charlsie Lesa",
            "Purchase_Count": 13,
            "Unnamed: 0": 12
           },
           {
            "Destination": 2037927,
            "Destination_Names": "Blanche Mason",
            "Purchase_Count": 14,
            "Unnamed: 0": 79
           },
           {
            "Destination": 2040582,
            "Destination_Names": "Stephen Peterson",
            "Purchase_Count": 14,
            "Unnamed: 0": 78
           },
           {
            "Destination": 2038022,
            "Destination_Names": "Rocky Hassett",
            "Purchase_Count": 15,
            "Unnamed: 0": 100
           },
           {
            "Destination": 2038060,
            "Destination_Names": "Roberto Amphy",
            "Purchase_Count": 15,
            "Unnamed: 0": 130
           },
           {
            "Destination": 2038044,
            "Destination_Names": "Sidney Simien",
            "Purchase_Count": 15,
            "Unnamed: 0": 24
           },
           {
            "Destination": 2038164,
            "Destination_Names": "Kimbery Demmert",
            "Purchase_Count": 16,
            "Unnamed: 0": 193
           },
           {
            "Destination": 2037962,
            "Destination_Names": "Charmain Olenick",
            "Purchase_Count": 16,
            "Unnamed: 0": 57
           },
           {
            "Destination": 2038166,
            "Destination_Names": "Mattie Perez",
            "Purchase_Count": 17,
            "Unnamed: 0": 119
           },
           {
            "Destination": 2038025,
            "Destination_Names": "Miriam Franch",
            "Purchase_Count": 18,
            "Unnamed: 0": 52
           },
           {
            "Destination": 2038145,
            "Destination_Names": "Lola Haynes",
            "Purchase_Count": 19,
            "Unnamed: 0": 54
           },
           {
            "Destination": 2040585,
            "Destination_Names": "Rita Cassem",
            "Purchase_Count": 19,
            "Unnamed: 0": 23
           },
           {
            "Destination": 2038160,
            "Destination_Names": "Suzette Sienicki",
            "Purchase_Count": 20,
            "Unnamed: 0": 93
           },
           {
            "Destination": 2037835,
            "Destination_Names": "Benjamin Rimbach",
            "Purchase_Count": 22,
            "Unnamed: 0": 58
           },
           {
            "Destination": 2038137,
            "Destination_Names": "Magdalena Gehm",
            "Purchase_Count": 22,
            "Unnamed: 0": 212
           },
           {
            "Destination": 2037811,
            "Destination_Names": "Steven Nichols",
            "Purchase_Count": 22,
            "Unnamed: 0": 84
           },
           {
            "Destination": 2040597,
            "Destination_Names": "Dwayne Fyock",
            "Purchase_Count": 23,
            "Unnamed: 0": 85
           },
           {
            "Destination": 2040314,
            "Destination_Names": "Dora Resek",
            "Purchase_Count": 23,
            "Unnamed: 0": 43
           },
           {
            "Destination": 2040311,
            "Destination_Names": "Kirby Liter",
            "Purchase_Count": 23,
            "Unnamed: 0": 139
           },
           {
            "Destination": 2038170,
            "Destination_Names": "Karrie Tennent",
            "Purchase_Count": 24,
            "Unnamed: 0": 49
           },
           {
            "Destination": 2037912,
            "Destination_Names": "Winnie Byrd",
            "Purchase_Count": 25,
            "Unnamed: 0": 90
           },
           {
            "Destination": 2037896,
            "Destination_Names": "Catrice Reho",
            "Purchase_Count": 25,
            "Unnamed: 0": 25
           },
           {
            "Destination": 2037687,
            "Destination_Names": "Lessie Tutor",
            "Purchase_Count": 25,
            "Unnamed: 0": 88
           },
           {
            "Destination": 2038040,
            "Destination_Names": "Anastacia Henriques",
            "Purchase_Count": 25,
            "Unnamed: 0": 7
           },
           {
            "Destination": 2038041,
            "Destination_Names": "Chi Eichhorst",
            "Purchase_Count": 25,
            "Unnamed: 0": 40
           },
           {
            "Destination": 2038148,
            "Destination_Names": "Milly Kokesh",
            "Purchase_Count": 26,
            "Unnamed: 0": 50
           },
           {
            "Destination": 2040490,
            "Destination_Names": "Carli Agostino",
            "Purchase_Count": 27,
            "Unnamed: 0": 46
           },
           {
            "Destination": 2038147,
            "Destination_Names": "Brandon Carr",
            "Purchase_Count": 28,
            "Unnamed: 0": 34
           },
           {
            "Destination": 2038046,
            "Destination_Names": "Nerissa Ovalles",
            "Purchase_Count": 30,
            "Unnamed: 0": 97
           },
           {
            "Destination": 2037871,
            "Destination_Names": "Cynthia Knight",
            "Purchase_Count": 30,
            "Unnamed: 0": 138
           },
           {
            "Destination": 2040310,
            "Destination_Names": "Melvin Washington",
            "Purchase_Count": 31,
            "Unnamed: 0": 14
           },
           {
            "Destination": 2040578,
            "Destination_Names": "Forrest Murrah",
            "Purchase_Count": 33,
            "Unnamed: 0": 69
           },
           {
            "Destination": 2038015,
            "Destination_Names": "Maude Hammond",
            "Purchase_Count": 34,
            "Unnamed: 0": 10
           },
           {
            "Destination": 2037725,
            "Destination_Names": "Vanesa Chartier",
            "Purchase_Count": 35,
            "Unnamed: 0": 65
           },
           {
            "Destination": 2037934,
            "Destination_Names": "Galen Granelli",
            "Purchase_Count": 38,
            "Unnamed: 0": 127
           },
           {
            "Destination": 2038010,
            "Destination_Names": "Rochel Mirr",
            "Purchase_Count": 40,
            "Unnamed: 0": 76
           },
           {
            "Destination": 2038143,
            "Destination_Names": "Marguerite Rivera",
            "Purchase_Count": 41,
            "Unnamed: 0": 51
           },
           {
            "Destination": 2037816,
            "Destination_Names": "Mabel Gilbert",
            "Purchase_Count": 43,
            "Unnamed: 0": 63
           },
           {
            "Destination": 2038178,
            "Destination_Names": "Demetria Murff",
            "Purchase_Count": 51,
            "Unnamed: 0": 41
           },
           {
            "Destination": 2037758,
            "Destination_Names": "Christeen Gulliver",
            "Purchase_Count": 53,
            "Unnamed: 0": 115
           },
           {
            "Destination": 2038002,
            "Destination_Names": "Janette Laffoon",
            "Purchase_Count": 61,
            "Unnamed: 0": 74
           },
           {
            "Destination": 2037706,
            "Destination_Names": "Amal Horman",
            "Purchase_Count": 70,
            "Unnamed: 0": 11
           },
           {
            "Destination": 2037825,
            "Destination_Names": "Rodney Mason",
            "Purchase_Count": 75,
            "Unnamed: 0": 66
           },
           {
            "Destination": 2038008,
            "Destination_Names": "Cora Douglas",
            "Purchase_Count": 76,
            "Unnamed: 0": 36
           },
           {
            "Destination": 2038052,
            "Destination_Names": "Tom Langman",
            "Purchase_Count": 81,
            "Unnamed: 0": 26
           },
           {
            "Destination": 2037832,
            "Destination_Names": "Shaunte Wair",
            "Purchase_Count": 82,
            "Unnamed: 0": 22
           },
           {
            "Destination": 2037924,
            "Destination_Names": "Juli Grossmeyer",
            "Purchase_Count": 87,
            "Unnamed: 0": 21
           },
           {
            "Destination": 2038073,
            "Destination_Names": "Melvin Taliman",
            "Purchase_Count": 87,
            "Unnamed: 0": 13
           },
           {
            "Destination": 2038042,
            "Destination_Names": "Ardella Slifko",
            "Purchase_Count": 90,
            "Unnamed: 0": 29
           },
           {
            "Destination": 2037930,
            "Destination_Names": "Jenae Muldowney",
            "Purchase_Count": 118,
            "Unnamed: 0": 9
           },
           {
            "Destination": 2040484,
            "Destination_Names": "Dina Arrojo",
            "Purchase_Count": 130,
            "Unnamed: 0": 53
           },
           {
            "Destination": 2038076,
            "Destination_Names": "Cira Brookshire",
            "Purchase_Count": 133,
            "Unnamed: 0": 31
           },
           {
            "Destination": 2038176,
            "Destination_Names": "Corey Jefferson",
            "Purchase_Count": 179,
            "Unnamed: 0": 32
           },
           {
            "Destination": 2037699,
            "Destination_Names": "Lois Dixon",
            "Purchase_Count": 193,
            "Unnamed: 0": 19
           },
           {
            "Destination": 2037760,
            "Destination_Names": "Robert Wallace",
            "Purchase_Count": 210,
            "Unnamed: 0": 8
           },
           {
            "Destination": 2040623,
            "Destination_Names": "Micha Werries",
            "Purchase_Count": 210,
            "Unnamed: 0": 4
           },
           {
            "Destination": 2037754,
            "Destination_Names": "Celina Orellama",
            "Purchase_Count": 272,
            "Unnamed: 0": 28
           },
           {
            "Destination": 2037827,
            "Destination_Names": "Brittanie Spadlin",
            "Purchase_Count": 392,
            "Unnamed: 0": 37
           },
           {
            "Destination": 2037694,
            "Destination_Names": "Ernest Patterson",
            "Purchase_Count": 990,
            "Unnamed: 0": 6
           },
           {
            "Destination": 2037744,
            "Destination_Names": "Miesha Lettsome",
            "Purchase_Count": 1902,
            "Unnamed: 0": 2
           },
           {
            "Destination": 2040624,
            "Destination_Names": "Torri Devilliers",
            "Purchase_Count": 2385,
            "Unnamed: 0": 1
           },
           {
            "Destination": 2038155,
            "Destination_Names": "Brandon Bradley",
            "Purchase_Count": 2590,
            "Unnamed: 0": 3
           },
           {
            "Destination": 2040339,
            "Destination_Names": "Fairy Boratko",
            "Purchase_Count": 4798,
            "Unnamed: 0": 5
           },
           {
            "Destination": 2040565,
            "Destination_Names": "Gail Feindt",
            "Purchase_Count": 745027,
            "Unnamed: 0": 0
           }
          ]
         },
         "encoding": {
          "x": {
           "bin": true,
           "field": "Purchase_Count",
           "type": "quantitative"
          },
          "y": {
           "aggregate": "count",
           "type": "quantitative"
          }
         },
         "mark": "bar",
         "selection": {
          "selector125": {
           "bind": "scales",
           "encodings": [
            "x",
            "y"
           ],
           "mark": {
            "fill": "#333",
            "fillOpacity": 0.125,
            "stroke": "white"
           },
           "on": "[mousedown, window:mouseup] > window:mousemove!",
           "resolve": "global",
           "translate": "[mousedown, window:mouseup] > window:mousemove!",
           "type": "interval",
           "zoom": "wheel!"
          }
         },
         "transform": [
          {
           "filter": {
            "selection": "selector118"
           }
          }
         ]
        }
       ]
      },
      "image/png": "[encoded data removed]",
      "text/plain": [
       "<VegaLite 2 object>\n",
       "\n",
       "If you see this message, it means the renderer has not been properly enabled\n",
       "for the frontend that you are using. For more information, see\n",
       "https://altair-viz.github.io/user_guide/troubleshooting.html\n"
      ]
     },
     "execution_count": 168,
     "metadata": {},
     "output_type": "execute_result"
    }
   ],
   "source": [
    "(scatter | scatter2) & histogram"
   ]
  },
  {
   "cell_type": "code",
   "execution_count": null,
   "metadata": {},
   "outputs": [],
   "source": []
  }
 ],
 "metadata": {
  "kernelspec": {
   "display_name": "Python 3",
   "language": "python",
   "name": "python3"
  },
  "language_info": {
   "codemirror_mode": {
    "name": "ipython",
    "version": 3
   },
   "file_extension": ".py",
   "mimetype": "text/x-python",
   "name": "python",
   "nbconvert_exporter": "python",
   "pygments_lexer": "ipython3",
   "version": "3.6.5"
  }
 },
 "nbformat": 4,
 "nbformat_minor": 2
}
